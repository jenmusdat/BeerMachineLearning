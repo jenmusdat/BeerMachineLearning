{
  "nbformat": 4,
  "nbformat_minor": 0,
  "metadata": {
    "colab": {
      "name": "names_combined.ipynb",
      "provenance": [],
      "collapsed_sections": [],
      "authorship_tag": "ABX9TyO9D7toCbmKfRAz+z5U4Mxm",
      "include_colab_link": true
    },
    "kernelspec": {
      "name": "python3",
      "display_name": "Python 3"
    }
  },
  "cells": [
    {
      "cell_type": "markdown",
      "metadata": {
        "id": "view-in-github",
        "colab_type": "text"
      },
      "source": [
        "<a href=\"https://colab.research.google.com/github/jenmusdat/Project3_BeerQuality/blob/main/names_combined.ipynb\" target=\"_parent\"><img src=\"https://colab.research.google.com/assets/colab-badge.svg\" alt=\"Open In Colab\"/></a>"
      ]
    },
    {
      "cell_type": "code",
      "metadata": {
        "colab": {
          "base_uri": "https://localhost:8080/"
        },
        "id": "DAa7zBIY-X_H",
        "outputId": "dd26ca4a-9995-4eb5-eedc-c4dcf612478e"
      },
      "source": [
        "!apt-get update\r\n",
        "!apt-get install openjdk-8-jdk-headless -qq > /dev/null\r\n",
        "!wget -q http://www-us.apache.org/dist/spark/spark-2.4.7/spark-2.4.7-bin-hadoop2.7.tgz\r\n",
        "!tar xf spark-2.4.7-bin-hadoop2.7.tgz\r\n",
        "!pip install -q findspark\r\n",
        "\r\n",
        "# Set Environment Variables\r\n",
        "import os\r\n",
        "os.environ[\"JAVA_HOME\"] = \"/usr/lib/jvm/java-8-openjdk-amd64\"\r\n",
        "os.environ[\"SPARK_HOME\"] = \"/content/spark-2.4.7-bin-hadoop2.7\"\r\n",
        "\r\n",
        "# Start a SparkSession\r\n",
        "import findspark\r\n",
        "findspark.init()"
      ],
      "execution_count": 1,
      "outputs": [
        {
          "output_type": "stream",
          "text": [
            "\r0% [Working]\r            \rGet:1 https://cloud.r-project.org/bin/linux/ubuntu bionic-cran40/ InRelease [3,626 B]\n",
            "\r0% [Connecting to archive.ubuntu.com] [Connecting to security.ubuntu.com] [1 In\r0% [Connecting to archive.ubuntu.com] [Connecting to security.ubuntu.com] [Conn\r                                                                               \rIgn:2 https://developer.download.nvidia.com/compute/cuda/repos/ubuntu1804/x86_64  InRelease\n",
            "\r0% [Connecting to archive.ubuntu.com (91.189.88.152)] [Connecting to security.u\r0% [1 InRelease gpgv 3,626 B] [Connecting to archive.ubuntu.com (91.189.88.152)\r                                                                               \rIgn:3 https://developer.download.nvidia.com/compute/machine-learning/repos/ubuntu1804/x86_64  InRelease\n",
            "\r0% [1 InRelease gpgv 3,626 B] [Connecting to archive.ubuntu.com (91.189.88.152)\r                                                                               \rHit:4 https://developer.download.nvidia.com/compute/cuda/repos/ubuntu1804/x86_64  Release\n",
            "Hit:5 https://developer.download.nvidia.com/compute/machine-learning/repos/ubuntu1804/x86_64  Release\n",
            "Get:6 http://security.ubuntu.com/ubuntu bionic-security InRelease [88.7 kB]\n",
            "Hit:7 http://archive.ubuntu.com/ubuntu bionic InRelease\n",
            "Get:8 http://ppa.launchpad.net/c2d4u.team/c2d4u4.0+/ubuntu bionic InRelease [15.9 kB]\n",
            "Get:9 http://archive.ubuntu.com/ubuntu bionic-updates InRelease [88.7 kB]\n",
            "Hit:11 http://ppa.launchpad.net/cran/libgit2/ubuntu bionic InRelease\n",
            "Get:13 http://archive.ubuntu.com/ubuntu bionic-backports InRelease [74.6 kB]\n",
            "Hit:14 http://ppa.launchpad.net/deadsnakes/ppa/ubuntu bionic InRelease\n",
            "Hit:15 http://ppa.launchpad.net/graphics-drivers/ppa/ubuntu bionic InRelease\n",
            "Get:16 http://security.ubuntu.com/ubuntu bionic-security/main amd64 Packages [1,964 kB]\n",
            "Get:17 http://ppa.launchpad.net/c2d4u.team/c2d4u4.0+/ubuntu bionic/main Sources [1,745 kB]\n",
            "Get:18 http://security.ubuntu.com/ubuntu bionic-security/universe amd64 Packages [1,396 kB]\n",
            "Get:19 http://archive.ubuntu.com/ubuntu bionic-updates/universe amd64 Packages [2,163 kB]\n",
            "Get:20 http://archive.ubuntu.com/ubuntu bionic-updates/main amd64 Packages [2,394 kB]\n",
            "Get:21 http://ppa.launchpad.net/c2d4u.team/c2d4u4.0+/ubuntu bionic/main amd64 Packages [893 kB]\n",
            "Fetched 10.8 MB in 4s (2,771 kB/s)\n",
            "Reading package lists... Done\n"
          ],
          "name": "stdout"
        }
      ]
    },
    {
      "cell_type": "code",
      "metadata": {
        "colab": {
          "base_uri": "https://localhost:8080/"
        },
        "id": "hejIgeGj-dw1",
        "outputId": "ae454ef3-4e57-489c-9f98-34564dd1bb29"
      },
      "source": [
        "from google.colab import drive\r\n",
        "drive.mount('/content/gdrive')"
      ],
      "execution_count": 2,
      "outputs": [
        {
          "output_type": "stream",
          "text": [
            "Mounted at /content/gdrive\n"
          ],
          "name": "stdout"
        }
      ]
    },
    {
      "cell_type": "code",
      "metadata": {
        "id": "L26QTXzU-kWX"
      },
      "source": [
        "from pyspark.sql import SparkSession\r\n",
        "spark = SparkSession.builder.appName(\"beers\").getOrCreate()"
      ],
      "execution_count": 3,
      "outputs": []
    },
    {
      "cell_type": "code",
      "metadata": {
        "id": "qCAawpGlryog"
      },
      "source": [
        ""
      ],
      "execution_count": null,
      "outputs": []
    },
    {
      "cell_type": "code",
      "metadata": {
        "colab": {
          "base_uri": "https://localhost:8080/"
        },
        "id": "6ANjzRN1rOXd",
        "outputId": "a16c84f3-0a7f-4db9-be08-51a0e0233771"
      },
      "source": [
        "# Read in data from S3 Buckets\r\n",
        "from pyspark import SparkFiles\r\n",
        "url =\"/content/gdrive/MyDrive/Project3_BeerQuality/Resources/reviews_beer_brewery.csv\"\r\n",
        "spark.sparkContext.addFile(url)\r\n",
        "df = spark.read.csv(SparkFiles.get(\"reviews_beer_brewery.csv\"), sep=\",\", header=True)\r\n",
        "\r\n",
        "# Show DataFrame\r\n",
        "df.show()"
      ],
      "execution_count": 4,
      "outputs": [
        {
          "output_type": "stream",
          "text": [
            "+-------+----------------+----------+--------------------+--------------------+--------------------+--------------------+--------------------+--------------------+--------------------+--------------------+------------+--------------------+--------------------+----+----------+--------------------+---------------+-------------+-----------------+\n",
            "|beer_id|        username|      date|                text|                look|               smell|               taste|                feel|             overall|               score|           beer_name|review_state|               style|        availability| abv|brewery_id|        brewery_name|   brewery_city|brewery_state|    brewery_types|\n",
            "+-------+----------------+----------+--------------------+--------------------+--------------------+--------------------+--------------------+--------------------+--------------------+--------------------+------------+--------------------+--------------------+----+----------+--------------------+---------------+-------------+-----------------+\n",
            "| 271781|    bluejacket74|2017-03-17|   750 ml bottle,...|                 4.0|                 4.0|                 4.0|                4.25|                 4.0|                4.03|Motorbreath Imper...|          OH|American Imperial...|Limited (brewed o...|10.8|     28094|Four String Brewi...|       Columbus|           OH|     Brewery, Bar|\n",
            "| 184647|      Try-em-all|2017-09-27|   Clear gold in ...|                 4.0|                 4.0|                 3.5|                 3.5|                3.75|                 3.7|     Payback Pilsner|          OH|   Bohemian Pilsener|            Rotating| 5.1|     28094|Four String Brewi...|       Columbus|           OH|     Brewery, Bar|\n",
            "| 184647|ScorpioBeerLover|2017-03-22|   Reminds me of ...|                 4.0|                 4.0|                4.25|                3.75|                 4.0|                4.08|     Payback Pilsner|          OH|   Bohemian Pilsener|            Rotating| 5.1|     28094|Four String Brewi...|       Columbus|           OH|     Brewery, Bar|\n",
            "| 184647|        beergoot|2016-10-08|   Pale yellow bo...|                3.25|                3.25|                 3.5|                 3.5|                 3.5|                3.43|     Payback Pilsner|          OH|   Bohemian Pilsener|            Rotating| 5.1|     28094|Four String Brewi...|       Columbus|           OH|     Brewery, Bar|\n",
            "| 184647|   woodychandler|2016-09-25|   The CANQuest (...|                3.75|                3.75|                 3.5|                 3.5|                 3.5|                3.58|     Payback Pilsner|          OH|   Bohemian Pilsener|            Rotating| 5.1|     28094|Four String Brewi...|       Columbus|           OH|     Brewery, Bar|\n",
            "| 184647|        WoodBrew|2016-07-14|   I got a Paybac...|                3.75|                 3.5|                 3.5|                 3.5|                 3.5|                3.52|     Payback Pilsner|          OH|   Bohemian Pilsener|            Rotating| 5.1|     28094|Four String Brewi...|       Columbus|           OH|     Brewery, Bar|\n",
            "| 184647|        SaltofOH|2016-07-09|\"   Can with \"\"11...| 2016? DFH Tulip....| no retention. S:...| transitions to a...| heavier side of ...| and have had thi...| and it was okay....| it was much bett...|         2.5|                 3.0|                2.75| 2.5|      2.75|                2.77|Payback Pilsner|           OH|Bohemian Pilsener|\n",
            "| 184647|     Brutaltruth|2016-01-15|   Enjoyed from t...|                3.75|                3.25|                3.25|                 3.5|                 3.5|                3.36|     Payback Pilsner|          OH|   Bohemian Pilsener|            Rotating| 5.1|     28094|Four String Brewi...|       Columbus|           OH|     Brewery, Bar|\n",
            "| 184647|     HeightsEats|2015-12-31|   Pours a golden...|                3.75|                3.75|                 4.0|                 4.0|                3.75|                3.88|     Payback Pilsner|          OH|   Bohemian Pilsener|            Rotating| 5.1|     28094|Four String Brewi...|       Columbus|           OH|     Brewery, Bar|\n",
            "| 184647|       schoolboy|2015-10-05|   This thing is ...|                 4.5|                 3.5|                 3.5|                 3.5|                3.75|                3.61|     Payback Pilsner|          OH|   Bohemian Pilsener|            Rotating| 5.1|     28094|Four String Brewi...|       Columbus|           OH|     Brewery, Bar|\n",
            "| 184647|   GreenEggsHam1|2015-08-08|                  0%|                 3.5|                 3.5|                 3.5|                3.75|                 3.5|                3.53|     Payback Pilsner|          OH|   Bohemian Pilsener|            Rotating| 5.1|     28094|Four String Brewi...|       Columbus|           OH|     Brewery, Bar|\n",
            "| 149366|        ONUMello|2016-03-26|\"   16oz draft A:...|                 3.5|                 3.0|                 3.5|                 3.5|                 3.5|                3.38|          HELLHAMMER|          OH|            Rye Beer|Limited (brewed o...| 7.2|     28094|Four String Brewi...|       Columbus|           OH|     Brewery, Bar|\n",
            "| 149366|        DrJGR629|2015-01-14|   The chipotle p...|                4.25|                 4.0|                 4.5|                3.75|                4.25|                4.24|          HELLHAMMER|          OH|            Rye Beer|Limited (brewed o...| 7.2|     28094|Four String Brewi...|       Columbus|           OH|     Brewery, Bar|\n",
            "| 111891|   Amnesia_Jones|2018-02-13|   I want this po...|                 3.0|                 3.0|                 3.0|                 3.0|                 3.0|                 3.0|      Vanilla Porter|          OH|     American Porter|              Winter| 6.0|     28094|Four String Brewi...|       Columbus|           OH|     Brewery, Bar|\n",
            "| 111891|       buschbeer|2017-12-13|   12 FL. OZ. bot...|                 4.0|                 4.0|                3.75|                 4.0|                3.75|                3.85|      Vanilla Porter|          OH|     American Porter|              Winter| 6.0|     28094|Four String Brewi...|       Columbus|           OH|     Brewery, Bar|\n",
            "| 111891|      jojobird72|2017-08-28|   pretty good fo...|                3.75|                 3.0|                3.75|                 3.0|                3.75|                 3.5|      Vanilla Porter|          OH|     American Porter|              Winter| 6.0|     28094|Four String Brewi...|       Columbus|           OH|     Brewery, Bar|\n",
            "| 111891|        WoodBrew|2016-12-31|   I bought a 6pc...|                3.75|                3.75|                 3.5|                 3.0|                 3.5|                3.53|      Vanilla Porter|          OH|     American Porter|              Winter| 6.0|     28094|Four String Brewi...|       Columbus|           OH|     Brewery, Bar|\n",
            "| 111891|      Oopssorryy|2016-12-25|   Pours a medium...|                2.75|                 2.5|                 2.5|                 2.5|                 2.5|                2.52|      Vanilla Porter|          OH|     American Porter|              Winter| 6.0|     28094|Four String Brewi...|       Columbus|           OH|     Brewery, Bar|\n",
            "| 111891|       superspak|2016-12-04|   12 ounce can i...|                 4.0|                 4.0|                 4.0|                 4.0|                 3.5|                 3.9|      Vanilla Porter|          OH|     American Porter|              Winter| 6.0|     28094|Four String Brewi...|       Columbus|           OH|     Brewery, Bar|\n",
            "| 111891|     BEERchitect|2016-05-14|   Porter first a...|                 4.0|                4.25|                 4.0|                3.75|                 4.0|                4.04|      Vanilla Porter|          OH|     American Porter|              Winter| 6.0|     28094|Four String Brewi...|       Columbus|           OH|     Brewery, Bar|\n",
            "+-------+----------------+----------+--------------------+--------------------+--------------------+--------------------+--------------------+--------------------+--------------------+--------------------+------------+--------------------+--------------------+----+----------+--------------------+---------------+-------------+-----------------+\n",
            "only showing top 20 rows\n",
            "\n"
          ],
          "name": "stdout"
        }
      ]
    },
    {
      "cell_type": "code",
      "metadata": {
        "id": "wekHHKiq_g3V"
      },
      "source": [
        "import pandas as pd\r\n"
      ],
      "execution_count": null,
      "outputs": []
    },
    {
      "cell_type": "code",
      "metadata": {
        "colab": {
          "base_uri": "https://localhost:8080/",
          "height": 142
        },
        "id": "dGYHd_-H_zJi",
        "outputId": "387039ef-936c-4742-a31b-cf4b14fc612b"
      },
      "source": [
        "df = pd.DataFrame({\"beer_name\": ['beer 1', 'beer-2', 'beer 3'], \"text\": ['text1', 'text2', 'text 3'], \"style\": ['style 1', 'style-2', 'style 3']})\r\n",
        "df"
      ],
      "execution_count": null,
      "outputs": [
        {
          "output_type": "execute_result",
          "data": {
            "text/html": [
              "<div>\n",
              "<style scoped>\n",
              "    .dataframe tbody tr th:only-of-type {\n",
              "        vertical-align: middle;\n",
              "    }\n",
              "\n",
              "    .dataframe tbody tr th {\n",
              "        vertical-align: top;\n",
              "    }\n",
              "\n",
              "    .dataframe thead th {\n",
              "        text-align: right;\n",
              "    }\n",
              "</style>\n",
              "<table border=\"1\" class=\"dataframe\">\n",
              "  <thead>\n",
              "    <tr style=\"text-align: right;\">\n",
              "      <th></th>\n",
              "      <th>beer_name</th>\n",
              "      <th>text</th>\n",
              "      <th>style</th>\n",
              "    </tr>\n",
              "  </thead>\n",
              "  <tbody>\n",
              "    <tr>\n",
              "      <th>0</th>\n",
              "      <td>beer 1</td>\n",
              "      <td>text1</td>\n",
              "      <td>style 1</td>\n",
              "    </tr>\n",
              "    <tr>\n",
              "      <th>1</th>\n",
              "      <td>beer-2</td>\n",
              "      <td>text2</td>\n",
              "      <td>style-2</td>\n",
              "    </tr>\n",
              "    <tr>\n",
              "      <th>2</th>\n",
              "      <td>beer 3</td>\n",
              "      <td>text 3</td>\n",
              "      <td>style 3</td>\n",
              "    </tr>\n",
              "  </tbody>\n",
              "</table>\n",
              "</div>"
            ],
            "text/plain": [
              "  beer_name    text    style\n",
              "0    beer 1   text1  style 1\n",
              "1    beer-2   text2  style-2\n",
              "2    beer 3  text 3  style 3"
            ]
          },
          "metadata": {
            "tags": []
          },
          "execution_count": 8
        }
      ]
    },
    {
      "cell_type": "code",
      "metadata": {
        "colab": {
          "base_uri": "https://localhost:8080/"
        },
        "id": "0elt1bd0Ax6k",
        "outputId": "32762adb-12ca-4de3-8f9e-4cd2ed7af8bf"
      },
      "source": [
        "df= spark.createDataFrame(df)\r\n",
        "df.show()"
      ],
      "execution_count": null,
      "outputs": [
        {
          "output_type": "stream",
          "text": [
            "+---------+------+-------+\n",
            "|beer_name|  text|  style|\n",
            "+---------+------+-------+\n",
            "|   beer 1| text1|style 1|\n",
            "|   beer-2| text2|style-2|\n",
            "|   beer 3|text 3|style 3|\n",
            "+---------+------+-------+\n",
            "\n"
          ],
          "name": "stdout"
        }
      ]
    },
    {
      "cell_type": "code",
      "metadata": {
        "id": "sO2FVO-WBrf-"
      },
      "source": [
        "def remove_space (text):\r\n",
        "  return text.replace(' ', '')"
      ],
      "execution_count": 5,
      "outputs": []
    },
    {
      "cell_type": "code",
      "metadata": {
        "colab": {
          "base_uri": "https://localhost:8080/"
        },
        "id": "M_QKzz7HB7D2",
        "outputId": "bdb11cf6-e7c0-4bdf-b2b1-d9af0854efd1"
      },
      "source": [
        "from pyspark.sql.types import StringType\r\n",
        "from pyspark.sql.functions import col, udf\r\n",
        "\r\n",
        "remove_space_udf = udf(remove_space, StringType())\r\n",
        "remove_space_udf"
      ],
      "execution_count": 6,
      "outputs": [
        {
          "output_type": "execute_result",
          "data": {
            "text/plain": [
              "<function __main__.remove_space>"
            ]
          },
          "metadata": {
            "tags": []
          },
          "execution_count": 6
        }
      ]
    },
    {
      "cell_type": "code",
      "metadata": {
        "id": "2juyv2f3CQp9"
      },
      "source": [
        ""
      ],
      "execution_count": null,
      "outputs": []
    },
    {
      "cell_type": "code",
      "metadata": {
        "colab": {
          "base_uri": "https://localhost:8080/"
        },
        "id": "xAlo6qt8BDmm",
        "outputId": "617c0a26-a35c-40ed-a3ba-c29547c80608"
      },
      "source": [
        "beer_df = df.withColumn('beer_clean', remove_space_udf(col('beer_name')))\r\n",
        "beer_df.show()"
      ],
      "execution_count": 7,
      "outputs": [
        {
          "output_type": "stream",
          "text": [
            "+-------+----------------+----------+--------------------+--------------------+--------------------+--------------------+--------------------+--------------------+--------------------+--------------------+------------+--------------------+--------------------+----+----------+--------------------+---------------+-------------+-----------------+--------------------+\n",
            "|beer_id|        username|      date|                text|                look|               smell|               taste|                feel|             overall|               score|           beer_name|review_state|               style|        availability| abv|brewery_id|        brewery_name|   brewery_city|brewery_state|    brewery_types|          beer_clean|\n",
            "+-------+----------------+----------+--------------------+--------------------+--------------------+--------------------+--------------------+--------------------+--------------------+--------------------+------------+--------------------+--------------------+----+----------+--------------------+---------------+-------------+-----------------+--------------------+\n",
            "| 271781|    bluejacket74|2017-03-17|   750 ml bottle,...|                 4.0|                 4.0|                 4.0|                4.25|                 4.0|                4.03|Motorbreath Imper...|          OH|American Imperial...|Limited (brewed o...|10.8|     28094|Four String Brewi...|       Columbus|           OH|     Brewery, Bar|MotorbreathImperi...|\n",
            "| 184647|      Try-em-all|2017-09-27|   Clear gold in ...|                 4.0|                 4.0|                 3.5|                 3.5|                3.75|                 3.7|     Payback Pilsner|          OH|   Bohemian Pilsener|            Rotating| 5.1|     28094|Four String Brewi...|       Columbus|           OH|     Brewery, Bar|      PaybackPilsner|\n",
            "| 184647|ScorpioBeerLover|2017-03-22|   Reminds me of ...|                 4.0|                 4.0|                4.25|                3.75|                 4.0|                4.08|     Payback Pilsner|          OH|   Bohemian Pilsener|            Rotating| 5.1|     28094|Four String Brewi...|       Columbus|           OH|     Brewery, Bar|      PaybackPilsner|\n",
            "| 184647|        beergoot|2016-10-08|   Pale yellow bo...|                3.25|                3.25|                 3.5|                 3.5|                 3.5|                3.43|     Payback Pilsner|          OH|   Bohemian Pilsener|            Rotating| 5.1|     28094|Four String Brewi...|       Columbus|           OH|     Brewery, Bar|      PaybackPilsner|\n",
            "| 184647|   woodychandler|2016-09-25|   The CANQuest (...|                3.75|                3.75|                 3.5|                 3.5|                 3.5|                3.58|     Payback Pilsner|          OH|   Bohemian Pilsener|            Rotating| 5.1|     28094|Four String Brewi...|       Columbus|           OH|     Brewery, Bar|      PaybackPilsner|\n",
            "| 184647|        WoodBrew|2016-07-14|   I got a Paybac...|                3.75|                 3.5|                 3.5|                 3.5|                 3.5|                3.52|     Payback Pilsner|          OH|   Bohemian Pilsener|            Rotating| 5.1|     28094|Four String Brewi...|       Columbus|           OH|     Brewery, Bar|      PaybackPilsner|\n",
            "| 184647|        SaltofOH|2016-07-09|\"   Can with \"\"11...| 2016? DFH Tulip....| no retention. S:...| transitions to a...| heavier side of ...| and have had thi...| and it was okay....| it was much bett...|         2.5|                 3.0|                2.75| 2.5|      2.75|                2.77|Payback Pilsner|           OH|Bohemian Pilsener|itwasmuchbetteron...|\n",
            "| 184647|     Brutaltruth|2016-01-15|   Enjoyed from t...|                3.75|                3.25|                3.25|                 3.5|                 3.5|                3.36|     Payback Pilsner|          OH|   Bohemian Pilsener|            Rotating| 5.1|     28094|Four String Brewi...|       Columbus|           OH|     Brewery, Bar|      PaybackPilsner|\n",
            "| 184647|     HeightsEats|2015-12-31|   Pours a golden...|                3.75|                3.75|                 4.0|                 4.0|                3.75|                3.88|     Payback Pilsner|          OH|   Bohemian Pilsener|            Rotating| 5.1|     28094|Four String Brewi...|       Columbus|           OH|     Brewery, Bar|      PaybackPilsner|\n",
            "| 184647|       schoolboy|2015-10-05|   This thing is ...|                 4.5|                 3.5|                 3.5|                 3.5|                3.75|                3.61|     Payback Pilsner|          OH|   Bohemian Pilsener|            Rotating| 5.1|     28094|Four String Brewi...|       Columbus|           OH|     Brewery, Bar|      PaybackPilsner|\n",
            "| 184647|   GreenEggsHam1|2015-08-08|                  0%|                 3.5|                 3.5|                 3.5|                3.75|                 3.5|                3.53|     Payback Pilsner|          OH|   Bohemian Pilsener|            Rotating| 5.1|     28094|Four String Brewi...|       Columbus|           OH|     Brewery, Bar|      PaybackPilsner|\n",
            "| 149366|        ONUMello|2016-03-26|\"   16oz draft A:...|                 3.5|                 3.0|                 3.5|                 3.5|                 3.5|                3.38|          HELLHAMMER|          OH|            Rye Beer|Limited (brewed o...| 7.2|     28094|Four String Brewi...|       Columbus|           OH|     Brewery, Bar|          HELLHAMMER|\n",
            "| 149366|        DrJGR629|2015-01-14|   The chipotle p...|                4.25|                 4.0|                 4.5|                3.75|                4.25|                4.24|          HELLHAMMER|          OH|            Rye Beer|Limited (brewed o...| 7.2|     28094|Four String Brewi...|       Columbus|           OH|     Brewery, Bar|          HELLHAMMER|\n",
            "| 111891|   Amnesia_Jones|2018-02-13|   I want this po...|                 3.0|                 3.0|                 3.0|                 3.0|                 3.0|                 3.0|      Vanilla Porter|          OH|     American Porter|              Winter| 6.0|     28094|Four String Brewi...|       Columbus|           OH|     Brewery, Bar|       VanillaPorter|\n",
            "| 111891|       buschbeer|2017-12-13|   12 FL. OZ. bot...|                 4.0|                 4.0|                3.75|                 4.0|                3.75|                3.85|      Vanilla Porter|          OH|     American Porter|              Winter| 6.0|     28094|Four String Brewi...|       Columbus|           OH|     Brewery, Bar|       VanillaPorter|\n",
            "| 111891|      jojobird72|2017-08-28|   pretty good fo...|                3.75|                 3.0|                3.75|                 3.0|                3.75|                 3.5|      Vanilla Porter|          OH|     American Porter|              Winter| 6.0|     28094|Four String Brewi...|       Columbus|           OH|     Brewery, Bar|       VanillaPorter|\n",
            "| 111891|        WoodBrew|2016-12-31|   I bought a 6pc...|                3.75|                3.75|                 3.5|                 3.0|                 3.5|                3.53|      Vanilla Porter|          OH|     American Porter|              Winter| 6.0|     28094|Four String Brewi...|       Columbus|           OH|     Brewery, Bar|       VanillaPorter|\n",
            "| 111891|      Oopssorryy|2016-12-25|   Pours a medium...|                2.75|                 2.5|                 2.5|                 2.5|                 2.5|                2.52|      Vanilla Porter|          OH|     American Porter|              Winter| 6.0|     28094|Four String Brewi...|       Columbus|           OH|     Brewery, Bar|       VanillaPorter|\n",
            "| 111891|       superspak|2016-12-04|   12 ounce can i...|                 4.0|                 4.0|                 4.0|                 4.0|                 3.5|                 3.9|      Vanilla Porter|          OH|     American Porter|              Winter| 6.0|     28094|Four String Brewi...|       Columbus|           OH|     Brewery, Bar|       VanillaPorter|\n",
            "| 111891|     BEERchitect|2016-05-14|   Porter first a...|                 4.0|                4.25|                 4.0|                3.75|                 4.0|                4.04|      Vanilla Porter|          OH|     American Porter|              Winter| 6.0|     28094|Four String Brewi...|       Columbus|           OH|     Brewery, Bar|       VanillaPorter|\n",
            "+-------+----------------+----------+--------------------+--------------------+--------------------+--------------------+--------------------+--------------------+--------------------+--------------------+------------+--------------------+--------------------+----+----------+--------------------+---------------+-------------+-----------------+--------------------+\n",
            "only showing top 20 rows\n",
            "\n"
          ],
          "name": "stdout"
        }
      ]
    },
    {
      "cell_type": "code",
      "metadata": {
        "colab": {
          "base_uri": "https://localhost:8080/"
        },
        "id": "kULOtlyhCxhF",
        "outputId": "db8d5dcd-241b-4b92-82c2-298383a9ee02"
      },
      "source": [
        "style_df = beer_df.withColumn('style_clean', remove_space_udf(col('style')))\r\n",
        "style_df.show()"
      ],
      "execution_count": 8,
      "outputs": [
        {
          "output_type": "stream",
          "text": [
            "+-------+----------------+----------+--------------------+--------------------+--------------------+--------------------+--------------------+--------------------+--------------------+--------------------+------------+--------------------+--------------------+----+----------+--------------------+---------------+-------------+-----------------+--------------------+--------------------+\n",
            "|beer_id|        username|      date|                text|                look|               smell|               taste|                feel|             overall|               score|           beer_name|review_state|               style|        availability| abv|brewery_id|        brewery_name|   brewery_city|brewery_state|    brewery_types|          beer_clean|         style_clean|\n",
            "+-------+----------------+----------+--------------------+--------------------+--------------------+--------------------+--------------------+--------------------+--------------------+--------------------+------------+--------------------+--------------------+----+----------+--------------------+---------------+-------------+-----------------+--------------------+--------------------+\n",
            "| 271781|    bluejacket74|2017-03-17|   750 ml bottle,...|                 4.0|                 4.0|                 4.0|                4.25|                 4.0|                4.03|Motorbreath Imper...|          OH|American Imperial...|Limited (brewed o...|10.8|     28094|Four String Brewi...|       Columbus|           OH|     Brewery, Bar|MotorbreathImperi...|AmericanImperialS...|\n",
            "| 184647|      Try-em-all|2017-09-27|   Clear gold in ...|                 4.0|                 4.0|                 3.5|                 3.5|                3.75|                 3.7|     Payback Pilsner|          OH|   Bohemian Pilsener|            Rotating| 5.1|     28094|Four String Brewi...|       Columbus|           OH|     Brewery, Bar|      PaybackPilsner|    BohemianPilsener|\n",
            "| 184647|ScorpioBeerLover|2017-03-22|   Reminds me of ...|                 4.0|                 4.0|                4.25|                3.75|                 4.0|                4.08|     Payback Pilsner|          OH|   Bohemian Pilsener|            Rotating| 5.1|     28094|Four String Brewi...|       Columbus|           OH|     Brewery, Bar|      PaybackPilsner|    BohemianPilsener|\n",
            "| 184647|        beergoot|2016-10-08|   Pale yellow bo...|                3.25|                3.25|                 3.5|                 3.5|                 3.5|                3.43|     Payback Pilsner|          OH|   Bohemian Pilsener|            Rotating| 5.1|     28094|Four String Brewi...|       Columbus|           OH|     Brewery, Bar|      PaybackPilsner|    BohemianPilsener|\n",
            "| 184647|   woodychandler|2016-09-25|   The CANQuest (...|                3.75|                3.75|                 3.5|                 3.5|                 3.5|                3.58|     Payback Pilsner|          OH|   Bohemian Pilsener|            Rotating| 5.1|     28094|Four String Brewi...|       Columbus|           OH|     Brewery, Bar|      PaybackPilsner|    BohemianPilsener|\n",
            "| 184647|        WoodBrew|2016-07-14|   I got a Paybac...|                3.75|                 3.5|                 3.5|                 3.5|                 3.5|                3.52|     Payback Pilsner|          OH|   Bohemian Pilsener|            Rotating| 5.1|     28094|Four String Brewi...|       Columbus|           OH|     Brewery, Bar|      PaybackPilsner|    BohemianPilsener|\n",
            "| 184647|        SaltofOH|2016-07-09|\"   Can with \"\"11...| 2016? DFH Tulip....| no retention. S:...| transitions to a...| heavier side of ...| and have had thi...| and it was okay....| it was much bett...|         2.5|                 3.0|                2.75| 2.5|      2.75|                2.77|Payback Pilsner|           OH|Bohemian Pilsener|itwasmuchbetteron...|                 3.0|\n",
            "| 184647|     Brutaltruth|2016-01-15|   Enjoyed from t...|                3.75|                3.25|                3.25|                 3.5|                 3.5|                3.36|     Payback Pilsner|          OH|   Bohemian Pilsener|            Rotating| 5.1|     28094|Four String Brewi...|       Columbus|           OH|     Brewery, Bar|      PaybackPilsner|    BohemianPilsener|\n",
            "| 184647|     HeightsEats|2015-12-31|   Pours a golden...|                3.75|                3.75|                 4.0|                 4.0|                3.75|                3.88|     Payback Pilsner|          OH|   Bohemian Pilsener|            Rotating| 5.1|     28094|Four String Brewi...|       Columbus|           OH|     Brewery, Bar|      PaybackPilsner|    BohemianPilsener|\n",
            "| 184647|       schoolboy|2015-10-05|   This thing is ...|                 4.5|                 3.5|                 3.5|                 3.5|                3.75|                3.61|     Payback Pilsner|          OH|   Bohemian Pilsener|            Rotating| 5.1|     28094|Four String Brewi...|       Columbus|           OH|     Brewery, Bar|      PaybackPilsner|    BohemianPilsener|\n",
            "| 184647|   GreenEggsHam1|2015-08-08|                  0%|                 3.5|                 3.5|                 3.5|                3.75|                 3.5|                3.53|     Payback Pilsner|          OH|   Bohemian Pilsener|            Rotating| 5.1|     28094|Four String Brewi...|       Columbus|           OH|     Brewery, Bar|      PaybackPilsner|    BohemianPilsener|\n",
            "| 149366|        ONUMello|2016-03-26|\"   16oz draft A:...|                 3.5|                 3.0|                 3.5|                 3.5|                 3.5|                3.38|          HELLHAMMER|          OH|            Rye Beer|Limited (brewed o...| 7.2|     28094|Four String Brewi...|       Columbus|           OH|     Brewery, Bar|          HELLHAMMER|             RyeBeer|\n",
            "| 149366|        DrJGR629|2015-01-14|   The chipotle p...|                4.25|                 4.0|                 4.5|                3.75|                4.25|                4.24|          HELLHAMMER|          OH|            Rye Beer|Limited (brewed o...| 7.2|     28094|Four String Brewi...|       Columbus|           OH|     Brewery, Bar|          HELLHAMMER|             RyeBeer|\n",
            "| 111891|   Amnesia_Jones|2018-02-13|   I want this po...|                 3.0|                 3.0|                 3.0|                 3.0|                 3.0|                 3.0|      Vanilla Porter|          OH|     American Porter|              Winter| 6.0|     28094|Four String Brewi...|       Columbus|           OH|     Brewery, Bar|       VanillaPorter|      AmericanPorter|\n",
            "| 111891|       buschbeer|2017-12-13|   12 FL. OZ. bot...|                 4.0|                 4.0|                3.75|                 4.0|                3.75|                3.85|      Vanilla Porter|          OH|     American Porter|              Winter| 6.0|     28094|Four String Brewi...|       Columbus|           OH|     Brewery, Bar|       VanillaPorter|      AmericanPorter|\n",
            "| 111891|      jojobird72|2017-08-28|   pretty good fo...|                3.75|                 3.0|                3.75|                 3.0|                3.75|                 3.5|      Vanilla Porter|          OH|     American Porter|              Winter| 6.0|     28094|Four String Brewi...|       Columbus|           OH|     Brewery, Bar|       VanillaPorter|      AmericanPorter|\n",
            "| 111891|        WoodBrew|2016-12-31|   I bought a 6pc...|                3.75|                3.75|                 3.5|                 3.0|                 3.5|                3.53|      Vanilla Porter|          OH|     American Porter|              Winter| 6.0|     28094|Four String Brewi...|       Columbus|           OH|     Brewery, Bar|       VanillaPorter|      AmericanPorter|\n",
            "| 111891|      Oopssorryy|2016-12-25|   Pours a medium...|                2.75|                 2.5|                 2.5|                 2.5|                 2.5|                2.52|      Vanilla Porter|          OH|     American Porter|              Winter| 6.0|     28094|Four String Brewi...|       Columbus|           OH|     Brewery, Bar|       VanillaPorter|      AmericanPorter|\n",
            "| 111891|       superspak|2016-12-04|   12 ounce can i...|                 4.0|                 4.0|                 4.0|                 4.0|                 3.5|                 3.9|      Vanilla Porter|          OH|     American Porter|              Winter| 6.0|     28094|Four String Brewi...|       Columbus|           OH|     Brewery, Bar|       VanillaPorter|      AmericanPorter|\n",
            "| 111891|     BEERchitect|2016-05-14|   Porter first a...|                 4.0|                4.25|                 4.0|                3.75|                 4.0|                4.04|      Vanilla Porter|          OH|     American Porter|              Winter| 6.0|     28094|Four String Brewi...|       Columbus|           OH|     Brewery, Bar|       VanillaPorter|      AmericanPorter|\n",
            "+-------+----------------+----------+--------------------+--------------------+--------------------+--------------------+--------------------+--------------------+--------------------+--------------------+------------+--------------------+--------------------+----+----------+--------------------+---------------+-------------+-----------------+--------------------+--------------------+\n",
            "only showing top 20 rows\n",
            "\n"
          ],
          "name": "stdout"
        }
      ]
    },
    {
      "cell_type": "code",
      "metadata": {
        "colab": {
          "base_uri": "https://localhost:8080/"
        },
        "id": "6O5SWesRDM3d",
        "outputId": "8705860b-a993-4bad-b539-6d3dd273e4bd"
      },
      "source": [
        "from pyspark.sql.functions import concat_ws\r\n",
        "\r\n",
        "combined_df= style_df.select(concat_ws(' ',style_df.beer_clean,style_df.style_clean,style_df.text)\r\n",
        "              .alias(\"Final_text\"))\r\n",
        "combined_df.show(truncate=False)"
      ],
      "execution_count": 10,
      "outputs": [
        {
          "output_type": "stream",
          "text": [
            "+-------------------------------------------------------------------------------------------------------------------------------------------------------------------------------------------------------------------------------------------------------------------------------------------------------------------------------------------------------------------------------------------------------------------------------------------------------------------------------------------------------------------------------------------------------------------------------------------------------------------------------------------------------------------------------------------------------------------------------------------------------------------------------------------------------------------------------------------------------------------------------------------------------------------------------------------------------------------------------------------------------------------------------------------------------------------------------------------------------------------------------------------------------------------------------------------------------------------------------------------------------------------------------------------------------------------------------------------------------------------------------------------------------------------------------------------------------------------------------------------------------------------------------------------------------------------------------------------------------------------------------------------------------------------------------------------------------------------------------------------------------------------------------------------------------------------------------------------------------------------------------------------------------------------------------------------------------------------------------------------------------------------------------------------------------------------------------+\n",
            "|Final_text                                                                                                                                                                                                                                                                                                                                                                                                                                                                                                                                                                                                                                                                                                                                                                                                                                                                                                                                                                                                                                                                                                                                                                                                                                                                                                                                                                                                                                                                                                                                                                                                                                                                                                                                                                                                                                                                                                                                                                                                                                                                     |\n",
            "+-------------------------------------------------------------------------------------------------------------------------------------------------------------------------------------------------------------------------------------------------------------------------------------------------------------------------------------------------------------------------------------------------------------------------------------------------------------------------------------------------------------------------------------------------------------------------------------------------------------------------------------------------------------------------------------------------------------------------------------------------------------------------------------------------------------------------------------------------------------------------------------------------------------------------------------------------------------------------------------------------------------------------------------------------------------------------------------------------------------------------------------------------------------------------------------------------------------------------------------------------------------------------------------------------------------------------------------------------------------------------------------------------------------------------------------------------------------------------------------------------------------------------------------------------------------------------------------------------------------------------------------------------------------------------------------------------------------------------------------------------------------------------------------------------------------------------------------------------------------------------------------------------------------------------------------------------------------------------------------------------------------------------------------------------------------------------------+\n",
            "|MotorbreathImperialStout AmericanImperialStout    750 ml bottle, 2016 vintage, bottle #304 of 360. Served in a DFH snifter, the beer pours dark brown/black with about an inch tan head that stuck around a little while. There's also a good amount of lacing. I like the aroma, the brew smells like dark fruit (raisin, plum), chocolate, roasted malt, and a bit of licorice. For the most part I think the taste is just like the aroma, but with some coffee flavor noticeable too. Mouthfeel/body is medium/full, it's creamy and coating with a moderate amount of carbonation. I think it's a good overall brew, worth picking up if you want a nice straight forward imperial stout. Here's hoping Four String brings this back in the future! $9.99 a bottle.                                                                                                                                                                                                                                                                                                                                                                                                                                                                                                                                                                                                                                                                                                                                                                                                                                                                                                                                                                                                                                                                                                                                                                                                                                                                                                       |\n",
            "|PaybackPilsner BohemianPilsener    Clear gold in color, light head, very little lacing, slight grain taste, same with the first scent, not a bad beer, but not very special either.                                                                                                                                                                                                                                                                                                                                                                                                                                                                                                                                                                                                                                                                                                                                                                                                                                                                                                                                                                                                                                                                                                                                                                                                                                                                                                                                                                                                                                                                                                                                                                                                                                                                                                                                                                                                                                                                                            |\n",
            "|PaybackPilsner BohemianPilsener    Reminds me of pretty much every Czech Pilsner I have ever had. Very drinkable, but nothing that stands out as exceptional.                                                                                                                                                                                                                                                                                                                                                                                                                                                                                                                                                                                                                                                                                                                                                                                                                                                                                                                                                                                                                                                                                                                                                                                                                                                                                                                                                                                                                                                                                                                                                                                                                                                                                                                                                                                                                                                                                                                  |\n",
            "|PaybackPilsner BohemianPilsener    Pale yellow body; wispy white head. Very faint grain scent with a touch of honey. The taste is similar to the smell; gentle hop bitterness. Medium body. A fair, approachable pilsner yet rather run of the mill.                                                                                                                                                                                                                                                                                                                                                                                                                                                                                                                                                                                                                                                                                                                                                                                                                                                                                                                                                                                                                                                                                                                                                                                                                                                                                                                                                                                                                                                                                                                                                                                                                                                                                                                                                                                                                           |\n",
            "|PaybackPilsner BohemianPilsener    The CANQuest (tm) is honored to add anything from Four String BC to the list since one of its movers & shakers is none other than Larry, Larry, Larry ! Horowitz, who brewed & did jack of all trades stuff for Iron Hill for years. Larry, Larry, Larry is a fellow veteran & a really great, unassuming personality to be around. His knowledge is seCANd-to-none & while I was sorry to see him depart for Ohio, I know how to find him. Naturally, the CAN released a spray across my fingertips & then evinced some foaming through the vent on the Crack! I wanted an earlier CAN to do so & it did not CANoperate while each one before & after has been a behavior problem. Not really, since no one CAN hold a CANdle to my handling of a CAN. I performed a very gentle Glug so as to not rouse either any lees or the hooded CANbra that seemed to be lurking within. What is it with the Cracker Jack surprise inside jazz today? I got a rubber duck earlier & now, a cobra! Even my gentle Glug was enough to bring up just over a finger of soapy, foamy, bone-white head with modest retention. Color was a pretty Straw-Yellow (SRM = > 2, < 4), kind of like liquid sunshine in the glass. Nose was almost certainly indiCANtive of a German Pilsner, but I am going to request CANfirmation from the brewer/brewery on this one. It struck me as malty & bready, but I am not going to claim to be an expert. Mouthfeel was medium. The taste was making it really tough for me. It had a pleasant Noble hoppiness, but nowhere near as pronounced as it had been in Champion's Shower Beer. That said, the biscuitiness of the malt was not what I would CANsider pronounced, either. It was as though the beer was trying to straddle two styles. I prefer the Czech over the German, but this made for an interesting drink. Finish was semi-dry to dry, but neither the hops nor the malt seemed to want to assert themselves. It was decent, but I wish that it (or me) could make up its mind as to its identity.  |\n",
            "|PaybackPilsner BohemianPilsener    I got a Payback Pilsner in a mix 12 from Drug Mart in Willard, Ohio. It poured a clear golden with white head that is not leaving much of a lace. The scent is not one of pilsner...something strange...can't quite put finger on it. The taste leans toward a white grape and is a touch bitter. The Mouthfeel is lighter in body with good carbonation. Overall it's ok certainly wouldn't go out of my way to get it.                                                                                                                                                                                                                                                                                                                                                                                                                                                                                                                                                                                                                                                                                                                                                                                                                                                                                                                                                                                                                                                                                                                                                                                                                                                                                                                                                                                                                                                                                                                                                                                                                    |\n",
            "|itwasmuchbetterondraft. \" 3.0 \"   Can with \"\"1111161211 killerbeer\"\" stamped on the bottom. Best by Nov. 11                                                                                                                                                                                                                                                                                                                                                                                                                                                                                                                                                                                                                                                                                                                                                                                                                                                                                                                                                                                                                                                                                                                                                                                                                                                                                                                                                                                                                                                                                                                                                                                                                                                                                                                                                                                                                                                                                                                                                                    |\n",
            "|PaybackPilsner BohemianPilsener    Enjoyed from the 12 oz can in a pint glass via a friend from work----Thanks Kevin! This brew pours a very weak light yellow with an excellent head of dissipating foam that settles to a light ring, light layer, and excellent lacing. Nose of subtle honey malts, subtle hops, and light grains. Flavors follow the nose with sweet malts and bitter hops on all sides with moderately heavy grain notes coming in through the back with a decent bittering hops note on the aftertaste. Overall a decent pilsner with good carbonation making it an easy drinker. Decent for the style. Cheers                                                                                                                                                                                                                                                                                                                                                                                                                                                                                                                                                                                                                                                                                                                                                                                                                                                                                                                                                                                                                                                                                                                                                                                                                                                                                                                                                                                                                                           |\n",
            "|PaybackPilsner BohemianPilsener    Pours a golden yellow, slight biscuit aroma with some hoppiness. The flavor is well-balanced between malt and hops. This is a solid pilsner with medium malt body, a subtle sweetness and a clean finish of German hops. If you get a really fresh batch of this, the hops might be a bit strong, as I noted in an earlier version of this review. I opened a can a week later though (which is probably the average of how long it will be on the shelf after you buy it) and everything was equaled out.                                                                                                                                                                                                                                                                                                                                                                                                                                                                                                                                                                                                                                                                                                                                                                                                                                                                                                                                                                                                                                                                                                                                                                                                                                                                                                                                                                                                                                                                                                                                  |\n",
            "|PaybackPilsner BohemianPilsener    This thing is gorgeous. Too bad it ends there. Exceptional head (I always said, is there any such thing as bad head?). It just keeps coming and coming. Nice. So it's yellow and doesn't have any strong finishing hops aroma. It has a very mild pilsner taste, which is to say not much. The aftertaste is sweetish. Boring, even for the style. This is one of the prettier brews ever but that's it it has. Like they gave up trying to make a great pils and just made a well made one. Not recommended - it's just a pretty face.                                                                                                                                                                                                                                                                                                                                                                                                                                                                                                                                                                                                                                                                                                                                                                                                                                                                                                                                                                                                                                                                                                                                                                                                                                                                                                                                                                                                                                                                                                     |\n",
            "|PaybackPilsner BohemianPilsener    0%                                                                                                                                                                                                                                                                                                                                                                                                                                                                                                                                                                                                                                                                                                                                                                                                                                                                                                                                                                                                                                                                                                                                                                                                                                                                                                                                                                                                                                                                                                                                                                                                                                                                                                                                                                                                                                                                                                                                                                                                                                          |\n",
            "|HELLHAMMER RyeBeer \"   16oz draft A: Dark brown, no head S: Just not a lot going on. Generic malt, nothing else T: Dark malts, a hint of rye bite but it's in the background M: Medium-bodied O: The bar I had this at had this in the \"\"malt\"\" portion of their menu. I wish it had more hops/ rye spice to be in the \"\"hops\"\" section. Perfectly drinkable as is just nothing memorable  \"                                                                                                                                                                                                                                                                                                                                                                                                                                                                                                                                                                                                                                                                                                                                                                                                                                                                                                                                                                                                                                                                                                                                                                                                                                                                                                                                                                                                                                                                                                                                                                                                                                                                                   |\n",
            "|HELLHAMMER RyeBeer    The chipotle peppers add just a little heat on the way down. Very complex but tasty.                                                                                                                                                                                                                                                                                                                                                                                                                                                                                                                                                                                                                                                                                                                                                                                                                                                                                                                                                                                                                                                                                                                                                                                                                                                                                                                                                                                                                                                                                                                                                                                                                                                                                                                                                                                                                                                                                                                                                                     |\n",
            "|VanillaPorter AmericanPorter    I want this porter to be thick and rich, but alas, it is not.                                                                                                                                                                                                                                                                                                                                                                                                                                                                                                                                                                                                                                                                                                                                                                                                                                                                                                                                                                                                                                                                                                                                                                                                                                                                                                                                                                                                                                                                                                                                                                                                                                                                                                                                                                                                                                                                                                                                                                                  |\n",
            "|VanillaPorter AmericanPorter    12 FL. OZ. bottle Served in a snifter This beer appears black when poured, but when held to the light some ruby highlights are visible. It is topped with an inch of tan head that leaves very little lacing. I can smell vanilla right away. I also get some milk chocolate and roasted malt. It start with vanilla flavor. Dark chocolate come through the middle. Roasted malt also comes through the middle but lingers through the finish. The is a bitter chocolate aftertaste. Medium to full mouthfeel It is a drinkable everyday porter. There is nothing to make it stand out, but there is nothing to note of detrimental flavor either.                                                                                                                                                                                                                                                                                                                                                                                                                                                                                                                                                                                                                                                                                                                                                                                                                                                                                                                                                                                                                                                                                                                                                                                                                                                                                                                                                                                            |\n",
            "|VanillaPorter AmericanPorter    pretty good for in a can (I prefer bottles, idk who else cares)                                                                                                                                                                                                                                                                                                                                                                                                                                                                                                                                                                                                                                                                                                                                                                                                                                                                                                                                                                                                                                                                                                                                                                                                                                                                                                                                                                                                                                                                                                                                                                                                                                                                                                                                                                                                                                                                                                                                                                                |\n",
            "|VanillaPorter AmericanPorter    I bought a 6pck at the local Meijer store. The scent had hints of vanilla and roast. The taste carried some vanilla with espresso presence. The Mouthfeel was lighter in body with smooth carbonation. Overall it's ok....would like more body.                                                                                                                                                                                                                                                                                                                                                                                                                                                                                                                                                                                                                                                                                                                                                                                                                                                                                                                                                                                                                                                                                                                                                                                                                                                                                                                                                                                                                                                                                                                                                                                                                                                                                                                                                                                                |\n",
            "|VanillaPorter AmericanPorter    Pours a medium brown, with a small, lightly tanned head. The head quickly falls away, leaving very little lacing. The nose has light roast, a bit of coffee, but is far to sweet for my tastes. The vanilla is there, but is largely obscured by the rest of the scent profiles here. The flavors feel muted. The little flavor you get before swallowing is roast and a hint of malt. Upon swallowing you are hit with a huge amount of roast, with coffee flavors mixed in. A wave of sweet malt rides of the heels of this, with just the barest hints of vanilla. The feel is very much on the light side for a porter. It feels like it thickens up in the middle, but the somewhat dry finish takes away from any ground it may have gained. The flavors do not stick on the tongue, and the entire drink is forgotten quickly. Overall, this feels like a pretty sub par porter. It's billed as a vanilla porter, but I feel like I had to really search for it, so much so I may have been imagining it. Everything about it feels forgettable. I guess it could be used as an introductory porter for someone hesitant of dark beers, but other than that I would just pass.                                                                                                                                                                                                                                                                                                                                                                                                                                                                                                                                                                                                                                                                                                                                                                                                                                                          |\n",
            "|VanillaPorter AmericanPorter    12 ounce can into pint glass, best before 3/17/2017. Pours crystal clear deep reddish brown color with a 1-2 finger fairly dense light khaki head with good retention, that reduces to a nice cap that lingers. Nice spotty soapy lacing clings down the glass, with a fair amount of streaming carbonation. Aromas of vanilla, milk chocolate, cocoa, caramel, toffee, brown sugar, toasted brown bread, light nuttiness/coffee, herbal, and roast/toasted earthiness. Very nice aromas with good balance and complexity of dark/roast/bready malt, vanilla, and light earthy hop notes; with good strength. Taste of big vanilla, milk chocolate, cocoa, caramel, toffee, brown sugar, toasted brown bread, light nuttiness/coffee, herbal, light pepper, and roast/toasted earthiness. Light-moderate herbal/spicy hop and light roasted bitterness on the finish; with lingering notes of vanilla, milk chocolate, cocoa, caramel, toffee, brown sugar, toasted brown bread, light nuttiness/coffee, herbal, pepper, and roast/toasted earthiness on the finish for a good bit. Very nice complexity, robustness, and balance of dark/roast/bready malt, vanilla, and light-moderate earthy hop flavors; with a nice malt/bitterness balance, and minimal astringent hop flavors after the finish. Light-moderate dryness from bitterness, increasing through the glass. Medium carbonation and body; with a very smooth, moderately creamy/grainy/bready, fairly sticky, and slightly chalky balanced mouthfeel that is nice. Zero warming alcohol as expected of 6%. Overall this is a very nice American style vanilla porter. All around nice complexity, robustness, and balance of dark/roast/bready malt, vanilla, and light-moderate earthy hop flavors; very smooth and easy to drink. Just a bit too bitter/drying than I would have preferred; this still has really great malt complexity and balance with the vanilla bean flavors. A very enjoyable offering.                                                                |\n",
            "|VanillaPorter AmericanPorter    Porter first and vanilla secondary, the heirarchy is clear- the Four String brewer show a creative and aggressive edge with the madagascar vanilla bean, but layer them on a robust underpinning of roasty, toasty barley malt that doesn't shy away from the attention of the tastebuds. Their Vanilla Porter is a dark and lavish dark ale, deep brown and topped with a creamy beige crown. As the unmistakable and soothing scent of vanilla drifts onto the nose, its taste is even more decadent with dark-roast coffee, chocolate, burnt sugar and roasted nuttiness. As the flavors develop, the mind is drawn to the taste of sweet cream, milkshakes and sweetened coffees. The toasted grains give bittersweet chocolate notes with an undercarriage of caramel and toffee. Earthy nuttiness is woodsy and the bittering hops are piney and support the coffee-like characteristics seamlessly. Full bodied yet remarkably drinkable, the porter seems lavishly creamy to start but trails with a drying tone that outweighs the generous vanilla additions. An after-palate of bitter woods, nuttiness and coffee extend deep into aftertaste and with that seductive afterglow of vanilla.                                                                                                                                                                                                                                                                                                                                                                                                                                                                                                                                                                                                                                                                                                                                                                                                                                        |\n",
            "+-------------------------------------------------------------------------------------------------------------------------------------------------------------------------------------------------------------------------------------------------------------------------------------------------------------------------------------------------------------------------------------------------------------------------------------------------------------------------------------------------------------------------------------------------------------------------------------------------------------------------------------------------------------------------------------------------------------------------------------------------------------------------------------------------------------------------------------------------------------------------------------------------------------------------------------------------------------------------------------------------------------------------------------------------------------------------------------------------------------------------------------------------------------------------------------------------------------------------------------------------------------------------------------------------------------------------------------------------------------------------------------------------------------------------------------------------------------------------------------------------------------------------------------------------------------------------------------------------------------------------------------------------------------------------------------------------------------------------------------------------------------------------------------------------------------------------------------------------------------------------------------------------------------------------------------------------------------------------------------------------------------------------------------------------------------------------------+\n",
            "only showing top 20 rows\n",
            "\n"
          ],
          "name": "stdout"
        }
      ]
    }
  ]
}