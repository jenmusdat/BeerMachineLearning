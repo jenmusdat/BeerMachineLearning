{
 "cells": [
  {
   "cell_type": "code",
   "execution_count": 1,
   "metadata": {},
   "outputs": [],
   "source": [
    "from sqlalchemy import create_engine\n",
    "import pandas as pd"
   ]
  },
  {
   "cell_type": "code",
   "execution_count": 2,
   "metadata": {},
   "outputs": [
    {
     "name": "stdout",
     "output_type": "stream",
     "text": [
      "2021-03-05 15:04:56,034 INFO sqlalchemy.engine.base.Engine SELECT CAST('test plain returns' AS VARCHAR(60)) AS anon_1\n",
      "2021-03-05 15:04:56,039 INFO sqlalchemy.engine.base.Engine ()\n",
      "2021-03-05 15:04:56,043 INFO sqlalchemy.engine.base.Engine SELECT CAST('test unicode returns' AS VARCHAR(60)) AS anon_1\n",
      "2021-03-05 15:04:56,047 INFO sqlalchemy.engine.base.Engine ()\n"
     ]
    }
   ],
   "source": [
    "engine = create_engine(\"sqlite:///../Resources/beer.db\", echo=True)\n",
    "conn = engine.connect()"
   ]
  },
  {
   "cell_type": "code",
   "execution_count": 3,
   "metadata": {
    "scrolled": true
   },
   "outputs": [
    {
     "name": "stdout",
     "output_type": "stream",
     "text": [
      "2021-03-05 15:04:56,072 INFO sqlalchemy.engine.base.Engine DROP TABLE beer_reviews\n",
      "2021-03-05 15:04:56,073 INFO sqlalchemy.engine.base.Engine ()\n",
      "2021-03-05 15:05:04,977 INFO sqlalchemy.engine.base.Engine COMMIT\n"
     ]
    },
    {
     "data": {
      "text/plain": [
       "<sqlalchemy.engine.result.ResultProxy at 0x2ab9f58a390>"
      ]
     },
     "execution_count": 3,
     "metadata": {},
     "output_type": "execute_result"
    }
   ],
   "source": [
    "conn.execute(\"\"\"DROP TABLE beer_reviews\"\"\")"
   ]
  },
  {
   "cell_type": "code",
   "execution_count": 4,
   "metadata": {
    "scrolled": true
   },
   "outputs": [
    {
     "name": "stdout",
     "output_type": "stream",
     "text": [
      "2021-03-05 15:05:05,036 INFO sqlalchemy.engine.base.Engine CREATE TABLE IF NOT EXISTS beer_reviews ( \n",
      "    beer_reviews_id INTEGER PRIMARY KEY AUTOINCREMENT ,\n",
      "    beer_id         INTEGER NOT NULL , \n",
      "    username        TEXT NOT NULL ,\n",
      "    date            TEXT NOT NULL , \n",
      "    look            REAL NOT NULL ,\n",
      "    smell           REAL NOT NULL ,\n",
      "    taste           REAL NOT NULL ,\n",
      "    feel            REAL NOT NULL ,\n",
      "    overall         REAL NOT NULL ,\n",
      "    score           REAL NOT NULL ,\n",
      "    beer_name       TEXT NOT NULL ,\n",
      "    review_state    TEXT NOT NULL ,\n",
      "    style           TEXT NOT NULL ,\n",
      "    availability    TEXT NOT NULL , \n",
      "    abv             REAL NOT NULL ,\n",
      "    brewery_id      INTEGER NOT NULL ,\n",
      "    brewery_name    TEXT NOT NULL ,\n",
      "    brewery_city    TEXT NOT NULL ,\n",
      "    brewery_state   TEXT NOT NULL ,\n",
      "    brewery_types   TEXT NOT NULL \n",
      ")\n",
      "\n",
      "2021-03-05 15:05:05,039 INFO sqlalchemy.engine.base.Engine ()\n",
      "2021-03-05 15:05:05,056 INFO sqlalchemy.engine.base.Engine COMMIT\n"
     ]
    },
    {
     "data": {
      "text/plain": [
       "<sqlalchemy.engine.result.ResultProxy at 0x2ab9f5ce550>"
      ]
     },
     "execution_count": 4,
     "metadata": {},
     "output_type": "execute_result"
    }
   ],
   "source": [
    "# Create the table - note that if we use automap_base, the table must have primary key!\n",
    "conn.execute(\"\"\"CREATE TABLE IF NOT EXISTS beer_reviews ( \n",
    "    beer_reviews_id INTEGER PRIMARY KEY AUTOINCREMENT ,\n",
    "    beer_id         INTEGER NOT NULL , \n",
    "    username        TEXT NOT NULL ,\n",
    "    date            TEXT NOT NULL , \n",
    "    look            REAL NOT NULL ,\n",
    "    smell           REAL NOT NULL ,\n",
    "    taste           REAL NOT NULL ,\n",
    "    feel            REAL NOT NULL ,\n",
    "    overall         REAL NOT NULL ,\n",
    "    score           REAL NOT NULL ,\n",
    "    beer_name       TEXT NOT NULL ,\n",
    "    review_state    TEXT NOT NULL ,\n",
    "    style           TEXT NOT NULL ,\n",
    "    availability    TEXT NOT NULL , \n",
    "    abv             REAL NOT NULL ,\n",
    "    brewery_id      INTEGER NOT NULL ,\n",
    "    brewery_name    TEXT NOT NULL ,\n",
    "    brewery_city    TEXT NOT NULL ,\n",
    "    brewery_state   TEXT NOT NULL ,\n",
    "    brewery_types   TEXT NOT NULL \n",
    ")\n",
    "\"\"\")\n",
    "\n",
    "      \n"
   ]
  },
  {
   "cell_type": "code",
   "execution_count": 5,
   "metadata": {},
   "outputs": [],
   "source": [
    "# Read in target dataframes\n",
    "review_df = pd.read_csv(\"../Resources/reviews_beer_brewery.zip\")"
   ]
  },
  {
   "cell_type": "code",
   "execution_count": 6,
   "metadata": {
    "scrolled": true
   },
   "outputs": [
    {
     "name": "stdout",
     "output_type": "stream",
     "text": [
      "2021-03-05 15:05:14,855 INFO sqlalchemy.engine.base.Engine PRAGMA main.table_info(\"beer_reviews\")\n",
      "2021-03-05 15:05:14,857 INFO sqlalchemy.engine.base.Engine ()\n",
      "2021-03-05 15:05:16,726 INFO sqlalchemy.engine.base.Engine BEGIN (implicit)\n",
      "2021-03-05 15:05:54,712 INFO sqlalchemy.engine.base.Engine INSERT INTO beer_reviews (beer_id, username, date, look, smell, taste, feel, overall, score, beer_name, review_state, style, availability, abv, brewery_id, brewery_name, brewery_city, brewery_state, brewery_types) VALUES (?, ?, ?, ?, ?, ?, ?, ?, ?, ?, ?, ?, ?, ?, ?, ?, ?, ?, ?)\n",
      "2021-03-05 15:05:54,714 INFO sqlalchemy.engine.base.Engine ((271781, 'bluejacket74', '2017-03-17', 4.0, 4.0, 4.0, 4.25, 4.0, 4.03, 'Motorbreath Imperial Stout', 'OH', 'American Imperial Stout', 'Limited (brewed once)', 10.8, 28094, 'Four String Brewing Company', 'Columbus', 'OH', 'Brewery, Bar'), (184647, 'Try-em-all', '2017-09-27', 4.0, 4.0, 3.5, 3.5, 3.75, 3.7, 'Payback Pilsner', 'OH', 'Bohemian Pilsener', 'Rotating', 5.1, 28094, 'Four String Brewing Company', 'Columbus', 'OH', 'Brewery, Bar'), (184647, 'ScorpioBeerLover', '2017-03-22', 4.0, 4.0, 4.25, 3.75, 4.0, 4.08, 'Payback Pilsner', 'OH', 'Bohemian Pilsener', 'Rotating', 5.1, 28094, 'Four String Brewing Company', 'Columbus', 'OH', 'Brewery, Bar'), (184647, 'beergoot', '2016-10-08', 3.25, 3.25, 3.5, 3.5, 3.5, 3.43, 'Payback Pilsner', 'OH', 'Bohemian Pilsener', 'Rotating', 5.1, 28094, 'Four String Brewing Company', 'Columbus', 'OH', 'Brewery, Bar'), (184647, 'woodychandler', '2016-09-25', 3.75, 3.75, 3.5, 3.5, 3.5, 3.58, 'Payback Pilsner', 'OH', 'Bohemian Pilsener', 'Rotating', 5.1, 28094, 'Four String Brewing Company', 'Columbus', 'OH', 'Brewery, Bar'), (184647, 'WoodBrew', '2016-07-14', 3.75, 3.5, 3.5, 3.5, 3.5, 3.52, 'Payback Pilsner', 'OH', 'Bohemian Pilsener', 'Rotating', 5.1, 28094, 'Four String Brewing Company', 'Columbus', 'OH', 'Brewery, Bar'), (184647, 'SaltofOH', '2016-07-09', 2.5, 3.0, 2.75, 2.5, 2.75, 2.77, 'Payback Pilsner', 'OH', 'Bohemian Pilsener', 'Rotating', 5.1, 28094, 'Four String Brewing Company', 'Columbus', 'OH', 'Brewery, Bar'), (184647, 'Brutaltruth', '2016-01-15', 3.75, 3.25, 3.25, 3.5, 3.5, 3.36, 'Payback Pilsner', 'OH', 'Bohemian Pilsener', 'Rotating', 5.1, 28094, 'Four String Brewing Company', 'Columbus', 'OH', 'Brewery, Bar')  ... displaying 10 of 2127677 total bound parameter sets ...  (347287, 'Tennisballa07', '2018-07-07', 4.0, 4.0, 4.25, 4.5, 4.25, 4.2, 'Hoprodisiac', 'GA', 'American Imperial IPA', 'Year-round', 7.8, 51482, 'Akademia Brewing Company', 'Athens', 'GA', 'Brewery, Bar, Eatery, Beer-to-go'), (347287, 'Sludgeman', '2018-05-23', 3.5, 4.0, 4.0, 4.0, 4.0, 3.97, 'Hoprodisiac', 'GA', 'American Imperial IPA', 'Year-round', 7.8, 51482, 'Akademia Brewing Company', 'Athens', 'GA', 'Brewery, Bar, Eatery, Beer-to-go'))\n",
      "2021-03-05 15:06:10,316 INFO sqlalchemy.engine.base.Engine COMMIT\n"
     ]
    }
   ],
   "source": [
    "# Insert into table\n",
    "review_df.to_sql(\"beer_reviews\", conn, if_exists=\"append\", index=False)"
   ]
  },
  {
   "cell_type": "code",
   "execution_count": 7,
   "metadata": {},
   "outputs": [],
   "source": [
    "# Clean up\n",
    "conn.close()\n",
    "engine.dispose()"
   ]
  }
 ],
 "metadata": {
  "kernelspec": {
   "display_name": "Python 3",
   "language": "python",
   "name": "python3"
  },
  "language_info": {
   "codemirror_mode": {
    "name": "ipython",
    "version": 3
   },
   "file_extension": ".py",
   "mimetype": "text/x-python",
   "name": "python",
   "nbconvert_exporter": "python",
   "pygments_lexer": "ipython3",
   "version": "3.6.10"
  }
 },
 "nbformat": 4,
 "nbformat_minor": 4
}
