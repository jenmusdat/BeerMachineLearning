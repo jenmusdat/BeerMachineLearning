{
  "nbformat": 4,
  "nbformat_minor": 0,
  "metadata": {
    "colab": {
      "name": "Jay_word2vec.ipynb",
      "provenance": [],
      "collapsed_sections": [],
      "include_colab_link": true
    },
    "kernelspec": {
      "name": "python3",
      "display_name": "Python 3"
    }
  },
  "cells": [
    {
      "cell_type": "markdown",
      "metadata": {
        "id": "view-in-github",
        "colab_type": "text"
      },
      "source": [
        "<a href=\"https://colab.research.google.com/github/jenmusdat/Project3_BeerQuality/blob/main/Analysis/Jay_word2vec.ipynb\" target=\"_parent\"><img src=\"https://colab.research.google.com/assets/colab-badge.svg\" alt=\"Open In Colab\"/></a>"
      ]
    },
    {
      "cell_type": "code",
      "metadata": {
        "id": "nKhORyErYc9H",
        "colab": {
          "base_uri": "https://localhost:8080/"
        },
        "outputId": "fb4bed5f-75f7-4232-e6f5-46e84d8d319f"
      },
      "source": [
        "!apt-get update\n",
        "!apt-get install openjdk-8-jdk-headless -qq > /dev/null\n",
        "!wget -q http://www-us.apache.org/dist/spark/spark-2.4.7/spark-2.4.7-bin-hadoop2.7.tgz\n",
        "!tar xf spark-2.4.7-bin-hadoop2.7.tgz\n",
        "!pip install -q findspark\n",
        "\n",
        "# Set Environment Variables\n",
        "import os\n",
        "os.environ[\"JAVA_HOME\"] = \"/usr/lib/jvm/java-8-openjdk-amd64\"\n",
        "os.environ[\"SPARK_HOME\"] = \"/content/spark-2.4.7-bin-hadoop2.7\"\n",
        "\n",
        "# Start a SparkSession\n",
        "import findspark\n",
        "findspark.init()"
      ],
      "execution_count": 1,
      "outputs": [
        {
          "output_type": "stream",
          "text": [
            "\r0% [Working]\r            \rGet:1 https://cloud.r-project.org/bin/linux/ubuntu bionic-cran40/ InRelease [3,626 B]\n",
            "Ign:2 https://developer.download.nvidia.com/compute/cuda/repos/ubuntu1804/x86_64  InRelease\n",
            "Ign:3 https://developer.download.nvidia.com/compute/machine-learning/repos/ubuntu1804/x86_64  InRelease\n",
            "Hit:4 https://developer.download.nvidia.com/compute/cuda/repos/ubuntu1804/x86_64  Release\n",
            "Get:5 http://ppa.launchpad.net/c2d4u.team/c2d4u4.0+/ubuntu bionic InRelease [15.9 kB]\n",
            "Hit:6 https://developer.download.nvidia.com/compute/machine-learning/repos/ubuntu1804/x86_64  Release\n",
            "Hit:7 http://archive.ubuntu.com/ubuntu bionic InRelease\n",
            "Get:8 http://security.ubuntu.com/ubuntu bionic-security InRelease [88.7 kB]\n",
            "Get:9 http://archive.ubuntu.com/ubuntu bionic-updates InRelease [88.7 kB]\n",
            "Hit:10 http://ppa.launchpad.net/cran/libgit2/ubuntu bionic InRelease\n",
            "Hit:12 http://ppa.launchpad.net/deadsnakes/ppa/ubuntu bionic InRelease\n",
            "Get:14 http://archive.ubuntu.com/ubuntu bionic-backports InRelease [74.6 kB]\n",
            "Hit:15 http://ppa.launchpad.net/graphics-drivers/ppa/ubuntu bionic InRelease\n",
            "Get:16 http://ppa.launchpad.net/c2d4u.team/c2d4u4.0+/ubuntu bionic/main amd64 Packages [893 kB]\n",
            "Get:17 http://security.ubuntu.com/ubuntu bionic-security/universe amd64 Packages [1,396 kB]\n",
            "Get:18 http://archive.ubuntu.com/ubuntu bionic-updates/universe amd64 Packages [2,163 kB]\n",
            "Get:19 http://security.ubuntu.com/ubuntu bionic-security/main amd64 Packages [1,964 kB]\n",
            "Get:20 http://archive.ubuntu.com/ubuntu bionic-updates/main amd64 Packages [2,394 kB]\n",
            "Fetched 9,083 kB in 3s (3,093 kB/s)\n",
            "Reading package lists... Done\n"
          ],
          "name": "stdout"
        }
      ]
    },
    {
      "cell_type": "code",
      "metadata": {
        "id": "r31ccm3kuaxG",
        "colab": {
          "base_uri": "https://localhost:8080/"
        },
        "outputId": "a46c6ddd-a272-4dc4-8814-0d30d35673a2"
      },
      "source": [
        "from google.colab import drive\n",
        "drive.mount('/content/gdrive')"
      ],
      "execution_count": 2,
      "outputs": [
        {
          "output_type": "stream",
          "text": [
            "Drive already mounted at /content/gdrive; to attempt to forcibly remount, call drive.mount(\"/content/gdrive\", force_remount=True).\n"
          ],
          "name": "stdout"
        }
      ]
    },
    {
      "cell_type": "code",
      "metadata": {
        "id": "wB9hKKClZxgP"
      },
      "source": [
        "# Start a SparkSession\n",
        "from pyspark.sql import SparkSession\n",
        "spark = SparkSession.builder.appName(\"word2vec\").getOrCreate()"
      ],
      "execution_count": 3,
      "outputs": []
    },
    {
      "cell_type": "code",
      "metadata": {
        "id": "n3iL5WYZolKS"
      },
      "source": [
        "from pyspark.sql.types import StructType, StructField, StringType\n",
        "from pyspark.ml.feature import Word2Vec, Word2VecModel\n",
        "import string\n"
      ],
      "execution_count": 4,
      "outputs": []
    },
    {
      "cell_type": "code",
      "metadata": {
        "colab": {
          "base_uri": "https://localhost:8080/"
        },
        "id": "hFZlgstGaSlQ",
        "outputId": "cac95c04-1f38-40b1-cb49-c2ca84aabe69"
      },
      "source": [
        "# Read in data from S3 Buckets\r\n",
        "from pyspark import SparkFiles\r\n",
        "url =\"/content/gdrive/MyDrive/Project3_BeerQuality/Resources/reviews_beer_brewery.csv\"\r\n",
        "spark.sparkContext.addFile(url)\r\n",
        "df = spark.read.csv(SparkFiles.get(\"reviews_beer_brewery.csv\"), sep=\",\", header=True)\r\n",
        "\r\n",
        "# Show DataFrame\r\n",
        "df.show()"
      ],
      "execution_count": 5,
      "outputs": [
        {
          "output_type": "stream",
          "text": [
            "+-------+----------------+----------+--------------------+--------------------+--------------------+--------------------+--------------------+--------------------+--------------------+--------------------+------------+--------------------+--------------------+----+----------+--------------------+---------------+-------------+-----------------+\n",
            "|beer_id|        username|      date|                text|                look|               smell|               taste|                feel|             overall|               score|           beer_name|review_state|               style|        availability| abv|brewery_id|        brewery_name|   brewery_city|brewery_state|    brewery_types|\n",
            "+-------+----------------+----------+--------------------+--------------------+--------------------+--------------------+--------------------+--------------------+--------------------+--------------------+------------+--------------------+--------------------+----+----------+--------------------+---------------+-------------+-----------------+\n",
            "| 271781|    bluejacket74|2017-03-17|   750 ml bottle,...|                 4.0|                 4.0|                 4.0|                4.25|                 4.0|                4.03|Motorbreath Imper...|          OH|American Imperial...|Limited (brewed o...|10.8|     28094|Four String Brewi...|       Columbus|           OH|     Brewery, Bar|\n",
            "| 184647|      Try-em-all|2017-09-27|   Clear gold in ...|                 4.0|                 4.0|                 3.5|                 3.5|                3.75|                 3.7|     Payback Pilsner|          OH|   Bohemian Pilsener|            Rotating| 5.1|     28094|Four String Brewi...|       Columbus|           OH|     Brewery, Bar|\n",
            "| 184647|ScorpioBeerLover|2017-03-22|   Reminds me of ...|                 4.0|                 4.0|                4.25|                3.75|                 4.0|                4.08|     Payback Pilsner|          OH|   Bohemian Pilsener|            Rotating| 5.1|     28094|Four String Brewi...|       Columbus|           OH|     Brewery, Bar|\n",
            "| 184647|        beergoot|2016-10-08|   Pale yellow bo...|                3.25|                3.25|                 3.5|                 3.5|                 3.5|                3.43|     Payback Pilsner|          OH|   Bohemian Pilsener|            Rotating| 5.1|     28094|Four String Brewi...|       Columbus|           OH|     Brewery, Bar|\n",
            "| 184647|   woodychandler|2016-09-25|   The CANQuest (...|                3.75|                3.75|                 3.5|                 3.5|                 3.5|                3.58|     Payback Pilsner|          OH|   Bohemian Pilsener|            Rotating| 5.1|     28094|Four String Brewi...|       Columbus|           OH|     Brewery, Bar|\n",
            "| 184647|        WoodBrew|2016-07-14|   I got a Paybac...|                3.75|                 3.5|                 3.5|                 3.5|                 3.5|                3.52|     Payback Pilsner|          OH|   Bohemian Pilsener|            Rotating| 5.1|     28094|Four String Brewi...|       Columbus|           OH|     Brewery, Bar|\n",
            "| 184647|        SaltofOH|2016-07-09|\"   Can with \"\"11...| 2016? DFH Tulip....| no retention. S:...| transitions to a...| heavier side of ...| and have had thi...| and it was okay....| it was much bett...|         2.5|                 3.0|                2.75| 2.5|      2.75|                2.77|Payback Pilsner|           OH|Bohemian Pilsener|\n",
            "| 184647|     Brutaltruth|2016-01-15|   Enjoyed from t...|                3.75|                3.25|                3.25|                 3.5|                 3.5|                3.36|     Payback Pilsner|          OH|   Bohemian Pilsener|            Rotating| 5.1|     28094|Four String Brewi...|       Columbus|           OH|     Brewery, Bar|\n",
            "| 184647|     HeightsEats|2015-12-31|   Pours a golden...|                3.75|                3.75|                 4.0|                 4.0|                3.75|                3.88|     Payback Pilsner|          OH|   Bohemian Pilsener|            Rotating| 5.1|     28094|Four String Brewi...|       Columbus|           OH|     Brewery, Bar|\n",
            "| 184647|       schoolboy|2015-10-05|   This thing is ...|                 4.5|                 3.5|                 3.5|                 3.5|                3.75|                3.61|     Payback Pilsner|          OH|   Bohemian Pilsener|            Rotating| 5.1|     28094|Four String Brewi...|       Columbus|           OH|     Brewery, Bar|\n",
            "| 184647|   GreenEggsHam1|2015-08-08|                  0%|                 3.5|                 3.5|                 3.5|                3.75|                 3.5|                3.53|     Payback Pilsner|          OH|   Bohemian Pilsener|            Rotating| 5.1|     28094|Four String Brewi...|       Columbus|           OH|     Brewery, Bar|\n",
            "| 149366|        ONUMello|2016-03-26|\"   16oz draft A:...|                 3.5|                 3.0|                 3.5|                 3.5|                 3.5|                3.38|          HELLHAMMER|          OH|            Rye Beer|Limited (brewed o...| 7.2|     28094|Four String Brewi...|       Columbus|           OH|     Brewery, Bar|\n",
            "| 149366|        DrJGR629|2015-01-14|   The chipotle p...|                4.25|                 4.0|                 4.5|                3.75|                4.25|                4.24|          HELLHAMMER|          OH|            Rye Beer|Limited (brewed o...| 7.2|     28094|Four String Brewi...|       Columbus|           OH|     Brewery, Bar|\n",
            "| 111891|   Amnesia_Jones|2018-02-13|   I want this po...|                 3.0|                 3.0|                 3.0|                 3.0|                 3.0|                 3.0|      Vanilla Porter|          OH|     American Porter|              Winter| 6.0|     28094|Four String Brewi...|       Columbus|           OH|     Brewery, Bar|\n",
            "| 111891|       buschbeer|2017-12-13|   12 FL. OZ. bot...|                 4.0|                 4.0|                3.75|                 4.0|                3.75|                3.85|      Vanilla Porter|          OH|     American Porter|              Winter| 6.0|     28094|Four String Brewi...|       Columbus|           OH|     Brewery, Bar|\n",
            "| 111891|      jojobird72|2017-08-28|   pretty good fo...|                3.75|                 3.0|                3.75|                 3.0|                3.75|                 3.5|      Vanilla Porter|          OH|     American Porter|              Winter| 6.0|     28094|Four String Brewi...|       Columbus|           OH|     Brewery, Bar|\n",
            "| 111891|        WoodBrew|2016-12-31|   I bought a 6pc...|                3.75|                3.75|                 3.5|                 3.0|                 3.5|                3.53|      Vanilla Porter|          OH|     American Porter|              Winter| 6.0|     28094|Four String Brewi...|       Columbus|           OH|     Brewery, Bar|\n",
            "| 111891|      Oopssorryy|2016-12-25|   Pours a medium...|                2.75|                 2.5|                 2.5|                 2.5|                 2.5|                2.52|      Vanilla Porter|          OH|     American Porter|              Winter| 6.0|     28094|Four String Brewi...|       Columbus|           OH|     Brewery, Bar|\n",
            "| 111891|       superspak|2016-12-04|   12 ounce can i...|                 4.0|                 4.0|                 4.0|                 4.0|                 3.5|                 3.9|      Vanilla Porter|          OH|     American Porter|              Winter| 6.0|     28094|Four String Brewi...|       Columbus|           OH|     Brewery, Bar|\n",
            "| 111891|     BEERchitect|2016-05-14|   Porter first a...|                 4.0|                4.25|                 4.0|                3.75|                 4.0|                4.04|      Vanilla Porter|          OH|     American Porter|              Winter| 6.0|     28094|Four String Brewi...|       Columbus|           OH|     Brewery, Bar|\n",
            "+-------+----------------+----------+--------------------+--------------------+--------------------+--------------------+--------------------+--------------------+--------------------+--------------------+------------+--------------------+--------------------+----+----------+--------------------+---------------+-------------+-----------------+\n",
            "only showing top 20 rows\n",
            "\n"
          ],
          "name": "stdout"
        }
      ]
    },
    {
      "cell_type": "code",
      "metadata": {
        "id": "rUrgBLiFvW3W",
        "colab": {
          "base_uri": "https://localhost:8080/"
        },
        "outputId": "20dd2b97-6bb5-49dd-8777-68fbac9d7c28"
      },
      "source": [
        "#df.show(truncate=False)\r\n",
        "text_df = df.select('text')\r\n",
        "text_df.show(truncate=False)"
      ],
      "execution_count": 6,
      "outputs": [
        {
          "output_type": "stream",
          "text": [
            "+-----------------------------------------------------------------------------------------------------------------------------------------------------------------------------------------------------------------------------------------------------------------------------------------------------------------------------------------------------------------------------------------------------------------------------------------------------------------------------------------------------------------------------------------------------------------------------------------------------------------------------------------------------------------------------------------------------------------------------------------------------------------------------------------------------------------------------------------------------------------------------------------------------------------------------------------------------------------------------------------------------------------------------------------------------------------------------------------------------------------------------------------------------------------------------------------------------------------------------------------------------------------------------------------------------------------------------------------------------------------------------------------------------------------------------------------------------------------------------------------------------------------------------------------------------------------------------------------------------------------------------------------------------------------------------------------------------------------------------------------------------------------------------------------------------------------------------------------------------------------------------------------------------------------------------------------------------------------------------------------------------------------------------------------------+\n",
            "|text                                                                                                                                                                                                                                                                                                                                                                                                                                                                                                                                                                                                                                                                                                                                                                                                                                                                                                                                                                                                                                                                                                                                                                                                                                                                                                                                                                                                                                                                                                                                                                                                                                                                                                                                                                                                                                                                                                                                                                                                                                           |\n",
            "+-----------------------------------------------------------------------------------------------------------------------------------------------------------------------------------------------------------------------------------------------------------------------------------------------------------------------------------------------------------------------------------------------------------------------------------------------------------------------------------------------------------------------------------------------------------------------------------------------------------------------------------------------------------------------------------------------------------------------------------------------------------------------------------------------------------------------------------------------------------------------------------------------------------------------------------------------------------------------------------------------------------------------------------------------------------------------------------------------------------------------------------------------------------------------------------------------------------------------------------------------------------------------------------------------------------------------------------------------------------------------------------------------------------------------------------------------------------------------------------------------------------------------------------------------------------------------------------------------------------------------------------------------------------------------------------------------------------------------------------------------------------------------------------------------------------------------------------------------------------------------------------------------------------------------------------------------------------------------------------------------------------------------------------------------+\n",
            "|   750 ml bottle, 2016 vintage, bottle #304 of 360. Served in a DFH snifter, the beer pours dark brown/black with about an inch tan head that stuck around a little while. There's also a good amount of lacing. I like the aroma, the brew smells like dark fruit (raisin, plum), chocolate, roasted malt, and a bit of licorice. For the most part I think the taste is just like the aroma, but with some coffee flavor noticeable too. Mouthfeel/body is medium/full, it's creamy and coating with a moderate amount of carbonation. I think it's a good overall brew, worth picking up if you want a nice straight forward imperial stout. Here's hoping Four String brings this back in the future! $9.99 a bottle.                                                                                                                                                                                                                                                                                                                                                                                                                                                                                                                                                                                                                                                                                                                                                                                                                                                                                                                                                                                                                                                                                                                                                                                                                                                                                                                      |\n",
            "|   Clear gold in color, light head, very little lacing, slight grain taste, same with the first scent, not a bad beer, but not very special either.                                                                                                                                                                                                                                                                                                                                                                                                                                                                                                                                                                                                                                                                                                                                                                                                                                                                                                                                                                                                                                                                                                                                                                                                                                                                                                                                                                                                                                                                                                                                                                                                                                                                                                                                                                                                                                                                                            |\n",
            "|   Reminds me of pretty much every Czech Pilsner I have ever had. Very drinkable, but nothing that stands out as exceptional.                                                                                                                                                                                                                                                                                                                                                                                                                                                                                                                                                                                                                                                                                                                                                                                                                                                                                                                                                                                                                                                                                                                                                                                                                                                                                                                                                                                                                                                                                                                                                                                                                                                                                                                                                                                                                                                                                                                  |\n",
            "|   Pale yellow body; wispy white head. Very faint grain scent with a touch of honey. The taste is similar to the smell; gentle hop bitterness. Medium body. A fair, approachable pilsner yet rather run of the mill.                                                                                                                                                                                                                                                                                                                                                                                                                                                                                                                                                                                                                                                                                                                                                                                                                                                                                                                                                                                                                                                                                                                                                                                                                                                                                                                                                                                                                                                                                                                                                                                                                                                                                                                                                                                                                           |\n",
            "|   The CANQuest (tm) is honored to add anything from Four String BC to the list since one of its movers & shakers is none other than Larry, Larry, Larry ! Horowitz, who brewed & did jack of all trades stuff for Iron Hill for years. Larry, Larry, Larry is a fellow veteran & a really great, unassuming personality to be around. His knowledge is seCANd-to-none & while I was sorry to see him depart for Ohio, I know how to find him. Naturally, the CAN released a spray across my fingertips & then evinced some foaming through the vent on the Crack! I wanted an earlier CAN to do so & it did not CANoperate while each one before & after has been a behavior problem. Not really, since no one CAN hold a CANdle to my handling of a CAN. I performed a very gentle Glug so as to not rouse either any lees or the hooded CANbra that seemed to be lurking within. What is it with the Cracker Jack surprise inside jazz today? I got a rubber duck earlier & now, a cobra! Even my gentle Glug was enough to bring up just over a finger of soapy, foamy, bone-white head with modest retention. Color was a pretty Straw-Yellow (SRM = > 2, < 4), kind of like liquid sunshine in the glass. Nose was almost certainly indiCANtive of a German Pilsner, but I am going to request CANfirmation from the brewer/brewery on this one. It struck me as malty & bready, but I am not going to claim to be an expert. Mouthfeel was medium. The taste was making it really tough for me. It had a pleasant Noble hoppiness, but nowhere near as pronounced as it had been in Champion's Shower Beer. That said, the biscuitiness of the malt was not what I would CANsider pronounced, either. It was as though the beer was trying to straddle two styles. I prefer the Czech over the German, but this made for an interesting drink. Finish was semi-dry to dry, but neither the hops nor the malt seemed to want to assert themselves. It was decent, but I wish that it (or me) could make up its mind as to its identity.  |\n",
            "|   I got a Payback Pilsner in a mix 12 from Drug Mart in Willard, Ohio. It poured a clear golden with white head that is not leaving much of a lace. The scent is not one of pilsner...something strange...can't quite put finger on it. The taste leans toward a white grape and is a touch bitter. The Mouthfeel is lighter in body with good carbonation. Overall it's ok certainly wouldn't go out of my way to get it.                                                                                                                                                                                                                                                                                                                                                                                                                                                                                                                                                                                                                                                                                                                                                                                                                                                                                                                                                                                                                                                                                                                                                                                                                                                                                                                                                                                                                                                                                                                                                                                                                    |\n",
            "|\"   Can with \"\"1111161211 killerbeer\"\" stamped on the bottom. Best by Nov. 11                                                                                                                                                                                                                                                                                                                                                                                                                                                                                                                                                                                                                                                                                                                                                                                                                                                                                                                                                                                                                                                                                                                                                                                                                                                                                                                                                                                                                                                                                                                                                                                                                                                                                                                                                                                                                                                                                                                                                                  |\n",
            "|   Enjoyed from the 12 oz can in a pint glass via a friend from work----Thanks Kevin! This brew pours a very weak light yellow with an excellent head of dissipating foam that settles to a light ring, light layer, and excellent lacing. Nose of subtle honey malts, subtle hops, and light grains. Flavors follow the nose with sweet malts and bitter hops on all sides with moderately heavy grain notes coming in through the back with a decent bittering hops note on the aftertaste. Overall a decent pilsner with good carbonation making it an easy drinker. Decent for the style. Cheers                                                                                                                                                                                                                                                                                                                                                                                                                                                                                                                                                                                                                                                                                                                                                                                                                                                                                                                                                                                                                                                                                                                                                                                                                                                                                                                                                                                                                                           |\n",
            "|   Pours a golden yellow, slight biscuit aroma with some hoppiness. The flavor is well-balanced between malt and hops. This is a solid pilsner with medium malt body, a subtle sweetness and a clean finish of German hops. If you get a really fresh batch of this, the hops might be a bit strong, as I noted in an earlier version of this review. I opened a can a week later though (which is probably the average of how long it will be on the shelf after you buy it) and everything was equaled out.                                                                                                                                                                                                                                                                                                                                                                                                                                                                                                                                                                                                                                                                                                                                                                                                                                                                                                                                                                                                                                                                                                                                                                                                                                                                                                                                                                                                                                                                                                                                  |\n",
            "|   This thing is gorgeous. Too bad it ends there. Exceptional head (I always said, is there any such thing as bad head?). It just keeps coming and coming. Nice. So it's yellow and doesn't have any strong finishing hops aroma. It has a very mild pilsner taste, which is to say not much. The aftertaste is sweetish. Boring, even for the style. This is one of the prettier brews ever but that's it it has. Like they gave up trying to make a great pils and just made a well made one. Not recommended - it's just a pretty face.                                                                                                                                                                                                                                                                                                                                                                                                                                                                                                                                                                                                                                                                                                                                                                                                                                                                                                                                                                                                                                                                                                                                                                                                                                                                                                                                                                                                                                                                                                     |\n",
            "|   0%                                                                                                                                                                                                                                                                                                                                                                                                                                                                                                                                                                                                                                                                                                                                                                                                                                                                                                                                                                                                                                                                                                                                                                                                                                                                                                                                                                                                                                                                                                                                                                                                                                                                                                                                                                                                                                                                                                                                                                                                                                          |\n",
            "|\"   16oz draft A: Dark brown, no head S: Just not a lot going on. Generic malt, nothing else T: Dark malts, a hint of rye bite but it's in the background M: Medium-bodied O: The bar I had this at had this in the \"\"malt\"\" portion of their menu. I wish it had more hops/ rye spice to be in the \"\"hops\"\" section. Perfectly drinkable as is just nothing memorable  \"                                                                                                                                                                                                                                                                                                                                                                                                                                                                                                                                                                                                                                                                                                                                                                                                                                                                                                                                                                                                                                                                                                                                                                                                                                                                                                                                                                                                                                                                                                                                                                                                                                                                      |\n",
            "|   The chipotle peppers add just a little heat on the way down. Very complex but tasty.                                                                                                                                                                                                                                                                                                                                                                                                                                                                                                                                                                                                                                                                                                                                                                                                                                                                                                                                                                                                                                                                                                                                                                                                                                                                                                                                                                                                                                                                                                                                                                                                                                                                                                                                                                                                                                                                                                                                                        |\n",
            "|   I want this porter to be thick and rich, but alas, it is not.                                                                                                                                                                                                                                                                                                                                                                                                                                                                                                                                                                                                                                                                                                                                                                                                                                                                                                                                                                                                                                                                                                                                                                                                                                                                                                                                                                                                                                                                                                                                                                                                                                                                                                                                                                                                                                                                                                                                                                               |\n",
            "|   12 FL. OZ. bottle Served in a snifter This beer appears black when poured, but when held to the light some ruby highlights are visible. It is topped with an inch of tan head that leaves very little lacing. I can smell vanilla right away. I also get some milk chocolate and roasted malt. It start with vanilla flavor. Dark chocolate come through the middle. Roasted malt also comes through the middle but lingers through the finish. The is a bitter chocolate aftertaste. Medium to full mouthfeel It is a drinkable everyday porter. There is nothing to make it stand out, but there is nothing to note of detrimental flavor either.                                                                                                                                                                                                                                                                                                                                                                                                                                                                                                                                                                                                                                                                                                                                                                                                                                                                                                                                                                                                                                                                                                                                                                                                                                                                                                                                                                                         |\n",
            "|   pretty good for in a can (I prefer bottles, idk who else cares)                                                                                                                                                                                                                                                                                                                                                                                                                                                                                                                                                                                                                                                                                                                                                                                                                                                                                                                                                                                                                                                                                                                                                                                                                                                                                                                                                                                                                                                                                                                                                                                                                                                                                                                                                                                                                                                                                                                                                                             |\n",
            "|   I bought a 6pck at the local Meijer store. The scent had hints of vanilla and roast. The taste carried some vanilla with espresso presence. The Mouthfeel was lighter in body with smooth carbonation. Overall it's ok....would like more body.                                                                                                                                                                                                                                                                                                                                                                                                                                                                                                                                                                                                                                                                                                                                                                                                                                                                                                                                                                                                                                                                                                                                                                                                                                                                                                                                                                                                                                                                                                                                                                                                                                                                                                                                                                                             |\n",
            "|   Pours a medium brown, with a small, lightly tanned head. The head quickly falls away, leaving very little lacing. The nose has light roast, a bit of coffee, but is far to sweet for my tastes. The vanilla is there, but is largely obscured by the rest of the scent profiles here. The flavors feel muted. The little flavor you get before swallowing is roast and a hint of malt. Upon swallowing you are hit with a huge amount of roast, with coffee flavors mixed in. A wave of sweet malt rides of the heels of this, with just the barest hints of vanilla. The feel is very much on the light side for a porter. It feels like it thickens up in the middle, but the somewhat dry finish takes away from any ground it may have gained. The flavors do not stick on the tongue, and the entire drink is forgotten quickly. Overall, this feels like a pretty sub par porter. It's billed as a vanilla porter, but I feel like I had to really search for it, so much so I may have been imagining it. Everything about it feels forgettable. I guess it could be used as an introductory porter for someone hesitant of dark beers, but other than that I would just pass.                                                                                                                                                                                                                                                                                                                                                                                                                                                                                                                                                                                                                                                                                                                                                                                                                                                       |\n",
            "|   12 ounce can into pint glass, best before 3/17/2017. Pours crystal clear deep reddish brown color with a 1-2 finger fairly dense light khaki head with good retention, that reduces to a nice cap that lingers. Nice spotty soapy lacing clings down the glass, with a fair amount of streaming carbonation. Aromas of vanilla, milk chocolate, cocoa, caramel, toffee, brown sugar, toasted brown bread, light nuttiness/coffee, herbal, and roast/toasted earthiness. Very nice aromas with good balance and complexity of dark/roast/bready malt, vanilla, and light earthy hop notes; with good strength. Taste of big vanilla, milk chocolate, cocoa, caramel, toffee, brown sugar, toasted brown bread, light nuttiness/coffee, herbal, light pepper, and roast/toasted earthiness. Light-moderate herbal/spicy hop and light roasted bitterness on the finish; with lingering notes of vanilla, milk chocolate, cocoa, caramel, toffee, brown sugar, toasted brown bread, light nuttiness/coffee, herbal, pepper, and roast/toasted earthiness on the finish for a good bit. Very nice complexity, robustness, and balance of dark/roast/bready malt, vanilla, and light-moderate earthy hop flavors; with a nice malt/bitterness balance, and minimal astringent hop flavors after the finish. Light-moderate dryness from bitterness, increasing through the glass. Medium carbonation and body; with a very smooth, moderately creamy/grainy/bready, fairly sticky, and slightly chalky balanced mouthfeel that is nice. Zero warming alcohol as expected of 6%. Overall this is a very nice American style vanilla porter. All around nice complexity, robustness, and balance of dark/roast/bready malt, vanilla, and light-moderate earthy hop flavors; very smooth and easy to drink. Just a bit too bitter/drying than I would have preferred; this still has really great malt complexity and balance with the vanilla bean flavors. A very enjoyable offering.                                                             |\n",
            "|   Porter first and vanilla secondary, the heirarchy is clear- the Four String brewer show a creative and aggressive edge with the madagascar vanilla bean, but layer them on a robust underpinning of roasty, toasty barley malt that doesn't shy away from the attention of the tastebuds. Their Vanilla Porter is a dark and lavish dark ale, deep brown and topped with a creamy beige crown. As the unmistakable and soothing scent of vanilla drifts onto the nose, its taste is even more decadent with dark-roast coffee, chocolate, burnt sugar and roasted nuttiness. As the flavors develop, the mind is drawn to the taste of sweet cream, milkshakes and sweetened coffees. The toasted grains give bittersweet chocolate notes with an undercarriage of caramel and toffee. Earthy nuttiness is woodsy and the bittering hops are piney and support the coffee-like characteristics seamlessly. Full bodied yet remarkably drinkable, the porter seems lavishly creamy to start but trails with a drying tone that outweighs the generous vanilla additions. An after-palate of bitter woods, nuttiness and coffee extend deep into aftertaste and with that seductive afterglow of vanilla.                                                                                                                                                                                                                                                                                                                                                                                                                                                                                                                                                                                                                                                                                                                                                                                                                                     |\n",
            "+-----------------------------------------------------------------------------------------------------------------------------------------------------------------------------------------------------------------------------------------------------------------------------------------------------------------------------------------------------------------------------------------------------------------------------------------------------------------------------------------------------------------------------------------------------------------------------------------------------------------------------------------------------------------------------------------------------------------------------------------------------------------------------------------------------------------------------------------------------------------------------------------------------------------------------------------------------------------------------------------------------------------------------------------------------------------------------------------------------------------------------------------------------------------------------------------------------------------------------------------------------------------------------------------------------------------------------------------------------------------------------------------------------------------------------------------------------------------------------------------------------------------------------------------------------------------------------------------------------------------------------------------------------------------------------------------------------------------------------------------------------------------------------------------------------------------------------------------------------------------------------------------------------------------------------------------------------------------------------------------------------------------------------------------------+\n",
            "only showing top 20 rows\n",
            "\n"
          ],
          "name": "stdout"
        }
      ]
    },
    {
      "cell_type": "code",
      "metadata": {
        "id": "WrATeVJxttTF"
      },
      "source": [
        "def remove_punctuation(txt):\n",
        "  txt = txt.strip('\\xa0\\xa0 ')\n",
        "  return \"\".join(l if l not in string.punctuation else \"\" for l in txt)"
      ],
      "execution_count": 7,
      "outputs": []
    },
    {
      "cell_type": "code",
      "metadata": {
        "colab": {
          "base_uri": "https://localhost:8080/"
        },
        "id": "Nd-21CnTtxFs",
        "outputId": "b4cf8b9f-001c-4243-c443-ffb25034dd33"
      },
      "source": [
        "from pyspark.sql.types import StringType\n",
        "from pyspark.sql.functions import col, udf\n",
        "\n",
        "remove_punctuation_udf = udf(remove_punctuation, StringType())\n",
        "remove_punctuation_udf"
      ],
      "execution_count": 8,
      "outputs": [
        {
          "output_type": "execute_result",
          "data": {
            "text/plain": [
              "<function __main__.remove_punctuation>"
            ]
          },
          "metadata": {
            "tags": []
          },
          "execution_count": 8
        }
      ]
    },
    {
      "cell_type": "code",
      "metadata": {
        "id": "VQ4vR38_t516",
        "colab": {
          "base_uri": "https://localhost:8080/"
        },
        "outputId": "db1b6139-0222-4d6a-b40d-538e55583870"
      },
      "source": [
        "text_df = text_df.withColumn(\"clean_text\", remove_punctuation_udf(col(\"text\")))\r\n",
        "text_df.show()"
      ],
      "execution_count": 9,
      "outputs": [
        {
          "output_type": "stream",
          "text": [
            "+--------------------+--------------------+\n",
            "|                text|          clean_text|\n",
            "+--------------------+--------------------+\n",
            "|   750 ml bottle,...|750 ml bottle 201...|\n",
            "|   Clear gold in ...|Clear gold in col...|\n",
            "|   Reminds me of ...|Reminds me of pre...|\n",
            "|   Pale yellow bo...|Pale yellow body ...|\n",
            "|   The CANQuest (...|The CANQuest tm i...|\n",
            "|   I got a Paybac...|I got a Payback P...|\n",
            "|\"   Can with \"\"11...|   Can with 11111...|\n",
            "|   Enjoyed from t...|Enjoyed from the ...|\n",
            "|   Pours a golden...|Pours a golden ye...|\n",
            "|   This thing is ...|This thing is gor...|\n",
            "|                  0%|                   0|\n",
            "|\"   16oz draft A:...|   16oz draft A D...|\n",
            "|   The chipotle p...|The chipotle pepp...|\n",
            "|   I want this po...|I want this porte...|\n",
            "|   12 FL. OZ. bot...|12 FL OZ bottle S...|\n",
            "|   pretty good fo...|pretty good for i...|\n",
            "|   I bought a 6pc...|I bought a 6pck a...|\n",
            "|   Pours a medium...|Pours a medium br...|\n",
            "|   12 ounce can i...|12 ounce can into...|\n",
            "|   Porter first a...|Porter first and ...|\n",
            "+--------------------+--------------------+\n",
            "only showing top 20 rows\n",
            "\n"
          ],
          "name": "stdout"
        }
      ]
    },
    {
      "cell_type": "code",
      "metadata": {
        "id": "So2lXfJEo-A9"
      },
      "source": [
        "from pyspark.ml.feature import Tokenizer, StopWordsRemover\n",
        "from pyspark.ml import Pipeline\n",
        "\n",
        "# \"Creating pipeline...\"\n",
        "tokenizer = Tokenizer(inputCol=\"clean_text\", outputCol=\"token_text\")\n",
        "stopremove = StopWordsRemover(inputCol='token_text', outputCol='features')\n",
        "\n",
        "pipeline = Pipeline(stages=[tokenizer, stopremove])\n",
        "\n",
        "# \"Training model...\"\n",
        "pipeline_stg = pipeline.fit(text_df)\n",
        "final_df = pipeline_stg.transform(text_df)\n",
        "# final_df.show()"
      ],
      "execution_count": 10,
      "outputs": []
    },
    {
      "cell_type": "code",
      "metadata": {
        "colab": {
          "base_uri": "https://localhost:8080/"
        },
        "id": "HfovHDCfpo0y",
        "outputId": "2f13b47d-0459-431c-94f1-2e2a5aed549f"
      },
      "source": [
        "final_df.show()"
      ],
      "execution_count": 11,
      "outputs": [
        {
          "output_type": "stream",
          "text": [
            "+--------------------+--------------------+--------------------+--------------------+\n",
            "|                text|          clean_text|          token_text|            features|\n",
            "+--------------------+--------------------+--------------------+--------------------+\n",
            "|   750 ml bottle,...|750 ml bottle 201...|[750, ml, bottle,...|[750, ml, bottle,...|\n",
            "|   Clear gold in ...|Clear gold in col...|[clear, gold, in,...|[clear, gold, col...|\n",
            "|   Reminds me of ...|Reminds me of pre...|[reminds, me, of,...|[reminds, pretty,...|\n",
            "|   Pale yellow bo...|Pale yellow body ...|[pale, yellow, bo...|[pale, yellow, bo...|\n",
            "|   The CANQuest (...|The CANQuest tm i...|[the, canquest, t...|[canquest, tm, ho...|\n",
            "|   I got a Paybac...|I got a Payback P...|[i, got, a, payba...|[got, payback, pi...|\n",
            "|\"   Can with \"\"11...|   Can with 11111...|[  , can, with, 1...|[  , 1111161211, ...|\n",
            "|   Enjoyed from t...|Enjoyed from the ...|[enjoyed, from, t...|[enjoyed, 12, oz,...|\n",
            "|   Pours a golden...|Pours a golden ye...|[pours, a, golden...|[pours, golden, y...|\n",
            "|   This thing is ...|This thing is gor...|[this, thing, is,...|[thing, gorgeous,...|\n",
            "|                  0%|                   0|                 [0]|                 [0]|\n",
            "|\"   16oz draft A:...|   16oz draft A D...|[  , 16oz, draft,...|[  , 16oz, draft,...|\n",
            "|   The chipotle p...|The chipotle pepp...|[the, chipotle, p...|[chipotle, pepper...|\n",
            "|   I want this po...|I want this porte...|[i, want, this, p...|[want, porter, th...|\n",
            "|   12 FL. OZ. bot...|12 FL OZ bottle S...|[12, fl, oz, bott...|[12, fl, oz, bott...|\n",
            "|   pretty good fo...|pretty good for i...|[pretty, good, fo...|[pretty, good, pr...|\n",
            "|   I bought a 6pc...|I bought a 6pck a...|[i, bought, a, 6p...|[bought, 6pck, lo...|\n",
            "|   Pours a medium...|Pours a medium br...|[pours, a, medium...|[pours, medium, b...|\n",
            "|   12 ounce can i...|12 ounce can into...|[12, ounce, can, ...|[12, ounce, pint,...|\n",
            "|   Porter first a...|Porter first and ...|[porter, first, a...|[porter, first, v...|\n",
            "+--------------------+--------------------+--------------------+--------------------+\n",
            "only showing top 20 rows\n",
            "\n"
          ],
          "name": "stdout"
        }
      ]
    },
    {
      "cell_type": "code",
      "metadata": {
        "id": "IMQiTgvX2LaT"
      },
      "source": [
        "word2vec = Word2Vec(\r\n",
        "    vectorSize=75,\r\n",
        "    seed=42,\r\n",
        "    inputCol=\"features\",\r\n",
        "    outputCol=\"model\"\r\n",
        ").setMaxIter(2)"
      ],
      "execution_count": 12,
      "outputs": []
    },
    {
      "cell_type": "code",
      "metadata": {
        "id": "8CDRtnN40fUj"
      },
      "source": [
        "model = word2vec.fit(final_df)"
      ],
      "execution_count": null,
      "outputs": []
    },
    {
      "cell_type": "code",
      "metadata": {
        "id": "rolGrIte03Gq"
      },
      "source": [
        "model.getVectors().show()"
      ],
      "execution_count": null,
      "outputs": []
    },
    {
      "cell_type": "code",
      "metadata": {
        "id": "KkgsJOKwa79Q"
      },
      "source": [
        "model.findSynonymsArray(\"light\", 5)"
      ],
      "execution_count": null,
      "outputs": []
    },
    {
      "cell_type": "code",
      "metadata": {
        "id": "OYS_X64GSU9o"
      },
      "source": [
        "model.write().overwrite().save(\"/content/gdrive/MyDrive/Project3_BeerQuality/review.md\")"
      ],
      "execution_count": null,
      "outputs": []
    },
    {
      "cell_type": "code",
      "metadata": {
        "id": "8He3lB9QuHx5"
      },
      "source": [
        "loaded_model = Word2VecModel.load('/content/gdrive/MyDrive/Project3_BeerQuality/review.md')"
      ],
      "execution_count": null,
      "outputs": []
    },
    {
      "cell_type": "markdown",
      "metadata": {
        "id": "iC-Cw84SINJi"
      },
      "source": [
        ""
      ]
    },
    {
      "cell_type": "code",
      "metadata": {
        "id": "y6Si0OgqMTxU"
      },
      "source": [
        "loaded_model.findSynonymsArray(\"corny\", 5)"
      ],
      "execution_count": null,
      "outputs": []
    }
  ]
}