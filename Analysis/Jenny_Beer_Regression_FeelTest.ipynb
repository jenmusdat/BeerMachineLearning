{
  "nbformat": 4,
  "nbformat_minor": 0,
  "metadata": {
    "colab": {
      "name": "Jenny_Beer_Regression_FeelTest.ipynb",
      "provenance": [],
      "collapsed_sections": [],
      "include_colab_link": true
    },
    "kernelspec": {
      "name": "python3",
      "display_name": "Python 3"
    }
  },
  "cells": [
    {
      "cell_type": "markdown",
      "metadata": {
        "id": "view-in-github",
        "colab_type": "text"
      },
      "source": [
        "<a href=\"https://colab.research.google.com/github/jenmusdat/Project3_BeerQuality/blob/main/Analysis/Jenny_Beer_Regression_FeelTest.ipynb\" target=\"_parent\"><img src=\"https://colab.research.google.com/assets/colab-badge.svg\" alt=\"Open In Colab\"/></a>"
      ]
    },
    {
      "cell_type": "code",
      "metadata": {
        "id": "nKhORyErYc9H",
        "colab": {
          "base_uri": "https://localhost:8080/"
        },
        "outputId": "ff76280d-2284-4ff4-badc-b73fbf563ebf"
      },
      "source": [
        "!apt-get update\n",
        "!apt-get install openjdk-8-jdk-headless -qq > /dev/null\n",
        "!wget -q http://www-us.apache.org/dist/spark/spark-2.4.7/spark-2.4.7-bin-hadoop2.7.tgz\n",
        "!tar xf spark-2.4.7-bin-hadoop2.7.tgz\n",
        "!pip install -q findspark\n",
        "\n",
        "# Set Environment Variables\n",
        "import os\n",
        "os.environ[\"JAVA_HOME\"] = \"/usr/lib/jvm/java-8-openjdk-amd64\"\n",
        "os.environ[\"SPARK_HOME\"] = \"/content/spark-2.4.7-bin-hadoop2.7\"\n",
        "\n",
        "# Start a SparkSession\n",
        "import findspark\n",
        "findspark.init()"
      ],
      "execution_count": 1,
      "outputs": [
        {
          "output_type": "stream",
          "text": [
            "\r0% [Working]\r            \rGet:1 http://security.ubuntu.com/ubuntu bionic-security InRelease [88.7 kB]\n",
            "Get:2 https://cloud.r-project.org/bin/linux/ubuntu bionic-cran40/ InRelease [3,626 B]\n",
            "Ign:3 https://developer.download.nvidia.com/compute/cuda/repos/ubuntu1804/x86_64  InRelease\n",
            "Get:4 http://ppa.launchpad.net/c2d4u.team/c2d4u4.0+/ubuntu bionic InRelease [15.9 kB]\n",
            "Hit:5 http://archive.ubuntu.com/ubuntu bionic InRelease\n",
            "Ign:6 https://developer.download.nvidia.com/compute/machine-learning/repos/ubuntu1804/x86_64  InRelease\n",
            "Get:7 https://developer.download.nvidia.com/compute/cuda/repos/ubuntu1804/x86_64  Release [697 B]\n",
            "Hit:8 https://developer.download.nvidia.com/compute/machine-learning/repos/ubuntu1804/x86_64  Release\n",
            "Get:9 https://developer.download.nvidia.com/compute/cuda/repos/ubuntu1804/x86_64  Release.gpg [836 B]\n",
            "Get:10 http://archive.ubuntu.com/ubuntu bionic-updates InRelease [88.7 kB]\n",
            "Hit:11 http://ppa.launchpad.net/cran/libgit2/ubuntu bionic InRelease\n",
            "Hit:12 http://ppa.launchpad.net/deadsnakes/ppa/ubuntu bionic InRelease\n",
            "Get:13 http://archive.ubuntu.com/ubuntu bionic-backports InRelease [74.6 kB]\n",
            "Get:14 http://security.ubuntu.com/ubuntu bionic-security/universe amd64 Packages [1,396 kB]\n",
            "Hit:15 http://ppa.launchpad.net/graphics-drivers/ppa/ubuntu bionic InRelease\n",
            "Get:16 http://security.ubuntu.com/ubuntu bionic-security/main amd64 Packages [1,964 kB]\n",
            "Ign:18 https://developer.download.nvidia.com/compute/cuda/repos/ubuntu1804/x86_64  Packages\n",
            "Get:18 https://developer.download.nvidia.com/compute/cuda/repos/ubuntu1804/x86_64  Packages [577 kB]\n",
            "Get:19 http://ppa.launchpad.net/c2d4u.team/c2d4u4.0+/ubuntu bionic/main Sources [1,745 kB]\n",
            "Get:20 http://archive.ubuntu.com/ubuntu bionic-updates/universe amd64 Packages [2,163 kB]\n",
            "Get:21 http://ppa.launchpad.net/c2d4u.team/c2d4u4.0+/ubuntu bionic/main amd64 Packages [893 kB]\n",
            "Get:22 http://archive.ubuntu.com/ubuntu bionic-updates/main amd64 Packages [2,394 kB]\n",
            "Fetched 11.4 MB in 4s (3,219 kB/s)\n",
            "Reading package lists... Done\n"
          ],
          "name": "stdout"
        }
      ]
    },
    {
      "cell_type": "code",
      "metadata": {
        "id": "r31ccm3kuaxG",
        "colab": {
          "base_uri": "https://localhost:8080/"
        },
        "outputId": "7e5af1bc-9749-40b8-954b-dd9ecc661f12"
      },
      "source": [
        "from google.colab import drive\n",
        "drive.mount('/content/gdrive')"
      ],
      "execution_count": 2,
      "outputs": [
        {
          "output_type": "stream",
          "text": [
            "Mounted at /content/gdrive\n"
          ],
          "name": "stdout"
        }
      ]
    },
    {
      "cell_type": "code",
      "metadata": {
        "id": "wB9hKKClZxgP"
      },
      "source": [
        "# Start a SparkSession\n",
        "from pyspark.sql import SparkSession\n",
        "spark = SparkSession.builder.appName(\"word2vec\").getOrCreate()"
      ],
      "execution_count": 3,
      "outputs": []
    },
    {
      "cell_type": "code",
      "metadata": {
        "id": "n3iL5WYZolKS"
      },
      "source": [
        "# Import needed libs\n",
        "from pyspark.sql.types import StructType, StructField, StringType\n",
        "from pyspark.ml.feature import Word2Vec, Word2VecModel\n",
        "import string\n"
      ],
      "execution_count": 4,
      "outputs": []
    },
    {
      "cell_type": "code",
      "metadata": {
        "colab": {
          "base_uri": "https://localhost:8080/"
        },
        "id": "hFZlgstGaSlQ",
        "outputId": "5f4b1ab3-8942-465f-b749-49019c827edc"
      },
      "source": [
        "# Read in data from S3 Buckets\r\n",
        "from pyspark import SparkFiles\r\n",
        "url =\"/content/gdrive/MyDrive/x/reviews_beer_brewery.csv\"\r\n",
        "spark.sparkContext.addFile(url)\r\n",
        "df = spark.read.csv(SparkFiles.get(\"reviews_beer_brewery.csv\"), header=True)\r\n",
        "\r\n",
        "# Show DataFrame\r\n",
        "df.show()"
      ],
      "execution_count": 6,
      "outputs": [
        {
          "output_type": "stream",
          "text": [
            "+-------+----------------+----------+--------------------+--------------------+--------------------+--------------------+--------------------+--------------------+--------------------+--------------------+------------+--------------------+--------------------+----+----------+--------------------+---------------+-------------+-----------------+\n",
            "|beer_id|        username|      date|                text|                look|               smell|               taste|                feel|             overall|               score|           beer_name|review_state|               style|        availability| abv|brewery_id|        brewery_name|   brewery_city|brewery_state|    brewery_types|\n",
            "+-------+----------------+----------+--------------------+--------------------+--------------------+--------------------+--------------------+--------------------+--------------------+--------------------+------------+--------------------+--------------------+----+----------+--------------------+---------------+-------------+-----------------+\n",
            "| 271781|    bluejacket74|2017-03-17|   750 ml bottle,...|                 4.0|                 4.0|                 4.0|                4.25|                 4.0|                4.03|Motorbreath Imper...|          OH|American Imperial...|Limited (brewed o...|10.8|     28094|Four String Brewi...|       Columbus|           OH|     Brewery, Bar|\n",
            "| 184647|      Try-em-all|2017-09-27|   Clear gold in ...|                 4.0|                 4.0|                 3.5|                 3.5|                3.75|                 3.7|     Payback Pilsner|          OH|   Bohemian Pilsener|            Rotating| 5.1|     28094|Four String Brewi...|       Columbus|           OH|     Brewery, Bar|\n",
            "| 184647|ScorpioBeerLover|2017-03-22|   Reminds me of ...|                 4.0|                 4.0|                4.25|                3.75|                 4.0|                4.08|     Payback Pilsner|          OH|   Bohemian Pilsener|            Rotating| 5.1|     28094|Four String Brewi...|       Columbus|           OH|     Brewery, Bar|\n",
            "| 184647|        beergoot|2016-10-08|   Pale yellow bo...|                3.25|                3.25|                 3.5|                 3.5|                 3.5|                3.43|     Payback Pilsner|          OH|   Bohemian Pilsener|            Rotating| 5.1|     28094|Four String Brewi...|       Columbus|           OH|     Brewery, Bar|\n",
            "| 184647|   woodychandler|2016-09-25|   The CANQuest (...|                3.75|                3.75|                 3.5|                 3.5|                 3.5|                3.58|     Payback Pilsner|          OH|   Bohemian Pilsener|            Rotating| 5.1|     28094|Four String Brewi...|       Columbus|           OH|     Brewery, Bar|\n",
            "| 184647|        WoodBrew|2016-07-14|   I got a Paybac...|                3.75|                 3.5|                 3.5|                 3.5|                 3.5|                3.52|     Payback Pilsner|          OH|   Bohemian Pilsener|            Rotating| 5.1|     28094|Four String Brewi...|       Columbus|           OH|     Brewery, Bar|\n",
            "| 184647|        SaltofOH|2016-07-09|\"   Can with \"\"11...| 2016? DFH Tulip....| no retention. S:...| transitions to a...| heavier side of ...| and have had thi...| and it was okay....| it was much bett...|         2.5|                 3.0|                2.75| 2.5|      2.75|                2.77|Payback Pilsner|           OH|Bohemian Pilsener|\n",
            "| 184647|     Brutaltruth|2016-01-15|   Enjoyed from t...|                3.75|                3.25|                3.25|                 3.5|                 3.5|                3.36|     Payback Pilsner|          OH|   Bohemian Pilsener|            Rotating| 5.1|     28094|Four String Brewi...|       Columbus|           OH|     Brewery, Bar|\n",
            "| 184647|     HeightsEats|2015-12-31|   Pours a golden...|                3.75|                3.75|                 4.0|                 4.0|                3.75|                3.88|     Payback Pilsner|          OH|   Bohemian Pilsener|            Rotating| 5.1|     28094|Four String Brewi...|       Columbus|           OH|     Brewery, Bar|\n",
            "| 184647|       schoolboy|2015-10-05|   This thing is ...|                 4.5|                 3.5|                 3.5|                 3.5|                3.75|                3.61|     Payback Pilsner|          OH|   Bohemian Pilsener|            Rotating| 5.1|     28094|Four String Brewi...|       Columbus|           OH|     Brewery, Bar|\n",
            "| 184647|   GreenEggsHam1|2015-08-08|                  0%|                 3.5|                 3.5|                 3.5|                3.75|                 3.5|                3.53|     Payback Pilsner|          OH|   Bohemian Pilsener|            Rotating| 5.1|     28094|Four String Brewi...|       Columbus|           OH|     Brewery, Bar|\n",
            "| 149366|        ONUMello|2016-03-26|\"   16oz draft A:...|                 3.5|                 3.0|                 3.5|                 3.5|                 3.5|                3.38|          HELLHAMMER|          OH|            Rye Beer|Limited (brewed o...| 7.2|     28094|Four String Brewi...|       Columbus|           OH|     Brewery, Bar|\n",
            "| 149366|        DrJGR629|2015-01-14|   The chipotle p...|                4.25|                 4.0|                 4.5|                3.75|                4.25|                4.24|          HELLHAMMER|          OH|            Rye Beer|Limited (brewed o...| 7.2|     28094|Four String Brewi...|       Columbus|           OH|     Brewery, Bar|\n",
            "| 111891|   Amnesia_Jones|2018-02-13|   I want this po...|                 3.0|                 3.0|                 3.0|                 3.0|                 3.0|                 3.0|      Vanilla Porter|          OH|     American Porter|              Winter| 6.0|     28094|Four String Brewi...|       Columbus|           OH|     Brewery, Bar|\n",
            "| 111891|       buschbeer|2017-12-13|   12 FL. OZ. bot...|                 4.0|                 4.0|                3.75|                 4.0|                3.75|                3.85|      Vanilla Porter|          OH|     American Porter|              Winter| 6.0|     28094|Four String Brewi...|       Columbus|           OH|     Brewery, Bar|\n",
            "| 111891|      jojobird72|2017-08-28|   pretty good fo...|                3.75|                 3.0|                3.75|                 3.0|                3.75|                 3.5|      Vanilla Porter|          OH|     American Porter|              Winter| 6.0|     28094|Four String Brewi...|       Columbus|           OH|     Brewery, Bar|\n",
            "| 111891|        WoodBrew|2016-12-31|   I bought a 6pc...|                3.75|                3.75|                 3.5|                 3.0|                 3.5|                3.53|      Vanilla Porter|          OH|     American Porter|              Winter| 6.0|     28094|Four String Brewi...|       Columbus|           OH|     Brewery, Bar|\n",
            "| 111891|      Oopssorryy|2016-12-25|   Pours a medium...|                2.75|                 2.5|                 2.5|                 2.5|                 2.5|                2.52|      Vanilla Porter|          OH|     American Porter|              Winter| 6.0|     28094|Four String Brewi...|       Columbus|           OH|     Brewery, Bar|\n",
            "| 111891|       superspak|2016-12-04|   12 ounce can i...|                 4.0|                 4.0|                 4.0|                 4.0|                 3.5|                 3.9|      Vanilla Porter|          OH|     American Porter|              Winter| 6.0|     28094|Four String Brewi...|       Columbus|           OH|     Brewery, Bar|\n",
            "| 111891|     BEERchitect|2016-05-14|   Porter first a...|                 4.0|                4.25|                 4.0|                3.75|                 4.0|                4.04|      Vanilla Porter|          OH|     American Porter|              Winter| 6.0|     28094|Four String Brewi...|       Columbus|           OH|     Brewery, Bar|\n",
            "+-------+----------------+----------+--------------------+--------------------+--------------------+--------------------+--------------------+--------------------+--------------------+--------------------+------------+--------------------+--------------------+----+----------+--------------------+---------------+-------------+-----------------+\n",
            "only showing top 20 rows\n",
            "\n"
          ],
          "name": "stdout"
        }
      ]
    },
    {
      "cell_type": "code",
      "metadata": {
        "colab": {
          "base_uri": "https://localhost:8080/"
        },
        "id": "3xlBXyWJTqK6",
        "outputId": "f607f2cf-a946-4bbb-a026-0f545dab92d2"
      },
      "source": [
        "# Check the schema for numeric conversion\r\n",
        "df.printSchema"
      ],
      "execution_count": 7,
      "outputs": [
        {
          "output_type": "execute_result",
          "data": {
            "text/plain": [
              "<bound method DataFrame.printSchema of DataFrame[beer_id: string, username: string, date: string, text: string, look: string, smell: string, taste: string, feel: string, overall: string, score: string, beer_name: string, review_state: string, style: string, availability: string, abv: string, brewery_id: string, brewery_name: string, brewery_city: string, brewery_state: string, brewery_types: string]>"
            ]
          },
          "metadata": {
            "tags": []
          },
          "execution_count": 7
        }
      ]
    },
    {
      "cell_type": "code",
      "metadata": {
        "colab": {
          "base_uri": "https://localhost:8080/"
        },
        "id": "lw_DP46h9hBg",
        "outputId": "0b8ffb84-f3e6-4511-ddd1-b769ee79c881"
      },
      "source": [
        "df.count()"
      ],
      "execution_count": 8,
      "outputs": [
        {
          "output_type": "execute_result",
          "data": {
            "text/plain": [
              "2127677"
            ]
          },
          "metadata": {
            "tags": []
          },
          "execution_count": 8
        }
      ]
    },
    {
      "cell_type": "code",
      "metadata": {
        "id": "xrYN9AD3T1gA"
      },
      "source": [
        "# remove alpha characters from data set on review numerics\r\n",
        "from pyspark.sql.functions import regexp_extract, col\r\n",
        "pattern = r'^\\d+.\\d+$'\r\n",
        "df = df.filter(regexp_extract(col('look'), pattern, 0) != '')"
      ],
      "execution_count": 9,
      "outputs": []
    },
    {
      "cell_type": "code",
      "metadata": {
        "colab": {
          "base_uri": "https://localhost:8080/"
        },
        "id": "WUy5a6mVWdPH",
        "outputId": "3f7aa8dd-ee1e-44c6-a22c-6fe8e13b5c86"
      },
      "source": [
        "# confirm look, smell, taste, overall, and score\r\n",
        "df.show()"
      ],
      "execution_count": 10,
      "outputs": [
        {
          "output_type": "stream",
          "text": [
            "+-------+----------------+----------+--------------------+----+-----+-----+----+-------+-----+--------------------+------------+--------------------+--------------------+----+----------+--------------------+------------+-------------+-------------+\n",
            "|beer_id|        username|      date|                text|look|smell|taste|feel|overall|score|           beer_name|review_state|               style|        availability| abv|brewery_id|        brewery_name|brewery_city|brewery_state|brewery_types|\n",
            "+-------+----------------+----------+--------------------+----+-----+-----+----+-------+-----+--------------------+------------+--------------------+--------------------+----+----------+--------------------+------------+-------------+-------------+\n",
            "| 271781|    bluejacket74|2017-03-17|   750 ml bottle,...| 4.0|  4.0|  4.0|4.25|    4.0| 4.03|Motorbreath Imper...|          OH|American Imperial...|Limited (brewed o...|10.8|     28094|Four String Brewi...|    Columbus|           OH| Brewery, Bar|\n",
            "| 184647|      Try-em-all|2017-09-27|   Clear gold in ...| 4.0|  4.0|  3.5| 3.5|   3.75|  3.7|     Payback Pilsner|          OH|   Bohemian Pilsener|            Rotating| 5.1|     28094|Four String Brewi...|    Columbus|           OH| Brewery, Bar|\n",
            "| 184647|ScorpioBeerLover|2017-03-22|   Reminds me of ...| 4.0|  4.0| 4.25|3.75|    4.0| 4.08|     Payback Pilsner|          OH|   Bohemian Pilsener|            Rotating| 5.1|     28094|Four String Brewi...|    Columbus|           OH| Brewery, Bar|\n",
            "| 184647|        beergoot|2016-10-08|   Pale yellow bo...|3.25| 3.25|  3.5| 3.5|    3.5| 3.43|     Payback Pilsner|          OH|   Bohemian Pilsener|            Rotating| 5.1|     28094|Four String Brewi...|    Columbus|           OH| Brewery, Bar|\n",
            "| 184647|   woodychandler|2016-09-25|   The CANQuest (...|3.75| 3.75|  3.5| 3.5|    3.5| 3.58|     Payback Pilsner|          OH|   Bohemian Pilsener|            Rotating| 5.1|     28094|Four String Brewi...|    Columbus|           OH| Brewery, Bar|\n",
            "| 184647|        WoodBrew|2016-07-14|   I got a Paybac...|3.75|  3.5|  3.5| 3.5|    3.5| 3.52|     Payback Pilsner|          OH|   Bohemian Pilsener|            Rotating| 5.1|     28094|Four String Brewi...|    Columbus|           OH| Brewery, Bar|\n",
            "| 184647|     Brutaltruth|2016-01-15|   Enjoyed from t...|3.75| 3.25| 3.25| 3.5|    3.5| 3.36|     Payback Pilsner|          OH|   Bohemian Pilsener|            Rotating| 5.1|     28094|Four String Brewi...|    Columbus|           OH| Brewery, Bar|\n",
            "| 184647|     HeightsEats|2015-12-31|   Pours a golden...|3.75| 3.75|  4.0| 4.0|   3.75| 3.88|     Payback Pilsner|          OH|   Bohemian Pilsener|            Rotating| 5.1|     28094|Four String Brewi...|    Columbus|           OH| Brewery, Bar|\n",
            "| 184647|       schoolboy|2015-10-05|   This thing is ...| 4.5|  3.5|  3.5| 3.5|   3.75| 3.61|     Payback Pilsner|          OH|   Bohemian Pilsener|            Rotating| 5.1|     28094|Four String Brewi...|    Columbus|           OH| Brewery, Bar|\n",
            "| 184647|   GreenEggsHam1|2015-08-08|                  0%| 3.5|  3.5|  3.5|3.75|    3.5| 3.53|     Payback Pilsner|          OH|   Bohemian Pilsener|            Rotating| 5.1|     28094|Four String Brewi...|    Columbus|           OH| Brewery, Bar|\n",
            "| 149366|        ONUMello|2016-03-26|\"   16oz draft A:...| 3.5|  3.0|  3.5| 3.5|    3.5| 3.38|          HELLHAMMER|          OH|            Rye Beer|Limited (brewed o...| 7.2|     28094|Four String Brewi...|    Columbus|           OH| Brewery, Bar|\n",
            "| 149366|        DrJGR629|2015-01-14|   The chipotle p...|4.25|  4.0|  4.5|3.75|   4.25| 4.24|          HELLHAMMER|          OH|            Rye Beer|Limited (brewed o...| 7.2|     28094|Four String Brewi...|    Columbus|           OH| Brewery, Bar|\n",
            "| 111891|   Amnesia_Jones|2018-02-13|   I want this po...| 3.0|  3.0|  3.0| 3.0|    3.0|  3.0|      Vanilla Porter|          OH|     American Porter|              Winter| 6.0|     28094|Four String Brewi...|    Columbus|           OH| Brewery, Bar|\n",
            "| 111891|       buschbeer|2017-12-13|   12 FL. OZ. bot...| 4.0|  4.0| 3.75| 4.0|   3.75| 3.85|      Vanilla Porter|          OH|     American Porter|              Winter| 6.0|     28094|Four String Brewi...|    Columbus|           OH| Brewery, Bar|\n",
            "| 111891|      jojobird72|2017-08-28|   pretty good fo...|3.75|  3.0| 3.75| 3.0|   3.75|  3.5|      Vanilla Porter|          OH|     American Porter|              Winter| 6.0|     28094|Four String Brewi...|    Columbus|           OH| Brewery, Bar|\n",
            "| 111891|        WoodBrew|2016-12-31|   I bought a 6pc...|3.75| 3.75|  3.5| 3.0|    3.5| 3.53|      Vanilla Porter|          OH|     American Porter|              Winter| 6.0|     28094|Four String Brewi...|    Columbus|           OH| Brewery, Bar|\n",
            "| 111891|      Oopssorryy|2016-12-25|   Pours a medium...|2.75|  2.5|  2.5| 2.5|    2.5| 2.52|      Vanilla Porter|          OH|     American Porter|              Winter| 6.0|     28094|Four String Brewi...|    Columbus|           OH| Brewery, Bar|\n",
            "| 111891|       superspak|2016-12-04|   12 ounce can i...| 4.0|  4.0|  4.0| 4.0|    3.5|  3.9|      Vanilla Porter|          OH|     American Porter|              Winter| 6.0|     28094|Four String Brewi...|    Columbus|           OH| Brewery, Bar|\n",
            "| 111891|     BEERchitect|2016-05-14|   Porter first a...| 4.0| 4.25|  4.0|3.75|    4.0| 4.04|      Vanilla Porter|          OH|     American Porter|              Winter| 6.0|     28094|Four String Brewi...|    Columbus|           OH| Brewery, Bar|\n",
            "| 111891|         barczar|2016-04-08|   Aroma is fudgy...|3.75| 3.75|  3.5|3.75|   3.75| 3.65|      Vanilla Porter|          OH|     American Porter|              Winter| 6.0|     28094|Four String Brewi...|    Columbus|           OH| Brewery, Bar|\n",
            "+-------+----------------+----------+--------------------+----+-----+-----+----+-------+-----+--------------------+------------+--------------------+--------------------+----+----------+--------------------+------------+-------------+-------------+\n",
            "only showing top 20 rows\n",
            "\n"
          ],
          "name": "stdout"
        }
      ]
    },
    {
      "cell_type": "code",
      "metadata": {
        "colab": {
          "base_uri": "https://localhost:8080/"
        },
        "id": "OThDD-_h9nyE",
        "outputId": "69b3b0d4-1626-4571-cc81-1fd8d45d9bb1"
      },
      "source": [
        "df.count()"
      ],
      "execution_count": 11,
      "outputs": [
        {
          "output_type": "execute_result",
          "data": {
            "text/plain": [
              "1973277"
            ]
          },
          "metadata": {
            "tags": []
          },
          "execution_count": 11
        }
      ]
    },
    {
      "cell_type": "code",
      "metadata": {
        "id": "2ulHJiqmza0y"
      },
      "source": [
        "# Next 6 lines casts to floats all the review ratings\r\n",
        "df = df.withColumn('look_numeric', df['look'].cast('float'))"
      ],
      "execution_count": 12,
      "outputs": []
    },
    {
      "cell_type": "code",
      "metadata": {
        "id": "WVaXWTdQzfMN"
      },
      "source": [
        "df = df.withColumn('smell_numeric', df['smell'].cast('float'))"
      ],
      "execution_count": 13,
      "outputs": []
    },
    {
      "cell_type": "code",
      "metadata": {
        "id": "N33lcUHCz8tM"
      },
      "source": [
        "df = df.withColumn('taste_numeric', df['taste'].cast('float'))"
      ],
      "execution_count": 14,
      "outputs": []
    },
    {
      "cell_type": "code",
      "metadata": {
        "id": "_SekhI_Bz9CE"
      },
      "source": [
        "df = df.withColumn('feel_numeric', df['feel'].cast('float'))"
      ],
      "execution_count": 15,
      "outputs": []
    },
    {
      "cell_type": "code",
      "metadata": {
        "id": "mtwJmiqVz9S5"
      },
      "source": [
        "df = df.withColumn('overall_numeric', df['overall'].cast('float'))"
      ],
      "execution_count": 16,
      "outputs": []
    },
    {
      "cell_type": "code",
      "metadata": {
        "id": "UfhdHardz_KN"
      },
      "source": [
        "df = df.withColumn('score_numeric', df['score'].cast('float'))"
      ],
      "execution_count": 17,
      "outputs": []
    },
    {
      "cell_type": "code",
      "metadata": {
        "colab": {
          "base_uri": "https://localhost:8080/"
        },
        "id": "VX0kUvjn017b",
        "outputId": "acd32a56-a4b5-42b7-9acc-827f7a51f7c8"
      },
      "source": [
        "# Confirm data types\r\n",
        "df.printSchema"
      ],
      "execution_count": 18,
      "outputs": [
        {
          "output_type": "execute_result",
          "data": {
            "text/plain": [
              "<bound method DataFrame.printSchema of DataFrame[beer_id: string, username: string, date: string, text: string, look: string, smell: string, taste: string, feel: string, overall: string, score: string, beer_name: string, review_state: string, style: string, availability: string, abv: string, brewery_id: string, brewery_name: string, brewery_city: string, brewery_state: string, brewery_types: string, look_numeric: float, smell_numeric: float, taste_numeric: float, feel_numeric: float, overall_numeric: float, score_numeric: float]>"
            ]
          },
          "metadata": {
            "tags": []
          },
          "execution_count": 18
        }
      ]
    },
    {
      "cell_type": "code",
      "metadata": {
        "id": "LJuBnSOh7OGp"
      },
      "source": [
        "# functions for manipulating review text into a format we can tokenize\r\n",
        "def remove_punctuation(txt):\r\n",
        "  txt = txt.strip('\\xa0\\xa0 ')\r\n",
        "  return \"\".join(l if l not in string.punctuation else \"\" for l in txt)\r\n",
        "\r\n",
        "def remove_space (text):\r\n",
        "  if text:\r\n",
        "    return text.replace(' ', '')\r\n",
        "  else:\r\n",
        "    return 'Unknown'\r\n",
        "  "
      ],
      "execution_count": 19,
      "outputs": []
    },
    {
      "cell_type": "code",
      "metadata": {
        "colab": {
          "base_uri": "https://localhost:8080/"
        },
        "id": "jumNzjh_7cMM",
        "outputId": "b479afd6-6612-4d95-868d-05e9fbd8070a"
      },
      "source": [
        "# define the udfs for the data\r\n",
        "from pyspark.sql.types import StringType\r\n",
        "from pyspark.sql.functions import col, udf\r\n",
        "\r\n",
        "remove_punctuation_udf = udf(remove_punctuation, StringType())\r\n",
        "remove_punctuation_udf\r\n",
        "\r\n",
        "remove_space_udf = udf(remove_space, StringType())\r\n",
        "remove_space_udf"
      ],
      "execution_count": 20,
      "outputs": [
        {
          "output_type": "execute_result",
          "data": {
            "text/plain": [
              "<function __main__.remove_space>"
            ]
          },
          "metadata": {
            "tags": []
          },
          "execution_count": 20
        }
      ]
    },
    {
      "cell_type": "code",
      "metadata": {
        "colab": {
          "base_uri": "https://localhost:8080/"
        },
        "id": "kIpNUCIm7upA",
        "outputId": "694e0087-cec4-4e7e-82b6-702db143e3f8"
      },
      "source": [
        "# clean the beer name by removing spaces (will be combined with text)\r\n",
        "beer_df = df.withColumn('beer_clean', remove_space_udf(col('beer_name')))\r\n",
        "beer_df.show()"
      ],
      "execution_count": 21,
      "outputs": [
        {
          "output_type": "stream",
          "text": [
            "+-------+----------------+----------+--------------------+----+-----+-----+----+-------+-----+--------------------+------------+--------------------+--------------------+----+----------+--------------------+------------+-------------+-------------+------------+-------------+-------------+------------+---------------+-------------+--------------------+\n",
            "|beer_id|        username|      date|                text|look|smell|taste|feel|overall|score|           beer_name|review_state|               style|        availability| abv|brewery_id|        brewery_name|brewery_city|brewery_state|brewery_types|look_numeric|smell_numeric|taste_numeric|feel_numeric|overall_numeric|score_numeric|          beer_clean|\n",
            "+-------+----------------+----------+--------------------+----+-----+-----+----+-------+-----+--------------------+------------+--------------------+--------------------+----+----------+--------------------+------------+-------------+-------------+------------+-------------+-------------+------------+---------------+-------------+--------------------+\n",
            "| 271781|    bluejacket74|2017-03-17|   750 ml bottle,...| 4.0|  4.0|  4.0|4.25|    4.0| 4.03|Motorbreath Imper...|          OH|American Imperial...|Limited (brewed o...|10.8|     28094|Four String Brewi...|    Columbus|           OH| Brewery, Bar|         4.0|          4.0|          4.0|        4.25|            4.0|         4.03|MotorbreathImperi...|\n",
            "| 184647|      Try-em-all|2017-09-27|   Clear gold in ...| 4.0|  4.0|  3.5| 3.5|   3.75|  3.7|     Payback Pilsner|          OH|   Bohemian Pilsener|            Rotating| 5.1|     28094|Four String Brewi...|    Columbus|           OH| Brewery, Bar|         4.0|          4.0|          3.5|         3.5|           3.75|          3.7|      PaybackPilsner|\n",
            "| 184647|ScorpioBeerLover|2017-03-22|   Reminds me of ...| 4.0|  4.0| 4.25|3.75|    4.0| 4.08|     Payback Pilsner|          OH|   Bohemian Pilsener|            Rotating| 5.1|     28094|Four String Brewi...|    Columbus|           OH| Brewery, Bar|         4.0|          4.0|         4.25|        3.75|            4.0|         4.08|      PaybackPilsner|\n",
            "| 184647|        beergoot|2016-10-08|   Pale yellow bo...|3.25| 3.25|  3.5| 3.5|    3.5| 3.43|     Payback Pilsner|          OH|   Bohemian Pilsener|            Rotating| 5.1|     28094|Four String Brewi...|    Columbus|           OH| Brewery, Bar|        3.25|         3.25|          3.5|         3.5|            3.5|         3.43|      PaybackPilsner|\n",
            "| 184647|   woodychandler|2016-09-25|   The CANQuest (...|3.75| 3.75|  3.5| 3.5|    3.5| 3.58|     Payback Pilsner|          OH|   Bohemian Pilsener|            Rotating| 5.1|     28094|Four String Brewi...|    Columbus|           OH| Brewery, Bar|        3.75|         3.75|          3.5|         3.5|            3.5|         3.58|      PaybackPilsner|\n",
            "| 184647|        WoodBrew|2016-07-14|   I got a Paybac...|3.75|  3.5|  3.5| 3.5|    3.5| 3.52|     Payback Pilsner|          OH|   Bohemian Pilsener|            Rotating| 5.1|     28094|Four String Brewi...|    Columbus|           OH| Brewery, Bar|        3.75|          3.5|          3.5|         3.5|            3.5|         3.52|      PaybackPilsner|\n",
            "| 184647|     Brutaltruth|2016-01-15|   Enjoyed from t...|3.75| 3.25| 3.25| 3.5|    3.5| 3.36|     Payback Pilsner|          OH|   Bohemian Pilsener|            Rotating| 5.1|     28094|Four String Brewi...|    Columbus|           OH| Brewery, Bar|        3.75|         3.25|         3.25|         3.5|            3.5|         3.36|      PaybackPilsner|\n",
            "| 184647|     HeightsEats|2015-12-31|   Pours a golden...|3.75| 3.75|  4.0| 4.0|   3.75| 3.88|     Payback Pilsner|          OH|   Bohemian Pilsener|            Rotating| 5.1|     28094|Four String Brewi...|    Columbus|           OH| Brewery, Bar|        3.75|         3.75|          4.0|         4.0|           3.75|         3.88|      PaybackPilsner|\n",
            "| 184647|       schoolboy|2015-10-05|   This thing is ...| 4.5|  3.5|  3.5| 3.5|   3.75| 3.61|     Payback Pilsner|          OH|   Bohemian Pilsener|            Rotating| 5.1|     28094|Four String Brewi...|    Columbus|           OH| Brewery, Bar|         4.5|          3.5|          3.5|         3.5|           3.75|         3.61|      PaybackPilsner|\n",
            "| 184647|   GreenEggsHam1|2015-08-08|                  0%| 3.5|  3.5|  3.5|3.75|    3.5| 3.53|     Payback Pilsner|          OH|   Bohemian Pilsener|            Rotating| 5.1|     28094|Four String Brewi...|    Columbus|           OH| Brewery, Bar|         3.5|          3.5|          3.5|        3.75|            3.5|         3.53|      PaybackPilsner|\n",
            "| 149366|        ONUMello|2016-03-26|\"   16oz draft A:...| 3.5|  3.0|  3.5| 3.5|    3.5| 3.38|          HELLHAMMER|          OH|            Rye Beer|Limited (brewed o...| 7.2|     28094|Four String Brewi...|    Columbus|           OH| Brewery, Bar|         3.5|          3.0|          3.5|         3.5|            3.5|         3.38|          HELLHAMMER|\n",
            "| 149366|        DrJGR629|2015-01-14|   The chipotle p...|4.25|  4.0|  4.5|3.75|   4.25| 4.24|          HELLHAMMER|          OH|            Rye Beer|Limited (brewed o...| 7.2|     28094|Four String Brewi...|    Columbus|           OH| Brewery, Bar|        4.25|          4.0|          4.5|        3.75|           4.25|         4.24|          HELLHAMMER|\n",
            "| 111891|   Amnesia_Jones|2018-02-13|   I want this po...| 3.0|  3.0|  3.0| 3.0|    3.0|  3.0|      Vanilla Porter|          OH|     American Porter|              Winter| 6.0|     28094|Four String Brewi...|    Columbus|           OH| Brewery, Bar|         3.0|          3.0|          3.0|         3.0|            3.0|          3.0|       VanillaPorter|\n",
            "| 111891|       buschbeer|2017-12-13|   12 FL. OZ. bot...| 4.0|  4.0| 3.75| 4.0|   3.75| 3.85|      Vanilla Porter|          OH|     American Porter|              Winter| 6.0|     28094|Four String Brewi...|    Columbus|           OH| Brewery, Bar|         4.0|          4.0|         3.75|         4.0|           3.75|         3.85|       VanillaPorter|\n",
            "| 111891|      jojobird72|2017-08-28|   pretty good fo...|3.75|  3.0| 3.75| 3.0|   3.75|  3.5|      Vanilla Porter|          OH|     American Porter|              Winter| 6.0|     28094|Four String Brewi...|    Columbus|           OH| Brewery, Bar|        3.75|          3.0|         3.75|         3.0|           3.75|          3.5|       VanillaPorter|\n",
            "| 111891|        WoodBrew|2016-12-31|   I bought a 6pc...|3.75| 3.75|  3.5| 3.0|    3.5| 3.53|      Vanilla Porter|          OH|     American Porter|              Winter| 6.0|     28094|Four String Brewi...|    Columbus|           OH| Brewery, Bar|        3.75|         3.75|          3.5|         3.0|            3.5|         3.53|       VanillaPorter|\n",
            "| 111891|      Oopssorryy|2016-12-25|   Pours a medium...|2.75|  2.5|  2.5| 2.5|    2.5| 2.52|      Vanilla Porter|          OH|     American Porter|              Winter| 6.0|     28094|Four String Brewi...|    Columbus|           OH| Brewery, Bar|        2.75|          2.5|          2.5|         2.5|            2.5|         2.52|       VanillaPorter|\n",
            "| 111891|       superspak|2016-12-04|   12 ounce can i...| 4.0|  4.0|  4.0| 4.0|    3.5|  3.9|      Vanilla Porter|          OH|     American Porter|              Winter| 6.0|     28094|Four String Brewi...|    Columbus|           OH| Brewery, Bar|         4.0|          4.0|          4.0|         4.0|            3.5|          3.9|       VanillaPorter|\n",
            "| 111891|     BEERchitect|2016-05-14|   Porter first a...| 4.0| 4.25|  4.0|3.75|    4.0| 4.04|      Vanilla Porter|          OH|     American Porter|              Winter| 6.0|     28094|Four String Brewi...|    Columbus|           OH| Brewery, Bar|         4.0|         4.25|          4.0|        3.75|            4.0|         4.04|       VanillaPorter|\n",
            "| 111891|         barczar|2016-04-08|   Aroma is fudgy...|3.75| 3.75|  3.5|3.75|   3.75| 3.65|      Vanilla Porter|          OH|     American Porter|              Winter| 6.0|     28094|Four String Brewi...|    Columbus|           OH| Brewery, Bar|        3.75|         3.75|          3.5|        3.75|           3.75|         3.65|       VanillaPorter|\n",
            "+-------+----------------+----------+--------------------+----+-----+-----+----+-------+-----+--------------------+------------+--------------------+--------------------+----+----------+--------------------+------------+-------------+-------------+------------+-------------+-------------+------------+---------------+-------------+--------------------+\n",
            "only showing top 20 rows\n",
            "\n"
          ],
          "name": "stdout"
        }
      ]
    },
    {
      "cell_type": "code",
      "metadata": {
        "colab": {
          "base_uri": "https://localhost:8080/"
        },
        "id": "ywNdb-IX93B9",
        "outputId": "aa883250-aa97-43de-a7ce-d09c9b743689"
      },
      "source": [
        "beer_df.count()"
      ],
      "execution_count": 22,
      "outputs": [
        {
          "output_type": "execute_result",
          "data": {
            "text/plain": [
              "1973277"
            ]
          },
          "metadata": {
            "tags": []
          },
          "execution_count": 22
        }
      ]
    },
    {
      "cell_type": "code",
      "metadata": {
        "colab": {
          "base_uri": "https://localhost:8080/"
        },
        "id": "RcFOFN8_7zHU",
        "outputId": "7534048e-6771-445e-ddf0-c8a0269bb7d2"
      },
      "source": [
        "# clean the style name by removing spaces (will be combined with text)\r\n",
        "style_df = beer_df.withColumn('style_clean', remove_space_udf(col('style')))\r\n",
        "style_df.show()"
      ],
      "execution_count": 23,
      "outputs": [
        {
          "output_type": "stream",
          "text": [
            "+-------+----------------+----------+--------------------+----+-----+-----+----+-------+-----+--------------------+------------+--------------------+--------------------+----+----------+--------------------+------------+-------------+-------------+------------+-------------+-------------+------------+---------------+-------------+--------------------+--------------------+\n",
            "|beer_id|        username|      date|                text|look|smell|taste|feel|overall|score|           beer_name|review_state|               style|        availability| abv|brewery_id|        brewery_name|brewery_city|brewery_state|brewery_types|look_numeric|smell_numeric|taste_numeric|feel_numeric|overall_numeric|score_numeric|          beer_clean|         style_clean|\n",
            "+-------+----------------+----------+--------------------+----+-----+-----+----+-------+-----+--------------------+------------+--------------------+--------------------+----+----------+--------------------+------------+-------------+-------------+------------+-------------+-------------+------------+---------------+-------------+--------------------+--------------------+\n",
            "| 271781|    bluejacket74|2017-03-17|   750 ml bottle,...| 4.0|  4.0|  4.0|4.25|    4.0| 4.03|Motorbreath Imper...|          OH|American Imperial...|Limited (brewed o...|10.8|     28094|Four String Brewi...|    Columbus|           OH| Brewery, Bar|         4.0|          4.0|          4.0|        4.25|            4.0|         4.03|MotorbreathImperi...|AmericanImperialS...|\n",
            "| 184647|      Try-em-all|2017-09-27|   Clear gold in ...| 4.0|  4.0|  3.5| 3.5|   3.75|  3.7|     Payback Pilsner|          OH|   Bohemian Pilsener|            Rotating| 5.1|     28094|Four String Brewi...|    Columbus|           OH| Brewery, Bar|         4.0|          4.0|          3.5|         3.5|           3.75|          3.7|      PaybackPilsner|    BohemianPilsener|\n",
            "| 184647|ScorpioBeerLover|2017-03-22|   Reminds me of ...| 4.0|  4.0| 4.25|3.75|    4.0| 4.08|     Payback Pilsner|          OH|   Bohemian Pilsener|            Rotating| 5.1|     28094|Four String Brewi...|    Columbus|           OH| Brewery, Bar|         4.0|          4.0|         4.25|        3.75|            4.0|         4.08|      PaybackPilsner|    BohemianPilsener|\n",
            "| 184647|        beergoot|2016-10-08|   Pale yellow bo...|3.25| 3.25|  3.5| 3.5|    3.5| 3.43|     Payback Pilsner|          OH|   Bohemian Pilsener|            Rotating| 5.1|     28094|Four String Brewi...|    Columbus|           OH| Brewery, Bar|        3.25|         3.25|          3.5|         3.5|            3.5|         3.43|      PaybackPilsner|    BohemianPilsener|\n",
            "| 184647|   woodychandler|2016-09-25|   The CANQuest (...|3.75| 3.75|  3.5| 3.5|    3.5| 3.58|     Payback Pilsner|          OH|   Bohemian Pilsener|            Rotating| 5.1|     28094|Four String Brewi...|    Columbus|           OH| Brewery, Bar|        3.75|         3.75|          3.5|         3.5|            3.5|         3.58|      PaybackPilsner|    BohemianPilsener|\n",
            "| 184647|        WoodBrew|2016-07-14|   I got a Paybac...|3.75|  3.5|  3.5| 3.5|    3.5| 3.52|     Payback Pilsner|          OH|   Bohemian Pilsener|            Rotating| 5.1|     28094|Four String Brewi...|    Columbus|           OH| Brewery, Bar|        3.75|          3.5|          3.5|         3.5|            3.5|         3.52|      PaybackPilsner|    BohemianPilsener|\n",
            "| 184647|     Brutaltruth|2016-01-15|   Enjoyed from t...|3.75| 3.25| 3.25| 3.5|    3.5| 3.36|     Payback Pilsner|          OH|   Bohemian Pilsener|            Rotating| 5.1|     28094|Four String Brewi...|    Columbus|           OH| Brewery, Bar|        3.75|         3.25|         3.25|         3.5|            3.5|         3.36|      PaybackPilsner|    BohemianPilsener|\n",
            "| 184647|     HeightsEats|2015-12-31|   Pours a golden...|3.75| 3.75|  4.0| 4.0|   3.75| 3.88|     Payback Pilsner|          OH|   Bohemian Pilsener|            Rotating| 5.1|     28094|Four String Brewi...|    Columbus|           OH| Brewery, Bar|        3.75|         3.75|          4.0|         4.0|           3.75|         3.88|      PaybackPilsner|    BohemianPilsener|\n",
            "| 184647|       schoolboy|2015-10-05|   This thing is ...| 4.5|  3.5|  3.5| 3.5|   3.75| 3.61|     Payback Pilsner|          OH|   Bohemian Pilsener|            Rotating| 5.1|     28094|Four String Brewi...|    Columbus|           OH| Brewery, Bar|         4.5|          3.5|          3.5|         3.5|           3.75|         3.61|      PaybackPilsner|    BohemianPilsener|\n",
            "| 184647|   GreenEggsHam1|2015-08-08|                  0%| 3.5|  3.5|  3.5|3.75|    3.5| 3.53|     Payback Pilsner|          OH|   Bohemian Pilsener|            Rotating| 5.1|     28094|Four String Brewi...|    Columbus|           OH| Brewery, Bar|         3.5|          3.5|          3.5|        3.75|            3.5|         3.53|      PaybackPilsner|    BohemianPilsener|\n",
            "| 149366|        ONUMello|2016-03-26|\"   16oz draft A:...| 3.5|  3.0|  3.5| 3.5|    3.5| 3.38|          HELLHAMMER|          OH|            Rye Beer|Limited (brewed o...| 7.2|     28094|Four String Brewi...|    Columbus|           OH| Brewery, Bar|         3.5|          3.0|          3.5|         3.5|            3.5|         3.38|          HELLHAMMER|             RyeBeer|\n",
            "| 149366|        DrJGR629|2015-01-14|   The chipotle p...|4.25|  4.0|  4.5|3.75|   4.25| 4.24|          HELLHAMMER|          OH|            Rye Beer|Limited (brewed o...| 7.2|     28094|Four String Brewi...|    Columbus|           OH| Brewery, Bar|        4.25|          4.0|          4.5|        3.75|           4.25|         4.24|          HELLHAMMER|             RyeBeer|\n",
            "| 111891|   Amnesia_Jones|2018-02-13|   I want this po...| 3.0|  3.0|  3.0| 3.0|    3.0|  3.0|      Vanilla Porter|          OH|     American Porter|              Winter| 6.0|     28094|Four String Brewi...|    Columbus|           OH| Brewery, Bar|         3.0|          3.0|          3.0|         3.0|            3.0|          3.0|       VanillaPorter|      AmericanPorter|\n",
            "| 111891|       buschbeer|2017-12-13|   12 FL. OZ. bot...| 4.0|  4.0| 3.75| 4.0|   3.75| 3.85|      Vanilla Porter|          OH|     American Porter|              Winter| 6.0|     28094|Four String Brewi...|    Columbus|           OH| Brewery, Bar|         4.0|          4.0|         3.75|         4.0|           3.75|         3.85|       VanillaPorter|      AmericanPorter|\n",
            "| 111891|      jojobird72|2017-08-28|   pretty good fo...|3.75|  3.0| 3.75| 3.0|   3.75|  3.5|      Vanilla Porter|          OH|     American Porter|              Winter| 6.0|     28094|Four String Brewi...|    Columbus|           OH| Brewery, Bar|        3.75|          3.0|         3.75|         3.0|           3.75|          3.5|       VanillaPorter|      AmericanPorter|\n",
            "| 111891|        WoodBrew|2016-12-31|   I bought a 6pc...|3.75| 3.75|  3.5| 3.0|    3.5| 3.53|      Vanilla Porter|          OH|     American Porter|              Winter| 6.0|     28094|Four String Brewi...|    Columbus|           OH| Brewery, Bar|        3.75|         3.75|          3.5|         3.0|            3.5|         3.53|       VanillaPorter|      AmericanPorter|\n",
            "| 111891|      Oopssorryy|2016-12-25|   Pours a medium...|2.75|  2.5|  2.5| 2.5|    2.5| 2.52|      Vanilla Porter|          OH|     American Porter|              Winter| 6.0|     28094|Four String Brewi...|    Columbus|           OH| Brewery, Bar|        2.75|          2.5|          2.5|         2.5|            2.5|         2.52|       VanillaPorter|      AmericanPorter|\n",
            "| 111891|       superspak|2016-12-04|   12 ounce can i...| 4.0|  4.0|  4.0| 4.0|    3.5|  3.9|      Vanilla Porter|          OH|     American Porter|              Winter| 6.0|     28094|Four String Brewi...|    Columbus|           OH| Brewery, Bar|         4.0|          4.0|          4.0|         4.0|            3.5|          3.9|       VanillaPorter|      AmericanPorter|\n",
            "| 111891|     BEERchitect|2016-05-14|   Porter first a...| 4.0| 4.25|  4.0|3.75|    4.0| 4.04|      Vanilla Porter|          OH|     American Porter|              Winter| 6.0|     28094|Four String Brewi...|    Columbus|           OH| Brewery, Bar|         4.0|         4.25|          4.0|        3.75|            4.0|         4.04|       VanillaPorter|      AmericanPorter|\n",
            "| 111891|         barczar|2016-04-08|   Aroma is fudgy...|3.75| 3.75|  3.5|3.75|   3.75| 3.65|      Vanilla Porter|          OH|     American Porter|              Winter| 6.0|     28094|Four String Brewi...|    Columbus|           OH| Brewery, Bar|        3.75|         3.75|          3.5|        3.75|           3.75|         3.65|       VanillaPorter|      AmericanPorter|\n",
            "+-------+----------------+----------+--------------------+----+-----+-----+----+-------+-----+--------------------+------------+--------------------+--------------------+----+----------+--------------------+------------+-------------+-------------+------------+-------------+-------------+------------+---------------+-------------+--------------------+--------------------+\n",
            "only showing top 20 rows\n",
            "\n"
          ],
          "name": "stdout"
        }
      ]
    },
    {
      "cell_type": "code",
      "metadata": {
        "colab": {
          "base_uri": "https://localhost:8080/"
        },
        "id": "0rwjoP1Z-DPq",
        "outputId": "de164923-8ac5-4d39-d4ca-b069b63b7b9c"
      },
      "source": [
        "style_df.count()"
      ],
      "execution_count": 24,
      "outputs": [
        {
          "output_type": "execute_result",
          "data": {
            "text/plain": [
              "1973277"
            ]
          },
          "metadata": {
            "tags": []
          },
          "execution_count": 24
        }
      ]
    },
    {
      "cell_type": "code",
      "metadata": {
        "colab": {
          "base_uri": "https://localhost:8080/"
        },
        "id": "Q49v6IDJ736k",
        "outputId": "71fc5c22-d6a9-471f-aca8-565e63e78ef8"
      },
      "source": [
        "# clean the text by removing punctuation\r\n",
        "text_df = style_df.withColumn(\"clean_text\", remove_punctuation_udf(col(\"text\")))\r\n",
        "text_df.show()"
      ],
      "execution_count": 25,
      "outputs": [
        {
          "output_type": "stream",
          "text": [
            "+-------+----------------+----------+--------------------+----+-----+-----+----+-------+-----+--------------------+------------+--------------------+--------------------+----+----------+--------------------+------------+-------------+-------------+------------+-------------+-------------+------------+---------------+-------------+--------------------+--------------------+--------------------+\n",
            "|beer_id|        username|      date|                text|look|smell|taste|feel|overall|score|           beer_name|review_state|               style|        availability| abv|brewery_id|        brewery_name|brewery_city|brewery_state|brewery_types|look_numeric|smell_numeric|taste_numeric|feel_numeric|overall_numeric|score_numeric|          beer_clean|         style_clean|          clean_text|\n",
            "+-------+----------------+----------+--------------------+----+-----+-----+----+-------+-----+--------------------+------------+--------------------+--------------------+----+----------+--------------------+------------+-------------+-------------+------------+-------------+-------------+------------+---------------+-------------+--------------------+--------------------+--------------------+\n",
            "| 271781|    bluejacket74|2017-03-17|   750 ml bottle,...| 4.0|  4.0|  4.0|4.25|    4.0| 4.03|Motorbreath Imper...|          OH|American Imperial...|Limited (brewed o...|10.8|     28094|Four String Brewi...|    Columbus|           OH| Brewery, Bar|         4.0|          4.0|          4.0|        4.25|            4.0|         4.03|MotorbreathImperi...|AmericanImperialS...|750 ml bottle 201...|\n",
            "| 184647|      Try-em-all|2017-09-27|   Clear gold in ...| 4.0|  4.0|  3.5| 3.5|   3.75|  3.7|     Payback Pilsner|          OH|   Bohemian Pilsener|            Rotating| 5.1|     28094|Four String Brewi...|    Columbus|           OH| Brewery, Bar|         4.0|          4.0|          3.5|         3.5|           3.75|          3.7|      PaybackPilsner|    BohemianPilsener|Clear gold in col...|\n",
            "| 184647|ScorpioBeerLover|2017-03-22|   Reminds me of ...| 4.0|  4.0| 4.25|3.75|    4.0| 4.08|     Payback Pilsner|          OH|   Bohemian Pilsener|            Rotating| 5.1|     28094|Four String Brewi...|    Columbus|           OH| Brewery, Bar|         4.0|          4.0|         4.25|        3.75|            4.0|         4.08|      PaybackPilsner|    BohemianPilsener|Reminds me of pre...|\n",
            "| 184647|        beergoot|2016-10-08|   Pale yellow bo...|3.25| 3.25|  3.5| 3.5|    3.5| 3.43|     Payback Pilsner|          OH|   Bohemian Pilsener|            Rotating| 5.1|     28094|Four String Brewi...|    Columbus|           OH| Brewery, Bar|        3.25|         3.25|          3.5|         3.5|            3.5|         3.43|      PaybackPilsner|    BohemianPilsener|Pale yellow body ...|\n",
            "| 184647|   woodychandler|2016-09-25|   The CANQuest (...|3.75| 3.75|  3.5| 3.5|    3.5| 3.58|     Payback Pilsner|          OH|   Bohemian Pilsener|            Rotating| 5.1|     28094|Four String Brewi...|    Columbus|           OH| Brewery, Bar|        3.75|         3.75|          3.5|         3.5|            3.5|         3.58|      PaybackPilsner|    BohemianPilsener|The CANQuest tm i...|\n",
            "| 184647|        WoodBrew|2016-07-14|   I got a Paybac...|3.75|  3.5|  3.5| 3.5|    3.5| 3.52|     Payback Pilsner|          OH|   Bohemian Pilsener|            Rotating| 5.1|     28094|Four String Brewi...|    Columbus|           OH| Brewery, Bar|        3.75|          3.5|          3.5|         3.5|            3.5|         3.52|      PaybackPilsner|    BohemianPilsener|I got a Payback P...|\n",
            "| 184647|     Brutaltruth|2016-01-15|   Enjoyed from t...|3.75| 3.25| 3.25| 3.5|    3.5| 3.36|     Payback Pilsner|          OH|   Bohemian Pilsener|            Rotating| 5.1|     28094|Four String Brewi...|    Columbus|           OH| Brewery, Bar|        3.75|         3.25|         3.25|         3.5|            3.5|         3.36|      PaybackPilsner|    BohemianPilsener|Enjoyed from the ...|\n",
            "| 184647|     HeightsEats|2015-12-31|   Pours a golden...|3.75| 3.75|  4.0| 4.0|   3.75| 3.88|     Payback Pilsner|          OH|   Bohemian Pilsener|            Rotating| 5.1|     28094|Four String Brewi...|    Columbus|           OH| Brewery, Bar|        3.75|         3.75|          4.0|         4.0|           3.75|         3.88|      PaybackPilsner|    BohemianPilsener|Pours a golden ye...|\n",
            "| 184647|       schoolboy|2015-10-05|   This thing is ...| 4.5|  3.5|  3.5| 3.5|   3.75| 3.61|     Payback Pilsner|          OH|   Bohemian Pilsener|            Rotating| 5.1|     28094|Four String Brewi...|    Columbus|           OH| Brewery, Bar|         4.5|          3.5|          3.5|         3.5|           3.75|         3.61|      PaybackPilsner|    BohemianPilsener|This thing is gor...|\n",
            "| 184647|   GreenEggsHam1|2015-08-08|                  0%| 3.5|  3.5|  3.5|3.75|    3.5| 3.53|     Payback Pilsner|          OH|   Bohemian Pilsener|            Rotating| 5.1|     28094|Four String Brewi...|    Columbus|           OH| Brewery, Bar|         3.5|          3.5|          3.5|        3.75|            3.5|         3.53|      PaybackPilsner|    BohemianPilsener|                   0|\n",
            "| 149366|        ONUMello|2016-03-26|\"   16oz draft A:...| 3.5|  3.0|  3.5| 3.5|    3.5| 3.38|          HELLHAMMER|          OH|            Rye Beer|Limited (brewed o...| 7.2|     28094|Four String Brewi...|    Columbus|           OH| Brewery, Bar|         3.5|          3.0|          3.5|         3.5|            3.5|         3.38|          HELLHAMMER|             RyeBeer|   16oz draft A D...|\n",
            "| 149366|        DrJGR629|2015-01-14|   The chipotle p...|4.25|  4.0|  4.5|3.75|   4.25| 4.24|          HELLHAMMER|          OH|            Rye Beer|Limited (brewed o...| 7.2|     28094|Four String Brewi...|    Columbus|           OH| Brewery, Bar|        4.25|          4.0|          4.5|        3.75|           4.25|         4.24|          HELLHAMMER|             RyeBeer|The chipotle pepp...|\n",
            "| 111891|   Amnesia_Jones|2018-02-13|   I want this po...| 3.0|  3.0|  3.0| 3.0|    3.0|  3.0|      Vanilla Porter|          OH|     American Porter|              Winter| 6.0|     28094|Four String Brewi...|    Columbus|           OH| Brewery, Bar|         3.0|          3.0|          3.0|         3.0|            3.0|          3.0|       VanillaPorter|      AmericanPorter|I want this porte...|\n",
            "| 111891|       buschbeer|2017-12-13|   12 FL. OZ. bot...| 4.0|  4.0| 3.75| 4.0|   3.75| 3.85|      Vanilla Porter|          OH|     American Porter|              Winter| 6.0|     28094|Four String Brewi...|    Columbus|           OH| Brewery, Bar|         4.0|          4.0|         3.75|         4.0|           3.75|         3.85|       VanillaPorter|      AmericanPorter|12 FL OZ bottle S...|\n",
            "| 111891|      jojobird72|2017-08-28|   pretty good fo...|3.75|  3.0| 3.75| 3.0|   3.75|  3.5|      Vanilla Porter|          OH|     American Porter|              Winter| 6.0|     28094|Four String Brewi...|    Columbus|           OH| Brewery, Bar|        3.75|          3.0|         3.75|         3.0|           3.75|          3.5|       VanillaPorter|      AmericanPorter|pretty good for i...|\n",
            "| 111891|        WoodBrew|2016-12-31|   I bought a 6pc...|3.75| 3.75|  3.5| 3.0|    3.5| 3.53|      Vanilla Porter|          OH|     American Porter|              Winter| 6.0|     28094|Four String Brewi...|    Columbus|           OH| Brewery, Bar|        3.75|         3.75|          3.5|         3.0|            3.5|         3.53|       VanillaPorter|      AmericanPorter|I bought a 6pck a...|\n",
            "| 111891|      Oopssorryy|2016-12-25|   Pours a medium...|2.75|  2.5|  2.5| 2.5|    2.5| 2.52|      Vanilla Porter|          OH|     American Porter|              Winter| 6.0|     28094|Four String Brewi...|    Columbus|           OH| Brewery, Bar|        2.75|          2.5|          2.5|         2.5|            2.5|         2.52|       VanillaPorter|      AmericanPorter|Pours a medium br...|\n",
            "| 111891|       superspak|2016-12-04|   12 ounce can i...| 4.0|  4.0|  4.0| 4.0|    3.5|  3.9|      Vanilla Porter|          OH|     American Porter|              Winter| 6.0|     28094|Four String Brewi...|    Columbus|           OH| Brewery, Bar|         4.0|          4.0|          4.0|         4.0|            3.5|          3.9|       VanillaPorter|      AmericanPorter|12 ounce can into...|\n",
            "| 111891|     BEERchitect|2016-05-14|   Porter first a...| 4.0| 4.25|  4.0|3.75|    4.0| 4.04|      Vanilla Porter|          OH|     American Porter|              Winter| 6.0|     28094|Four String Brewi...|    Columbus|           OH| Brewery, Bar|         4.0|         4.25|          4.0|        3.75|            4.0|         4.04|       VanillaPorter|      AmericanPorter|Porter first and ...|\n",
            "| 111891|         barczar|2016-04-08|   Aroma is fudgy...|3.75| 3.75|  3.5|3.75|   3.75| 3.65|      Vanilla Porter|          OH|     American Porter|              Winter| 6.0|     28094|Four String Brewi...|    Columbus|           OH| Brewery, Bar|        3.75|         3.75|          3.5|        3.75|           3.75|         3.65|       VanillaPorter|      AmericanPorter|Aroma is fudgy wi...|\n",
            "+-------+----------------+----------+--------------------+----+-----+-----+----+-------+-----+--------------------+------------+--------------------+--------------------+----+----------+--------------------+------------+-------------+-------------+------------+-------------+-------------+------------+---------------+-------------+--------------------+--------------------+--------------------+\n",
            "only showing top 20 rows\n",
            "\n"
          ],
          "name": "stdout"
        }
      ]
    },
    {
      "cell_type": "code",
      "metadata": {
        "colab": {
          "base_uri": "https://localhost:8080/"
        },
        "id": "rY67GAX_-Njh",
        "outputId": "9b643b6c-0b83-4778-9d52-3cefb4bcc518"
      },
      "source": [
        "text_df.count()"
      ],
      "execution_count": 26,
      "outputs": [
        {
          "output_type": "execute_result",
          "data": {
            "text/plain": [
              "1973277"
            ]
          },
          "metadata": {
            "tags": []
          },
          "execution_count": 26
        }
      ]
    },
    {
      "cell_type": "code",
      "metadata": {
        "id": "rUrgBLiFvW3W",
        "colab": {
          "base_uri": "https://localhost:8080/"
        },
        "outputId": "8174bea9-2aad-4c1c-e0ca-9f0f4fa7b4b1"
      },
      "source": [
        "# Combine beer_name, style, and review text into a Final_text column\r\n",
        "from pyspark.sql.functions import concat_ws\r\n",
        "\r\n",
        "combined_df = text_df.withColumn('Final_text', concat_ws(' ',text_df.beer_clean, text_df.style_clean, text_df.clean_text))\r\n",
        "combined_df.select('text', 'Final_text').show(truncate=False)"
      ],
      "execution_count": 27,
      "outputs": [
        {
          "output_type": "stream",
          "text": [
            "+-----------------------------------------------------------------------------------------------------------------------------------------------------------------------------------------------------------------------------------------------------------------------------------------------------------------------------------------------------------------------------------------------------------------------------------------------------------------------------------------------------------------------------------------------------------------------------------------------------------------------------------------------------------------------------------------------------------------------------------------------------------------------------------------------------------------------------------------------------------------------------------------------------------------------------------------------------------------------------------------------------------------------------------------------------------------------------------------------------------------------------------------------------------------------------------------------------------------------------------------------------------------------------------------------------------------------------------------------------------------------------------------------------------------------------------------------------------------------------------------------------------------------------------------------------------------------------------------------------------------------------------------------------------------------------------------------------------------------------------------------------------------------------------------------------------------------------------------------------------------------------------------------------------------------------------------------------------------------------------------------------------------------------------------------+-----------------------------------------------------------------------------------------------------------------------------------------------------------------------------------------------------------------------------------------------------------------------------------------------------------------------------------------------------------------------------------------------------------------------------------------------------------------------------------------------------------------------------------------------------------------------------------------------------------------------------------------------------------------------------------------------------------------------------------------------------------------------------------------------------------------------------------------------------------------------------------------------------------------------------------------------------------------------------------------------------------------------------------------------------------------------------------------------------------------------------------------------------------------------------------------------------------------------------------------------------------------------------------------------------------------------------------------------------------------------------------------------------------------------------------------------------------------------------------------------------------------------------------------------------------------------------------------------------------------------------------------------------------------------------------------------------------------------------------------------------------------------------------------------------------------------------------------------------------------------------------------------------------------------------------------------------------------------------------------------------+\n",
            "|text                                                                                                                                                                                                                                                                                                                                                                                                                                                                                                                                                                                                                                                                                                                                                                                                                                                                                                                                                                                                                                                                                                                                                                                                                                                                                                                                                                                                                                                                                                                                                                                                                                                                                                                                                                                                                                                                                                                                                                                                                                           |Final_text                                                                                                                                                                                                                                                                                                                                                                                                                                                                                                                                                                                                                                                                                                                                                                                                                                                                                                                                                                                                                                                                                                                                                                                                                                                                                                                                                                                                                                                                                                                                                                                                                                                                                                                                                                                                                                                                                                                                                                                           |\n",
            "+-----------------------------------------------------------------------------------------------------------------------------------------------------------------------------------------------------------------------------------------------------------------------------------------------------------------------------------------------------------------------------------------------------------------------------------------------------------------------------------------------------------------------------------------------------------------------------------------------------------------------------------------------------------------------------------------------------------------------------------------------------------------------------------------------------------------------------------------------------------------------------------------------------------------------------------------------------------------------------------------------------------------------------------------------------------------------------------------------------------------------------------------------------------------------------------------------------------------------------------------------------------------------------------------------------------------------------------------------------------------------------------------------------------------------------------------------------------------------------------------------------------------------------------------------------------------------------------------------------------------------------------------------------------------------------------------------------------------------------------------------------------------------------------------------------------------------------------------------------------------------------------------------------------------------------------------------------------------------------------------------------------------------------------------------+-----------------------------------------------------------------------------------------------------------------------------------------------------------------------------------------------------------------------------------------------------------------------------------------------------------------------------------------------------------------------------------------------------------------------------------------------------------------------------------------------------------------------------------------------------------------------------------------------------------------------------------------------------------------------------------------------------------------------------------------------------------------------------------------------------------------------------------------------------------------------------------------------------------------------------------------------------------------------------------------------------------------------------------------------------------------------------------------------------------------------------------------------------------------------------------------------------------------------------------------------------------------------------------------------------------------------------------------------------------------------------------------------------------------------------------------------------------------------------------------------------------------------------------------------------------------------------------------------------------------------------------------------------------------------------------------------------------------------------------------------------------------------------------------------------------------------------------------------------------------------------------------------------------------------------------------------------------------------------------------------------+\n",
            "|   750 ml bottle, 2016 vintage, bottle #304 of 360. Served in a DFH snifter, the beer pours dark brown/black with about an inch tan head that stuck around a little while. There's also a good amount of lacing. I like the aroma, the brew smells like dark fruit (raisin, plum), chocolate, roasted malt, and a bit of licorice. For the most part I think the taste is just like the aroma, but with some coffee flavor noticeable too. Mouthfeel/body is medium/full, it's creamy and coating with a moderate amount of carbonation. I think it's a good overall brew, worth picking up if you want a nice straight forward imperial stout. Here's hoping Four String brings this back in the future! $9.99 a bottle.                                                                                                                                                                                                                                                                                                                                                                                                                                                                                                                                                                                                                                                                                                                                                                                                                                                                                                                                                                                                                                                                                                                                                                                                                                                                                                                      |MotorbreathImperialStout AmericanImperialStout 750 ml bottle 2016 vintage bottle 304 of 360 Served in a DFH snifter the beer pours dark brownblack with about an inch tan head that stuck around a little while Theres also a good amount of lacing I like the aroma the brew smells like dark fruit raisin plum chocolate roasted malt and a bit of licorice For the most part I think the taste is just like the aroma but with some coffee flavor noticeable too Mouthfeelbody is mediumfull its creamy and coating with a moderate amount of carbonation I think its a good overall brew worth picking up if you want a nice straight forward imperial stout Heres hoping Four String brings this back in the future 999 a bottle                                                                                                                                                                                                                                                                                                                                                                                                                                                                                                                                                                                                                                                                                                                                                                                                                                                                                                                                                                                                                                                                                                                                                                                                                                                                |\n",
            "|   Clear gold in color, light head, very little lacing, slight grain taste, same with the first scent, not a bad beer, but not very special either.                                                                                                                                                                                                                                                                                                                                                                                                                                                                                                                                                                                                                                                                                                                                                                                                                                                                                                                                                                                                                                                                                                                                                                                                                                                                                                                                                                                                                                                                                                                                                                                                                                                                                                                                                                                                                                                                                            |PaybackPilsner BohemianPilsener Clear gold in color light head very little lacing slight grain taste same with the first scent not a bad beer but not very special either                                                                                                                                                                                                                                                                                                                                                                                                                                                                                                                                                                                                                                                                                                                                                                                                                                                                                                                                                                                                                                                                                                                                                                                                                                                                                                                                                                                                                                                                                                                                                                                                                                                                                                                                                                                                                            |\n",
            "|   Reminds me of pretty much every Czech Pilsner I have ever had. Very drinkable, but nothing that stands out as exceptional.                                                                                                                                                                                                                                                                                                                                                                                                                                                                                                                                                                                                                                                                                                                                                                                                                                                                                                                                                                                                                                                                                                                                                                                                                                                                                                                                                                                                                                                                                                                                                                                                                                                                                                                                                                                                                                                                                                                  |PaybackPilsner BohemianPilsener Reminds me of pretty much every Czech Pilsner I have ever had Very drinkable but nothing that stands out as exceptional                                                                                                                                                                                                                                                                                                                                                                                                                                                                                                                                                                                                                                                                                                                                                                                                                                                                                                                                                                                                                                                                                                                                                                                                                                                                                                                                                                                                                                                                                                                                                                                                                                                                                                                                                                                                                                              |\n",
            "|   Pale yellow body; wispy white head. Very faint grain scent with a touch of honey. The taste is similar to the smell; gentle hop bitterness. Medium body. A fair, approachable pilsner yet rather run of the mill.                                                                                                                                                                                                                                                                                                                                                                                                                                                                                                                                                                                                                                                                                                                                                                                                                                                                                                                                                                                                                                                                                                                                                                                                                                                                                                                                                                                                                                                                                                                                                                                                                                                                                                                                                                                                                           |PaybackPilsner BohemianPilsener Pale yellow body wispy white head Very faint grain scent with a touch of honey The taste is similar to the smell gentle hop bitterness Medium body A fair approachable pilsner yet rather run of the mill                                                                                                                                                                                                                                                                                                                                                                                                                                                                                                                                                                                                                                                                                                                                                                                                                                                                                                                                                                                                                                                                                                                                                                                                                                                                                                                                                                                                                                                                                                                                                                                                                                                                                                                                                            |\n",
            "|   The CANQuest (tm) is honored to add anything from Four String BC to the list since one of its movers & shakers is none other than Larry, Larry, Larry ! Horowitz, who brewed & did jack of all trades stuff for Iron Hill for years. Larry, Larry, Larry is a fellow veteran & a really great, unassuming personality to be around. His knowledge is seCANd-to-none & while I was sorry to see him depart for Ohio, I know how to find him. Naturally, the CAN released a spray across my fingertips & then evinced some foaming through the vent on the Crack! I wanted an earlier CAN to do so & it did not CANoperate while each one before & after has been a behavior problem. Not really, since no one CAN hold a CANdle to my handling of a CAN. I performed a very gentle Glug so as to not rouse either any lees or the hooded CANbra that seemed to be lurking within. What is it with the Cracker Jack surprise inside jazz today? I got a rubber duck earlier & now, a cobra! Even my gentle Glug was enough to bring up just over a finger of soapy, foamy, bone-white head with modest retention. Color was a pretty Straw-Yellow (SRM = > 2, < 4), kind of like liquid sunshine in the glass. Nose was almost certainly indiCANtive of a German Pilsner, but I am going to request CANfirmation from the brewer/brewery on this one. It struck me as malty & bready, but I am not going to claim to be an expert. Mouthfeel was medium. The taste was making it really tough for me. It had a pleasant Noble hoppiness, but nowhere near as pronounced as it had been in Champion's Shower Beer. That said, the biscuitiness of the malt was not what I would CANsider pronounced, either. It was as though the beer was trying to straddle two styles. I prefer the Czech over the German, but this made for an interesting drink. Finish was semi-dry to dry, but neither the hops nor the malt seemed to want to assert themselves. It was decent, but I wish that it (or me) could make up its mind as to its identity.  |PaybackPilsner BohemianPilsener The CANQuest tm is honored to add anything from Four String BC to the list since one of its movers  shakers is none other than Larry Larry Larry  Horowitz who brewed  did jack of all trades stuff for Iron Hill for years Larry Larry Larry is a fellow veteran  a really great unassuming personality to be around His knowledge is seCANdtonone  while I was sorry to see him depart for Ohio I know how to find him Naturally the CAN released a spray across my fingertips  then evinced some foaming through the vent on the Crack I wanted an earlier CAN to do so  it did not CANoperate while each one before  after has been a behavior problem Not really since no one CAN hold a CANdle to my handling of a CAN I performed a very gentle Glug so as to not rouse either any lees or the hooded CANbra that seemed to be lurking within What is it with the Cracker Jack surprise inside jazz today I got a rubber duck earlier  now a cobra Even my gentle Glug was enough to bring up just over a finger of soapy foamy bonewhite head with modest retention Color was a pretty StrawYellow SRM   2  4 kind of like liquid sunshine in the glass Nose was almost certainly indiCANtive of a German Pilsner but I am going to request CANfirmation from the brewerbrewery on this one It struck me as malty  bready but I am not going to claim to be an expert Mouthfeel was medium The taste was making it really tough for me It had a pleasant Noble hoppiness but nowhere near as pronounced as it had been in Champions Shower Beer That said the biscuitiness of the malt was not what I would CANsider pronounced either It was as though the beer was trying to straddle two styles I prefer the Czech over the German but this made for an interesting drink Finish was semidry to dry but neither the hops nor the malt seemed to want to assert themselves It was decent but I wish that it or me could make up its mind as to its identity|\n",
            "|   I got a Payback Pilsner in a mix 12 from Drug Mart in Willard, Ohio. It poured a clear golden with white head that is not leaving much of a lace. The scent is not one of pilsner...something strange...can't quite put finger on it. The taste leans toward a white grape and is a touch bitter. The Mouthfeel is lighter in body with good carbonation. Overall it's ok certainly wouldn't go out of my way to get it.                                                                                                                                                                                                                                                                                                                                                                                                                                                                                                                                                                                                                                                                                                                                                                                                                                                                                                                                                                                                                                                                                                                                                                                                                                                                                                                                                                                                                                                                                                                                                                                                                    |PaybackPilsner BohemianPilsener I got a Payback Pilsner in a mix 12 from Drug Mart in Willard Ohio It poured a clear golden with white head that is not leaving much of a lace The scent is not one of pilsnersomething strangecant quite put finger on it The taste leans toward a white grape and is a touch bitter The Mouthfeel is lighter in body with good carbonation Overall its ok certainly wouldnt go out of my way to get it                                                                                                                                                                                                                                                                                                                                                                                                                                                                                                                                                                                                                                                                                                                                                                                                                                                                                                                                                                                                                                                                                                                                                                                                                                                                                                                                                                                                                                                                                                                                                             |\n",
            "|   Enjoyed from the 12 oz can in a pint glass via a friend from work----Thanks Kevin! This brew pours a very weak light yellow with an excellent head of dissipating foam that settles to a light ring, light layer, and excellent lacing. Nose of subtle honey malts, subtle hops, and light grains. Flavors follow the nose with sweet malts and bitter hops on all sides with moderately heavy grain notes coming in through the back with a decent bittering hops note on the aftertaste. Overall a decent pilsner with good carbonation making it an easy drinker. Decent for the style. Cheers                                                                                                                                                                                                                                                                                                                                                                                                                                                                                                                                                                                                                                                                                                                                                                                                                                                                                                                                                                                                                                                                                                                                                                                                                                                                                                                                                                                                                                           |PaybackPilsner BohemianPilsener Enjoyed from the 12 oz can in a pint glass via a friend from workThanks Kevin This brew pours a very weak light yellow with an excellent head of dissipating foam that settles to a light ring light layer and excellent lacing Nose of subtle honey malts subtle hops and light grains Flavors follow the nose with sweet malts and bitter hops on all sides with moderately heavy grain notes coming in through the back with a decent bittering hops note on the aftertaste Overall a decent pilsner with good carbonation making it an easy drinker Decent for the style Cheers                                                                                                                                                                                                                                                                                                                                                                                                                                                                                                                                                                                                                                                                                                                                                                                                                                                                                                                                                                                                                                                                                                                                                                                                                                                                                                                                                                                  |\n",
            "|   Pours a golden yellow, slight biscuit aroma with some hoppiness. The flavor is well-balanced between malt and hops. This is a solid pilsner with medium malt body, a subtle sweetness and a clean finish of German hops. If you get a really fresh batch of this, the hops might be a bit strong, as I noted in an earlier version of this review. I opened a can a week later though (which is probably the average of how long it will be on the shelf after you buy it) and everything was equaled out.                                                                                                                                                                                                                                                                                                                                                                                                                                                                                                                                                                                                                                                                                                                                                                                                                                                                                                                                                                                                                                                                                                                                                                                                                                                                                                                                                                                                                                                                                                                                  |PaybackPilsner BohemianPilsener Pours a golden yellow slight biscuit aroma with some hoppiness The flavor is wellbalanced between malt and hops This is a solid pilsner with medium malt body a subtle sweetness and a clean finish of German hops If you get a really fresh batch of this the hops might be a bit strong as I noted in an earlier version of this review I opened a can a week later though which is probably the average of how long it will be on the shelf after you buy it and everything was equaled out                                                                                                                                                                                                                                                                                                                                                                                                                                                                                                                                                                                                                                                                                                                                                                                                                                                                                                                                                                                                                                                                                                                                                                                                                                                                                                                                                                                                                                                                       |\n",
            "|   This thing is gorgeous. Too bad it ends there. Exceptional head (I always said, is there any such thing as bad head?). It just keeps coming and coming. Nice. So it's yellow and doesn't have any strong finishing hops aroma. It has a very mild pilsner taste, which is to say not much. The aftertaste is sweetish. Boring, even for the style. This is one of the prettier brews ever but that's it it has. Like they gave up trying to make a great pils and just made a well made one. Not recommended - it's just a pretty face.                                                                                                                                                                                                                                                                                                                                                                                                                                                                                                                                                                                                                                                                                                                                                                                                                                                                                                                                                                                                                                                                                                                                                                                                                                                                                                                                                                                                                                                                                                     |PaybackPilsner BohemianPilsener This thing is gorgeous Too bad it ends there Exceptional head I always said is there any such thing as bad head It just keeps coming and coming Nice So its yellow and doesnt have any strong finishing hops aroma It has a very mild pilsner taste which is to say not much The aftertaste is sweetish Boring even for the style This is one of the prettier brews ever but thats it it has Like they gave up trying to make a great pils and just made a well made one Not recommended  its just a pretty face                                                                                                                                                                                                                                                                                                                                                                                                                                                                                                                                                                                                                                                                                                                                                                                                                                                                                                                                                                                                                                                                                                                                                                                                                                                                                                                                                                                                                                                     |\n",
            "|   0%                                                                                                                                                                                                                                                                                                                                                                                                                                                                                                                                                                                                                                                                                                                                                                                                                                                                                                                                                                                                                                                                                                                                                                                                                                                                                                                                                                                                                                                                                                                                                                                                                                                                                                                                                                                                                                                                                                                                                                                                                                          |PaybackPilsner BohemianPilsener 0                                                                                                                                                                                                                                                                                                                                                                                                                                                                                                                                                                                                                                                                                                                                                                                                                                                                                                                                                                                                                                                                                                                                                                                                                                                                                                                                                                                                                                                                                                                                                                                                                                                                                                                                                                                                                                                                                                                                                                    |\n",
            "|\"   16oz draft A: Dark brown, no head S: Just not a lot going on. Generic malt, nothing else T: Dark malts, a hint of rye bite but it's in the background M: Medium-bodied O: The bar I had this at had this in the \"\"malt\"\" portion of their menu. I wish it had more hops/ rye spice to be in the \"\"hops\"\" section. Perfectly drinkable as is just nothing memorable  \"                                                                                                                                                                                                                                                                                                                                                                                                                                                                                                                                                                                                                                                                                                                                                                                                                                                                                                                                                                                                                                                                                                                                                                                                                                                                                                                                                                                                                                                                                                                                                                                                                                                                      |HELLHAMMER RyeBeer    16oz draft A Dark brown no head S Just not a lot going on Generic malt nothing else T Dark malts a hint of rye bite but its in the background M Mediumbodied O The bar I had this at had this in the malt portion of their menu I wish it had more hops rye spice to be in the hops section Perfectly drinkable as is just nothing memorable                                                                                                                                                                                                                                                                                                                                                                                                                                                                                                                                                                                                                                                                                                                                                                                                                                                                                                                                                                                                                                                                                                                                                                                                                                                                                                                                                                                                                                                                                                                                                                                                                                   |\n",
            "|   The chipotle peppers add just a little heat on the way down. Very complex but tasty.                                                                                                                                                                                                                                                                                                                                                                                                                                                                                                                                                                                                                                                                                                                                                                                                                                                                                                                                                                                                                                                                                                                                                                                                                                                                                                                                                                                                                                                                                                                                                                                                                                                                                                                                                                                                                                                                                                                                                        |HELLHAMMER RyeBeer The chipotle peppers add just a little heat on the way down Very complex but tasty                                                                                                                                                                                                                                                                                                                                                                                                                                                                                                                                                                                                                                                                                                                                                                                                                                                                                                                                                                                                                                                                                                                                                                                                                                                                                                                                                                                                                                                                                                                                                                                                                                                                                                                                                                                                                                                                                                |\n",
            "|   I want this porter to be thick and rich, but alas, it is not.                                                                                                                                                                                                                                                                                                                                                                                                                                                                                                                                                                                                                                                                                                                                                                                                                                                                                                                                                                                                                                                                                                                                                                                                                                                                                                                                                                                                                                                                                                                                                                                                                                                                                                                                                                                                                                                                                                                                                                               |VanillaPorter AmericanPorter I want this porter to be thick and rich but alas it is not                                                                                                                                                                                                                                                                                                                                                                                                                                                                                                                                                                                                                                                                                                                                                                                                                                                                                                                                                                                                                                                                                                                                                                                                                                                                                                                                                                                                                                                                                                                                                                                                                                                                                                                                                                                                                                                                                                              |\n",
            "|   12 FL. OZ. bottle Served in a snifter This beer appears black when poured, but when held to the light some ruby highlights are visible. It is topped with an inch of tan head that leaves very little lacing. I can smell vanilla right away. I also get some milk chocolate and roasted malt. It start with vanilla flavor. Dark chocolate come through the middle. Roasted malt also comes through the middle but lingers through the finish. The is a bitter chocolate aftertaste. Medium to full mouthfeel It is a drinkable everyday porter. There is nothing to make it stand out, but there is nothing to note of detrimental flavor either.                                                                                                                                                                                                                                                                                                                                                                                                                                                                                                                                                                                                                                                                                                                                                                                                                                                                                                                                                                                                                                                                                                                                                                                                                                                                                                                                                                                         |VanillaPorter AmericanPorter 12 FL OZ bottle Served in a snifter This beer appears black when poured but when held to the light some ruby highlights are visible It is topped with an inch of tan head that leaves very little lacing I can smell vanilla right away I also get some milk chocolate and roasted malt It start with vanilla flavor Dark chocolate come through the middle Roasted malt also comes through the middle but lingers through the finish The is a bitter chocolate aftertaste Medium to full mouthfeel It is a drinkable everyday porter There is nothing to make it stand out but there is nothing to note of detrimental flavor either                                                                                                                                                                                                                                                                                                                                                                                                                                                                                                                                                                                                                                                                                                                                                                                                                                                                                                                                                                                                                                                                                                                                                                                                                                                                                                                                   |\n",
            "|   pretty good for in a can (I prefer bottles, idk who else cares)                                                                                                                                                                                                                                                                                                                                                                                                                                                                                                                                                                                                                                                                                                                                                                                                                                                                                                                                                                                                                                                                                                                                                                                                                                                                                                                                                                                                                                                                                                                                                                                                                                                                                                                                                                                                                                                                                                                                                                             |VanillaPorter AmericanPorter pretty good for in a can I prefer bottles idk who else cares                                                                                                                                                                                                                                                                                                                                                                                                                                                                                                                                                                                                                                                                                                                                                                                                                                                                                                                                                                                                                                                                                                                                                                                                                                                                                                                                                                                                                                                                                                                                                                                                                                                                                                                                                                                                                                                                                                            |\n",
            "|   I bought a 6pck at the local Meijer store. The scent had hints of vanilla and roast. The taste carried some vanilla with espresso presence. The Mouthfeel was lighter in body with smooth carbonation. Overall it's ok....would like more body.                                                                                                                                                                                                                                                                                                                                                                                                                                                                                                                                                                                                                                                                                                                                                                                                                                                                                                                                                                                                                                                                                                                                                                                                                                                                                                                                                                                                                                                                                                                                                                                                                                                                                                                                                                                             |VanillaPorter AmericanPorter I bought a 6pck at the local Meijer store The scent had hints of vanilla and roast The taste carried some vanilla with espresso presence The Mouthfeel was lighter in body with smooth carbonation Overall its okwould like more body                                                                                                                                                                                                                                                                                                                                                                                                                                                                                                                                                                                                                                                                                                                                                                                                                                                                                                                                                                                                                                                                                                                                                                                                                                                                                                                                                                                                                                                                                                                                                                                                                                                                                                                                   |\n",
            "|   Pours a medium brown, with a small, lightly tanned head. The head quickly falls away, leaving very little lacing. The nose has light roast, a bit of coffee, but is far to sweet for my tastes. The vanilla is there, but is largely obscured by the rest of the scent profiles here. The flavors feel muted. The little flavor you get before swallowing is roast and a hint of malt. Upon swallowing you are hit with a huge amount of roast, with coffee flavors mixed in. A wave of sweet malt rides of the heels of this, with just the barest hints of vanilla. The feel is very much on the light side for a porter. It feels like it thickens up in the middle, but the somewhat dry finish takes away from any ground it may have gained. The flavors do not stick on the tongue, and the entire drink is forgotten quickly. Overall, this feels like a pretty sub par porter. It's billed as a vanilla porter, but I feel like I had to really search for it, so much so I may have been imagining it. Everything about it feels forgettable. I guess it could be used as an introductory porter for someone hesitant of dark beers, but other than that I would just pass.                                                                                                                                                                                                                                                                                                                                                                                                                                                                                                                                                                                                                                                                                                                                                                                                                                                       |VanillaPorter AmericanPorter Pours a medium brown with a small lightly tanned head The head quickly falls away leaving very little lacing The nose has light roast a bit of coffee but is far to sweet for my tastes The vanilla is there but is largely obscured by the rest of the scent profiles here The flavors feel muted The little flavor you get before swallowing is roast and a hint of malt Upon swallowing you are hit with a huge amount of roast with coffee flavors mixed in A wave of sweet malt rides of the heels of this with just the barest hints of vanilla The feel is very much on the light side for a porter It feels like it thickens up in the middle but the somewhat dry finish takes away from any ground it may have gained The flavors do not stick on the tongue and the entire drink is forgotten quickly Overall this feels like a pretty sub par porter Its billed as a vanilla porter but I feel like I had to really search for it so much so I may have been imagining it Everything about it feels forgettable I guess it could be used as an introductory porter for someone hesitant of dark beers but other than that I would just pass                                                                                                                                                                                                                                                                                                                                                                                                                                                                                                                                                                                                                                                                                                                                                                                                                 |\n",
            "|   12 ounce can into pint glass, best before 3/17/2017. Pours crystal clear deep reddish brown color with a 1-2 finger fairly dense light khaki head with good retention, that reduces to a nice cap that lingers. Nice spotty soapy lacing clings down the glass, with a fair amount of streaming carbonation. Aromas of vanilla, milk chocolate, cocoa, caramel, toffee, brown sugar, toasted brown bread, light nuttiness/coffee, herbal, and roast/toasted earthiness. Very nice aromas with good balance and complexity of dark/roast/bready malt, vanilla, and light earthy hop notes; with good strength. Taste of big vanilla, milk chocolate, cocoa, caramel, toffee, brown sugar, toasted brown bread, light nuttiness/coffee, herbal, light pepper, and roast/toasted earthiness. Light-moderate herbal/spicy hop and light roasted bitterness on the finish; with lingering notes of vanilla, milk chocolate, cocoa, caramel, toffee, brown sugar, toasted brown bread, light nuttiness/coffee, herbal, pepper, and roast/toasted earthiness on the finish for a good bit. Very nice complexity, robustness, and balance of dark/roast/bready malt, vanilla, and light-moderate earthy hop flavors; with a nice malt/bitterness balance, and minimal astringent hop flavors after the finish. Light-moderate dryness from bitterness, increasing through the glass. Medium carbonation and body; with a very smooth, moderately creamy/grainy/bready, fairly sticky, and slightly chalky balanced mouthfeel that is nice. Zero warming alcohol as expected of 6%. Overall this is a very nice American style vanilla porter. All around nice complexity, robustness, and balance of dark/roast/bready malt, vanilla, and light-moderate earthy hop flavors; very smooth and easy to drink. Just a bit too bitter/drying than I would have preferred; this still has really great malt complexity and balance with the vanilla bean flavors. A very enjoyable offering.                                                             |VanillaPorter AmericanPorter 12 ounce can into pint glass best before 3172017 Pours crystal clear deep reddish brown color with a 12 finger fairly dense light khaki head with good retention that reduces to a nice cap that lingers Nice spotty soapy lacing clings down the glass with a fair amount of streaming carbonation Aromas of vanilla milk chocolate cocoa caramel toffee brown sugar toasted brown bread light nuttinesscoffee herbal and roasttoasted earthiness Very nice aromas with good balance and complexity of darkroastbready malt vanilla and light earthy hop notes with good strength Taste of big vanilla milk chocolate cocoa caramel toffee brown sugar toasted brown bread light nuttinesscoffee herbal light pepper and roasttoasted earthiness Lightmoderate herbalspicy hop and light roasted bitterness on the finish with lingering notes of vanilla milk chocolate cocoa caramel toffee brown sugar toasted brown bread light nuttinesscoffee herbal pepper and roasttoasted earthiness on the finish for a good bit Very nice complexity robustness and balance of darkroastbready malt vanilla and lightmoderate earthy hop flavors with a nice maltbitterness balance and minimal astringent hop flavors after the finish Lightmoderate dryness from bitterness increasing through the glass Medium carbonation and body with a very smooth moderately creamygrainybready fairly sticky and slightly chalky balanced mouthfeel that is nice Zero warming alcohol as expected of 6 Overall this is a very nice American style vanilla porter All around nice complexity robustness and balance of darkroastbready malt vanilla and lightmoderate earthy hop flavors very smooth and easy to drink Just a bit too bitterdrying than I would have preferred this still has really great malt complexity and balance with the vanilla bean flavors A very enjoyable offering                                                                                      |\n",
            "|   Porter first and vanilla secondary, the heirarchy is clear- the Four String brewer show a creative and aggressive edge with the madagascar vanilla bean, but layer them on a robust underpinning of roasty, toasty barley malt that doesn't shy away from the attention of the tastebuds. Their Vanilla Porter is a dark and lavish dark ale, deep brown and topped with a creamy beige crown. As the unmistakable and soothing scent of vanilla drifts onto the nose, its taste is even more decadent with dark-roast coffee, chocolate, burnt sugar and roasted nuttiness. As the flavors develop, the mind is drawn to the taste of sweet cream, milkshakes and sweetened coffees. The toasted grains give bittersweet chocolate notes with an undercarriage of caramel and toffee. Earthy nuttiness is woodsy and the bittering hops are piney and support the coffee-like characteristics seamlessly. Full bodied yet remarkably drinkable, the porter seems lavishly creamy to start but trails with a drying tone that outweighs the generous vanilla additions. An after-palate of bitter woods, nuttiness and coffee extend deep into aftertaste and with that seductive afterglow of vanilla.                                                                                                                                                                                                                                                                                                                                                                                                                                                                                                                                                                                                                                                                                                                                                                                                                                     |VanillaPorter AmericanPorter Porter first and vanilla secondary the heirarchy is clear the Four String brewer show a creative and aggressive edge with the madagascar vanilla bean but layer them on a robust underpinning of roasty toasty barley malt that doesnt shy away from the attention of the tastebuds Their Vanilla Porter is a dark and lavish dark ale deep brown and topped with a creamy beige crown As the unmistakable and soothing scent of vanilla drifts onto the nose its taste is even more decadent with darkroast coffee chocolate burnt sugar and roasted nuttiness As the flavors develop the mind is drawn to the taste of sweet cream milkshakes and sweetened coffees The toasted grains give bittersweet chocolate notes with an undercarriage of caramel and toffee Earthy nuttiness is woodsy and the bittering hops are piney and support the coffeelike characteristics seamlessly Full bodied yet remarkably drinkable the porter seems lavishly creamy to start but trails with a drying tone that outweighs the generous vanilla additions An afterpalate of bitter woods nuttiness and coffee extend deep into aftertaste and with that seductive afterglow of vanilla                                                                                                                                                                                                                                                                                                                                                                                                                                                                                                                                                                                                                                                                                                                                                                                         |\n",
            "|   Aroma is fudgy, with vanilla accents. Fairly rich chocolate malt balanced the vanilla sweetness well. Flavor is vanilla dominant, with a light sweetness carrying throughout. Chocolate is more subdued, and a string bitterness is ushered in too quickly. There's a bit of an acidic or metallic character upfront. Too bitter.                                                                                                                                                                                                                                                                                                                                                                                                                                                                                                                                                                                                                                                                                                                                                                                                                                                                                                                                                                                                                                                                                                                                                                                                                                                                                                                                                                                                                                                                                                                                                                                                                                                                                                           |VanillaPorter AmericanPorter Aroma is fudgy with vanilla accents Fairly rich chocolate malt balanced the vanilla sweetness well Flavor is vanilla dominant with a light sweetness carrying throughout Chocolate is more subdued and a string bitterness is ushered in too quickly Theres a bit of an acidic or metallic character upfront Too bitter                                                                                                                                                                                                                                                                                                                                                                                                                                                                                                                                                                                                                                                                                                                                                                                                                                                                                                                                                                                                                                                                                                                                                                                                                                                                                                                                                                                                                                                                                                                                                                                                                                                 |\n",
            "+-----------------------------------------------------------------------------------------------------------------------------------------------------------------------------------------------------------------------------------------------------------------------------------------------------------------------------------------------------------------------------------------------------------------------------------------------------------------------------------------------------------------------------------------------------------------------------------------------------------------------------------------------------------------------------------------------------------------------------------------------------------------------------------------------------------------------------------------------------------------------------------------------------------------------------------------------------------------------------------------------------------------------------------------------------------------------------------------------------------------------------------------------------------------------------------------------------------------------------------------------------------------------------------------------------------------------------------------------------------------------------------------------------------------------------------------------------------------------------------------------------------------------------------------------------------------------------------------------------------------------------------------------------------------------------------------------------------------------------------------------------------------------------------------------------------------------------------------------------------------------------------------------------------------------------------------------------------------------------------------------------------------------------------------------+-----------------------------------------------------------------------------------------------------------------------------------------------------------------------------------------------------------------------------------------------------------------------------------------------------------------------------------------------------------------------------------------------------------------------------------------------------------------------------------------------------------------------------------------------------------------------------------------------------------------------------------------------------------------------------------------------------------------------------------------------------------------------------------------------------------------------------------------------------------------------------------------------------------------------------------------------------------------------------------------------------------------------------------------------------------------------------------------------------------------------------------------------------------------------------------------------------------------------------------------------------------------------------------------------------------------------------------------------------------------------------------------------------------------------------------------------------------------------------------------------------------------------------------------------------------------------------------------------------------------------------------------------------------------------------------------------------------------------------------------------------------------------------------------------------------------------------------------------------------------------------------------------------------------------------------------------------------------------------------------------------+\n",
            "only showing top 20 rows\n",
            "\n"
          ],
          "name": "stdout"
        }
      ]
    },
    {
      "cell_type": "code",
      "metadata": {
        "colab": {
          "base_uri": "https://localhost:8080/"
        },
        "id": "Aci_ULQF-VSl",
        "outputId": "d9e91597-3ef0-420f-d7df-e9f39fe0819b"
      },
      "source": [
        "combined_df.count()"
      ],
      "execution_count": 28,
      "outputs": [
        {
          "output_type": "execute_result",
          "data": {
            "text/plain": [
              "1973277"
            ]
          },
          "metadata": {
            "tags": []
          },
          "execution_count": 28
        }
      ]
    },
    {
      "cell_type": "code",
      "metadata": {
        "id": "So2lXfJEo-A9"
      },
      "source": [
        "# Setup and execute Tokenizer and Stop words pipeline\n",
        "from pyspark.ml.feature import Tokenizer, StopWordsRemover\n",
        "from pyspark.ml import Pipeline\n",
        "\n",
        "# \"Creating pipeline...\"\n",
        "tokenizer = Tokenizer(inputCol=\"Final_text\", outputCol=\"token_text\")\n",
        "stopremove = StopWordsRemover(inputCol='token_text', outputCol='features')\n",
        "\n",
        "pipeline = Pipeline(stages=[tokenizer, stopremove])\n",
        "\n",
        "# \"Training model...\"\n",
        "pipeline_stg = pipeline.fit(combined_df)\n",
        "final_df = pipeline_stg.transform(combined_df)\n",
        "# final_df.show()"
      ],
      "execution_count": 29,
      "outputs": []
    },
    {
      "cell_type": "code",
      "metadata": {
        "colab": {
          "base_uri": "https://localhost:8080/"
        },
        "id": "HfovHDCfpo0y",
        "outputId": "3f0b0359-82a9-484b-845d-60f29dea9a95"
      },
      "source": [
        "final_df.show()"
      ],
      "execution_count": 30,
      "outputs": [
        {
          "output_type": "stream",
          "text": [
            "+-------+----------------+----------+--------------------+----+-----+-----+----+-------+-----+--------------------+------------+--------------------+--------------------+----+----------+--------------------+------------+-------------+-------------+------------+-------------+-------------+------------+---------------+-------------+--------------------+--------------------+--------------------+--------------------+--------------------+--------------------+\n",
            "|beer_id|        username|      date|                text|look|smell|taste|feel|overall|score|           beer_name|review_state|               style|        availability| abv|brewery_id|        brewery_name|brewery_city|brewery_state|brewery_types|look_numeric|smell_numeric|taste_numeric|feel_numeric|overall_numeric|score_numeric|          beer_clean|         style_clean|          clean_text|          Final_text|          token_text|            features|\n",
            "+-------+----------------+----------+--------------------+----+-----+-----+----+-------+-----+--------------------+------------+--------------------+--------------------+----+----------+--------------------+------------+-------------+-------------+------------+-------------+-------------+------------+---------------+-------------+--------------------+--------------------+--------------------+--------------------+--------------------+--------------------+\n",
            "| 271781|    bluejacket74|2017-03-17|   750 ml bottle,...| 4.0|  4.0|  4.0|4.25|    4.0| 4.03|Motorbreath Imper...|          OH|American Imperial...|Limited (brewed o...|10.8|     28094|Four String Brewi...|    Columbus|           OH| Brewery, Bar|         4.0|          4.0|          4.0|        4.25|            4.0|         4.03|MotorbreathImperi...|AmericanImperialS...|750 ml bottle 201...|MotorbreathImperi...|[motorbreathimper...|[motorbreathimper...|\n",
            "| 184647|      Try-em-all|2017-09-27|   Clear gold in ...| 4.0|  4.0|  3.5| 3.5|   3.75|  3.7|     Payback Pilsner|          OH|   Bohemian Pilsener|            Rotating| 5.1|     28094|Four String Brewi...|    Columbus|           OH| Brewery, Bar|         4.0|          4.0|          3.5|         3.5|           3.75|          3.7|      PaybackPilsner|    BohemianPilsener|Clear gold in col...|PaybackPilsner Bo...|[paybackpilsner, ...|[paybackpilsner, ...|\n",
            "| 184647|ScorpioBeerLover|2017-03-22|   Reminds me of ...| 4.0|  4.0| 4.25|3.75|    4.0| 4.08|     Payback Pilsner|          OH|   Bohemian Pilsener|            Rotating| 5.1|     28094|Four String Brewi...|    Columbus|           OH| Brewery, Bar|         4.0|          4.0|         4.25|        3.75|            4.0|         4.08|      PaybackPilsner|    BohemianPilsener|Reminds me of pre...|PaybackPilsner Bo...|[paybackpilsner, ...|[paybackpilsner, ...|\n",
            "| 184647|        beergoot|2016-10-08|   Pale yellow bo...|3.25| 3.25|  3.5| 3.5|    3.5| 3.43|     Payback Pilsner|          OH|   Bohemian Pilsener|            Rotating| 5.1|     28094|Four String Brewi...|    Columbus|           OH| Brewery, Bar|        3.25|         3.25|          3.5|         3.5|            3.5|         3.43|      PaybackPilsner|    BohemianPilsener|Pale yellow body ...|PaybackPilsner Bo...|[paybackpilsner, ...|[paybackpilsner, ...|\n",
            "| 184647|   woodychandler|2016-09-25|   The CANQuest (...|3.75| 3.75|  3.5| 3.5|    3.5| 3.58|     Payback Pilsner|          OH|   Bohemian Pilsener|            Rotating| 5.1|     28094|Four String Brewi...|    Columbus|           OH| Brewery, Bar|        3.75|         3.75|          3.5|         3.5|            3.5|         3.58|      PaybackPilsner|    BohemianPilsener|The CANQuest tm i...|PaybackPilsner Bo...|[paybackpilsner, ...|[paybackpilsner, ...|\n",
            "| 184647|        WoodBrew|2016-07-14|   I got a Paybac...|3.75|  3.5|  3.5| 3.5|    3.5| 3.52|     Payback Pilsner|          OH|   Bohemian Pilsener|            Rotating| 5.1|     28094|Four String Brewi...|    Columbus|           OH| Brewery, Bar|        3.75|          3.5|          3.5|         3.5|            3.5|         3.52|      PaybackPilsner|    BohemianPilsener|I got a Payback P...|PaybackPilsner Bo...|[paybackpilsner, ...|[paybackpilsner, ...|\n",
            "| 184647|     Brutaltruth|2016-01-15|   Enjoyed from t...|3.75| 3.25| 3.25| 3.5|    3.5| 3.36|     Payback Pilsner|          OH|   Bohemian Pilsener|            Rotating| 5.1|     28094|Four String Brewi...|    Columbus|           OH| Brewery, Bar|        3.75|         3.25|         3.25|         3.5|            3.5|         3.36|      PaybackPilsner|    BohemianPilsener|Enjoyed from the ...|PaybackPilsner Bo...|[paybackpilsner, ...|[paybackpilsner, ...|\n",
            "| 184647|     HeightsEats|2015-12-31|   Pours a golden...|3.75| 3.75|  4.0| 4.0|   3.75| 3.88|     Payback Pilsner|          OH|   Bohemian Pilsener|            Rotating| 5.1|     28094|Four String Brewi...|    Columbus|           OH| Brewery, Bar|        3.75|         3.75|          4.0|         4.0|           3.75|         3.88|      PaybackPilsner|    BohemianPilsener|Pours a golden ye...|PaybackPilsner Bo...|[paybackpilsner, ...|[paybackpilsner, ...|\n",
            "| 184647|       schoolboy|2015-10-05|   This thing is ...| 4.5|  3.5|  3.5| 3.5|   3.75| 3.61|     Payback Pilsner|          OH|   Bohemian Pilsener|            Rotating| 5.1|     28094|Four String Brewi...|    Columbus|           OH| Brewery, Bar|         4.5|          3.5|          3.5|         3.5|           3.75|         3.61|      PaybackPilsner|    BohemianPilsener|This thing is gor...|PaybackPilsner Bo...|[paybackpilsner, ...|[paybackpilsner, ...|\n",
            "| 184647|   GreenEggsHam1|2015-08-08|                  0%| 3.5|  3.5|  3.5|3.75|    3.5| 3.53|     Payback Pilsner|          OH|   Bohemian Pilsener|            Rotating| 5.1|     28094|Four String Brewi...|    Columbus|           OH| Brewery, Bar|         3.5|          3.5|          3.5|        3.75|            3.5|         3.53|      PaybackPilsner|    BohemianPilsener|                   0|PaybackPilsner Bo...|[paybackpilsner, ...|[paybackpilsner, ...|\n",
            "| 149366|        ONUMello|2016-03-26|\"   16oz draft A:...| 3.5|  3.0|  3.5| 3.5|    3.5| 3.38|          HELLHAMMER|          OH|            Rye Beer|Limited (brewed o...| 7.2|     28094|Four String Brewi...|    Columbus|           OH| Brewery, Bar|         3.5|          3.0|          3.5|         3.5|            3.5|         3.38|          HELLHAMMER|             RyeBeer|   16oz draft A D...|HELLHAMMER RyeBee...|[hellhammer, ryeb...|[hellhammer, ryeb...|\n",
            "| 149366|        DrJGR629|2015-01-14|   The chipotle p...|4.25|  4.0|  4.5|3.75|   4.25| 4.24|          HELLHAMMER|          OH|            Rye Beer|Limited (brewed o...| 7.2|     28094|Four String Brewi...|    Columbus|           OH| Brewery, Bar|        4.25|          4.0|          4.5|        3.75|           4.25|         4.24|          HELLHAMMER|             RyeBeer|The chipotle pepp...|HELLHAMMER RyeBee...|[hellhammer, ryeb...|[hellhammer, ryeb...|\n",
            "| 111891|   Amnesia_Jones|2018-02-13|   I want this po...| 3.0|  3.0|  3.0| 3.0|    3.0|  3.0|      Vanilla Porter|          OH|     American Porter|              Winter| 6.0|     28094|Four String Brewi...|    Columbus|           OH| Brewery, Bar|         3.0|          3.0|          3.0|         3.0|            3.0|          3.0|       VanillaPorter|      AmericanPorter|I want this porte...|VanillaPorter Ame...|[vanillaporter, a...|[vanillaporter, a...|\n",
            "| 111891|       buschbeer|2017-12-13|   12 FL. OZ. bot...| 4.0|  4.0| 3.75| 4.0|   3.75| 3.85|      Vanilla Porter|          OH|     American Porter|              Winter| 6.0|     28094|Four String Brewi...|    Columbus|           OH| Brewery, Bar|         4.0|          4.0|         3.75|         4.0|           3.75|         3.85|       VanillaPorter|      AmericanPorter|12 FL OZ bottle S...|VanillaPorter Ame...|[vanillaporter, a...|[vanillaporter, a...|\n",
            "| 111891|      jojobird72|2017-08-28|   pretty good fo...|3.75|  3.0| 3.75| 3.0|   3.75|  3.5|      Vanilla Porter|          OH|     American Porter|              Winter| 6.0|     28094|Four String Brewi...|    Columbus|           OH| Brewery, Bar|        3.75|          3.0|         3.75|         3.0|           3.75|          3.5|       VanillaPorter|      AmericanPorter|pretty good for i...|VanillaPorter Ame...|[vanillaporter, a...|[vanillaporter, a...|\n",
            "| 111891|        WoodBrew|2016-12-31|   I bought a 6pc...|3.75| 3.75|  3.5| 3.0|    3.5| 3.53|      Vanilla Porter|          OH|     American Porter|              Winter| 6.0|     28094|Four String Brewi...|    Columbus|           OH| Brewery, Bar|        3.75|         3.75|          3.5|         3.0|            3.5|         3.53|       VanillaPorter|      AmericanPorter|I bought a 6pck a...|VanillaPorter Ame...|[vanillaporter, a...|[vanillaporter, a...|\n",
            "| 111891|      Oopssorryy|2016-12-25|   Pours a medium...|2.75|  2.5|  2.5| 2.5|    2.5| 2.52|      Vanilla Porter|          OH|     American Porter|              Winter| 6.0|     28094|Four String Brewi...|    Columbus|           OH| Brewery, Bar|        2.75|          2.5|          2.5|         2.5|            2.5|         2.52|       VanillaPorter|      AmericanPorter|Pours a medium br...|VanillaPorter Ame...|[vanillaporter, a...|[vanillaporter, a...|\n",
            "| 111891|       superspak|2016-12-04|   12 ounce can i...| 4.0|  4.0|  4.0| 4.0|    3.5|  3.9|      Vanilla Porter|          OH|     American Porter|              Winter| 6.0|     28094|Four String Brewi...|    Columbus|           OH| Brewery, Bar|         4.0|          4.0|          4.0|         4.0|            3.5|          3.9|       VanillaPorter|      AmericanPorter|12 ounce can into...|VanillaPorter Ame...|[vanillaporter, a...|[vanillaporter, a...|\n",
            "| 111891|     BEERchitect|2016-05-14|   Porter first a...| 4.0| 4.25|  4.0|3.75|    4.0| 4.04|      Vanilla Porter|          OH|     American Porter|              Winter| 6.0|     28094|Four String Brewi...|    Columbus|           OH| Brewery, Bar|         4.0|         4.25|          4.0|        3.75|            4.0|         4.04|       VanillaPorter|      AmericanPorter|Porter first and ...|VanillaPorter Ame...|[vanillaporter, a...|[vanillaporter, a...|\n",
            "| 111891|         barczar|2016-04-08|   Aroma is fudgy...|3.75| 3.75|  3.5|3.75|   3.75| 3.65|      Vanilla Porter|          OH|     American Porter|              Winter| 6.0|     28094|Four String Brewi...|    Columbus|           OH| Brewery, Bar|        3.75|         3.75|          3.5|        3.75|           3.75|         3.65|       VanillaPorter|      AmericanPorter|Aroma is fudgy wi...|VanillaPorter Ame...|[vanillaporter, a...|[vanillaporter, a...|\n",
            "+-------+----------------+----------+--------------------+----+-----+-----+----+-------+-----+--------------------+------------+--------------------+--------------------+----+----------+--------------------+------------+-------------+-------------+------------+-------------+-------------+------------+---------------+-------------+--------------------+--------------------+--------------------+--------------------+--------------------+--------------------+\n",
            "only showing top 20 rows\n",
            "\n"
          ],
          "name": "stdout"
        }
      ]
    },
    {
      "cell_type": "code",
      "metadata": {
        "colab": {
          "base_uri": "https://localhost:8080/"
        },
        "id": "vndQEu46-fDS",
        "outputId": "0489ee01-5856-4c5a-956c-e95b90126984"
      },
      "source": [
        "final_df.count()"
      ],
      "execution_count": 31,
      "outputs": [
        {
          "output_type": "execute_result",
          "data": {
            "text/plain": [
              "1973277"
            ]
          },
          "metadata": {
            "tags": []
          },
          "execution_count": 31
        }
      ]
    },
    {
      "cell_type": "code",
      "metadata": {
        "id": "IMQiTgvX2LaT"
      },
      "source": [
        "# Create w2v model hyperparameters\r\n",
        "#word2vec = Word2Vec(\r\n",
        "#    vectorSize=65,\r\n",
        "#    seed=42,\r\n",
        "#    inputCol=\"features\",\r\n",
        "#    outputCol=\"model\"\r\n",
        "#).setMaxIter(2)"
      ],
      "execution_count": null,
      "outputs": []
    },
    {
      "cell_type": "code",
      "metadata": {
        "id": "8CDRtnN40fUj"
      },
      "source": [
        "# Fit the model, this takes time\r\n",
        "#w2v_review_model = word2vec.fit(final_df)"
      ],
      "execution_count": null,
      "outputs": []
    },
    {
      "cell_type": "code",
      "metadata": {
        "id": "rolGrIte03Gq",
        "colab": {
          "base_uri": "https://localhost:8080/"
        },
        "outputId": "295a8fd2-8aed-40c4-abc7-dfb520504b16"
      },
      "source": [
        "# show some model vectors\r\n",
        "#w2v_review_model.getVectors().show()"
      ],
      "execution_count": null,
      "outputs": [
        {
          "output_type": "stream",
          "text": [
            "+--------------------+--------------------+\n",
            "|                word|              vector|\n",
            "+--------------------+--------------------+\n",
            "|               mells|[0.03909590840339...|\n",
            "|             tasties|[0.09013923257589...|\n",
            "|    sidebysidebyside|[0.20330214500427...|\n",
            "|        morph3/10/15|[-0.0720658451318...|\n",
            "|              profle|[-0.0295072738081...|\n",
            "|           professed|[-0.0607991032302...|\n",
            "|            macdaddy|[-0.0618058256804...|\n",
            "|brewer'spaleale(n...|[-0.2465905994176...|\n",
            "|               31211|[-0.1716884523630...|\n",
            "|palmettohopharves...|[-0.0251995716243...|\n",
            "|  experimentalj-hole|[-0.0857357680797...|\n",
            "|          machfive55|[-0.1270782351493...|\n",
            "|              300day|[0.03120961971580...|\n",
            "|          iteresting|[-0.0693334937095...|\n",
            "|          fivehopipa|[-0.2610330283641...|\n",
            "|               chary|[0.00651914766058...|\n",
            "|          nonfruited|[0.34797608852386...|\n",
            "|       eyewateringly|[0.15294347703456...|\n",
            "|100barrelseries#2...|[-0.1572935581207...|\n",
            "|               motts|[0.20096957683563...|\n",
            "+--------------------+--------------------+\n",
            "only showing top 20 rows\n",
            "\n"
          ],
          "name": "stdout"
        }
      ]
    },
    {
      "cell_type": "code",
      "metadata": {
        "id": "KkgsJOKwa79Q",
        "colab": {
          "base_uri": "https://localhost:8080/"
        },
        "outputId": "41ce92b6-5b95-4034-c23b-6241406a6151"
      },
      "source": [
        "# check the model accuracy by checking synonyms \r\n",
        "#w2v_review_model.findSynonymsArray(\"light\", 5)"
      ],
      "execution_count": null,
      "outputs": [
        {
          "output_type": "execute_result",
          "data": {
            "text/plain": [
              "[('medium', 0.6870060563087463),\n",
              " ('ligh', 0.6730795502662659),\n",
              " ('slight', 0.661352813243866),\n",
              " ('mild', 0.6593009829521179),\n",
              " ('mostly', 0.6529689431190491)]"
            ]
          },
          "metadata": {
            "tags": []
          },
          "execution_count": 28
        }
      ]
    },
    {
      "cell_type": "code",
      "metadata": {
        "id": "OYS_X64GSU9o"
      },
      "source": [
        "# write the model to disk\r\n",
        "#w2v_review_model.write().overwrite().save(\"/content/gdrive/MyDrive/x/review.md\")"
      ],
      "execution_count": null,
      "outputs": []
    },
    {
      "cell_type": "code",
      "metadata": {
        "id": "8He3lB9QuHx5"
      },
      "source": [
        "# Read the model from disk to confirm\r\n",
        "w2v_loaded_model = Word2VecModel.load('/content/gdrive/MyDrive/x/review.md')"
      ],
      "execution_count": 32,
      "outputs": []
    },
    {
      "cell_type": "code",
      "metadata": {
        "colab": {
          "base_uri": "https://localhost:8080/"
        },
        "id": "y6Si0OgqMTxU",
        "outputId": "e04d9f3c-fd88-4eb5-fc0f-c31406bd4ae6"
      },
      "source": [
        "# check to see if synonym is consistent with loaded model\r\n",
        "w2v_loaded_model.findSynonymsArray(\"light\", 5)"
      ],
      "execution_count": 33,
      "outputs": [
        {
          "output_type": "execute_result",
          "data": {
            "text/plain": [
              "[('medium', 0.6914238929748535),\n",
              " ('mostly', 0.6894241571426392),\n",
              " ('ligh', 0.6799790859222412),\n",
              " ('slight', 0.6678677201271057),\n",
              " ('mild', 0.6617092490196228)]"
            ]
          },
          "metadata": {
            "tags": []
          },
          "execution_count": 33
        }
      ]
    },
    {
      "cell_type": "code",
      "metadata": {
        "id": "lst9RbRuXhqr"
      },
      "source": [
        "# Transform the mode\r\n",
        "w2v_model_df = w2v_loaded_model.transform(final_df)"
      ],
      "execution_count": 34,
      "outputs": []
    },
    {
      "cell_type": "code",
      "metadata": {
        "colab": {
          "base_uri": "https://localhost:8080/"
        },
        "id": "wWKT30iTZVDf",
        "outputId": "b57ca1d5-c48d-4d96-9802-ecc48fcf0715"
      },
      "source": [
        "w2v_model_df.show()"
      ],
      "execution_count": 35,
      "outputs": [
        {
          "output_type": "stream",
          "text": [
            "+-------+----------------+----------+--------------------+----+-----+-----+----+-------+-----+--------------------+------------+--------------------+--------------------+----+----------+--------------------+------------+-------------+-------------+------------+-------------+-------------+------------+---------------+-------------+--------------------+--------------------+--------------------+--------------------+--------------------+--------------------+--------------------+\n",
            "|beer_id|        username|      date|                text|look|smell|taste|feel|overall|score|           beer_name|review_state|               style|        availability| abv|brewery_id|        brewery_name|brewery_city|brewery_state|brewery_types|look_numeric|smell_numeric|taste_numeric|feel_numeric|overall_numeric|score_numeric|          beer_clean|         style_clean|          clean_text|          Final_text|          token_text|            features|               model|\n",
            "+-------+----------------+----------+--------------------+----+-----+-----+----+-------+-----+--------------------+------------+--------------------+--------------------+----+----------+--------------------+------------+-------------+-------------+------------+-------------+-------------+------------+---------------+-------------+--------------------+--------------------+--------------------+--------------------+--------------------+--------------------+--------------------+\n",
            "| 271781|    bluejacket74|2017-03-17|   750 ml bottle,...| 4.0|  4.0|  4.0|4.25|    4.0| 4.03|Motorbreath Imper...|          OH|American Imperial...|Limited (brewed o...|10.8|     28094|Four String Brewi...|    Columbus|           OH| Brewery, Bar|         4.0|          4.0|          4.0|        4.25|            4.0|         4.03|MotorbreathImperi...|AmericanImperialS...|750 ml bottle 201...|MotorbreathImperi...|[motorbreathimper...|[motorbreathimper...|[0.01448507781083...|\n",
            "| 184647|      Try-em-all|2017-09-27|   Clear gold in ...| 4.0|  4.0|  3.5| 3.5|   3.75|  3.7|     Payback Pilsner|          OH|   Bohemian Pilsener|            Rotating| 5.1|     28094|Four String Brewi...|    Columbus|           OH| Brewery, Bar|         4.0|          4.0|          3.5|         3.5|           3.75|          3.7|      PaybackPilsner|    BohemianPilsener|Clear gold in col...|PaybackPilsner Bo...|[paybackpilsner, ...|[paybackpilsner, ...|[-0.0253503741696...|\n",
            "| 184647|ScorpioBeerLover|2017-03-22|   Reminds me of ...| 4.0|  4.0| 4.25|3.75|    4.0| 4.08|     Payback Pilsner|          OH|   Bohemian Pilsener|            Rotating| 5.1|     28094|Four String Brewi...|    Columbus|           OH| Brewery, Bar|         4.0|          4.0|         4.25|        3.75|            4.0|         4.08|      PaybackPilsner|    BohemianPilsener|Reminds me of pre...|PaybackPilsner Bo...|[paybackpilsner, ...|[paybackpilsner, ...|[0.18410651786969...|\n",
            "| 184647|        beergoot|2016-10-08|   Pale yellow bo...|3.25| 3.25|  3.5| 3.5|    3.5| 3.43|     Payback Pilsner|          OH|   Bohemian Pilsener|            Rotating| 5.1|     28094|Four String Brewi...|    Columbus|           OH| Brewery, Bar|        3.25|         3.25|          3.5|         3.5|            3.5|         3.43|      PaybackPilsner|    BohemianPilsener|Pale yellow body ...|PaybackPilsner Bo...|[paybackpilsner, ...|[paybackpilsner, ...|[0.06293463234656...|\n",
            "| 184647|   woodychandler|2016-09-25|   The CANQuest (...|3.75| 3.75|  3.5| 3.5|    3.5| 3.58|     Payback Pilsner|          OH|   Bohemian Pilsener|            Rotating| 5.1|     28094|Four String Brewi...|    Columbus|           OH| Brewery, Bar|        3.75|         3.75|          3.5|         3.5|            3.5|         3.58|      PaybackPilsner|    BohemianPilsener|The CANQuest tm i...|PaybackPilsner Bo...|[paybackpilsner, ...|[paybackpilsner, ...|[0.05097741415932...|\n",
            "| 184647|        WoodBrew|2016-07-14|   I got a Paybac...|3.75|  3.5|  3.5| 3.5|    3.5| 3.52|     Payback Pilsner|          OH|   Bohemian Pilsener|            Rotating| 5.1|     28094|Four String Brewi...|    Columbus|           OH| Brewery, Bar|        3.75|          3.5|          3.5|         3.5|            3.5|         3.52|      PaybackPilsner|    BohemianPilsener|I got a Payback P...|PaybackPilsner Bo...|[paybackpilsner, ...|[paybackpilsner, ...|[-0.0508729857910...|\n",
            "| 184647|     Brutaltruth|2016-01-15|   Enjoyed from t...|3.75| 3.25| 3.25| 3.5|    3.5| 3.36|     Payback Pilsner|          OH|   Bohemian Pilsener|            Rotating| 5.1|     28094|Four String Brewi...|    Columbus|           OH| Brewery, Bar|        3.75|         3.25|         3.25|         3.5|            3.5|         3.36|      PaybackPilsner|    BohemianPilsener|Enjoyed from the ...|PaybackPilsner Bo...|[paybackpilsner, ...|[paybackpilsner, ...|[0.00700588056351...|\n",
            "| 184647|     HeightsEats|2015-12-31|   Pours a golden...|3.75| 3.75|  4.0| 4.0|   3.75| 3.88|     Payback Pilsner|          OH|   Bohemian Pilsener|            Rotating| 5.1|     28094|Four String Brewi...|    Columbus|           OH| Brewery, Bar|        3.75|         3.75|          4.0|         4.0|           3.75|         3.88|      PaybackPilsner|    BohemianPilsener|Pours a golden ye...|PaybackPilsner Bo...|[paybackpilsner, ...|[paybackpilsner, ...|[0.05808807828245...|\n",
            "| 184647|       schoolboy|2015-10-05|   This thing is ...| 4.5|  3.5|  3.5| 3.5|   3.75| 3.61|     Payback Pilsner|          OH|   Bohemian Pilsener|            Rotating| 5.1|     28094|Four String Brewi...|    Columbus|           OH| Brewery, Bar|         4.5|          3.5|          3.5|         3.5|           3.75|         3.61|      PaybackPilsner|    BohemianPilsener|This thing is gor...|PaybackPilsner Bo...|[paybackpilsner, ...|[paybackpilsner, ...|[0.00684954653171...|\n",
            "| 184647|   GreenEggsHam1|2015-08-08|                  0%| 3.5|  3.5|  3.5|3.75|    3.5| 3.53|     Payback Pilsner|          OH|   Bohemian Pilsener|            Rotating| 5.1|     28094|Four String Brewi...|    Columbus|           OH| Brewery, Bar|         3.5|          3.5|          3.5|        3.75|            3.5|         3.53|      PaybackPilsner|    BohemianPilsener|                   0|PaybackPilsner Bo...|[paybackpilsner, ...|[paybackpilsner, ...|[0.10990913212299...|\n",
            "| 149366|        ONUMello|2016-03-26|\"   16oz draft A:...| 3.5|  3.0|  3.5| 3.5|    3.5| 3.38|          HELLHAMMER|          OH|            Rye Beer|Limited (brewed o...| 7.2|     28094|Four String Brewi...|    Columbus|           OH| Brewery, Bar|         3.5|          3.0|          3.5|         3.5|            3.5|         3.38|          HELLHAMMER|             RyeBeer|   16oz draft A D...|HELLHAMMER RyeBee...|[hellhammer, ryeb...|[hellhammer, ryeb...|[0.03865336287325...|\n",
            "| 149366|        DrJGR629|2015-01-14|   The chipotle p...|4.25|  4.0|  4.5|3.75|   4.25| 4.24|          HELLHAMMER|          OH|            Rye Beer|Limited (brewed o...| 7.2|     28094|Four String Brewi...|    Columbus|           OH| Brewery, Bar|        4.25|          4.0|          4.5|        3.75|           4.25|         4.24|          HELLHAMMER|             RyeBeer|The chipotle pepp...|HELLHAMMER RyeBee...|[hellhammer, ryeb...|[hellhammer, ryeb...|[-0.0377690620720...|\n",
            "| 111891|   Amnesia_Jones|2018-02-13|   I want this po...| 3.0|  3.0|  3.0| 3.0|    3.0|  3.0|      Vanilla Porter|          OH|     American Porter|              Winter| 6.0|     28094|Four String Brewi...|    Columbus|           OH| Brewery, Bar|         3.0|          3.0|          3.0|         3.0|            3.0|          3.0|       VanillaPorter|      AmericanPorter|I want this porte...|VanillaPorter Ame...|[vanillaporter, a...|[vanillaporter, a...|[0.07743978367320...|\n",
            "| 111891|       buschbeer|2017-12-13|   12 FL. OZ. bot...| 4.0|  4.0| 3.75| 4.0|   3.75| 3.85|      Vanilla Porter|          OH|     American Porter|              Winter| 6.0|     28094|Four String Brewi...|    Columbus|           OH| Brewery, Bar|         4.0|          4.0|         3.75|         4.0|           3.75|         3.85|       VanillaPorter|      AmericanPorter|12 FL OZ bottle S...|VanillaPorter Ame...|[vanillaporter, a...|[vanillaporter, a...|[0.03384895505777...|\n",
            "| 111891|      jojobird72|2017-08-28|   pretty good fo...|3.75|  3.0| 3.75| 3.0|   3.75|  3.5|      Vanilla Porter|          OH|     American Porter|              Winter| 6.0|     28094|Four String Brewi...|    Columbus|           OH| Brewery, Bar|        3.75|          3.0|         3.75|         3.0|           3.75|          3.5|       VanillaPorter|      AmericanPorter|pretty good for i...|VanillaPorter Ame...|[vanillaporter, a...|[vanillaporter, a...|[0.02083584428247...|\n",
            "| 111891|        WoodBrew|2016-12-31|   I bought a 6pc...|3.75| 3.75|  3.5| 3.0|    3.5| 3.53|      Vanilla Porter|          OH|     American Porter|              Winter| 6.0|     28094|Four String Brewi...|    Columbus|           OH| Brewery, Bar|        3.75|         3.75|          3.5|         3.0|            3.5|         3.53|       VanillaPorter|      AmericanPorter|I bought a 6pck a...|VanillaPorter Ame...|[vanillaporter, a...|[vanillaporter, a...|[0.13457064807415...|\n",
            "| 111891|      Oopssorryy|2016-12-25|   Pours a medium...|2.75|  2.5|  2.5| 2.5|    2.5| 2.52|      Vanilla Porter|          OH|     American Porter|              Winter| 6.0|     28094|Four String Brewi...|    Columbus|           OH| Brewery, Bar|        2.75|          2.5|          2.5|         2.5|            2.5|         2.52|       VanillaPorter|      AmericanPorter|Pours a medium br...|VanillaPorter Ame...|[vanillaporter, a...|[vanillaporter, a...|[0.05896031627939...|\n",
            "| 111891|       superspak|2016-12-04|   12 ounce can i...| 4.0|  4.0|  4.0| 4.0|    3.5|  3.9|      Vanilla Porter|          OH|     American Porter|              Winter| 6.0|     28094|Four String Brewi...|    Columbus|           OH| Brewery, Bar|         4.0|          4.0|          4.0|         4.0|            3.5|          3.9|       VanillaPorter|      AmericanPorter|12 ounce can into...|VanillaPorter Ame...|[vanillaporter, a...|[vanillaporter, a...|[-0.0022915382129...|\n",
            "| 111891|     BEERchitect|2016-05-14|   Porter first a...| 4.0| 4.25|  4.0|3.75|    4.0| 4.04|      Vanilla Porter|          OH|     American Porter|              Winter| 6.0|     28094|Four String Brewi...|    Columbus|           OH| Brewery, Bar|         4.0|         4.25|          4.0|        3.75|            4.0|         4.04|       VanillaPorter|      AmericanPorter|Porter first and ...|VanillaPorter Ame...|[vanillaporter, a...|[vanillaporter, a...|[0.10159241169859...|\n",
            "| 111891|         barczar|2016-04-08|   Aroma is fudgy...|3.75| 3.75|  3.5|3.75|   3.75| 3.65|      Vanilla Porter|          OH|     American Porter|              Winter| 6.0|     28094|Four String Brewi...|    Columbus|           OH| Brewery, Bar|        3.75|         3.75|          3.5|        3.75|           3.75|         3.65|       VanillaPorter|      AmericanPorter|Aroma is fudgy wi...|VanillaPorter Ame...|[vanillaporter, a...|[vanillaporter, a...|[0.08570952849079...|\n",
            "+-------+----------------+----------+--------------------+----+-----+-----+----+-------+-----+--------------------+------------+--------------------+--------------------+----+----------+--------------------+------------+-------------+-------------+------------+-------------+-------------+------------+---------------+-------------+--------------------+--------------------+--------------------+--------------------+--------------------+--------------------+--------------------+\n",
            "only showing top 20 rows\n",
            "\n"
          ],
          "name": "stdout"
        }
      ]
    },
    {
      "cell_type": "code",
      "metadata": {
        "id": "c9CqUtM0ZaYU"
      },
      "source": [
        "# Prepare the hyperparameters\r\n",
        "from pyspark.ml.regression import LinearRegression, LinearRegressionModel\r\n",
        "lin_model = LinearRegression(\r\n",
        "    maxIter=5,\r\n",
        "    regParam=0.3,\r\n",
        "    featuresCol=\"model\",\r\n",
        "    labelCol=\"feel_numeric\"\r\n",
        ")"
      ],
      "execution_count": 36,
      "outputs": []
    },
    {
      "cell_type": "code",
      "metadata": {
        "id": "fDr9FAVrcKvH"
      },
      "source": [
        "# split training and testing for the model (for temporary make the training set small as processing takes time)\r\n",
        "training, testing = w2v_model_df.randomSplit([0.01, 0.99])"
      ],
      "execution_count": 37,
      "outputs": []
    },
    {
      "cell_type": "code",
      "metadata": {
        "id": "AIPnHjT3bDLF"
      },
      "source": [
        "# Fit the look review to a model (takes time)\r\n",
        "lin_feel_train_model = lin_model.fit(training)"
      ],
      "execution_count": 38,
      "outputs": []
    },
    {
      "cell_type": "code",
      "metadata": {
        "id": "JtIRHVSk5a1t"
      },
      "source": [
        "# Save the model for later use\r\n",
        "lin_feel_train_model.write().overwrite().save(\"/content/gdrive/MyDrive/x/lin_feel_train.md\")"
      ],
      "execution_count": 39,
      "outputs": []
    },
    {
      "cell_type": "code",
      "metadata": {
        "id": "1NPhk5NDwua9"
      },
      "source": [
        "# Read the model\r\n",
        "loaded_lin_feel_train_model = LinearRegressionModel.load(\"/content/gdrive/MyDrive/x/lin_feel_train.md\")"
      ],
      "execution_count": 40,
      "outputs": []
    },
    {
      "cell_type": "code",
      "metadata": {
        "id": "gBxLYe08bYRU"
      },
      "source": [
        "# Transform the training data to peek at the predictions\r\n",
        "lin_feel_df = loaded_lin_feel_train_model.transform(training)"
      ],
      "execution_count": 42,
      "outputs": []
    },
    {
      "cell_type": "code",
      "metadata": {
        "colab": {
          "base_uri": "https://localhost:8080/"
        },
        "id": "1uCM2vEfDguf",
        "outputId": "0ae9e3d3-feb6-4d5e-9f1a-836238522a49"
      },
      "source": [
        "# show a sample of the predictions\r\n",
        "lin_feel_df.select('feel_numeric', 'prediction', 'Final_text').show(truncate=False)"
      ],
      "execution_count": 43,
      "outputs": [
        {
          "output_type": "stream",
          "text": [
            "+------------+------------------+-------------------------------------------------------------------------------------------------------------------------------------------------------------------------------------------------------------------------------------------------------------------------------------------------------------------------------------------------------------------------------------------------------------------------------------------------------------------------------------------------------------------------------------------------------------------------------------------------------------------------------------------------------------------------------------------------------------------------------------------------------------------------------------------------------------------------------------------------------------------------------------------------------------------------------------------------------------------------------------------------------------------------------------------------------------------------------------------------------------------------------------------------------------------------------------------------------------------------------------------------------------------------------------------------------------------------------------------------------------------------------------------------------------------------------------------------------------------------------------------------------------------------------------------------------------------------------------------------------------------------------------------------------------------------------------------------------------------------------------------------------------------------------------------------------------------------------------------------------------------------------------------------------------------------------------------------------------------------------------------------------------------------------------------------------------------------------------------------------------------------------------------------------------------------------------------------------------------------------------------------------------------------------------------------------------------------------------------------------------------------------------------------------------------------------------------------------------------------------------------------------------------------+\n",
            "|feel_numeric|prediction        |Final_text                                                                                                                                                                                                                                                                                                                                                                                                                                                                                                                                                                                                                                                                                                                                                                                                                                                                                                                                                                                                                                                                                                                                                                                                                                                                                                                                                                                                                                                                                                                                                                                                                                                                                                                                                                                                                                                                                                                                                                                                                                                                                                                                                                                                                                                                                                                                                                                                                                                                                                               |\n",
            "+------------+------------------+-------------------------------------------------------------------------------------------------------------------------------------------------------------------------------------------------------------------------------------------------------------------------------------------------------------------------------------------------------------------------------------------------------------------------------------------------------------------------------------------------------------------------------------------------------------------------------------------------------------------------------------------------------------------------------------------------------------------------------------------------------------------------------------------------------------------------------------------------------------------------------------------------------------------------------------------------------------------------------------------------------------------------------------------------------------------------------------------------------------------------------------------------------------------------------------------------------------------------------------------------------------------------------------------------------------------------------------------------------------------------------------------------------------------------------------------------------------------------------------------------------------------------------------------------------------------------------------------------------------------------------------------------------------------------------------------------------------------------------------------------------------------------------------------------------------------------------------------------------------------------------------------------------------------------------------------------------------------------------------------------------------------------------------------------------------------------------------------------------------------------------------------------------------------------------------------------------------------------------------------------------------------------------------------------------------------------------------------------------------------------------------------------------------------------------------------------------------------------------------------------------------------------+\n",
            "|4.5         |3.780128478978492 |CrookedStaveOrigins-BourbonBarrelCherry AmericanWildAle 375ml poured into tulip glass on 111713 A It actually pours a relatively unattractive brown color with purplish undertones Very dark  I cannot see through to the other side of the glass No head but excellent lacing S Bourbon oak sour cherries a little bit of funk Its not a terribly overpowering or complex nose but it does let you know what to expect The bourbon is more pronounced in the nose than expected T Sour cherries green apple oak a little bit of bourbon and a little bit of blue cheese funk This is a relatively sour beer  much more sour than regular Origins It has a very clean palate that doesnt leave much on the tongue postsip Good carbonation Dry mouthfeel O Not as good as Raspberry Origins but still a very good sour Its cleaner and drier than Raspberry Origins and the flavor isnt quite as complex However its more refreshing and infinitely more complex than regular Origins A good sour but nothing mindblowing                                                                                                                                                                                                                                                                                                                                                                                                                                                                                                                                                                                                                                                                                                                                                                                                                                                                                                                                                                                                                                                                                                                                                                                                                                                                                                                                                                                                                                                                                                |\n",
            "|4.5         |4.165699056098575 |GameOfJones EnglishSweet/MilkStout Batch  214  215 a black as night Thin khaki head which recedes fairly quickly s Not prominent but chocolate milk with healthy splash of extra cream and a hefty serving of cacao Vanilla comes in slightly as it warms t Follows on from the nose Creamy cream and chocolately chocolate Milk Chocolate chocolate milk you get the picture m Creamy Full body medium carbonation o Very tasty milk stout from Pipeworks Ive not had many in this style but its among the best I have had On any given sip the 10 is hardly detectable but it accumulates very nicely over the course of the bottle Only quibble is I wish the vanilla was more prominent Nicely done                                                                                                                                                                                                                                                                                                                                                                                                                                                                                                                                                                                                                                                                                                                                                                                                                                                                                                                                                                                                                                                                                                                                                                                                                                                                                                                                                                                                                                                                                                                                                                                                                                                                                                                                                                                                                  |\n",
            "|4.25        |4.034015949182246 |GameOfJones EnglishSweet/MilkStout Had this on 20161108 in Columbia PA from a 22oz bottle It is from 2014 batch 545546 A  Opaque darkbrownalmostblack with almost no head or lace S  Mostly sweet chocolate Smells nice but not complex T  Fullon chocolate leaning more to the milk than the dark side Some roasted grain but not char Just a bit of earthy spice Lots of vanilla Roasted bitterness balances the chocolate in the finish Alcohol just about imperceptible M  Mediumheavy body and lightmedium carbonation Smooth and creamy Lucious O  If you like chocolate youre going to like this Not complex but then again does chocolate cake need to be complex                                                                                                                                                                                                                                                                                                                                                                                                                                                                                                                                                                                                                                                                                                                                                                                                                                                                                                                                                                                                                                                                                                                                                                                                                                                                                                                                                                                                                                                                                                                                                                                                                                                                                                                                                                                                                                                |\n",
            "|4.25        |4.116233140043118 |ColoradoWildSageMountainSaison BelgianSaison 0                                                                                                                                                                                                                                                                                                                                                                                                                                                                                                                                                                                                                                                                                                                                                                                                                                                                                                                                                                                                                                                                                                                                                                                                                                                                                                                                                                                                                                                                                                                                                                                                                                                                                                                                                                                                                                                                                                                                                                                                                                                                                                                                                                                                                                                                                                                                                                                                                                                                           |\n",
            "|4.0         |3.720507344200187 |L'BrettD'Blackberry AmericanWildAle 375ml bottle thanks to the person I trustee for Appearance was a pinkish red not quite purple color no head Aroma was brett touch of funk a mild hint of fruit Flavor was slightly tart brett again only the mildest hint of the blackberries and I know what they taste like since i eat them weekly I was a little disappointed in this and felt like the regular Lbrett Dor that Ive had is better I feel bad for you guys who shelled out the money for the reserve club last year the beers have been overwhelmingly disappointing                                                                                                                                                                                                                                                                                                                                                                                                                                                                                                                                                                                                                                                                                                                                                                                                                                                                                                                                                                                                                                                                                                                                                                                                                                                                                                                                                                                                                                                                                                                                                                                                                                                                                                                                                                                                                                                                                                                                              |\n",
            "|3.5         |3.5887679254563283|L'BrettD'Blackberry AmericanWildAle Shared with JLindros A  Poured into a Kate the Great tulip a nice almost crystal clear light purple hue with a thin white head that fades almost immediately to leave thin halo S  Aromas of light generic berry faint barrel light tartness Very subtle and almost bland T  Taste is better than the nose really faint berry notes light funk light barrel some buttery oak soft tartness that grows stronger as the beer opens M  Mouthfeel is lightly carbonated rather thin O  Overall this beer was really really light and subtle almost too a fault Needs more pop Serving type Bottle                                                                                                                                                                                                                                                                                                                                                                                                                                                                                                                                                                                                                                                                                                                                                                                                                                                                                                                                                                                                                                                                                                                                                                                                                                                                                                                                                                                                                                                                                                                                                                                                                                                                                                                                                                                                                                                                                        |\n",
            "|4.75        |4.29973629062027  |AmericanBeauty AmericanImperialIPA Just had my first it wont be my last                                                                                                                                                                                                                                                                                                                                                                                                                                                                                                                                                                                                                                                                                                                                                                                                                                                                                                                                                                                                                                                                                                                                                                                                                                                                                                                                                                                                                                                                                                                                                                                                                                                                                                                                                                                                                                                                                                                                                                                                                                                                                                                                                                                                                                                                                                                                                                                                                                                  |\n",
            "|4.25        |4.172681738807787 |ReaperVs.Unicorn AmericanBarleywine Pours clear dark mahogany brown with a light tan thin head that retains nicely Smell has really tropical fruit hops mainly mango and pineapple Butterscotch candy like yeast along with a rich caramel malt work amazingly together Rye is not overdone and adds a nice light spicy note in the finish More rye shows up in the taste and adds a nice spicy note on the front end along with a rich mildly sweet caramel malt Mild bitterness follows along with some some slightly piney hop flavors Mouthfeel is nice and thick Super rich with mild small bubble carbonation gives this a velvety rich body Overall another amazing beer from pipeworks                                                                                                                                                                                                                                                                                                                                                                                                                                                                                                                                                                                                                                                                                                                                                                                                                                                                                                                                                                                                                                                                                                                                                                                                                                                                                                                                                                                                                                                                                                                                                                                                                                                                                                                                                                                                                           |\n",
            "|2.5         |3.554856506813504 |MapleBreakfastStout AmericanStout On tap at The Reservoir in Waterbury VT This one pours a medium dark brown with a creamy white head and a little bit of lacing This smells like slightly artificial maple and caramel with no real coffee present is actual coffee added to this or just maple The maple taste doesnt feel quite as artificial or sugary as the aroma which is good considering it says they used real maple Theres some sweet caramel and nuttiness but no coffee Some roasted malt would help too This is just so thinly flavored its hard to get behind it The mouthfeel has no heft to it and its quite insubstantial Its basically a super thin brown ale with nothing really to suggest its a stout This is the most disappointing aspect of the beer This has some major flaws to it                                                                                                                                                                                                                                                                                                                                                                                                                                                                                                                                                                                                                                                                                                                                                                                                                                                                                                                                                                                                                                                                                                                                                                                                                                                                                                                                                                                                                                                                                                                                                                                                                                                                                                            |\n",
            "|3.5         |3.8270811603251875|MapleBreakfastStout AmericanStout On tap at the brewery This seemed to be the one everyone wanted a growler of and with a mouthwatering name like thatalbeit perhaps bringing Founders to mindhow could you not want this especially if youre a local Appeared like a normal hearty stout brownishblack pour with a small beige head that sank to a ringlet and left a few strands of lacing on the glass Pretty standard aroma of roasty dark malts a little dark chocolate Again in the taste pretty basic stuff dark malts dark chocolate some roasty coffee bitterness with a mild earthy hop sensation I didnt really get much maple out of this other than a subtle sweetness in the background that could easily have just been a malt contribution Body was medium mouthfeel was solid and robust Nothing extraordinary going on here but its still a solid stout that drank easily                                                                                                                                                                                                                                                                                                                                                                                                                                                                                                                                                                                                                                                                                                                                                                                                                                                                                                                                                                                                                                                                                                                                                                                                                                                                                                                                                                                                                                                                                                                                                                                                                              |\n",
            "|3.75        |3.7045524837312276|MapleBreakfastStout AmericanStout Vermont Brewfest Cant remember if it was on tap of from a can It pours medium brown color I can also tell its a lighter ABV beer by the way it sits in the glass I was unaware of the ABV so I was a little surprised to see it so brown and watery Aroma is brimming with maple syrup Blonde roast coffee Cola and burnt caramel The flavor doesnt skimp on said maple flavor Its prominent It looks like a brown ale and sorta tastes like one too Its barely a stout Still the combo of maple brown sugar roast and caramel is provocative I liked this one a bunch Not really a stout in my book but if you want maple here she lies                                                                                                                                                                                                                                                                                                                                                                                                                                                                                                                                                                                                                                                                                                                                                                                                                                                                                                                                                                                                                                                                                                                                                                                                                                                                                                                                                                                                                                                                                                                                                                                                                                                                                                                                                                                                                                               |\n",
            "|4.0         |3.66079821468975  |MapleBreakfastStout AmericanStout Pour is dark brown red edges tan bubbly head Nose is light maple lots of overcooked grain slightly burnt malt dark berry malt sweetness Flavor is more burnt faint maple acrid coffee light sugary sweetness Body is highlight light soft well carbonated                                                                                                                                                                                                                                                                                                                                                                                                                                                                                                                                                                                                                                                                                                                                                                                                                                                                                                                                                                                                                                                                                                                                                                                                                                                                                                                                                                                                                                                                                                                                                                                                                                                                                                                                                                                                                                                                                                                                                                                                                                                                                                                                                                                                                              |\n",
            "|4.0         |4.003230883614865 |Beejay'sWeirdoBrownAle AmericanBrownAle 22 oz bottle with no apparent bottled on date present Batch 224 Another creation from Pipeworks expectations are moderately high based on this knowledge Poured into an oversized wine glass per the death of my snifter A  Ah yes pours a beautiful chestnut brown colored body with three fluffy fingers of tan head Head retention is very nice considering this beers high 950 abv Nice soapy lacing Looks very nice indeed S  Smell is of dirty earthy hops some grapefruit some peppery rye chocolate malt maybe a hint of smoke and some cream T  Taste follows the nose well The Nelson Sauvin hops really show themselves here also Lots of fresh hop bitterness but more of a dirty earthy hop presence instead of fruity which fits the profile nicely Some red  amber malt roast some rye cracked peppercorns grapefruit  some orange cream presence on the end M  Feel is smooth and creamy bitter and resinous on the finish with earthy and grapefruit hops present A very nice aftertaste Medium bodied with good carbonation Overall another winner from Pipeworks These guys can do no wrong Highly recommended if you can find yourself a bottle Pipeworks Beejays Weirdo Brown Ale 45                                                                                                                                                                                                                                                                                                                                                                                                                                                                                                                                                                                                                                                                                                                                                                                                                                                                                                                                                                                                                                                                                                                                                                                                                                                                        |\n",
            "|4.0         |3.688984664451928 |Kvasir ScottishGruit/AncientHerbedAle On tap at Dogfish Head Brewings and Eats in Reboboth Beach DE This one pours a night dark pinkish red with very little head or lacing Smells like red slightly tart berries Not sure what lingonberries actually taste like but I get a kinda cranberry and cherry thing going on This is a pretty tasty Ancient Ale from Dogfish Head the berries impart a fresh and tasty red fruit flavor Theres a bit of a herbspice flavor as well but I cant really decipher what they are specifically Theres a nice syrupy honey flavor here as well This is medium bodied with a juicy mouthfeel Very drinkable sweet but not too much so                                                                                                                                                                                                                                                                                                                                                                                                                                                                                                                                                                                                                                                                                                                                                                                                                                                                                                                                                                                                                                                                                                                                                                                                                                                                                                                                                                                                                                                                                                                                                                                                                                                                                                                                                                                                                                                 |\n",
            "|3.75        |3.855461802003723 |Kvasir ScottishGruit/AncientHerbedAle Pours a three finger white head that fades quickly leaving no lace Nice crystal clear amber color Good carbonation and medium bodied Light fruity nose and flavor is tart fruit some sweetness high ABV is hidden Take out the hops and it would be close to a wine Pricey at 1400 for a 750ml bottle from Tullys Beer  Wine Wells Me                                                                                                                                                                                                                                                                                                                                                                                                                                                                                                                                                                                                                                                                                                                                                                                                                                                                                                                                                                                                                                                                                                                                                                                                                                                                                                                                                                                                                                                                                                                                                                                                                                                                                                                                                                                                                                                                                                                                                                                                                                                                                                                                              |\n",
            "|3.5         |3.845383053271126 |Kvasir ScottishGruit/AncientHerbedAle This brew pours a clear copper color with a small fluffy white head remnants of which remain on the brew until the end There is moderate lacing and heavy carbonation The smell is heavy with berries wet hay Some sweet malt and light spice is present but the berries dominate This brew is tart and sweet Lots of dominate berry flavor The berries dominate from beginning to end There is a sweet malt backbone with just enough hops to keep the whole thing from being too sweet The feel is thin but the tartness and carbonation make the mouth pucker There is a slight dryness to the brew but no aftertaste Overall this is a well balanced fruit beer Not too sweet like most fruit beers This strikes the right balance and I could see myself having a couple of these on a hot summer day The fact that it is based on an ancient Scandinavian brew is a plus for me since I am a history buff                                                                                                                                                                                                                                                                                                                                                                                                                                                                                                                                                                                                                                                                                                                                                                                                                                                                                                                                                                                                                                                                                                                                                                                                                                                                                                                                                                                                                                                                                                                                                                    |\n",
            "|4.0         |4.50723290391111  |BarrelAgedTheJonesDog AmericanImperialStout Heaven Hills barrels Smooth mouth feel Big barrel notes of vanilla oak and some boozy heat Semisweet but drinkable enjoyed cold first and let it warm down Body is medium to the tongue not great but not bad Thankful I got to try it                                                                                                                                                                                                                                                                                                                                                                                                                                                                                                                                                                                                                                                                                                                                                                                                                                                                                                                                                                                                                                                                                                                                                                                                                                                                                                                                                                                                                                                                                                                                                                                                                                                                                                                                                                                                                                                                                                                                                                                                                                                                                                                                                                                                                                       |\n",
            "|4.0         |4.148927341095147 |BarrelAgedTheMurderous BritishBarleywine Reviewing the Barrel Aged Murderous from Pipeworks Brewing Company out of Chicago Illinois This beer is an English style barleywine Murderous aged for 8 months in 12 year old Elijah Craig 12 bourbon barrels Score 92 December 2013 release Served in a Hopslam snifter and enjoyed on 012213 Appearance Brown in color murky in appearance Pours a wisp of tan head that quickly settles to a ring around the glass Not much lacing but nice oily legs Just about what youd expect from a barrel aged barleywine 45 Smell Bourbonforward nose big malt character Oak toffee vanilla and dates Touch of booze too but nothing beyond what youd expect from a fresh barrel aged beer that is 11 ABV The aromatics are well integrated 4255 Taste Oak toffee and brown sugarforward bourbon flavor dominate on the palate Caramel malt backbone Some leatherlike flavor towards the finish I would never profess to be able to pick out a barrel blind but the taste substantially more so than the nose has that same distinct brown sugar and caramel forward bourbon flavor that Elijah Craig aged beers just seem to have Finishes just like taking a shot of Elijah Craig without the booze burn  a mix of brown sugar sweet dark fruit toffee oaky vanilla a hint of burnt sugar and a little spice linger nicely fading mostly to residual malt and caramel flavor Really smooth and no real booziness here While this one certainly smelled like an 11 ABV beer it does not taste like one The flavors really coat the whole palate on this brew and linger well As the beer warms more vanilla comes through  particularly towards the finish 4255 Mouthfeel Not quite full bodied very low carbonation Honestly I think this brew is a bit undercarbonated but the style does not demand much carbonation and this one was certainly not flat Oily mouthfeel with a nice maltiness to it 45 Overall A really excellent early barrel project from Pipeworks This is a tasty well integrated barrel aged barleywine albeit one that is very bourbon barrel character heavy Pipeworks keeps on making new beers at a ridiculous rate experimenting with different recipes and styles rather than focusing on brewing the same bankable beers years round I look forward to seeing how that attitude and approach to brewing will translate into their barrel program Fans of Central Waters Bourbon Barrel Barleywine should seek this one out Cost 10 for a 12 oz bottle|\n",
            "|3.75        |3.92848898257946  |SweetRepute AmericanWheatwineAle 0 Was lucky to walk into the store just as they were unpacking this and entering it into the computer A  A nice looking orange with a strong looking white cap on top Foam recedes after a few minutes leaving nice lacing on the glass S  Very nice  vanilla caramel bourbon sweet malt a little maple syrup and a hint of booziness T  Very much the same as the aroma not getting a lot of wheat here but the bourbon is very prominent and warming throughout the finish with some maple syrup coming in towards the end and vanilla throughout M  A bit syrupy with low carbonation fairly full bodied Curious what this would be like with more carb but its fine the way it is O  This is a very enjoyable beer with all the flavors blended nicely Will be looking for another bottle of this for sure                                                                                                                                                                                                                                                                                                                                                                                                                                                                                                                                                                                                                                                                                                                                                                                                                                                                                                                                                                                                                                                                                                                                                                                                                                                                                                                                                                                                                                                                                                                                                                                                                                                                          |\n",
            "|3.5         |3.9000301351153204|ImperialEndOfDays EnglishSweet/MilkStout Pours thick solid black in color head is a thin film that dissipates to a ring around The glass Smell has notes of rich dark chocolate with a very faint creamy sour aroma There is a little bit of vanilla and cinnamon are detectable on the back end along with a big sweet aroma Taste follows the nose with some sweet chocolate malt and alcohol coming through first Creamy vanilla some cinnamon and more sweetness follow with a little bit of heat from the peppers on the exhale Mouthfeel is huge Incredibly thick body and not a whole lot of carbonation leave this a viscous sipping beer Very sticky and a moderate alcohol feel                                                                                                                                                                                                                                                                                                                                                                                                                                                                                                                                                                                                                                                                                                                                                                                                                                                                                                                                                                                                                                                                                                                                                                                                                                                                                                                                                                                                                                                                                                                                                                                                                                                                                                                                                                                                                                |\n",
            "+------------+------------------+-------------------------------------------------------------------------------------------------------------------------------------------------------------------------------------------------------------------------------------------------------------------------------------------------------------------------------------------------------------------------------------------------------------------------------------------------------------------------------------------------------------------------------------------------------------------------------------------------------------------------------------------------------------------------------------------------------------------------------------------------------------------------------------------------------------------------------------------------------------------------------------------------------------------------------------------------------------------------------------------------------------------------------------------------------------------------------------------------------------------------------------------------------------------------------------------------------------------------------------------------------------------------------------------------------------------------------------------------------------------------------------------------------------------------------------------------------------------------------------------------------------------------------------------------------------------------------------------------------------------------------------------------------------------------------------------------------------------------------------------------------------------------------------------------------------------------------------------------------------------------------------------------------------------------------------------------------------------------------------------------------------------------------------------------------------------------------------------------------------------------------------------------------------------------------------------------------------------------------------------------------------------------------------------------------------------------------------------------------------------------------------------------------------------------------------------------------------------------------------------------------------------------+\n",
            "only showing top 20 rows\n",
            "\n"
          ],
          "name": "stdout"
        }
      ]
    },
    {
      "cell_type": "code",
      "metadata": {
        "colab": {
          "base_uri": "https://localhost:8080/",
          "height": 374
        },
        "id": "C2mIukgwrNp3",
        "outputId": "25ef82b0-905f-41c6-a953-4d85e08480f8"
      },
      "source": [
        "#Experiment\r\n",
        "from pyspark.ml.evaluation import MulticlassClassificationEvaluator\r\n",
        "\r\n",
        "#evaluator = MulticlassClassificationEvaluator(\r\n",
        "#    labelCol=\"feel_numeric\", \r\n",
        "#    predictionCol=\"prediction\", \r\n",
        "#    metricName=\"accuracy\"\r\n",
        "#)\r\n",
        "\r\n",
        "#accuracy = evaluator.evaluate(lin_feel_df)\r\n",
        "\r\n",
        "#print(\"Accuracy of model at predicting reviews was: %f\" % accuracy)"
      ],
      "execution_count": 44,
      "outputs": [
        {
          "output_type": "error",
          "ename": "KeyboardInterrupt",
          "evalue": "ignored",
          "traceback": [
            "\u001b[0;31m---------------------------------------------------------------------------\u001b[0m",
            "\u001b[0;31mKeyboardInterrupt\u001b[0m                         Traceback (most recent call last)",
            "\u001b[0;32m<ipython-input-44-659daf35494a>\u001b[0m in \u001b[0;36m<module>\u001b[0;34m()\u001b[0m\n\u001b[1;32m      8\u001b[0m )\n\u001b[1;32m      9\u001b[0m \u001b[0;34m\u001b[0m\u001b[0m\n\u001b[0;32m---> 10\u001b[0;31m \u001b[0maccuracy\u001b[0m \u001b[0;34m=\u001b[0m \u001b[0mevaluator\u001b[0m\u001b[0;34m.\u001b[0m\u001b[0mevaluate\u001b[0m\u001b[0;34m(\u001b[0m\u001b[0mlin_feel_df\u001b[0m\u001b[0;34m)\u001b[0m\u001b[0;34m\u001b[0m\u001b[0;34m\u001b[0m\u001b[0m\n\u001b[0m\u001b[1;32m     11\u001b[0m \u001b[0;34m\u001b[0m\u001b[0m\n\u001b[1;32m     12\u001b[0m \u001b[0mprint\u001b[0m\u001b[0;34m(\u001b[0m\u001b[0;34m\"Accuracy of model at predicting reviews was: %f\"\u001b[0m \u001b[0;34m%\u001b[0m \u001b[0maccuracy\u001b[0m\u001b[0;34m)\u001b[0m\u001b[0;34m\u001b[0m\u001b[0;34m\u001b[0m\u001b[0m\n",
            "\u001b[0;32m/content/spark-2.4.7-bin-hadoop2.7/python/pyspark/ml/evaluation.py\u001b[0m in \u001b[0;36mevaluate\u001b[0;34m(self, dataset, params)\u001b[0m\n\u001b[1;32m     69\u001b[0m                 \u001b[0;32mreturn\u001b[0m \u001b[0mself\u001b[0m\u001b[0;34m.\u001b[0m\u001b[0mcopy\u001b[0m\u001b[0;34m(\u001b[0m\u001b[0mparams\u001b[0m\u001b[0;34m)\u001b[0m\u001b[0;34m.\u001b[0m\u001b[0m_evaluate\u001b[0m\u001b[0;34m(\u001b[0m\u001b[0mdataset\u001b[0m\u001b[0;34m)\u001b[0m\u001b[0;34m\u001b[0m\u001b[0;34m\u001b[0m\u001b[0m\n\u001b[1;32m     70\u001b[0m             \u001b[0;32melse\u001b[0m\u001b[0;34m:\u001b[0m\u001b[0;34m\u001b[0m\u001b[0;34m\u001b[0m\u001b[0m\n\u001b[0;32m---> 71\u001b[0;31m                 \u001b[0;32mreturn\u001b[0m \u001b[0mself\u001b[0m\u001b[0;34m.\u001b[0m\u001b[0m_evaluate\u001b[0m\u001b[0;34m(\u001b[0m\u001b[0mdataset\u001b[0m\u001b[0;34m)\u001b[0m\u001b[0;34m\u001b[0m\u001b[0;34m\u001b[0m\u001b[0m\n\u001b[0m\u001b[1;32m     72\u001b[0m         \u001b[0;32melse\u001b[0m\u001b[0;34m:\u001b[0m\u001b[0;34m\u001b[0m\u001b[0;34m\u001b[0m\u001b[0m\n\u001b[1;32m     73\u001b[0m             \u001b[0;32mraise\u001b[0m \u001b[0mValueError\u001b[0m\u001b[0;34m(\u001b[0m\u001b[0;34m\"Params must be a param map but got %s.\"\u001b[0m \u001b[0;34m%\u001b[0m \u001b[0mtype\u001b[0m\u001b[0;34m(\u001b[0m\u001b[0mparams\u001b[0m\u001b[0;34m)\u001b[0m\u001b[0;34m)\u001b[0m\u001b[0;34m\u001b[0m\u001b[0;34m\u001b[0m\u001b[0m\n",
            "\u001b[0;32m/content/spark-2.4.7-bin-hadoop2.7/python/pyspark/ml/evaluation.py\u001b[0m in \u001b[0;36m_evaluate\u001b[0;34m(self, dataset)\u001b[0m\n\u001b[1;32m     99\u001b[0m         \"\"\"\n\u001b[1;32m    100\u001b[0m         \u001b[0mself\u001b[0m\u001b[0;34m.\u001b[0m\u001b[0m_transfer_params_to_java\u001b[0m\u001b[0;34m(\u001b[0m\u001b[0;34m)\u001b[0m\u001b[0;34m\u001b[0m\u001b[0;34m\u001b[0m\u001b[0m\n\u001b[0;32m--> 101\u001b[0;31m         \u001b[0;32mreturn\u001b[0m \u001b[0mself\u001b[0m\u001b[0;34m.\u001b[0m\u001b[0m_java_obj\u001b[0m\u001b[0;34m.\u001b[0m\u001b[0mevaluate\u001b[0m\u001b[0;34m(\u001b[0m\u001b[0mdataset\u001b[0m\u001b[0;34m.\u001b[0m\u001b[0m_jdf\u001b[0m\u001b[0;34m)\u001b[0m\u001b[0;34m\u001b[0m\u001b[0;34m\u001b[0m\u001b[0m\n\u001b[0m\u001b[1;32m    102\u001b[0m \u001b[0;34m\u001b[0m\u001b[0m\n\u001b[1;32m    103\u001b[0m     \u001b[0;32mdef\u001b[0m \u001b[0misLargerBetter\u001b[0m\u001b[0;34m(\u001b[0m\u001b[0mself\u001b[0m\u001b[0;34m)\u001b[0m\u001b[0;34m:\u001b[0m\u001b[0;34m\u001b[0m\u001b[0;34m\u001b[0m\u001b[0m\n",
            "\u001b[0;32m/content/spark-2.4.7-bin-hadoop2.7/python/lib/py4j-0.10.7-src.zip/py4j/java_gateway.py\u001b[0m in \u001b[0;36m__call__\u001b[0;34m(self, *args)\u001b[0m\n\u001b[1;32m   1253\u001b[0m             \u001b[0mproto\u001b[0m\u001b[0;34m.\u001b[0m\u001b[0mEND_COMMAND_PART\u001b[0m\u001b[0;34m\u001b[0m\u001b[0;34m\u001b[0m\u001b[0m\n\u001b[1;32m   1254\u001b[0m \u001b[0;34m\u001b[0m\u001b[0m\n\u001b[0;32m-> 1255\u001b[0;31m         \u001b[0manswer\u001b[0m \u001b[0;34m=\u001b[0m \u001b[0mself\u001b[0m\u001b[0;34m.\u001b[0m\u001b[0mgateway_client\u001b[0m\u001b[0;34m.\u001b[0m\u001b[0msend_command\u001b[0m\u001b[0;34m(\u001b[0m\u001b[0mcommand\u001b[0m\u001b[0;34m)\u001b[0m\u001b[0;34m\u001b[0m\u001b[0;34m\u001b[0m\u001b[0m\n\u001b[0m\u001b[1;32m   1256\u001b[0m         return_value = get_return_value(\n\u001b[1;32m   1257\u001b[0m             answer, self.gateway_client, self.target_id, self.name)\n",
            "\u001b[0;32m/content/spark-2.4.7-bin-hadoop2.7/python/lib/py4j-0.10.7-src.zip/py4j/java_gateway.py\u001b[0m in \u001b[0;36msend_command\u001b[0;34m(self, command, retry, binary)\u001b[0m\n\u001b[1;32m    983\u001b[0m         \u001b[0mconnection\u001b[0m \u001b[0;34m=\u001b[0m \u001b[0mself\u001b[0m\u001b[0;34m.\u001b[0m\u001b[0m_get_connection\u001b[0m\u001b[0;34m(\u001b[0m\u001b[0;34m)\u001b[0m\u001b[0;34m\u001b[0m\u001b[0;34m\u001b[0m\u001b[0m\n\u001b[1;32m    984\u001b[0m         \u001b[0;32mtry\u001b[0m\u001b[0;34m:\u001b[0m\u001b[0;34m\u001b[0m\u001b[0;34m\u001b[0m\u001b[0m\n\u001b[0;32m--> 985\u001b[0;31m             \u001b[0mresponse\u001b[0m \u001b[0;34m=\u001b[0m \u001b[0mconnection\u001b[0m\u001b[0;34m.\u001b[0m\u001b[0msend_command\u001b[0m\u001b[0;34m(\u001b[0m\u001b[0mcommand\u001b[0m\u001b[0;34m)\u001b[0m\u001b[0;34m\u001b[0m\u001b[0;34m\u001b[0m\u001b[0m\n\u001b[0m\u001b[1;32m    986\u001b[0m             \u001b[0;32mif\u001b[0m \u001b[0mbinary\u001b[0m\u001b[0;34m:\u001b[0m\u001b[0;34m\u001b[0m\u001b[0;34m\u001b[0m\u001b[0m\n\u001b[1;32m    987\u001b[0m                 \u001b[0;32mreturn\u001b[0m \u001b[0mresponse\u001b[0m\u001b[0;34m,\u001b[0m \u001b[0mself\u001b[0m\u001b[0;34m.\u001b[0m\u001b[0m_create_connection_guard\u001b[0m\u001b[0;34m(\u001b[0m\u001b[0mconnection\u001b[0m\u001b[0;34m)\u001b[0m\u001b[0;34m\u001b[0m\u001b[0;34m\u001b[0m\u001b[0m\n",
            "\u001b[0;32m/content/spark-2.4.7-bin-hadoop2.7/python/lib/py4j-0.10.7-src.zip/py4j/java_gateway.py\u001b[0m in \u001b[0;36msend_command\u001b[0;34m(self, command)\u001b[0m\n\u001b[1;32m   1150\u001b[0m \u001b[0;34m\u001b[0m\u001b[0m\n\u001b[1;32m   1151\u001b[0m         \u001b[0;32mtry\u001b[0m\u001b[0;34m:\u001b[0m\u001b[0;34m\u001b[0m\u001b[0;34m\u001b[0m\u001b[0m\n\u001b[0;32m-> 1152\u001b[0;31m             \u001b[0manswer\u001b[0m \u001b[0;34m=\u001b[0m \u001b[0msmart_decode\u001b[0m\u001b[0;34m(\u001b[0m\u001b[0mself\u001b[0m\u001b[0;34m.\u001b[0m\u001b[0mstream\u001b[0m\u001b[0;34m.\u001b[0m\u001b[0mreadline\u001b[0m\u001b[0;34m(\u001b[0m\u001b[0;34m)\u001b[0m\u001b[0;34m[\u001b[0m\u001b[0;34m:\u001b[0m\u001b[0;34m-\u001b[0m\u001b[0;36m1\u001b[0m\u001b[0;34m]\u001b[0m\u001b[0;34m)\u001b[0m\u001b[0;34m\u001b[0m\u001b[0;34m\u001b[0m\u001b[0m\n\u001b[0m\u001b[1;32m   1153\u001b[0m             \u001b[0mlogger\u001b[0m\u001b[0;34m.\u001b[0m\u001b[0mdebug\u001b[0m\u001b[0;34m(\u001b[0m\u001b[0;34m\"Answer received: {0}\"\u001b[0m\u001b[0;34m.\u001b[0m\u001b[0mformat\u001b[0m\u001b[0;34m(\u001b[0m\u001b[0manswer\u001b[0m\u001b[0;34m)\u001b[0m\u001b[0;34m)\u001b[0m\u001b[0;34m\u001b[0m\u001b[0;34m\u001b[0m\u001b[0m\n\u001b[1;32m   1154\u001b[0m             \u001b[0;32mif\u001b[0m \u001b[0manswer\u001b[0m\u001b[0;34m.\u001b[0m\u001b[0mstartswith\u001b[0m\u001b[0;34m(\u001b[0m\u001b[0mproto\u001b[0m\u001b[0;34m.\u001b[0m\u001b[0mRETURN_MESSAGE\u001b[0m\u001b[0;34m)\u001b[0m\u001b[0;34m:\u001b[0m\u001b[0;34m\u001b[0m\u001b[0;34m\u001b[0m\u001b[0m\n",
            "\u001b[0;32m/usr/lib/python3.7/socket.py\u001b[0m in \u001b[0;36mreadinto\u001b[0;34m(self, b)\u001b[0m\n\u001b[1;32m    587\u001b[0m         \u001b[0;32mwhile\u001b[0m \u001b[0;32mTrue\u001b[0m\u001b[0;34m:\u001b[0m\u001b[0;34m\u001b[0m\u001b[0;34m\u001b[0m\u001b[0m\n\u001b[1;32m    588\u001b[0m             \u001b[0;32mtry\u001b[0m\u001b[0;34m:\u001b[0m\u001b[0;34m\u001b[0m\u001b[0;34m\u001b[0m\u001b[0m\n\u001b[0;32m--> 589\u001b[0;31m                 \u001b[0;32mreturn\u001b[0m \u001b[0mself\u001b[0m\u001b[0;34m.\u001b[0m\u001b[0m_sock\u001b[0m\u001b[0;34m.\u001b[0m\u001b[0mrecv_into\u001b[0m\u001b[0;34m(\u001b[0m\u001b[0mb\u001b[0m\u001b[0;34m)\u001b[0m\u001b[0;34m\u001b[0m\u001b[0;34m\u001b[0m\u001b[0m\n\u001b[0m\u001b[1;32m    590\u001b[0m             \u001b[0;32mexcept\u001b[0m \u001b[0mtimeout\u001b[0m\u001b[0;34m:\u001b[0m\u001b[0;34m\u001b[0m\u001b[0;34m\u001b[0m\u001b[0m\n\u001b[1;32m    591\u001b[0m                 \u001b[0mself\u001b[0m\u001b[0;34m.\u001b[0m\u001b[0m_timeout_occurred\u001b[0m \u001b[0;34m=\u001b[0m \u001b[0;32mTrue\u001b[0m\u001b[0;34m\u001b[0m\u001b[0;34m\u001b[0m\u001b[0m\n",
            "\u001b[0;31mKeyboardInterrupt\u001b[0m: "
          ]
        }
      ]
    },
    {
      "cell_type": "code",
      "metadata": {
        "colab": {
          "base_uri": "https://localhost:8080/"
        },
        "id": "3hE5sTBh4FAj",
        "outputId": "2373fe47-e460-405c-c951-003e33172b06"
      },
      "source": [
        "print(training.rdd.getNumPartitions())"
      ],
      "execution_count": null,
      "outputs": [
        {
          "output_type": "stream",
          "text": [
            "14\n"
          ],
          "name": "stdout"
        }
      ]
    },
    {
      "cell_type": "code",
      "metadata": {
        "id": "65rlw7rr4iYw"
      },
      "source": [
        "partitioned_df = training.repartition(28)"
      ],
      "execution_count": null,
      "outputs": []
    },
    {
      "cell_type": "code",
      "metadata": {
        "colab": {
          "base_uri": "https://localhost:8080/"
        },
        "id": "DOEZUGim4xuA",
        "outputId": "7965bdcc-cc56-483b-d563-04264acd447e"
      },
      "source": [
        "print(partitioned_df.rdd.getNumPartitions())"
      ],
      "execution_count": null,
      "outputs": [
        {
          "output_type": "stream",
          "text": [
            "28\n"
          ],
          "name": "stdout"
        }
      ]
    },
    {
      "cell_type": "code",
      "metadata": {
        "colab": {
          "base_uri": "https://localhost:8080/"
        },
        "id": "SRX4oziuUNth",
        "outputId": "699abe7e-9080-4e01-cbe0-f8957253a130"
      },
      "source": [
        "print(partitioned_df.count())"
      ],
      "execution_count": null,
      "outputs": [
        {
          "output_type": "stream",
          "text": [
            "19467\n"
          ],
          "name": "stdout"
        }
      ]
    },
    {
      "cell_type": "code",
      "metadata": {
        "colab": {
          "base_uri": "https://localhost:8080/"
        },
        "id": "6r6sPMOEICno",
        "outputId": "ff10b270-7ee0-4749-ae84-58a41a4c140d"
      },
      "source": [
        "print(spark.sparkContext.defaultParallelism)"
      ],
      "execution_count": null,
      "outputs": [
        {
          "output_type": "stream",
          "text": [
            "2\n"
          ],
          "name": "stdout"
        }
      ]
    },
    {
      "cell_type": "code",
      "metadata": {
        "colab": {
          "base_uri": "https://localhost:8080/"
        },
        "id": "SRSoLaViJXAl",
        "outputId": "a56176dc-60ba-4290-e9de-9a2990567e67"
      },
      "source": [
        "s = spark.sparkContext._jsc.sc().getExecutorMemoryStatus().keys()\r\n",
        "print(s)\r\n",
        "l = str(s).replace(\"Set(\",\"\").replace(\")\",\"\").split(\", \")\r\n",
        "print(l)\r\n",
        "\r\n",
        "d = set()\r\n",
        "for i in l:\r\n",
        "    d.add(i.split(\":\")[0])\r\n",
        "print(len(d))\r\n",
        "\r\n",
        "print(spark.sparkContext._jsc.sc().getExecutorMemoryStatus().size())"
      ],
      "execution_count": null,
      "outputs": [
        {
          "output_type": "stream",
          "text": [
            "Set(492190d9606c:38029)\n",
            "['492190d9606c:38029']\n",
            "1\n",
            "1\n"
          ],
          "name": "stdout"
        }
      ]
    },
    {
      "cell_type": "code",
      "metadata": {
        "colab": {
          "base_uri": "https://localhost:8080/"
        },
        "id": "byqCvmZaG6LH",
        "outputId": "18370c45-e8c7-40ca-b35c-ab5d3de87d30"
      },
      "source": [
        "spark.sparkContext._conf.getAll() "
      ],
      "execution_count": null,
      "outputs": [
        {
          "output_type": "execute_result",
          "data": {
            "text/plain": [
              "[('spark.driver.port', '33275'),\n",
              " ('spark.app.id', 'local-1615332036948'),\n",
              " ('spark.rdd.compress', 'True'),\n",
              " ('spark.serializer.objectStreamReset', '100'),\n",
              " ('spark.master', 'local[*]'),\n",
              " ('spark.executor.id', 'driver'),\n",
              " ('spark.submit.deployMode', 'client'),\n",
              " ('spark.driver.host', '492190d9606c'),\n",
              " ('spark.app.name', 'word2vec'),\n",
              " ('spark.ui.showConsoleProgress', 'true')]"
            ]
          },
          "metadata": {
            "tags": []
          },
          "execution_count": 40
        }
      ]
    },
    {
      "cell_type": "code",
      "metadata": {
        "id": "KAoICFSuQH6g"
      },
      "source": [
        "spark.sparkContext._conf.get('spark.driver.maxResultSize')"
      ],
      "execution_count": null,
      "outputs": []
    },
    {
      "cell_type": "code",
      "metadata": {
        "colab": {
          "base_uri": "https://localhost:8080/"
        },
        "id": "OGVjvrc-MRWO",
        "outputId": "6d525276-73aa-413d-c159-5837cae10af6"
      },
      "source": [
        "!cat /proc/cpuinfo"
      ],
      "execution_count": null,
      "outputs": [
        {
          "output_type": "stream",
          "text": [
            "processor\t: 0\n",
            "vendor_id\t: AuthenticAMD\n",
            "cpu family\t: 23\n",
            "model\t\t: 49\n",
            "model name\t: AMD EPYC 7B12\n",
            "stepping\t: 0\n",
            "microcode\t: 0x1000065\n",
            "cpu MHz\t\t: 2250.000\n",
            "cache size\t: 512 KB\n",
            "physical id\t: 0\n",
            "siblings\t: 2\n",
            "core id\t\t: 0\n",
            "cpu cores\t: 1\n",
            "apicid\t\t: 0\n",
            "initial apicid\t: 0\n",
            "fpu\t\t: yes\n",
            "fpu_exception\t: yes\n",
            "cpuid level\t: 13\n",
            "wp\t\t: yes\n",
            "flags\t\t: fpu vme de pse tsc msr pae mce cx8 apic sep mtrr pge mca cmov pat pse36 clflush mmx fxsr sse sse2 ht syscall nx mmxext fxsr_opt pdpe1gb rdtscp lm constant_tsc rep_good nopl xtopology nonstop_tsc cpuid extd_apicid tsc_known_freq pni pclmulqdq ssse3 fma cx16 sse4_1 sse4_2 movbe popcnt aes xsave avx f16c rdrand hypervisor lahf_lm cmp_legacy cr8_legacy abm sse4a misalignsse 3dnowprefetch osvw topoext ssbd ibrs ibpb stibp vmmcall fsgsbase tsc_adjust bmi1 avx2 smep bmi2 rdseed adx smap clflushopt clwb sha_ni xsaveopt xsavec xgetbv1 clzero xsaveerptr arat npt nrip_save umip rdpid\n",
            "bugs\t\t: sysret_ss_attrs spectre_v1 spectre_v2 spec_store_bypass\n",
            "bogomips\t: 4500.00\n",
            "TLB size\t: 3072 4K pages\n",
            "clflush size\t: 64\n",
            "cache_alignment\t: 64\n",
            "address sizes\t: 48 bits physical, 48 bits virtual\n",
            "power management:\n",
            "\n",
            "processor\t: 1\n",
            "vendor_id\t: AuthenticAMD\n",
            "cpu family\t: 23\n",
            "model\t\t: 49\n",
            "model name\t: AMD EPYC 7B12\n",
            "stepping\t: 0\n",
            "microcode\t: 0x1000065\n",
            "cpu MHz\t\t: 2250.000\n",
            "cache size\t: 512 KB\n",
            "physical id\t: 0\n",
            "siblings\t: 2\n",
            "core id\t\t: 0\n",
            "cpu cores\t: 1\n",
            "apicid\t\t: 1\n",
            "initial apicid\t: 1\n",
            "fpu\t\t: yes\n",
            "fpu_exception\t: yes\n",
            "cpuid level\t: 13\n",
            "wp\t\t: yes\n",
            "flags\t\t: fpu vme de pse tsc msr pae mce cx8 apic sep mtrr pge mca cmov pat pse36 clflush mmx fxsr sse sse2 ht syscall nx mmxext fxsr_opt pdpe1gb rdtscp lm constant_tsc rep_good nopl xtopology nonstop_tsc cpuid extd_apicid tsc_known_freq pni pclmulqdq ssse3 fma cx16 sse4_1 sse4_2 movbe popcnt aes xsave avx f16c rdrand hypervisor lahf_lm cmp_legacy cr8_legacy abm sse4a misalignsse 3dnowprefetch osvw topoext ssbd ibrs ibpb stibp vmmcall fsgsbase tsc_adjust bmi1 avx2 smep bmi2 rdseed adx smap clflushopt clwb sha_ni xsaveopt xsavec xgetbv1 clzero xsaveerptr arat npt nrip_save umip rdpid\n",
            "bugs\t\t: sysret_ss_attrs spectre_v1 spectre_v2 spec_store_bypass\n",
            "bogomips\t: 4500.00\n",
            "TLB size\t: 3072 4K pages\n",
            "clflush size\t: 64\n",
            "cache_alignment\t: 64\n",
            "address sizes\t: 48 bits physical, 48 bits virtual\n",
            "power management:\n",
            "\n"
          ],
          "name": "stdout"
        }
      ]
    },
    {
      "cell_type": "code",
      "metadata": {
        "colab": {
          "base_uri": "https://localhost:8080/"
        },
        "id": "O7W8Z8uUMYyS",
        "outputId": "d501de96-e079-4cf7-a620-f69563fe5192"
      },
      "source": [
        "!cat /proc/meminfo"
      ],
      "execution_count": null,
      "outputs": [
        {
          "output_type": "stream",
          "text": [
            "MemTotal:       13333568 kB\n",
            "MemFree:          373764 kB\n",
            "MemAvailable:   11164900 kB\n",
            "Buffers:          115264 kB\n",
            "Cached:         10581148 kB\n",
            "SwapCached:            0 kB\n",
            "Active:          4418788 kB\n",
            "Inactive:        8105484 kB\n",
            "Active(anon):    1701420 kB\n",
            "Inactive(anon):      360 kB\n",
            "Active(file):    2717368 kB\n",
            "Inactive(file):  8105124 kB\n",
            "Unevictable:           0 kB\n",
            "Mlocked:               0 kB\n",
            "SwapTotal:             0 kB\n",
            "SwapFree:              0 kB\n",
            "Dirty:               968 kB\n",
            "Writeback:             0 kB\n",
            "AnonPages:       1827760 kB\n",
            "Mapped:           140948 kB\n",
            "Shmem:              1124 kB\n",
            "Slab:             336356 kB\n",
            "SReclaimable:     294532 kB\n",
            "SUnreclaim:        41824 kB\n",
            "KernelStack:        5716 kB\n",
            "PageTables:         9956 kB\n",
            "NFS_Unstable:          0 kB\n",
            "Bounce:                0 kB\n",
            "WritebackTmp:          0 kB\n",
            "CommitLimit:     6666784 kB\n",
            "Committed_AS:    5137308 kB\n",
            "VmallocTotal:   34359738367 kB\n",
            "VmallocUsed:           0 kB\n",
            "VmallocChunk:          0 kB\n",
            "Percpu:             1024 kB\n",
            "AnonHugePages:         0 kB\n",
            "ShmemHugePages:        0 kB\n",
            "ShmemPmdMapped:        0 kB\n",
            "HugePages_Total:       0\n",
            "HugePages_Free:        0\n",
            "HugePages_Rsvd:        0\n",
            "HugePages_Surp:        0\n",
            "Hugepagesize:       2048 kB\n",
            "Hugetlb:               0 kB\n",
            "DirectMap4k:       87244 kB\n",
            "DirectMap2M:     5154816 kB\n",
            "DirectMap1G:    10485760 kB\n"
          ],
          "name": "stdout"
        }
      ]
    },
    {
      "cell_type": "code",
      "metadata": {
        "colab": {
          "base_uri": "https://localhost:8080/"
        },
        "id": "2JWmBZ85Mzx_",
        "outputId": "03723e5c-945b-426f-f4d2-bdcd26930df2"
      },
      "source": [
        "!ps -ef | grep java"
      ],
      "execution_count": null,
      "outputs": [
        {
          "output_type": "stream",
          "text": [
            "root        1273       1  0 16:21 ?        00:03:20 [java] <defunct>\n",
            "root        3755       1  0 16:52 ?        00:01:26 [java] <defunct>\n",
            "root        5184       1 78 17:16 ?        04:50:27 [java] <defunct>\n",
            "root       14299   13418 29 23:20 ?        00:02:12 /usr/lib/jvm/java-8-openjdk-amd64/bin/java -cp /content/spark-2.4.7-bin-hadoop2.7/conf/:/content/spark-2.4.7-bin-hadoop2.7/jars/* -Xmx1g org.apache.spark.deploy.SparkSubmit --conf spark.app.name=word2vec pyspark-shell\n",
            "root       14716   13418  0 23:28 ?        00:00:00 /bin/bash -c ps -ef | grep java\n",
            "root       14718   14716  0 23:28 ?        00:00:00 grep java\n"
          ],
          "name": "stdout"
        }
      ]
    }
  ]
}