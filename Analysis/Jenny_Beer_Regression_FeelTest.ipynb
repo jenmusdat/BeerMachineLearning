{
  "nbformat": 4,
  "nbformat_minor": 0,
  "metadata": {
    "colab": {
      "name": "Jenny_Beer_Regression_FeelTest.ipynb",
      "provenance": [],
      "collapsed_sections": [],
      "include_colab_link": true
    },
    "kernelspec": {
      "name": "python3",
      "display_name": "Python 3"
    }
  },
  "cells": [
    {
      "cell_type": "markdown",
      "metadata": {
        "id": "view-in-github",
        "colab_type": "text"
      },
      "source": [
        "<a href=\"https://colab.research.google.com/github/jenmusdat/Project3_BeerQuality/blob/main/Analysis/Jenny_Beer_Regression_FeelTest.ipynb\" target=\"_parent\"><img src=\"https://colab.research.google.com/assets/colab-badge.svg\" alt=\"Open In Colab\"/></a>"
      ]
    },
    {
      "cell_type": "code",
      "metadata": {
        "id": "nKhORyErYc9H",
        "colab": {
          "base_uri": "https://localhost:8080/"
        },
        "outputId": "a84e3451-9edf-42af-a971-9de3681c02b8"
      },
      "source": [
        "!apt-get update\n",
        "!apt-get install openjdk-8-jdk-headless -qq > /dev/null\n",
        "!wget -q http://www-us.apache.org/dist/spark/spark-2.4.7/spark-2.4.7-bin-hadoop2.7.tgz\n",
        "!tar xf spark-2.4.7-bin-hadoop2.7.tgz\n",
        "!pip install -q findspark\n",
        "\n",
        "# Set Environment Variables\n",
        "import os\n",
        "os.environ[\"JAVA_HOME\"] = \"/usr/lib/jvm/java-8-openjdk-amd64\"\n",
        "os.environ[\"SPARK_HOME\"] = \"/content/spark-2.4.7-bin-hadoop2.7\"\n",
        "\n",
        "# Start a SparkSession\n",
        "import findspark\n",
        "findspark.init()"
      ],
      "execution_count": null,
      "outputs": [
        {
          "output_type": "stream",
          "text": [
            "\r0% [Working]\r            \rHit:1 http://ppa.launchpad.net/c2d4u.team/c2d4u4.0+/ubuntu bionic InRelease\n",
            "\r0% [Waiting for headers] [Connecting to security.ubuntu.com] [Connected to clou\r                                                                               \rHit:2 http://archive.ubuntu.com/ubuntu bionic InRelease\n",
            "\r                                                                               \rGet:3 http://archive.ubuntu.com/ubuntu bionic-updates InRelease [88.7 kB]\n",
            "\r                                                                               \rHit:4 http://ppa.launchpad.net/cran/libgit2/ubuntu bionic InRelease\n",
            "\r0% [3 InRelease 47.5 kB/88.7 kB 54%] [Connecting to security.ubuntu.com] [Conne\r0% [1 InRelease gpgv 15.9 kB] [3 InRelease 47.5 kB/88.7 kB 54%] [Connecting to \r                                                                               \rHit:5 http://ppa.launchpad.net/deadsnakes/ppa/ubuntu bionic InRelease\n",
            "\r0% [1 InRelease gpgv 15.9 kB] [3 InRelease 69.2 kB/88.7 kB 78%] [Connecting to \r0% [1 InRelease gpgv 15.9 kB] [Connecting to security.ubuntu.com] [Waiting for \r                                                                               \rGet:6 http://archive.ubuntu.com/ubuntu bionic-backports InRelease [74.6 kB]\n",
            "Hit:7 http://ppa.launchpad.net/graphics-drivers/ppa/ubuntu bionic InRelease\n",
            "Get:8 http://security.ubuntu.com/ubuntu bionic-security InRelease [88.7 kB]\n",
            "Hit:9 https://cloud.r-project.org/bin/linux/ubuntu bionic-cran40/ InRelease\n",
            "Ign:10 https://developer.download.nvidia.com/compute/cuda/repos/ubuntu1804/x86_64  InRelease\n",
            "Ign:11 https://developer.download.nvidia.com/compute/machine-learning/repos/ubuntu1804/x86_64  InRelease\n",
            "Hit:12 https://developer.download.nvidia.com/compute/cuda/repos/ubuntu1804/x86_64  Release\n",
            "Hit:13 https://developer.download.nvidia.com/compute/machine-learning/repos/ubuntu1804/x86_64  Release\n",
            "Fetched 252 kB in 2s (103 kB/s)\n",
            "Reading package lists... Done\n"
          ],
          "name": "stdout"
        }
      ]
    },
    {
      "cell_type": "code",
      "metadata": {
        "id": "r31ccm3kuaxG",
        "colab": {
          "base_uri": "https://localhost:8080/"
        },
        "outputId": "b699edaa-9c26-4d7b-9793-3efdab4c6adc"
      },
      "source": [
        "from google.colab import drive\n",
        "drive.mount('/content/gdrive')"
      ],
      "execution_count": null,
      "outputs": [
        {
          "output_type": "stream",
          "text": [
            "Drive already mounted at /content/gdrive; to attempt to forcibly remount, call drive.mount(\"/content/gdrive\", force_remount=True).\n"
          ],
          "name": "stdout"
        }
      ]
    },
    {
      "cell_type": "code",
      "metadata": {
        "id": "wB9hKKClZxgP"
      },
      "source": [
        "# Start a SparkSession\n",
        "from pyspark.sql import SparkSession\n",
        "spark = SparkSession.builder.appName(\"word2vec\").getOrCreate()"
      ],
      "execution_count": null,
      "outputs": []
    },
    {
      "cell_type": "code",
      "metadata": {
        "id": "n3iL5WYZolKS"
      },
      "source": [
        "# Import needed libs\n",
        "from pyspark.sql.types import StructType, StructField, StringType\n",
        "from pyspark.ml.feature import Word2Vec, Word2VecModel\n",
        "import string\n"
      ],
      "execution_count": null,
      "outputs": []
    },
    {
      "cell_type": "code",
      "metadata": {
        "colab": {
          "base_uri": "https://localhost:8080/"
        },
        "id": "hFZlgstGaSlQ",
        "outputId": "b546d6f5-e099-4582-ec2e-8f54948444e6"
      },
      "source": [
        "# Read in data from S3 Buckets\r\n",
        "from pyspark import SparkFiles\r\n",
        "url =\"/content/gdrive/MyDrive/Project3_BeerQuality/Resources/reviews_beer_brewery.csv\"\r\n",
        "spark.sparkContext.addFile(url)\r\n",
        "df = spark.read.csv(SparkFiles.get(\"reviews_beer_brewery.csv\"), header=True)\r\n",
        "\r\n",
        "# Show DataFrame\r\n",
        "df.show()"
      ],
      "execution_count": null,
      "outputs": [
        {
          "output_type": "stream",
          "text": [
            "+-------+----------------+----------+--------------------+--------------------+--------------------+--------------------+--------------------+--------------------+--------------------+--------------------+------------+--------------------+--------------------+----+----------+--------------------+---------------+-------------+-----------------+\n",
            "|beer_id|        username|      date|                text|                look|               smell|               taste|                feel|             overall|               score|           beer_name|review_state|               style|        availability| abv|brewery_id|        brewery_name|   brewery_city|brewery_state|    brewery_types|\n",
            "+-------+----------------+----------+--------------------+--------------------+--------------------+--------------------+--------------------+--------------------+--------------------+--------------------+------------+--------------------+--------------------+----+----------+--------------------+---------------+-------------+-----------------+\n",
            "| 271781|    bluejacket74|2017-03-17|   750 ml bottle,...|                 4.0|                 4.0|                 4.0|                4.25|                 4.0|                4.03|Motorbreath Imper...|          OH|American Imperial...|Limited (brewed o...|10.8|     28094|Four String Brewi...|       Columbus|           OH|     Brewery, Bar|\n",
            "| 184647|      Try-em-all|2017-09-27|   Clear gold in ...|                 4.0|                 4.0|                 3.5|                 3.5|                3.75|                 3.7|     Payback Pilsner|          OH|   Bohemian Pilsener|            Rotating| 5.1|     28094|Four String Brewi...|       Columbus|           OH|     Brewery, Bar|\n",
            "| 184647|ScorpioBeerLover|2017-03-22|   Reminds me of ...|                 4.0|                 4.0|                4.25|                3.75|                 4.0|                4.08|     Payback Pilsner|          OH|   Bohemian Pilsener|            Rotating| 5.1|     28094|Four String Brewi...|       Columbus|           OH|     Brewery, Bar|\n",
            "| 184647|        beergoot|2016-10-08|   Pale yellow bo...|                3.25|                3.25|                 3.5|                 3.5|                 3.5|                3.43|     Payback Pilsner|          OH|   Bohemian Pilsener|            Rotating| 5.1|     28094|Four String Brewi...|       Columbus|           OH|     Brewery, Bar|\n",
            "| 184647|   woodychandler|2016-09-25|   The CANQuest (...|                3.75|                3.75|                 3.5|                 3.5|                 3.5|                3.58|     Payback Pilsner|          OH|   Bohemian Pilsener|            Rotating| 5.1|     28094|Four String Brewi...|       Columbus|           OH|     Brewery, Bar|\n",
            "| 184647|        WoodBrew|2016-07-14|   I got a Paybac...|                3.75|                 3.5|                 3.5|                 3.5|                 3.5|                3.52|     Payback Pilsner|          OH|   Bohemian Pilsener|            Rotating| 5.1|     28094|Four String Brewi...|       Columbus|           OH|     Brewery, Bar|\n",
            "| 184647|        SaltofOH|2016-07-09|\"   Can with \"\"11...| 2016? DFH Tulip....| no retention. S:...| transitions to a...| heavier side of ...| and have had thi...| and it was okay....| it was much bett...|         2.5|                 3.0|                2.75| 2.5|      2.75|                2.77|Payback Pilsner|           OH|Bohemian Pilsener|\n",
            "| 184647|     Brutaltruth|2016-01-15|   Enjoyed from t...|                3.75|                3.25|                3.25|                 3.5|                 3.5|                3.36|     Payback Pilsner|          OH|   Bohemian Pilsener|            Rotating| 5.1|     28094|Four String Brewi...|       Columbus|           OH|     Brewery, Bar|\n",
            "| 184647|     HeightsEats|2015-12-31|   Pours a golden...|                3.75|                3.75|                 4.0|                 4.0|                3.75|                3.88|     Payback Pilsner|          OH|   Bohemian Pilsener|            Rotating| 5.1|     28094|Four String Brewi...|       Columbus|           OH|     Brewery, Bar|\n",
            "| 184647|       schoolboy|2015-10-05|   This thing is ...|                 4.5|                 3.5|                 3.5|                 3.5|                3.75|                3.61|     Payback Pilsner|          OH|   Bohemian Pilsener|            Rotating| 5.1|     28094|Four String Brewi...|       Columbus|           OH|     Brewery, Bar|\n",
            "| 184647|   GreenEggsHam1|2015-08-08|                  0%|                 3.5|                 3.5|                 3.5|                3.75|                 3.5|                3.53|     Payback Pilsner|          OH|   Bohemian Pilsener|            Rotating| 5.1|     28094|Four String Brewi...|       Columbus|           OH|     Brewery, Bar|\n",
            "| 149366|        ONUMello|2016-03-26|\"   16oz draft A:...|                 3.5|                 3.0|                 3.5|                 3.5|                 3.5|                3.38|          HELLHAMMER|          OH|            Rye Beer|Limited (brewed o...| 7.2|     28094|Four String Brewi...|       Columbus|           OH|     Brewery, Bar|\n",
            "| 149366|        DrJGR629|2015-01-14|   The chipotle p...|                4.25|                 4.0|                 4.5|                3.75|                4.25|                4.24|          HELLHAMMER|          OH|            Rye Beer|Limited (brewed o...| 7.2|     28094|Four String Brewi...|       Columbus|           OH|     Brewery, Bar|\n",
            "| 111891|   Amnesia_Jones|2018-02-13|   I want this po...|                 3.0|                 3.0|                 3.0|                 3.0|                 3.0|                 3.0|      Vanilla Porter|          OH|     American Porter|              Winter| 6.0|     28094|Four String Brewi...|       Columbus|           OH|     Brewery, Bar|\n",
            "| 111891|       buschbeer|2017-12-13|   12 FL. OZ. bot...|                 4.0|                 4.0|                3.75|                 4.0|                3.75|                3.85|      Vanilla Porter|          OH|     American Porter|              Winter| 6.0|     28094|Four String Brewi...|       Columbus|           OH|     Brewery, Bar|\n",
            "| 111891|      jojobird72|2017-08-28|   pretty good fo...|                3.75|                 3.0|                3.75|                 3.0|                3.75|                 3.5|      Vanilla Porter|          OH|     American Porter|              Winter| 6.0|     28094|Four String Brewi...|       Columbus|           OH|     Brewery, Bar|\n",
            "| 111891|        WoodBrew|2016-12-31|   I bought a 6pc...|                3.75|                3.75|                 3.5|                 3.0|                 3.5|                3.53|      Vanilla Porter|          OH|     American Porter|              Winter| 6.0|     28094|Four String Brewi...|       Columbus|           OH|     Brewery, Bar|\n",
            "| 111891|      Oopssorryy|2016-12-25|   Pours a medium...|                2.75|                 2.5|                 2.5|                 2.5|                 2.5|                2.52|      Vanilla Porter|          OH|     American Porter|              Winter| 6.0|     28094|Four String Brewi...|       Columbus|           OH|     Brewery, Bar|\n",
            "| 111891|       superspak|2016-12-04|   12 ounce can i...|                 4.0|                 4.0|                 4.0|                 4.0|                 3.5|                 3.9|      Vanilla Porter|          OH|     American Porter|              Winter| 6.0|     28094|Four String Brewi...|       Columbus|           OH|     Brewery, Bar|\n",
            "| 111891|     BEERchitect|2016-05-14|   Porter first a...|                 4.0|                4.25|                 4.0|                3.75|                 4.0|                4.04|      Vanilla Porter|          OH|     American Porter|              Winter| 6.0|     28094|Four String Brewi...|       Columbus|           OH|     Brewery, Bar|\n",
            "+-------+----------------+----------+--------------------+--------------------+--------------------+--------------------+--------------------+--------------------+--------------------+--------------------+------------+--------------------+--------------------+----+----------+--------------------+---------------+-------------+-----------------+\n",
            "only showing top 20 rows\n",
            "\n"
          ],
          "name": "stdout"
        }
      ]
    },
    {
      "cell_type": "code",
      "metadata": {
        "colab": {
          "base_uri": "https://localhost:8080/"
        },
        "id": "3xlBXyWJTqK6",
        "outputId": "769470b1-496f-4e81-a814-89626d131365"
      },
      "source": [
        "# Check the schema for numeric conversion\r\n",
        "df.printSchema"
      ],
      "execution_count": null,
      "outputs": [
        {
          "output_type": "execute_result",
          "data": {
            "text/plain": [
              "<bound method DataFrame.printSchema of DataFrame[beer_id: string, username: string, date: string, text: string, look: string, smell: string, taste: string, feel: string, overall: string, score: string, beer_name: string, review_state: string, style: string, availability: string, abv: string, brewery_id: string, brewery_name: string, brewery_city: string, brewery_state: string, brewery_types: string]>"
            ]
          },
          "metadata": {
            "tags": []
          },
          "execution_count": 6
        }
      ]
    },
    {
      "cell_type": "code",
      "metadata": {
        "colab": {
          "base_uri": "https://localhost:8080/"
        },
        "id": "lw_DP46h9hBg",
        "outputId": "0abe6ec1-da7c-4e75-f8cd-1e0fab83b52e"
      },
      "source": [
        "df.count()"
      ],
      "execution_count": null,
      "outputs": [
        {
          "output_type": "execute_result",
          "data": {
            "text/plain": [
              "2127677"
            ]
          },
          "metadata": {
            "tags": []
          },
          "execution_count": 7
        }
      ]
    },
    {
      "cell_type": "code",
      "metadata": {
        "id": "xrYN9AD3T1gA"
      },
      "source": [
        "# remove alpha characters from data set on review numerics\r\n",
        "from pyspark.sql.functions import regexp_extract, col\r\n",
        "pattern = r'^\\d+.\\d+$'\r\n",
        "df = df.filter(regexp_extract(col('look'), pattern, 0) != '')"
      ],
      "execution_count": null,
      "outputs": []
    },
    {
      "cell_type": "code",
      "metadata": {
        "colab": {
          "base_uri": "https://localhost:8080/"
        },
        "id": "WUy5a6mVWdPH",
        "outputId": "30733a97-c5ee-40fe-b541-b57718635cb5"
      },
      "source": [
        "# confirm look, smell, taste, overall, and score\r\n",
        "df.show()"
      ],
      "execution_count": null,
      "outputs": [
        {
          "output_type": "stream",
          "text": [
            "+-------+----------------+----------+--------------------+----+-----+-----+----+-------+-----+--------------------+------------+--------------------+--------------------+----+----------+--------------------+------------+-------------+-------------+\n",
            "|beer_id|        username|      date|                text|look|smell|taste|feel|overall|score|           beer_name|review_state|               style|        availability| abv|brewery_id|        brewery_name|brewery_city|brewery_state|brewery_types|\n",
            "+-------+----------------+----------+--------------------+----+-----+-----+----+-------+-----+--------------------+------------+--------------------+--------------------+----+----------+--------------------+------------+-------------+-------------+\n",
            "| 271781|    bluejacket74|2017-03-17|   750 ml bottle,...| 4.0|  4.0|  4.0|4.25|    4.0| 4.03|Motorbreath Imper...|          OH|American Imperial...|Limited (brewed o...|10.8|     28094|Four String Brewi...|    Columbus|           OH| Brewery, Bar|\n",
            "| 184647|      Try-em-all|2017-09-27|   Clear gold in ...| 4.0|  4.0|  3.5| 3.5|   3.75|  3.7|     Payback Pilsner|          OH|   Bohemian Pilsener|            Rotating| 5.1|     28094|Four String Brewi...|    Columbus|           OH| Brewery, Bar|\n",
            "| 184647|ScorpioBeerLover|2017-03-22|   Reminds me of ...| 4.0|  4.0| 4.25|3.75|    4.0| 4.08|     Payback Pilsner|          OH|   Bohemian Pilsener|            Rotating| 5.1|     28094|Four String Brewi...|    Columbus|           OH| Brewery, Bar|\n",
            "| 184647|        beergoot|2016-10-08|   Pale yellow bo...|3.25| 3.25|  3.5| 3.5|    3.5| 3.43|     Payback Pilsner|          OH|   Bohemian Pilsener|            Rotating| 5.1|     28094|Four String Brewi...|    Columbus|           OH| Brewery, Bar|\n",
            "| 184647|   woodychandler|2016-09-25|   The CANQuest (...|3.75| 3.75|  3.5| 3.5|    3.5| 3.58|     Payback Pilsner|          OH|   Bohemian Pilsener|            Rotating| 5.1|     28094|Four String Brewi...|    Columbus|           OH| Brewery, Bar|\n",
            "| 184647|        WoodBrew|2016-07-14|   I got a Paybac...|3.75|  3.5|  3.5| 3.5|    3.5| 3.52|     Payback Pilsner|          OH|   Bohemian Pilsener|            Rotating| 5.1|     28094|Four String Brewi...|    Columbus|           OH| Brewery, Bar|\n",
            "| 184647|     Brutaltruth|2016-01-15|   Enjoyed from t...|3.75| 3.25| 3.25| 3.5|    3.5| 3.36|     Payback Pilsner|          OH|   Bohemian Pilsener|            Rotating| 5.1|     28094|Four String Brewi...|    Columbus|           OH| Brewery, Bar|\n",
            "| 184647|     HeightsEats|2015-12-31|   Pours a golden...|3.75| 3.75|  4.0| 4.0|   3.75| 3.88|     Payback Pilsner|          OH|   Bohemian Pilsener|            Rotating| 5.1|     28094|Four String Brewi...|    Columbus|           OH| Brewery, Bar|\n",
            "| 184647|       schoolboy|2015-10-05|   This thing is ...| 4.5|  3.5|  3.5| 3.5|   3.75| 3.61|     Payback Pilsner|          OH|   Bohemian Pilsener|            Rotating| 5.1|     28094|Four String Brewi...|    Columbus|           OH| Brewery, Bar|\n",
            "| 184647|   GreenEggsHam1|2015-08-08|                  0%| 3.5|  3.5|  3.5|3.75|    3.5| 3.53|     Payback Pilsner|          OH|   Bohemian Pilsener|            Rotating| 5.1|     28094|Four String Brewi...|    Columbus|           OH| Brewery, Bar|\n",
            "| 149366|        ONUMello|2016-03-26|\"   16oz draft A:...| 3.5|  3.0|  3.5| 3.5|    3.5| 3.38|          HELLHAMMER|          OH|            Rye Beer|Limited (brewed o...| 7.2|     28094|Four String Brewi...|    Columbus|           OH| Brewery, Bar|\n",
            "| 149366|        DrJGR629|2015-01-14|   The chipotle p...|4.25|  4.0|  4.5|3.75|   4.25| 4.24|          HELLHAMMER|          OH|            Rye Beer|Limited (brewed o...| 7.2|     28094|Four String Brewi...|    Columbus|           OH| Brewery, Bar|\n",
            "| 111891|   Amnesia_Jones|2018-02-13|   I want this po...| 3.0|  3.0|  3.0| 3.0|    3.0|  3.0|      Vanilla Porter|          OH|     American Porter|              Winter| 6.0|     28094|Four String Brewi...|    Columbus|           OH| Brewery, Bar|\n",
            "| 111891|       buschbeer|2017-12-13|   12 FL. OZ. bot...| 4.0|  4.0| 3.75| 4.0|   3.75| 3.85|      Vanilla Porter|          OH|     American Porter|              Winter| 6.0|     28094|Four String Brewi...|    Columbus|           OH| Brewery, Bar|\n",
            "| 111891|      jojobird72|2017-08-28|   pretty good fo...|3.75|  3.0| 3.75| 3.0|   3.75|  3.5|      Vanilla Porter|          OH|     American Porter|              Winter| 6.0|     28094|Four String Brewi...|    Columbus|           OH| Brewery, Bar|\n",
            "| 111891|        WoodBrew|2016-12-31|   I bought a 6pc...|3.75| 3.75|  3.5| 3.0|    3.5| 3.53|      Vanilla Porter|          OH|     American Porter|              Winter| 6.0|     28094|Four String Brewi...|    Columbus|           OH| Brewery, Bar|\n",
            "| 111891|      Oopssorryy|2016-12-25|   Pours a medium...|2.75|  2.5|  2.5| 2.5|    2.5| 2.52|      Vanilla Porter|          OH|     American Porter|              Winter| 6.0|     28094|Four String Brewi...|    Columbus|           OH| Brewery, Bar|\n",
            "| 111891|       superspak|2016-12-04|   12 ounce can i...| 4.0|  4.0|  4.0| 4.0|    3.5|  3.9|      Vanilla Porter|          OH|     American Porter|              Winter| 6.0|     28094|Four String Brewi...|    Columbus|           OH| Brewery, Bar|\n",
            "| 111891|     BEERchitect|2016-05-14|   Porter first a...| 4.0| 4.25|  4.0|3.75|    4.0| 4.04|      Vanilla Porter|          OH|     American Porter|              Winter| 6.0|     28094|Four String Brewi...|    Columbus|           OH| Brewery, Bar|\n",
            "| 111891|         barczar|2016-04-08|   Aroma is fudgy...|3.75| 3.75|  3.5|3.75|   3.75| 3.65|      Vanilla Porter|          OH|     American Porter|              Winter| 6.0|     28094|Four String Brewi...|    Columbus|           OH| Brewery, Bar|\n",
            "+-------+----------------+----------+--------------------+----+-----+-----+----+-------+-----+--------------------+------------+--------------------+--------------------+----+----------+--------------------+------------+-------------+-------------+\n",
            "only showing top 20 rows\n",
            "\n"
          ],
          "name": "stdout"
        }
      ]
    },
    {
      "cell_type": "code",
      "metadata": {
        "colab": {
          "base_uri": "https://localhost:8080/"
        },
        "id": "OThDD-_h9nyE",
        "outputId": "51c7e78f-214d-49ab-e764-90dc16668fa5"
      },
      "source": [
        "df.count()"
      ],
      "execution_count": null,
      "outputs": [
        {
          "output_type": "execute_result",
          "data": {
            "text/plain": [
              "1973277"
            ]
          },
          "metadata": {
            "tags": []
          },
          "execution_count": 10
        }
      ]
    },
    {
      "cell_type": "code",
      "metadata": {
        "id": "2ulHJiqmza0y"
      },
      "source": [
        "# Next 6 lines casts to floats all the review ratings\r\n",
        "df = df.withColumn('look_numeric', df['look'].cast('float'))"
      ],
      "execution_count": null,
      "outputs": []
    },
    {
      "cell_type": "code",
      "metadata": {
        "id": "WVaXWTdQzfMN"
      },
      "source": [
        "df = df.withColumn('smell_numeric', df['smell'].cast('float'))"
      ],
      "execution_count": null,
      "outputs": []
    },
    {
      "cell_type": "code",
      "metadata": {
        "id": "N33lcUHCz8tM"
      },
      "source": [
        "df = df.withColumn('taste_numeric', df['taste'].cast('float'))"
      ],
      "execution_count": null,
      "outputs": []
    },
    {
      "cell_type": "code",
      "metadata": {
        "id": "_SekhI_Bz9CE"
      },
      "source": [
        "df = df.withColumn('feel_numeric', df['feel'].cast('float'))"
      ],
      "execution_count": null,
      "outputs": []
    },
    {
      "cell_type": "code",
      "metadata": {
        "id": "mtwJmiqVz9S5"
      },
      "source": [
        "df = df.withColumn('overall_numeric', df['overall'].cast('float'))"
      ],
      "execution_count": null,
      "outputs": []
    },
    {
      "cell_type": "code",
      "metadata": {
        "id": "UfhdHardz_KN"
      },
      "source": [
        "df = df.withColumn('score_numeric', df['score'].cast('float'))"
      ],
      "execution_count": null,
      "outputs": []
    },
    {
      "cell_type": "code",
      "metadata": {
        "colab": {
          "base_uri": "https://localhost:8080/"
        },
        "id": "VX0kUvjn017b",
        "outputId": "02d007fe-7cac-46dd-c6d0-10d6103d8066"
      },
      "source": [
        "# Confirm data types\r\n",
        "df.printSchema"
      ],
      "execution_count": null,
      "outputs": [
        {
          "output_type": "execute_result",
          "data": {
            "text/plain": [
              "<bound method DataFrame.printSchema of DataFrame[beer_id: string, username: string, date: string, text: string, look: string, smell: string, taste: string, feel: string, overall: string, score: string, beer_name: string, review_state: string, style: string, availability: string, abv: string, brewery_id: string, brewery_name: string, brewery_city: string, brewery_state: string, brewery_types: string, look_numeric: float, smell_numeric: float, taste_numeric: float, feel_numeric: float, overall_numeric: float, score_numeric: float]>"
            ]
          },
          "metadata": {
            "tags": []
          },
          "execution_count": 17
        }
      ]
    },
    {
      "cell_type": "code",
      "metadata": {
        "id": "LJuBnSOh7OGp"
      },
      "source": [
        "# functions for manipulating review text into a format we can tokenize\r\n",
        "def remove_punctuation(txt):\r\n",
        "  txt = txt.strip('\\xa0\\xa0 ')\r\n",
        "  return \"\".join(l if l not in string.punctuation else \"\" for l in txt)\r\n",
        "\r\n",
        "def remove_space (text):\r\n",
        "  if text:\r\n",
        "    return text.replace(' ', '')\r\n",
        "  else:\r\n",
        "    return 'Unknown'\r\n",
        "  "
      ],
      "execution_count": null,
      "outputs": []
    },
    {
      "cell_type": "code",
      "metadata": {
        "colab": {
          "base_uri": "https://localhost:8080/"
        },
        "id": "jumNzjh_7cMM",
        "outputId": "0b480198-43d8-45b5-ed89-ca688d037759"
      },
      "source": [
        "# define the udfs for the data\r\n",
        "from pyspark.sql.types import StringType\r\n",
        "from pyspark.sql.functions import col, udf\r\n",
        "\r\n",
        "remove_punctuation_udf = udf(remove_punctuation, StringType())\r\n",
        "remove_punctuation_udf\r\n",
        "\r\n",
        "remove_space_udf = udf(remove_space, StringType())\r\n",
        "remove_space_udf"
      ],
      "execution_count": null,
      "outputs": [
        {
          "output_type": "execute_result",
          "data": {
            "text/plain": [
              "<function __main__.remove_space>"
            ]
          },
          "metadata": {
            "tags": []
          },
          "execution_count": 19
        }
      ]
    },
    {
      "cell_type": "code",
      "metadata": {
        "colab": {
          "base_uri": "https://localhost:8080/"
        },
        "id": "kIpNUCIm7upA",
        "outputId": "d6ac306a-d5a4-4934-b59b-f4d7f9bb6eaa"
      },
      "source": [
        "# clean the beer name by removing spaces (will be combined with text)\r\n",
        "beer_df = df.withColumn('beer_clean', remove_space_udf(col('beer_name')))\r\n",
        "beer_df.show()"
      ],
      "execution_count": null,
      "outputs": [
        {
          "output_type": "stream",
          "text": [
            "+-------+----------------+----------+--------------------+----+-----+-----+----+-------+-----+--------------------+------------+--------------------+--------------------+----+----------+--------------------+------------+-------------+-------------+------------+-------------+-------------+------------+---------------+-------------+--------------------+\n",
            "|beer_id|        username|      date|                text|look|smell|taste|feel|overall|score|           beer_name|review_state|               style|        availability| abv|brewery_id|        brewery_name|brewery_city|brewery_state|brewery_types|look_numeric|smell_numeric|taste_numeric|feel_numeric|overall_numeric|score_numeric|          beer_clean|\n",
            "+-------+----------------+----------+--------------------+----+-----+-----+----+-------+-----+--------------------+------------+--------------------+--------------------+----+----------+--------------------+------------+-------------+-------------+------------+-------------+-------------+------------+---------------+-------------+--------------------+\n",
            "| 271781|    bluejacket74|2017-03-17|   750 ml bottle,...| 4.0|  4.0|  4.0|4.25|    4.0| 4.03|Motorbreath Imper...|          OH|American Imperial...|Limited (brewed o...|10.8|     28094|Four String Brewi...|    Columbus|           OH| Brewery, Bar|         4.0|          4.0|          4.0|        4.25|            4.0|         4.03|MotorbreathImperi...|\n",
            "| 184647|      Try-em-all|2017-09-27|   Clear gold in ...| 4.0|  4.0|  3.5| 3.5|   3.75|  3.7|     Payback Pilsner|          OH|   Bohemian Pilsener|            Rotating| 5.1|     28094|Four String Brewi...|    Columbus|           OH| Brewery, Bar|         4.0|          4.0|          3.5|         3.5|           3.75|          3.7|      PaybackPilsner|\n",
            "| 184647|ScorpioBeerLover|2017-03-22|   Reminds me of ...| 4.0|  4.0| 4.25|3.75|    4.0| 4.08|     Payback Pilsner|          OH|   Bohemian Pilsener|            Rotating| 5.1|     28094|Four String Brewi...|    Columbus|           OH| Brewery, Bar|         4.0|          4.0|         4.25|        3.75|            4.0|         4.08|      PaybackPilsner|\n",
            "| 184647|        beergoot|2016-10-08|   Pale yellow bo...|3.25| 3.25|  3.5| 3.5|    3.5| 3.43|     Payback Pilsner|          OH|   Bohemian Pilsener|            Rotating| 5.1|     28094|Four String Brewi...|    Columbus|           OH| Brewery, Bar|        3.25|         3.25|          3.5|         3.5|            3.5|         3.43|      PaybackPilsner|\n",
            "| 184647|   woodychandler|2016-09-25|   The CANQuest (...|3.75| 3.75|  3.5| 3.5|    3.5| 3.58|     Payback Pilsner|          OH|   Bohemian Pilsener|            Rotating| 5.1|     28094|Four String Brewi...|    Columbus|           OH| Brewery, Bar|        3.75|         3.75|          3.5|         3.5|            3.5|         3.58|      PaybackPilsner|\n",
            "| 184647|        WoodBrew|2016-07-14|   I got a Paybac...|3.75|  3.5|  3.5| 3.5|    3.5| 3.52|     Payback Pilsner|          OH|   Bohemian Pilsener|            Rotating| 5.1|     28094|Four String Brewi...|    Columbus|           OH| Brewery, Bar|        3.75|          3.5|          3.5|         3.5|            3.5|         3.52|      PaybackPilsner|\n",
            "| 184647|     Brutaltruth|2016-01-15|   Enjoyed from t...|3.75| 3.25| 3.25| 3.5|    3.5| 3.36|     Payback Pilsner|          OH|   Bohemian Pilsener|            Rotating| 5.1|     28094|Four String Brewi...|    Columbus|           OH| Brewery, Bar|        3.75|         3.25|         3.25|         3.5|            3.5|         3.36|      PaybackPilsner|\n",
            "| 184647|     HeightsEats|2015-12-31|   Pours a golden...|3.75| 3.75|  4.0| 4.0|   3.75| 3.88|     Payback Pilsner|          OH|   Bohemian Pilsener|            Rotating| 5.1|     28094|Four String Brewi...|    Columbus|           OH| Brewery, Bar|        3.75|         3.75|          4.0|         4.0|           3.75|         3.88|      PaybackPilsner|\n",
            "| 184647|       schoolboy|2015-10-05|   This thing is ...| 4.5|  3.5|  3.5| 3.5|   3.75| 3.61|     Payback Pilsner|          OH|   Bohemian Pilsener|            Rotating| 5.1|     28094|Four String Brewi...|    Columbus|           OH| Brewery, Bar|         4.5|          3.5|          3.5|         3.5|           3.75|         3.61|      PaybackPilsner|\n",
            "| 184647|   GreenEggsHam1|2015-08-08|                  0%| 3.5|  3.5|  3.5|3.75|    3.5| 3.53|     Payback Pilsner|          OH|   Bohemian Pilsener|            Rotating| 5.1|     28094|Four String Brewi...|    Columbus|           OH| Brewery, Bar|         3.5|          3.5|          3.5|        3.75|            3.5|         3.53|      PaybackPilsner|\n",
            "| 149366|        ONUMello|2016-03-26|\"   16oz draft A:...| 3.5|  3.0|  3.5| 3.5|    3.5| 3.38|          HELLHAMMER|          OH|            Rye Beer|Limited (brewed o...| 7.2|     28094|Four String Brewi...|    Columbus|           OH| Brewery, Bar|         3.5|          3.0|          3.5|         3.5|            3.5|         3.38|          HELLHAMMER|\n",
            "| 149366|        DrJGR629|2015-01-14|   The chipotle p...|4.25|  4.0|  4.5|3.75|   4.25| 4.24|          HELLHAMMER|          OH|            Rye Beer|Limited (brewed o...| 7.2|     28094|Four String Brewi...|    Columbus|           OH| Brewery, Bar|        4.25|          4.0|          4.5|        3.75|           4.25|         4.24|          HELLHAMMER|\n",
            "| 111891|   Amnesia_Jones|2018-02-13|   I want this po...| 3.0|  3.0|  3.0| 3.0|    3.0|  3.0|      Vanilla Porter|          OH|     American Porter|              Winter| 6.0|     28094|Four String Brewi...|    Columbus|           OH| Brewery, Bar|         3.0|          3.0|          3.0|         3.0|            3.0|          3.0|       VanillaPorter|\n",
            "| 111891|       buschbeer|2017-12-13|   12 FL. OZ. bot...| 4.0|  4.0| 3.75| 4.0|   3.75| 3.85|      Vanilla Porter|          OH|     American Porter|              Winter| 6.0|     28094|Four String Brewi...|    Columbus|           OH| Brewery, Bar|         4.0|          4.0|         3.75|         4.0|           3.75|         3.85|       VanillaPorter|\n",
            "| 111891|      jojobird72|2017-08-28|   pretty good fo...|3.75|  3.0| 3.75| 3.0|   3.75|  3.5|      Vanilla Porter|          OH|     American Porter|              Winter| 6.0|     28094|Four String Brewi...|    Columbus|           OH| Brewery, Bar|        3.75|          3.0|         3.75|         3.0|           3.75|          3.5|       VanillaPorter|\n",
            "| 111891|        WoodBrew|2016-12-31|   I bought a 6pc...|3.75| 3.75|  3.5| 3.0|    3.5| 3.53|      Vanilla Porter|          OH|     American Porter|              Winter| 6.0|     28094|Four String Brewi...|    Columbus|           OH| Brewery, Bar|        3.75|         3.75|          3.5|         3.0|            3.5|         3.53|       VanillaPorter|\n",
            "| 111891|      Oopssorryy|2016-12-25|   Pours a medium...|2.75|  2.5|  2.5| 2.5|    2.5| 2.52|      Vanilla Porter|          OH|     American Porter|              Winter| 6.0|     28094|Four String Brewi...|    Columbus|           OH| Brewery, Bar|        2.75|          2.5|          2.5|         2.5|            2.5|         2.52|       VanillaPorter|\n",
            "| 111891|       superspak|2016-12-04|   12 ounce can i...| 4.0|  4.0|  4.0| 4.0|    3.5|  3.9|      Vanilla Porter|          OH|     American Porter|              Winter| 6.0|     28094|Four String Brewi...|    Columbus|           OH| Brewery, Bar|         4.0|          4.0|          4.0|         4.0|            3.5|          3.9|       VanillaPorter|\n",
            "| 111891|     BEERchitect|2016-05-14|   Porter first a...| 4.0| 4.25|  4.0|3.75|    4.0| 4.04|      Vanilla Porter|          OH|     American Porter|              Winter| 6.0|     28094|Four String Brewi...|    Columbus|           OH| Brewery, Bar|         4.0|         4.25|          4.0|        3.75|            4.0|         4.04|       VanillaPorter|\n",
            "| 111891|         barczar|2016-04-08|   Aroma is fudgy...|3.75| 3.75|  3.5|3.75|   3.75| 3.65|      Vanilla Porter|          OH|     American Porter|              Winter| 6.0|     28094|Four String Brewi...|    Columbus|           OH| Brewery, Bar|        3.75|         3.75|          3.5|        3.75|           3.75|         3.65|       VanillaPorter|\n",
            "+-------+----------------+----------+--------------------+----+-----+-----+----+-------+-----+--------------------+------------+--------------------+--------------------+----+----------+--------------------+------------+-------------+-------------+------------+-------------+-------------+------------+---------------+-------------+--------------------+\n",
            "only showing top 20 rows\n",
            "\n"
          ],
          "name": "stdout"
        }
      ]
    },
    {
      "cell_type": "code",
      "metadata": {
        "colab": {
          "base_uri": "https://localhost:8080/"
        },
        "id": "ywNdb-IX93B9",
        "outputId": "6a229c38-bc81-48ca-b8fa-a409084b87ab"
      },
      "source": [
        "beer_df.count()"
      ],
      "execution_count": null,
      "outputs": [
        {
          "output_type": "execute_result",
          "data": {
            "text/plain": [
              "1973277"
            ]
          },
          "metadata": {
            "tags": []
          },
          "execution_count": 22
        }
      ]
    },
    {
      "cell_type": "code",
      "metadata": {
        "colab": {
          "base_uri": "https://localhost:8080/"
        },
        "id": "RcFOFN8_7zHU",
        "outputId": "7f541b9c-e0de-4138-e2e7-c47f5a8f7d20"
      },
      "source": [
        "# clean the style name by removing spaces (will be combined with text)\r\n",
        "style_df = beer_df.withColumn('style_clean', remove_space_udf(col('style')))\r\n",
        "style_df.show()"
      ],
      "execution_count": null,
      "outputs": [
        {
          "output_type": "stream",
          "text": [
            "+-------+----------------+----------+--------------------+----+-----+-----+----+-------+-----+--------------------+------------+--------------------+--------------------+----+----------+--------------------+------------+-------------+-------------+------------+-------------+-------------+------------+---------------+-------------+--------------------+--------------------+\n",
            "|beer_id|        username|      date|                text|look|smell|taste|feel|overall|score|           beer_name|review_state|               style|        availability| abv|brewery_id|        brewery_name|brewery_city|brewery_state|brewery_types|look_numeric|smell_numeric|taste_numeric|feel_numeric|overall_numeric|score_numeric|          beer_clean|         style_clean|\n",
            "+-------+----------------+----------+--------------------+----+-----+-----+----+-------+-----+--------------------+------------+--------------------+--------------------+----+----------+--------------------+------------+-------------+-------------+------------+-------------+-------------+------------+---------------+-------------+--------------------+--------------------+\n",
            "| 271781|    bluejacket74|2017-03-17|   750 ml bottle,...| 4.0|  4.0|  4.0|4.25|    4.0| 4.03|Motorbreath Imper...|          OH|American Imperial...|Limited (brewed o...|10.8|     28094|Four String Brewi...|    Columbus|           OH| Brewery, Bar|         4.0|          4.0|          4.0|        4.25|            4.0|         4.03|MotorbreathImperi...|AmericanImperialS...|\n",
            "| 184647|      Try-em-all|2017-09-27|   Clear gold in ...| 4.0|  4.0|  3.5| 3.5|   3.75|  3.7|     Payback Pilsner|          OH|   Bohemian Pilsener|            Rotating| 5.1|     28094|Four String Brewi...|    Columbus|           OH| Brewery, Bar|         4.0|          4.0|          3.5|         3.5|           3.75|          3.7|      PaybackPilsner|    BohemianPilsener|\n",
            "| 184647|ScorpioBeerLover|2017-03-22|   Reminds me of ...| 4.0|  4.0| 4.25|3.75|    4.0| 4.08|     Payback Pilsner|          OH|   Bohemian Pilsener|            Rotating| 5.1|     28094|Four String Brewi...|    Columbus|           OH| Brewery, Bar|         4.0|          4.0|         4.25|        3.75|            4.0|         4.08|      PaybackPilsner|    BohemianPilsener|\n",
            "| 184647|        beergoot|2016-10-08|   Pale yellow bo...|3.25| 3.25|  3.5| 3.5|    3.5| 3.43|     Payback Pilsner|          OH|   Bohemian Pilsener|            Rotating| 5.1|     28094|Four String Brewi...|    Columbus|           OH| Brewery, Bar|        3.25|         3.25|          3.5|         3.5|            3.5|         3.43|      PaybackPilsner|    BohemianPilsener|\n",
            "| 184647|   woodychandler|2016-09-25|   The CANQuest (...|3.75| 3.75|  3.5| 3.5|    3.5| 3.58|     Payback Pilsner|          OH|   Bohemian Pilsener|            Rotating| 5.1|     28094|Four String Brewi...|    Columbus|           OH| Brewery, Bar|        3.75|         3.75|          3.5|         3.5|            3.5|         3.58|      PaybackPilsner|    BohemianPilsener|\n",
            "| 184647|        WoodBrew|2016-07-14|   I got a Paybac...|3.75|  3.5|  3.5| 3.5|    3.5| 3.52|     Payback Pilsner|          OH|   Bohemian Pilsener|            Rotating| 5.1|     28094|Four String Brewi...|    Columbus|           OH| Brewery, Bar|        3.75|          3.5|          3.5|         3.5|            3.5|         3.52|      PaybackPilsner|    BohemianPilsener|\n",
            "| 184647|     Brutaltruth|2016-01-15|   Enjoyed from t...|3.75| 3.25| 3.25| 3.5|    3.5| 3.36|     Payback Pilsner|          OH|   Bohemian Pilsener|            Rotating| 5.1|     28094|Four String Brewi...|    Columbus|           OH| Brewery, Bar|        3.75|         3.25|         3.25|         3.5|            3.5|         3.36|      PaybackPilsner|    BohemianPilsener|\n",
            "| 184647|     HeightsEats|2015-12-31|   Pours a golden...|3.75| 3.75|  4.0| 4.0|   3.75| 3.88|     Payback Pilsner|          OH|   Bohemian Pilsener|            Rotating| 5.1|     28094|Four String Brewi...|    Columbus|           OH| Brewery, Bar|        3.75|         3.75|          4.0|         4.0|           3.75|         3.88|      PaybackPilsner|    BohemianPilsener|\n",
            "| 184647|       schoolboy|2015-10-05|   This thing is ...| 4.5|  3.5|  3.5| 3.5|   3.75| 3.61|     Payback Pilsner|          OH|   Bohemian Pilsener|            Rotating| 5.1|     28094|Four String Brewi...|    Columbus|           OH| Brewery, Bar|         4.5|          3.5|          3.5|         3.5|           3.75|         3.61|      PaybackPilsner|    BohemianPilsener|\n",
            "| 184647|   GreenEggsHam1|2015-08-08|                  0%| 3.5|  3.5|  3.5|3.75|    3.5| 3.53|     Payback Pilsner|          OH|   Bohemian Pilsener|            Rotating| 5.1|     28094|Four String Brewi...|    Columbus|           OH| Brewery, Bar|         3.5|          3.5|          3.5|        3.75|            3.5|         3.53|      PaybackPilsner|    BohemianPilsener|\n",
            "| 149366|        ONUMello|2016-03-26|\"   16oz draft A:...| 3.5|  3.0|  3.5| 3.5|    3.5| 3.38|          HELLHAMMER|          OH|            Rye Beer|Limited (brewed o...| 7.2|     28094|Four String Brewi...|    Columbus|           OH| Brewery, Bar|         3.5|          3.0|          3.5|         3.5|            3.5|         3.38|          HELLHAMMER|             RyeBeer|\n",
            "| 149366|        DrJGR629|2015-01-14|   The chipotle p...|4.25|  4.0|  4.5|3.75|   4.25| 4.24|          HELLHAMMER|          OH|            Rye Beer|Limited (brewed o...| 7.2|     28094|Four String Brewi...|    Columbus|           OH| Brewery, Bar|        4.25|          4.0|          4.5|        3.75|           4.25|         4.24|          HELLHAMMER|             RyeBeer|\n",
            "| 111891|   Amnesia_Jones|2018-02-13|   I want this po...| 3.0|  3.0|  3.0| 3.0|    3.0|  3.0|      Vanilla Porter|          OH|     American Porter|              Winter| 6.0|     28094|Four String Brewi...|    Columbus|           OH| Brewery, Bar|         3.0|          3.0|          3.0|         3.0|            3.0|          3.0|       VanillaPorter|      AmericanPorter|\n",
            "| 111891|       buschbeer|2017-12-13|   12 FL. OZ. bot...| 4.0|  4.0| 3.75| 4.0|   3.75| 3.85|      Vanilla Porter|          OH|     American Porter|              Winter| 6.0|     28094|Four String Brewi...|    Columbus|           OH| Brewery, Bar|         4.0|          4.0|         3.75|         4.0|           3.75|         3.85|       VanillaPorter|      AmericanPorter|\n",
            "| 111891|      jojobird72|2017-08-28|   pretty good fo...|3.75|  3.0| 3.75| 3.0|   3.75|  3.5|      Vanilla Porter|          OH|     American Porter|              Winter| 6.0|     28094|Four String Brewi...|    Columbus|           OH| Brewery, Bar|        3.75|          3.0|         3.75|         3.0|           3.75|          3.5|       VanillaPorter|      AmericanPorter|\n",
            "| 111891|        WoodBrew|2016-12-31|   I bought a 6pc...|3.75| 3.75|  3.5| 3.0|    3.5| 3.53|      Vanilla Porter|          OH|     American Porter|              Winter| 6.0|     28094|Four String Brewi...|    Columbus|           OH| Brewery, Bar|        3.75|         3.75|          3.5|         3.0|            3.5|         3.53|       VanillaPorter|      AmericanPorter|\n",
            "| 111891|      Oopssorryy|2016-12-25|   Pours a medium...|2.75|  2.5|  2.5| 2.5|    2.5| 2.52|      Vanilla Porter|          OH|     American Porter|              Winter| 6.0|     28094|Four String Brewi...|    Columbus|           OH| Brewery, Bar|        2.75|          2.5|          2.5|         2.5|            2.5|         2.52|       VanillaPorter|      AmericanPorter|\n",
            "| 111891|       superspak|2016-12-04|   12 ounce can i...| 4.0|  4.0|  4.0| 4.0|    3.5|  3.9|      Vanilla Porter|          OH|     American Porter|              Winter| 6.0|     28094|Four String Brewi...|    Columbus|           OH| Brewery, Bar|         4.0|          4.0|          4.0|         4.0|            3.5|          3.9|       VanillaPorter|      AmericanPorter|\n",
            "| 111891|     BEERchitect|2016-05-14|   Porter first a...| 4.0| 4.25|  4.0|3.75|    4.0| 4.04|      Vanilla Porter|          OH|     American Porter|              Winter| 6.0|     28094|Four String Brewi...|    Columbus|           OH| Brewery, Bar|         4.0|         4.25|          4.0|        3.75|            4.0|         4.04|       VanillaPorter|      AmericanPorter|\n",
            "| 111891|         barczar|2016-04-08|   Aroma is fudgy...|3.75| 3.75|  3.5|3.75|   3.75| 3.65|      Vanilla Porter|          OH|     American Porter|              Winter| 6.0|     28094|Four String Brewi...|    Columbus|           OH| Brewery, Bar|        3.75|         3.75|          3.5|        3.75|           3.75|         3.65|       VanillaPorter|      AmericanPorter|\n",
            "+-------+----------------+----------+--------------------+----+-----+-----+----+-------+-----+--------------------+------------+--------------------+--------------------+----+----------+--------------------+------------+-------------+-------------+------------+-------------+-------------+------------+---------------+-------------+--------------------+--------------------+\n",
            "only showing top 20 rows\n",
            "\n"
          ],
          "name": "stdout"
        }
      ]
    },
    {
      "cell_type": "code",
      "metadata": {
        "colab": {
          "base_uri": "https://localhost:8080/"
        },
        "id": "0rwjoP1Z-DPq",
        "outputId": "4db104e1-accb-4706-dcca-d4e25117abe5"
      },
      "source": [
        "style_df.count()"
      ],
      "execution_count": null,
      "outputs": [
        {
          "output_type": "execute_result",
          "data": {
            "text/plain": [
              "1973277"
            ]
          },
          "metadata": {
            "tags": []
          },
          "execution_count": 24
        }
      ]
    },
    {
      "cell_type": "code",
      "metadata": {
        "colab": {
          "base_uri": "https://localhost:8080/"
        },
        "id": "Q49v6IDJ736k",
        "outputId": "81b6d6c6-f2be-4b38-8380-abefe011a1c7"
      },
      "source": [
        "# clean the text by removing punctuation\r\n",
        "text_df = style_df.withColumn(\"clean_text\", remove_punctuation_udf(col(\"text\")))\r\n",
        "text_df.show()"
      ],
      "execution_count": null,
      "outputs": [
        {
          "output_type": "stream",
          "text": [
            "+-------+----------------+----------+--------------------+----+-----+-----+----+-------+-----+--------------------+------------+--------------------+--------------------+----+----------+--------------------+------------+-------------+-------------+------------+-------------+-------------+------------+---------------+-------------+--------------------+--------------------+--------------------+\n",
            "|beer_id|        username|      date|                text|look|smell|taste|feel|overall|score|           beer_name|review_state|               style|        availability| abv|brewery_id|        brewery_name|brewery_city|brewery_state|brewery_types|look_numeric|smell_numeric|taste_numeric|feel_numeric|overall_numeric|score_numeric|          beer_clean|         style_clean|          clean_text|\n",
            "+-------+----------------+----------+--------------------+----+-----+-----+----+-------+-----+--------------------+------------+--------------------+--------------------+----+----------+--------------------+------------+-------------+-------------+------------+-------------+-------------+------------+---------------+-------------+--------------------+--------------------+--------------------+\n",
            "| 271781|    bluejacket74|2017-03-17|   750 ml bottle,...| 4.0|  4.0|  4.0|4.25|    4.0| 4.03|Motorbreath Imper...|          OH|American Imperial...|Limited (brewed o...|10.8|     28094|Four String Brewi...|    Columbus|           OH| Brewery, Bar|         4.0|          4.0|          4.0|        4.25|            4.0|         4.03|MotorbreathImperi...|AmericanImperialS...|750 ml bottle 201...|\n",
            "| 184647|      Try-em-all|2017-09-27|   Clear gold in ...| 4.0|  4.0|  3.5| 3.5|   3.75|  3.7|     Payback Pilsner|          OH|   Bohemian Pilsener|            Rotating| 5.1|     28094|Four String Brewi...|    Columbus|           OH| Brewery, Bar|         4.0|          4.0|          3.5|         3.5|           3.75|          3.7|      PaybackPilsner|    BohemianPilsener|Clear gold in col...|\n",
            "| 184647|ScorpioBeerLover|2017-03-22|   Reminds me of ...| 4.0|  4.0| 4.25|3.75|    4.0| 4.08|     Payback Pilsner|          OH|   Bohemian Pilsener|            Rotating| 5.1|     28094|Four String Brewi...|    Columbus|           OH| Brewery, Bar|         4.0|          4.0|         4.25|        3.75|            4.0|         4.08|      PaybackPilsner|    BohemianPilsener|Reminds me of pre...|\n",
            "| 184647|        beergoot|2016-10-08|   Pale yellow bo...|3.25| 3.25|  3.5| 3.5|    3.5| 3.43|     Payback Pilsner|          OH|   Bohemian Pilsener|            Rotating| 5.1|     28094|Four String Brewi...|    Columbus|           OH| Brewery, Bar|        3.25|         3.25|          3.5|         3.5|            3.5|         3.43|      PaybackPilsner|    BohemianPilsener|Pale yellow body ...|\n",
            "| 184647|   woodychandler|2016-09-25|   The CANQuest (...|3.75| 3.75|  3.5| 3.5|    3.5| 3.58|     Payback Pilsner|          OH|   Bohemian Pilsener|            Rotating| 5.1|     28094|Four String Brewi...|    Columbus|           OH| Brewery, Bar|        3.75|         3.75|          3.5|         3.5|            3.5|         3.58|      PaybackPilsner|    BohemianPilsener|The CANQuest tm i...|\n",
            "| 184647|        WoodBrew|2016-07-14|   I got a Paybac...|3.75|  3.5|  3.5| 3.5|    3.5| 3.52|     Payback Pilsner|          OH|   Bohemian Pilsener|            Rotating| 5.1|     28094|Four String Brewi...|    Columbus|           OH| Brewery, Bar|        3.75|          3.5|          3.5|         3.5|            3.5|         3.52|      PaybackPilsner|    BohemianPilsener|I got a Payback P...|\n",
            "| 184647|     Brutaltruth|2016-01-15|   Enjoyed from t...|3.75| 3.25| 3.25| 3.5|    3.5| 3.36|     Payback Pilsner|          OH|   Bohemian Pilsener|            Rotating| 5.1|     28094|Four String Brewi...|    Columbus|           OH| Brewery, Bar|        3.75|         3.25|         3.25|         3.5|            3.5|         3.36|      PaybackPilsner|    BohemianPilsener|Enjoyed from the ...|\n",
            "| 184647|     HeightsEats|2015-12-31|   Pours a golden...|3.75| 3.75|  4.0| 4.0|   3.75| 3.88|     Payback Pilsner|          OH|   Bohemian Pilsener|            Rotating| 5.1|     28094|Four String Brewi...|    Columbus|           OH| Brewery, Bar|        3.75|         3.75|          4.0|         4.0|           3.75|         3.88|      PaybackPilsner|    BohemianPilsener|Pours a golden ye...|\n",
            "| 184647|       schoolboy|2015-10-05|   This thing is ...| 4.5|  3.5|  3.5| 3.5|   3.75| 3.61|     Payback Pilsner|          OH|   Bohemian Pilsener|            Rotating| 5.1|     28094|Four String Brewi...|    Columbus|           OH| Brewery, Bar|         4.5|          3.5|          3.5|         3.5|           3.75|         3.61|      PaybackPilsner|    BohemianPilsener|This thing is gor...|\n",
            "| 184647|   GreenEggsHam1|2015-08-08|                  0%| 3.5|  3.5|  3.5|3.75|    3.5| 3.53|     Payback Pilsner|          OH|   Bohemian Pilsener|            Rotating| 5.1|     28094|Four String Brewi...|    Columbus|           OH| Brewery, Bar|         3.5|          3.5|          3.5|        3.75|            3.5|         3.53|      PaybackPilsner|    BohemianPilsener|                   0|\n",
            "| 149366|        ONUMello|2016-03-26|\"   16oz draft A:...| 3.5|  3.0|  3.5| 3.5|    3.5| 3.38|          HELLHAMMER|          OH|            Rye Beer|Limited (brewed o...| 7.2|     28094|Four String Brewi...|    Columbus|           OH| Brewery, Bar|         3.5|          3.0|          3.5|         3.5|            3.5|         3.38|          HELLHAMMER|             RyeBeer|   16oz draft A D...|\n",
            "| 149366|        DrJGR629|2015-01-14|   The chipotle p...|4.25|  4.0|  4.5|3.75|   4.25| 4.24|          HELLHAMMER|          OH|            Rye Beer|Limited (brewed o...| 7.2|     28094|Four String Brewi...|    Columbus|           OH| Brewery, Bar|        4.25|          4.0|          4.5|        3.75|           4.25|         4.24|          HELLHAMMER|             RyeBeer|The chipotle pepp...|\n",
            "| 111891|   Amnesia_Jones|2018-02-13|   I want this po...| 3.0|  3.0|  3.0| 3.0|    3.0|  3.0|      Vanilla Porter|          OH|     American Porter|              Winter| 6.0|     28094|Four String Brewi...|    Columbus|           OH| Brewery, Bar|         3.0|          3.0|          3.0|         3.0|            3.0|          3.0|       VanillaPorter|      AmericanPorter|I want this porte...|\n",
            "| 111891|       buschbeer|2017-12-13|   12 FL. OZ. bot...| 4.0|  4.0| 3.75| 4.0|   3.75| 3.85|      Vanilla Porter|          OH|     American Porter|              Winter| 6.0|     28094|Four String Brewi...|    Columbus|           OH| Brewery, Bar|         4.0|          4.0|         3.75|         4.0|           3.75|         3.85|       VanillaPorter|      AmericanPorter|12 FL OZ bottle S...|\n",
            "| 111891|      jojobird72|2017-08-28|   pretty good fo...|3.75|  3.0| 3.75| 3.0|   3.75|  3.5|      Vanilla Porter|          OH|     American Porter|              Winter| 6.0|     28094|Four String Brewi...|    Columbus|           OH| Brewery, Bar|        3.75|          3.0|         3.75|         3.0|           3.75|          3.5|       VanillaPorter|      AmericanPorter|pretty good for i...|\n",
            "| 111891|        WoodBrew|2016-12-31|   I bought a 6pc...|3.75| 3.75|  3.5| 3.0|    3.5| 3.53|      Vanilla Porter|          OH|     American Porter|              Winter| 6.0|     28094|Four String Brewi...|    Columbus|           OH| Brewery, Bar|        3.75|         3.75|          3.5|         3.0|            3.5|         3.53|       VanillaPorter|      AmericanPorter|I bought a 6pck a...|\n",
            "| 111891|      Oopssorryy|2016-12-25|   Pours a medium...|2.75|  2.5|  2.5| 2.5|    2.5| 2.52|      Vanilla Porter|          OH|     American Porter|              Winter| 6.0|     28094|Four String Brewi...|    Columbus|           OH| Brewery, Bar|        2.75|          2.5|          2.5|         2.5|            2.5|         2.52|       VanillaPorter|      AmericanPorter|Pours a medium br...|\n",
            "| 111891|       superspak|2016-12-04|   12 ounce can i...| 4.0|  4.0|  4.0| 4.0|    3.5|  3.9|      Vanilla Porter|          OH|     American Porter|              Winter| 6.0|     28094|Four String Brewi...|    Columbus|           OH| Brewery, Bar|         4.0|          4.0|          4.0|         4.0|            3.5|          3.9|       VanillaPorter|      AmericanPorter|12 ounce can into...|\n",
            "| 111891|     BEERchitect|2016-05-14|   Porter first a...| 4.0| 4.25|  4.0|3.75|    4.0| 4.04|      Vanilla Porter|          OH|     American Porter|              Winter| 6.0|     28094|Four String Brewi...|    Columbus|           OH| Brewery, Bar|         4.0|         4.25|          4.0|        3.75|            4.0|         4.04|       VanillaPorter|      AmericanPorter|Porter first and ...|\n",
            "| 111891|         barczar|2016-04-08|   Aroma is fudgy...|3.75| 3.75|  3.5|3.75|   3.75| 3.65|      Vanilla Porter|          OH|     American Porter|              Winter| 6.0|     28094|Four String Brewi...|    Columbus|           OH| Brewery, Bar|        3.75|         3.75|          3.5|        3.75|           3.75|         3.65|       VanillaPorter|      AmericanPorter|Aroma is fudgy wi...|\n",
            "+-------+----------------+----------+--------------------+----+-----+-----+----+-------+-----+--------------------+------------+--------------------+--------------------+----+----------+--------------------+------------+-------------+-------------+------------+-------------+-------------+------------+---------------+-------------+--------------------+--------------------+--------------------+\n",
            "only showing top 20 rows\n",
            "\n"
          ],
          "name": "stdout"
        }
      ]
    },
    {
      "cell_type": "code",
      "metadata": {
        "colab": {
          "base_uri": "https://localhost:8080/"
        },
        "id": "rY67GAX_-Njh",
        "outputId": "94900377-93d7-4039-b0bc-e3face12f16f"
      },
      "source": [
        "text_df.count()"
      ],
      "execution_count": null,
      "outputs": [
        {
          "output_type": "execute_result",
          "data": {
            "text/plain": [
              "1973277"
            ]
          },
          "metadata": {
            "tags": []
          },
          "execution_count": 26
        }
      ]
    },
    {
      "cell_type": "code",
      "metadata": {
        "id": "rUrgBLiFvW3W",
        "colab": {
          "base_uri": "https://localhost:8080/"
        },
        "outputId": "2061ca5d-7643-441e-da65-bdd195581bd5"
      },
      "source": [
        "# Combine beer_name, style, and review text into a Final_text column\r\n",
        "from pyspark.sql.functions import concat_ws\r\n",
        "\r\n",
        "combined_df = text_df.withColumn('Final_text', concat_ws(' ',text_df.beer_clean, text_df.style_clean, text_df.clean_text))\r\n",
        "combined_df.select('text', 'Final_text').show(truncate=False)"
      ],
      "execution_count": null,
      "outputs": [
        {
          "output_type": "stream",
          "text": [
            "+-----------------------------------------------------------------------------------------------------------------------------------------------------------------------------------------------------------------------------------------------------------------------------------------------------------------------------------------------------------------------------------------------------------------------------------------------------------------------------------------------------------------------------------------------------------------------------------------------------------------------------------------------------------------------------------------------------------------------------------------------------------------------------------------------------------------------------------------------------------------------------------------------------------------------------------------------------------------------------------------------------------------------------------------------------------------------------------------------------------------------------------------------------------------------------------------------------------------------------------------------------------------------------------------------------------------------------------------------------------------------------------------------------------------------------------------------------------------------------------------------------------------------------------------------------------------------------------------------------------------------------------------------------------------------------------------------------------------------------------------------------------------------------------------------------------------------------------------------------------------------------------------------------------------------------------------------------------------------------------------------------------------------------------------------+-----------------------------------------------------------------------------------------------------------------------------------------------------------------------------------------------------------------------------------------------------------------------------------------------------------------------------------------------------------------------------------------------------------------------------------------------------------------------------------------------------------------------------------------------------------------------------------------------------------------------------------------------------------------------------------------------------------------------------------------------------------------------------------------------------------------------------------------------------------------------------------------------------------------------------------------------------------------------------------------------------------------------------------------------------------------------------------------------------------------------------------------------------------------------------------------------------------------------------------------------------------------------------------------------------------------------------------------------------------------------------------------------------------------------------------------------------------------------------------------------------------------------------------------------------------------------------------------------------------------------------------------------------------------------------------------------------------------------------------------------------------------------------------------------------------------------------------------------------------------------------------------------------------------------------------------------------------------------------------------------------+\n",
            "|text                                                                                                                                                                                                                                                                                                                                                                                                                                                                                                                                                                                                                                                                                                                                                                                                                                                                                                                                                                                                                                                                                                                                                                                                                                                                                                                                                                                                                                                                                                                                                                                                                                                                                                                                                                                                                                                                                                                                                                                                                                           |Final_text                                                                                                                                                                                                                                                                                                                                                                                                                                                                                                                                                                                                                                                                                                                                                                                                                                                                                                                                                                                                                                                                                                                                                                                                                                                                                                                                                                                                                                                                                                                                                                                                                                                                                                                                                                                                                                                                                                                                                                                           |\n",
            "+-----------------------------------------------------------------------------------------------------------------------------------------------------------------------------------------------------------------------------------------------------------------------------------------------------------------------------------------------------------------------------------------------------------------------------------------------------------------------------------------------------------------------------------------------------------------------------------------------------------------------------------------------------------------------------------------------------------------------------------------------------------------------------------------------------------------------------------------------------------------------------------------------------------------------------------------------------------------------------------------------------------------------------------------------------------------------------------------------------------------------------------------------------------------------------------------------------------------------------------------------------------------------------------------------------------------------------------------------------------------------------------------------------------------------------------------------------------------------------------------------------------------------------------------------------------------------------------------------------------------------------------------------------------------------------------------------------------------------------------------------------------------------------------------------------------------------------------------------------------------------------------------------------------------------------------------------------------------------------------------------------------------------------------------------+-----------------------------------------------------------------------------------------------------------------------------------------------------------------------------------------------------------------------------------------------------------------------------------------------------------------------------------------------------------------------------------------------------------------------------------------------------------------------------------------------------------------------------------------------------------------------------------------------------------------------------------------------------------------------------------------------------------------------------------------------------------------------------------------------------------------------------------------------------------------------------------------------------------------------------------------------------------------------------------------------------------------------------------------------------------------------------------------------------------------------------------------------------------------------------------------------------------------------------------------------------------------------------------------------------------------------------------------------------------------------------------------------------------------------------------------------------------------------------------------------------------------------------------------------------------------------------------------------------------------------------------------------------------------------------------------------------------------------------------------------------------------------------------------------------------------------------------------------------------------------------------------------------------------------------------------------------------------------------------------------------+\n",
            "|   750 ml bottle, 2016 vintage, bottle #304 of 360. Served in a DFH snifter, the beer pours dark brown/black with about an inch tan head that stuck around a little while. There's also a good amount of lacing. I like the aroma, the brew smells like dark fruit (raisin, plum), chocolate, roasted malt, and a bit of licorice. For the most part I think the taste is just like the aroma, but with some coffee flavor noticeable too. Mouthfeel/body is medium/full, it's creamy and coating with a moderate amount of carbonation. I think it's a good overall brew, worth picking up if you want a nice straight forward imperial stout. Here's hoping Four String brings this back in the future! $9.99 a bottle.                                                                                                                                                                                                                                                                                                                                                                                                                                                                                                                                                                                                                                                                                                                                                                                                                                                                                                                                                                                                                                                                                                                                                                                                                                                                                                                      |MotorbreathImperialStout AmericanImperialStout 750 ml bottle 2016 vintage bottle 304 of 360 Served in a DFH snifter the beer pours dark brownblack with about an inch tan head that stuck around a little while Theres also a good amount of lacing I like the aroma the brew smells like dark fruit raisin plum chocolate roasted malt and a bit of licorice For the most part I think the taste is just like the aroma but with some coffee flavor noticeable too Mouthfeelbody is mediumfull its creamy and coating with a moderate amount of carbonation I think its a good overall brew worth picking up if you want a nice straight forward imperial stout Heres hoping Four String brings this back in the future 999 a bottle                                                                                                                                                                                                                                                                                                                                                                                                                                                                                                                                                                                                                                                                                                                                                                                                                                                                                                                                                                                                                                                                                                                                                                                                                                                                |\n",
            "|   Clear gold in color, light head, very little lacing, slight grain taste, same with the first scent, not a bad beer, but not very special either.                                                                                                                                                                                                                                                                                                                                                                                                                                                                                                                                                                                                                                                                                                                                                                                                                                                                                                                                                                                                                                                                                                                                                                                                                                                                                                                                                                                                                                                                                                                                                                                                                                                                                                                                                                                                                                                                                            |PaybackPilsner BohemianPilsener Clear gold in color light head very little lacing slight grain taste same with the first scent not a bad beer but not very special either                                                                                                                                                                                                                                                                                                                                                                                                                                                                                                                                                                                                                                                                                                                                                                                                                                                                                                                                                                                                                                                                                                                                                                                                                                                                                                                                                                                                                                                                                                                                                                                                                                                                                                                                                                                                                            |\n",
            "|   Reminds me of pretty much every Czech Pilsner I have ever had. Very drinkable, but nothing that stands out as exceptional.                                                                                                                                                                                                                                                                                                                                                                                                                                                                                                                                                                                                                                                                                                                                                                                                                                                                                                                                                                                                                                                                                                                                                                                                                                                                                                                                                                                                                                                                                                                                                                                                                                                                                                                                                                                                                                                                                                                  |PaybackPilsner BohemianPilsener Reminds me of pretty much every Czech Pilsner I have ever had Very drinkable but nothing that stands out as exceptional                                                                                                                                                                                                                                                                                                                                                                                                                                                                                                                                                                                                                                                                                                                                                                                                                                                                                                                                                                                                                                                                                                                                                                                                                                                                                                                                                                                                                                                                                                                                                                                                                                                                                                                                                                                                                                              |\n",
            "|   Pale yellow body; wispy white head. Very faint grain scent with a touch of honey. The taste is similar to the smell; gentle hop bitterness. Medium body. A fair, approachable pilsner yet rather run of the mill.                                                                                                                                                                                                                                                                                                                                                                                                                                                                                                                                                                                                                                                                                                                                                                                                                                                                                                                                                                                                                                                                                                                                                                                                                                                                                                                                                                                                                                                                                                                                                                                                                                                                                                                                                                                                                           |PaybackPilsner BohemianPilsener Pale yellow body wispy white head Very faint grain scent with a touch of honey The taste is similar to the smell gentle hop bitterness Medium body A fair approachable pilsner yet rather run of the mill                                                                                                                                                                                                                                                                                                                                                                                                                                                                                                                                                                                                                                                                                                                                                                                                                                                                                                                                                                                                                                                                                                                                                                                                                                                                                                                                                                                                                                                                                                                                                                                                                                                                                                                                                            |\n",
            "|   The CANQuest (tm) is honored to add anything from Four String BC to the list since one of its movers & shakers is none other than Larry, Larry, Larry ! Horowitz, who brewed & did jack of all trades stuff for Iron Hill for years. Larry, Larry, Larry is a fellow veteran & a really great, unassuming personality to be around. His knowledge is seCANd-to-none & while I was sorry to see him depart for Ohio, I know how to find him. Naturally, the CAN released a spray across my fingertips & then evinced some foaming through the vent on the Crack! I wanted an earlier CAN to do so & it did not CANoperate while each one before & after has been a behavior problem. Not really, since no one CAN hold a CANdle to my handling of a CAN. I performed a very gentle Glug so as to not rouse either any lees or the hooded CANbra that seemed to be lurking within. What is it with the Cracker Jack surprise inside jazz today? I got a rubber duck earlier & now, a cobra! Even my gentle Glug was enough to bring up just over a finger of soapy, foamy, bone-white head with modest retention. Color was a pretty Straw-Yellow (SRM = > 2, < 4), kind of like liquid sunshine in the glass. Nose was almost certainly indiCANtive of a German Pilsner, but I am going to request CANfirmation from the brewer/brewery on this one. It struck me as malty & bready, but I am not going to claim to be an expert. Mouthfeel was medium. The taste was making it really tough for me. It had a pleasant Noble hoppiness, but nowhere near as pronounced as it had been in Champion's Shower Beer. That said, the biscuitiness of the malt was not what I would CANsider pronounced, either. It was as though the beer was trying to straddle two styles. I prefer the Czech over the German, but this made for an interesting drink. Finish was semi-dry to dry, but neither the hops nor the malt seemed to want to assert themselves. It was decent, but I wish that it (or me) could make up its mind as to its identity.  |PaybackPilsner BohemianPilsener The CANQuest tm is honored to add anything from Four String BC to the list since one of its movers  shakers is none other than Larry Larry Larry  Horowitz who brewed  did jack of all trades stuff for Iron Hill for years Larry Larry Larry is a fellow veteran  a really great unassuming personality to be around His knowledge is seCANdtonone  while I was sorry to see him depart for Ohio I know how to find him Naturally the CAN released a spray across my fingertips  then evinced some foaming through the vent on the Crack I wanted an earlier CAN to do so  it did not CANoperate while each one before  after has been a behavior problem Not really since no one CAN hold a CANdle to my handling of a CAN I performed a very gentle Glug so as to not rouse either any lees or the hooded CANbra that seemed to be lurking within What is it with the Cracker Jack surprise inside jazz today I got a rubber duck earlier  now a cobra Even my gentle Glug was enough to bring up just over a finger of soapy foamy bonewhite head with modest retention Color was a pretty StrawYellow SRM   2  4 kind of like liquid sunshine in the glass Nose was almost certainly indiCANtive of a German Pilsner but I am going to request CANfirmation from the brewerbrewery on this one It struck me as malty  bready but I am not going to claim to be an expert Mouthfeel was medium The taste was making it really tough for me It had a pleasant Noble hoppiness but nowhere near as pronounced as it had been in Champions Shower Beer That said the biscuitiness of the malt was not what I would CANsider pronounced either It was as though the beer was trying to straddle two styles I prefer the Czech over the German but this made for an interesting drink Finish was semidry to dry but neither the hops nor the malt seemed to want to assert themselves It was decent but I wish that it or me could make up its mind as to its identity|\n",
            "|   I got a Payback Pilsner in a mix 12 from Drug Mart in Willard, Ohio. It poured a clear golden with white head that is not leaving much of a lace. The scent is not one of pilsner...something strange...can't quite put finger on it. The taste leans toward a white grape and is a touch bitter. The Mouthfeel is lighter in body with good carbonation. Overall it's ok certainly wouldn't go out of my way to get it.                                                                                                                                                                                                                                                                                                                                                                                                                                                                                                                                                                                                                                                                                                                                                                                                                                                                                                                                                                                                                                                                                                                                                                                                                                                                                                                                                                                                                                                                                                                                                                                                                    |PaybackPilsner BohemianPilsener I got a Payback Pilsner in a mix 12 from Drug Mart in Willard Ohio It poured a clear golden with white head that is not leaving much of a lace The scent is not one of pilsnersomething strangecant quite put finger on it The taste leans toward a white grape and is a touch bitter The Mouthfeel is lighter in body with good carbonation Overall its ok certainly wouldnt go out of my way to get it                                                                                                                                                                                                                                                                                                                                                                                                                                                                                                                                                                                                                                                                                                                                                                                                                                                                                                                                                                                                                                                                                                                                                                                                                                                                                                                                                                                                                                                                                                                                                             |\n",
            "|   Enjoyed from the 12 oz can in a pint glass via a friend from work----Thanks Kevin! This brew pours a very weak light yellow with an excellent head of dissipating foam that settles to a light ring, light layer, and excellent lacing. Nose of subtle honey malts, subtle hops, and light grains. Flavors follow the nose with sweet malts and bitter hops on all sides with moderately heavy grain notes coming in through the back with a decent bittering hops note on the aftertaste. Overall a decent pilsner with good carbonation making it an easy drinker. Decent for the style. Cheers                                                                                                                                                                                                                                                                                                                                                                                                                                                                                                                                                                                                                                                                                                                                                                                                                                                                                                                                                                                                                                                                                                                                                                                                                                                                                                                                                                                                                                           |PaybackPilsner BohemianPilsener Enjoyed from the 12 oz can in a pint glass via a friend from workThanks Kevin This brew pours a very weak light yellow with an excellent head of dissipating foam that settles to a light ring light layer and excellent lacing Nose of subtle honey malts subtle hops and light grains Flavors follow the nose with sweet malts and bitter hops on all sides with moderately heavy grain notes coming in through the back with a decent bittering hops note on the aftertaste Overall a decent pilsner with good carbonation making it an easy drinker Decent for the style Cheers                                                                                                                                                                                                                                                                                                                                                                                                                                                                                                                                                                                                                                                                                                                                                                                                                                                                                                                                                                                                                                                                                                                                                                                                                                                                                                                                                                                  |\n",
            "|   Pours a golden yellow, slight biscuit aroma with some hoppiness. The flavor is well-balanced between malt and hops. This is a solid pilsner with medium malt body, a subtle sweetness and a clean finish of German hops. If you get a really fresh batch of this, the hops might be a bit strong, as I noted in an earlier version of this review. I opened a can a week later though (which is probably the average of how long it will be on the shelf after you buy it) and everything was equaled out.                                                                                                                                                                                                                                                                                                                                                                                                                                                                                                                                                                                                                                                                                                                                                                                                                                                                                                                                                                                                                                                                                                                                                                                                                                                                                                                                                                                                                                                                                                                                  |PaybackPilsner BohemianPilsener Pours a golden yellow slight biscuit aroma with some hoppiness The flavor is wellbalanced between malt and hops This is a solid pilsner with medium malt body a subtle sweetness and a clean finish of German hops If you get a really fresh batch of this the hops might be a bit strong as I noted in an earlier version of this review I opened a can a week later though which is probably the average of how long it will be on the shelf after you buy it and everything was equaled out                                                                                                                                                                                                                                                                                                                                                                                                                                                                                                                                                                                                                                                                                                                                                                                                                                                                                                                                                                                                                                                                                                                                                                                                                                                                                                                                                                                                                                                                       |\n",
            "|   This thing is gorgeous. Too bad it ends there. Exceptional head (I always said, is there any such thing as bad head?). It just keeps coming and coming. Nice. So it's yellow and doesn't have any strong finishing hops aroma. It has a very mild pilsner taste, which is to say not much. The aftertaste is sweetish. Boring, even for the style. This is one of the prettier brews ever but that's it it has. Like they gave up trying to make a great pils and just made a well made one. Not recommended - it's just a pretty face.                                                                                                                                                                                                                                                                                                                                                                                                                                                                                                                                                                                                                                                                                                                                                                                                                                                                                                                                                                                                                                                                                                                                                                                                                                                                                                                                                                                                                                                                                                     |PaybackPilsner BohemianPilsener This thing is gorgeous Too bad it ends there Exceptional head I always said is there any such thing as bad head It just keeps coming and coming Nice So its yellow and doesnt have any strong finishing hops aroma It has a very mild pilsner taste which is to say not much The aftertaste is sweetish Boring even for the style This is one of the prettier brews ever but thats it it has Like they gave up trying to make a great pils and just made a well made one Not recommended  its just a pretty face                                                                                                                                                                                                                                                                                                                                                                                                                                                                                                                                                                                                                                                                                                                                                                                                                                                                                                                                                                                                                                                                                                                                                                                                                                                                                                                                                                                                                                                     |\n",
            "|   0%                                                                                                                                                                                                                                                                                                                                                                                                                                                                                                                                                                                                                                                                                                                                                                                                                                                                                                                                                                                                                                                                                                                                                                                                                                                                                                                                                                                                                                                                                                                                                                                                                                                                                                                                                                                                                                                                                                                                                                                                                                          |PaybackPilsner BohemianPilsener 0                                                                                                                                                                                                                                                                                                                                                                                                                                                                                                                                                                                                                                                                                                                                                                                                                                                                                                                                                                                                                                                                                                                                                                                                                                                                                                                                                                                                                                                                                                                                                                                                                                                                                                                                                                                                                                                                                                                                                                    |\n",
            "|\"   16oz draft A: Dark brown, no head S: Just not a lot going on. Generic malt, nothing else T: Dark malts, a hint of rye bite but it's in the background M: Medium-bodied O: The bar I had this at had this in the \"\"malt\"\" portion of their menu. I wish it had more hops/ rye spice to be in the \"\"hops\"\" section. Perfectly drinkable as is just nothing memorable  \"                                                                                                                                                                                                                                                                                                                                                                                                                                                                                                                                                                                                                                                                                                                                                                                                                                                                                                                                                                                                                                                                                                                                                                                                                                                                                                                                                                                                                                                                                                                                                                                                                                                                      |HELLHAMMER RyeBeer    16oz draft A Dark brown no head S Just not a lot going on Generic malt nothing else T Dark malts a hint of rye bite but its in the background M Mediumbodied O The bar I had this at had this in the malt portion of their menu I wish it had more hops rye spice to be in the hops section Perfectly drinkable as is just nothing memorable                                                                                                                                                                                                                                                                                                                                                                                                                                                                                                                                                                                                                                                                                                                                                                                                                                                                                                                                                                                                                                                                                                                                                                                                                                                                                                                                                                                                                                                                                                                                                                                                                                   |\n",
            "|   The chipotle peppers add just a little heat on the way down. Very complex but tasty.                                                                                                                                                                                                                                                                                                                                                                                                                                                                                                                                                                                                                                                                                                                                                                                                                                                                                                                                                                                                                                                                                                                                                                                                                                                                                                                                                                                                                                                                                                                                                                                                                                                                                                                                                                                                                                                                                                                                                        |HELLHAMMER RyeBeer The chipotle peppers add just a little heat on the way down Very complex but tasty                                                                                                                                                                                                                                                                                                                                                                                                                                                                                                                                                                                                                                                                                                                                                                                                                                                                                                                                                                                                                                                                                                                                                                                                                                                                                                                                                                                                                                                                                                                                                                                                                                                                                                                                                                                                                                                                                                |\n",
            "|   I want this porter to be thick and rich, but alas, it is not.                                                                                                                                                                                                                                                                                                                                                                                                                                                                                                                                                                                                                                                                                                                                                                                                                                                                                                                                                                                                                                                                                                                                                                                                                                                                                                                                                                                                                                                                                                                                                                                                                                                                                                                                                                                                                                                                                                                                                                               |VanillaPorter AmericanPorter I want this porter to be thick and rich but alas it is not                                                                                                                                                                                                                                                                                                                                                                                                                                                                                                                                                                                                                                                                                                                                                                                                                                                                                                                                                                                                                                                                                                                                                                                                                                                                                                                                                                                                                                                                                                                                                                                                                                                                                                                                                                                                                                                                                                              |\n",
            "|   12 FL. OZ. bottle Served in a snifter This beer appears black when poured, but when held to the light some ruby highlights are visible. It is topped with an inch of tan head that leaves very little lacing. I can smell vanilla right away. I also get some milk chocolate and roasted malt. It start with vanilla flavor. Dark chocolate come through the middle. Roasted malt also comes through the middle but lingers through the finish. The is a bitter chocolate aftertaste. Medium to full mouthfeel It is a drinkable everyday porter. There is nothing to make it stand out, but there is nothing to note of detrimental flavor either.                                                                                                                                                                                                                                                                                                                                                                                                                                                                                                                                                                                                                                                                                                                                                                                                                                                                                                                                                                                                                                                                                                                                                                                                                                                                                                                                                                                         |VanillaPorter AmericanPorter 12 FL OZ bottle Served in a snifter This beer appears black when poured but when held to the light some ruby highlights are visible It is topped with an inch of tan head that leaves very little lacing I can smell vanilla right away I also get some milk chocolate and roasted malt It start with vanilla flavor Dark chocolate come through the middle Roasted malt also comes through the middle but lingers through the finish The is a bitter chocolate aftertaste Medium to full mouthfeel It is a drinkable everyday porter There is nothing to make it stand out but there is nothing to note of detrimental flavor either                                                                                                                                                                                                                                                                                                                                                                                                                                                                                                                                                                                                                                                                                                                                                                                                                                                                                                                                                                                                                                                                                                                                                                                                                                                                                                                                   |\n",
            "|   pretty good for in a can (I prefer bottles, idk who else cares)                                                                                                                                                                                                                                                                                                                                                                                                                                                                                                                                                                                                                                                                                                                                                                                                                                                                                                                                                                                                                                                                                                                                                                                                                                                                                                                                                                                                                                                                                                                                                                                                                                                                                                                                                                                                                                                                                                                                                                             |VanillaPorter AmericanPorter pretty good for in a can I prefer bottles idk who else cares                                                                                                                                                                                                                                                                                                                                                                                                                                                                                                                                                                                                                                                                                                                                                                                                                                                                                                                                                                                                                                                                                                                                                                                                                                                                                                                                                                                                                                                                                                                                                                                                                                                                                                                                                                                                                                                                                                            |\n",
            "|   I bought a 6pck at the local Meijer store. The scent had hints of vanilla and roast. The taste carried some vanilla with espresso presence. The Mouthfeel was lighter in body with smooth carbonation. Overall it's ok....would like more body.                                                                                                                                                                                                                                                                                                                                                                                                                                                                                                                                                                                                                                                                                                                                                                                                                                                                                                                                                                                                                                                                                                                                                                                                                                                                                                                                                                                                                                                                                                                                                                                                                                                                                                                                                                                             |VanillaPorter AmericanPorter I bought a 6pck at the local Meijer store The scent had hints of vanilla and roast The taste carried some vanilla with espresso presence The Mouthfeel was lighter in body with smooth carbonation Overall its okwould like more body                                                                                                                                                                                                                                                                                                                                                                                                                                                                                                                                                                                                                                                                                                                                                                                                                                                                                                                                                                                                                                                                                                                                                                                                                                                                                                                                                                                                                                                                                                                                                                                                                                                                                                                                   |\n",
            "|   Pours a medium brown, with a small, lightly tanned head. The head quickly falls away, leaving very little lacing. The nose has light roast, a bit of coffee, but is far to sweet for my tastes. The vanilla is there, but is largely obscured by the rest of the scent profiles here. The flavors feel muted. The little flavor you get before swallowing is roast and a hint of malt. Upon swallowing you are hit with a huge amount of roast, with coffee flavors mixed in. A wave of sweet malt rides of the heels of this, with just the barest hints of vanilla. The feel is very much on the light side for a porter. It feels like it thickens up in the middle, but the somewhat dry finish takes away from any ground it may have gained. The flavors do not stick on the tongue, and the entire drink is forgotten quickly. Overall, this feels like a pretty sub par porter. It's billed as a vanilla porter, but I feel like I had to really search for it, so much so I may have been imagining it. Everything about it feels forgettable. I guess it could be used as an introductory porter for someone hesitant of dark beers, but other than that I would just pass.                                                                                                                                                                                                                                                                                                                                                                                                                                                                                                                                                                                                                                                                                                                                                                                                                                                       |VanillaPorter AmericanPorter Pours a medium brown with a small lightly tanned head The head quickly falls away leaving very little lacing The nose has light roast a bit of coffee but is far to sweet for my tastes The vanilla is there but is largely obscured by the rest of the scent profiles here The flavors feel muted The little flavor you get before swallowing is roast and a hint of malt Upon swallowing you are hit with a huge amount of roast with coffee flavors mixed in A wave of sweet malt rides of the heels of this with just the barest hints of vanilla The feel is very much on the light side for a porter It feels like it thickens up in the middle but the somewhat dry finish takes away from any ground it may have gained The flavors do not stick on the tongue and the entire drink is forgotten quickly Overall this feels like a pretty sub par porter Its billed as a vanilla porter but I feel like I had to really search for it so much so I may have been imagining it Everything about it feels forgettable I guess it could be used as an introductory porter for someone hesitant of dark beers but other than that I would just pass                                                                                                                                                                                                                                                                                                                                                                                                                                                                                                                                                                                                                                                                                                                                                                                                                 |\n",
            "|   12 ounce can into pint glass, best before 3/17/2017. Pours crystal clear deep reddish brown color with a 1-2 finger fairly dense light khaki head with good retention, that reduces to a nice cap that lingers. Nice spotty soapy lacing clings down the glass, with a fair amount of streaming carbonation. Aromas of vanilla, milk chocolate, cocoa, caramel, toffee, brown sugar, toasted brown bread, light nuttiness/coffee, herbal, and roast/toasted earthiness. Very nice aromas with good balance and complexity of dark/roast/bready malt, vanilla, and light earthy hop notes; with good strength. Taste of big vanilla, milk chocolate, cocoa, caramel, toffee, brown sugar, toasted brown bread, light nuttiness/coffee, herbal, light pepper, and roast/toasted earthiness. Light-moderate herbal/spicy hop and light roasted bitterness on the finish; with lingering notes of vanilla, milk chocolate, cocoa, caramel, toffee, brown sugar, toasted brown bread, light nuttiness/coffee, herbal, pepper, and roast/toasted earthiness on the finish for a good bit. Very nice complexity, robustness, and balance of dark/roast/bready malt, vanilla, and light-moderate earthy hop flavors; with a nice malt/bitterness balance, and minimal astringent hop flavors after the finish. Light-moderate dryness from bitterness, increasing through the glass. Medium carbonation and body; with a very smooth, moderately creamy/grainy/bready, fairly sticky, and slightly chalky balanced mouthfeel that is nice. Zero warming alcohol as expected of 6%. Overall this is a very nice American style vanilla porter. All around nice complexity, robustness, and balance of dark/roast/bready malt, vanilla, and light-moderate earthy hop flavors; very smooth and easy to drink. Just a bit too bitter/drying than I would have preferred; this still has really great malt complexity and balance with the vanilla bean flavors. A very enjoyable offering.                                                             |VanillaPorter AmericanPorter 12 ounce can into pint glass best before 3172017 Pours crystal clear deep reddish brown color with a 12 finger fairly dense light khaki head with good retention that reduces to a nice cap that lingers Nice spotty soapy lacing clings down the glass with a fair amount of streaming carbonation Aromas of vanilla milk chocolate cocoa caramel toffee brown sugar toasted brown bread light nuttinesscoffee herbal and roasttoasted earthiness Very nice aromas with good balance and complexity of darkroastbready malt vanilla and light earthy hop notes with good strength Taste of big vanilla milk chocolate cocoa caramel toffee brown sugar toasted brown bread light nuttinesscoffee herbal light pepper and roasttoasted earthiness Lightmoderate herbalspicy hop and light roasted bitterness on the finish with lingering notes of vanilla milk chocolate cocoa caramel toffee brown sugar toasted brown bread light nuttinesscoffee herbal pepper and roasttoasted earthiness on the finish for a good bit Very nice complexity robustness and balance of darkroastbready malt vanilla and lightmoderate earthy hop flavors with a nice maltbitterness balance and minimal astringent hop flavors after the finish Lightmoderate dryness from bitterness increasing through the glass Medium carbonation and body with a very smooth moderately creamygrainybready fairly sticky and slightly chalky balanced mouthfeel that is nice Zero warming alcohol as expected of 6 Overall this is a very nice American style vanilla porter All around nice complexity robustness and balance of darkroastbready malt vanilla and lightmoderate earthy hop flavors very smooth and easy to drink Just a bit too bitterdrying than I would have preferred this still has really great malt complexity and balance with the vanilla bean flavors A very enjoyable offering                                                                                      |\n",
            "|   Porter first and vanilla secondary, the heirarchy is clear- the Four String brewer show a creative and aggressive edge with the madagascar vanilla bean, but layer them on a robust underpinning of roasty, toasty barley malt that doesn't shy away from the attention of the tastebuds. Their Vanilla Porter is a dark and lavish dark ale, deep brown and topped with a creamy beige crown. As the unmistakable and soothing scent of vanilla drifts onto the nose, its taste is even more decadent with dark-roast coffee, chocolate, burnt sugar and roasted nuttiness. As the flavors develop, the mind is drawn to the taste of sweet cream, milkshakes and sweetened coffees. The toasted grains give bittersweet chocolate notes with an undercarriage of caramel and toffee. Earthy nuttiness is woodsy and the bittering hops are piney and support the coffee-like characteristics seamlessly. Full bodied yet remarkably drinkable, the porter seems lavishly creamy to start but trails with a drying tone that outweighs the generous vanilla additions. An after-palate of bitter woods, nuttiness and coffee extend deep into aftertaste and with that seductive afterglow of vanilla.                                                                                                                                                                                                                                                                                                                                                                                                                                                                                                                                                                                                                                                                                                                                                                                                                                     |VanillaPorter AmericanPorter Porter first and vanilla secondary the heirarchy is clear the Four String brewer show a creative and aggressive edge with the madagascar vanilla bean but layer them on a robust underpinning of roasty toasty barley malt that doesnt shy away from the attention of the tastebuds Their Vanilla Porter is a dark and lavish dark ale deep brown and topped with a creamy beige crown As the unmistakable and soothing scent of vanilla drifts onto the nose its taste is even more decadent with darkroast coffee chocolate burnt sugar and roasted nuttiness As the flavors develop the mind is drawn to the taste of sweet cream milkshakes and sweetened coffees The toasted grains give bittersweet chocolate notes with an undercarriage of caramel and toffee Earthy nuttiness is woodsy and the bittering hops are piney and support the coffeelike characteristics seamlessly Full bodied yet remarkably drinkable the porter seems lavishly creamy to start but trails with a drying tone that outweighs the generous vanilla additions An afterpalate of bitter woods nuttiness and coffee extend deep into aftertaste and with that seductive afterglow of vanilla                                                                                                                                                                                                                                                                                                                                                                                                                                                                                                                                                                                                                                                                                                                                                                                         |\n",
            "|   Aroma is fudgy, with vanilla accents. Fairly rich chocolate malt balanced the vanilla sweetness well. Flavor is vanilla dominant, with a light sweetness carrying throughout. Chocolate is more subdued, and a string bitterness is ushered in too quickly. There's a bit of an acidic or metallic character upfront. Too bitter.                                                                                                                                                                                                                                                                                                                                                                                                                                                                                                                                                                                                                                                                                                                                                                                                                                                                                                                                                                                                                                                                                                                                                                                                                                                                                                                                                                                                                                                                                                                                                                                                                                                                                                           |VanillaPorter AmericanPorter Aroma is fudgy with vanilla accents Fairly rich chocolate malt balanced the vanilla sweetness well Flavor is vanilla dominant with a light sweetness carrying throughout Chocolate is more subdued and a string bitterness is ushered in too quickly Theres a bit of an acidic or metallic character upfront Too bitter                                                                                                                                                                                                                                                                                                                                                                                                                                                                                                                                                                                                                                                                                                                                                                                                                                                                                                                                                                                                                                                                                                                                                                                                                                                                                                                                                                                                                                                                                                                                                                                                                                                 |\n",
            "+-----------------------------------------------------------------------------------------------------------------------------------------------------------------------------------------------------------------------------------------------------------------------------------------------------------------------------------------------------------------------------------------------------------------------------------------------------------------------------------------------------------------------------------------------------------------------------------------------------------------------------------------------------------------------------------------------------------------------------------------------------------------------------------------------------------------------------------------------------------------------------------------------------------------------------------------------------------------------------------------------------------------------------------------------------------------------------------------------------------------------------------------------------------------------------------------------------------------------------------------------------------------------------------------------------------------------------------------------------------------------------------------------------------------------------------------------------------------------------------------------------------------------------------------------------------------------------------------------------------------------------------------------------------------------------------------------------------------------------------------------------------------------------------------------------------------------------------------------------------------------------------------------------------------------------------------------------------------------------------------------------------------------------------------------+-----------------------------------------------------------------------------------------------------------------------------------------------------------------------------------------------------------------------------------------------------------------------------------------------------------------------------------------------------------------------------------------------------------------------------------------------------------------------------------------------------------------------------------------------------------------------------------------------------------------------------------------------------------------------------------------------------------------------------------------------------------------------------------------------------------------------------------------------------------------------------------------------------------------------------------------------------------------------------------------------------------------------------------------------------------------------------------------------------------------------------------------------------------------------------------------------------------------------------------------------------------------------------------------------------------------------------------------------------------------------------------------------------------------------------------------------------------------------------------------------------------------------------------------------------------------------------------------------------------------------------------------------------------------------------------------------------------------------------------------------------------------------------------------------------------------------------------------------------------------------------------------------------------------------------------------------------------------------------------------------------+\n",
            "only showing top 20 rows\n",
            "\n"
          ],
          "name": "stdout"
        }
      ]
    },
    {
      "cell_type": "code",
      "metadata": {
        "colab": {
          "base_uri": "https://localhost:8080/"
        },
        "id": "Aci_ULQF-VSl",
        "outputId": "ff681659-5fca-4210-c2a4-e391a98fb3f1"
      },
      "source": [
        "combined_df.count()"
      ],
      "execution_count": null,
      "outputs": [
        {
          "output_type": "execute_result",
          "data": {
            "text/plain": [
              "1973277"
            ]
          },
          "metadata": {
            "tags": []
          },
          "execution_count": 28
        }
      ]
    },
    {
      "cell_type": "code",
      "metadata": {
        "id": "So2lXfJEo-A9"
      },
      "source": [
        "# Setup and execute Tokenizer and Stop words pipeline\n",
        "from pyspark.ml.feature import Tokenizer, StopWordsRemover\n",
        "from pyspark.ml import Pipeline\n",
        "\n",
        "# \"Creating pipeline...\"\n",
        "tokenizer = Tokenizer(inputCol=\"Final_text\", outputCol=\"token_text\")\n",
        "stopremove = StopWordsRemover(inputCol='token_text', outputCol='features')\n",
        "\n",
        "pipeline = Pipeline(stages=[tokenizer, stopremove])\n",
        "\n",
        "# \"Training model...\"\n",
        "pipeline_stg = pipeline.fit(combined_df)\n",
        "final_df = pipeline_stg.transform(combined_df)\n",
        "# final_df.show()"
      ],
      "execution_count": null,
      "outputs": []
    },
    {
      "cell_type": "code",
      "metadata": {
        "colab": {
          "base_uri": "https://localhost:8080/"
        },
        "id": "HfovHDCfpo0y",
        "outputId": "6c7cf49e-c88a-4b5a-bfd9-b8c4dd287da0"
      },
      "source": [
        "final_df.show()"
      ],
      "execution_count": null,
      "outputs": [
        {
          "output_type": "stream",
          "text": [
            "+-------+----------------+----------+--------------------+----+-----+-----+----+-------+-----+--------------------+------------+--------------------+--------------------+----+----------+--------------------+------------+-------------+-------------+------------+-------------+-------------+------------+---------------+-------------+--------------------+--------------------+--------------------+--------------------+--------------------+--------------------+\n",
            "|beer_id|        username|      date|                text|look|smell|taste|feel|overall|score|           beer_name|review_state|               style|        availability| abv|brewery_id|        brewery_name|brewery_city|brewery_state|brewery_types|look_numeric|smell_numeric|taste_numeric|feel_numeric|overall_numeric|score_numeric|          beer_clean|         style_clean|          clean_text|          Final_text|          token_text|            features|\n",
            "+-------+----------------+----------+--------------------+----+-----+-----+----+-------+-----+--------------------+------------+--------------------+--------------------+----+----------+--------------------+------------+-------------+-------------+------------+-------------+-------------+------------+---------------+-------------+--------------------+--------------------+--------------------+--------------------+--------------------+--------------------+\n",
            "| 271781|    bluejacket74|2017-03-17|   750 ml bottle,...| 4.0|  4.0|  4.0|4.25|    4.0| 4.03|Motorbreath Imper...|          OH|American Imperial...|Limited (brewed o...|10.8|     28094|Four String Brewi...|    Columbus|           OH| Brewery, Bar|         4.0|          4.0|          4.0|        4.25|            4.0|         4.03|MotorbreathImperi...|AmericanImperialS...|750 ml bottle 201...|MotorbreathImperi...|[motorbreathimper...|[motorbreathimper...|\n",
            "| 184647|      Try-em-all|2017-09-27|   Clear gold in ...| 4.0|  4.0|  3.5| 3.5|   3.75|  3.7|     Payback Pilsner|          OH|   Bohemian Pilsener|            Rotating| 5.1|     28094|Four String Brewi...|    Columbus|           OH| Brewery, Bar|         4.0|          4.0|          3.5|         3.5|           3.75|          3.7|      PaybackPilsner|    BohemianPilsener|Clear gold in col...|PaybackPilsner Bo...|[paybackpilsner, ...|[paybackpilsner, ...|\n",
            "| 184647|ScorpioBeerLover|2017-03-22|   Reminds me of ...| 4.0|  4.0| 4.25|3.75|    4.0| 4.08|     Payback Pilsner|          OH|   Bohemian Pilsener|            Rotating| 5.1|     28094|Four String Brewi...|    Columbus|           OH| Brewery, Bar|         4.0|          4.0|         4.25|        3.75|            4.0|         4.08|      PaybackPilsner|    BohemianPilsener|Reminds me of pre...|PaybackPilsner Bo...|[paybackpilsner, ...|[paybackpilsner, ...|\n",
            "| 184647|        beergoot|2016-10-08|   Pale yellow bo...|3.25| 3.25|  3.5| 3.5|    3.5| 3.43|     Payback Pilsner|          OH|   Bohemian Pilsener|            Rotating| 5.1|     28094|Four String Brewi...|    Columbus|           OH| Brewery, Bar|        3.25|         3.25|          3.5|         3.5|            3.5|         3.43|      PaybackPilsner|    BohemianPilsener|Pale yellow body ...|PaybackPilsner Bo...|[paybackpilsner, ...|[paybackpilsner, ...|\n",
            "| 184647|   woodychandler|2016-09-25|   The CANQuest (...|3.75| 3.75|  3.5| 3.5|    3.5| 3.58|     Payback Pilsner|          OH|   Bohemian Pilsener|            Rotating| 5.1|     28094|Four String Brewi...|    Columbus|           OH| Brewery, Bar|        3.75|         3.75|          3.5|         3.5|            3.5|         3.58|      PaybackPilsner|    BohemianPilsener|The CANQuest tm i...|PaybackPilsner Bo...|[paybackpilsner, ...|[paybackpilsner, ...|\n",
            "| 184647|        WoodBrew|2016-07-14|   I got a Paybac...|3.75|  3.5|  3.5| 3.5|    3.5| 3.52|     Payback Pilsner|          OH|   Bohemian Pilsener|            Rotating| 5.1|     28094|Four String Brewi...|    Columbus|           OH| Brewery, Bar|        3.75|          3.5|          3.5|         3.5|            3.5|         3.52|      PaybackPilsner|    BohemianPilsener|I got a Payback P...|PaybackPilsner Bo...|[paybackpilsner, ...|[paybackpilsner, ...|\n",
            "| 184647|     Brutaltruth|2016-01-15|   Enjoyed from t...|3.75| 3.25| 3.25| 3.5|    3.5| 3.36|     Payback Pilsner|          OH|   Bohemian Pilsener|            Rotating| 5.1|     28094|Four String Brewi...|    Columbus|           OH| Brewery, Bar|        3.75|         3.25|         3.25|         3.5|            3.5|         3.36|      PaybackPilsner|    BohemianPilsener|Enjoyed from the ...|PaybackPilsner Bo...|[paybackpilsner, ...|[paybackpilsner, ...|\n",
            "| 184647|     HeightsEats|2015-12-31|   Pours a golden...|3.75| 3.75|  4.0| 4.0|   3.75| 3.88|     Payback Pilsner|          OH|   Bohemian Pilsener|            Rotating| 5.1|     28094|Four String Brewi...|    Columbus|           OH| Brewery, Bar|        3.75|         3.75|          4.0|         4.0|           3.75|         3.88|      PaybackPilsner|    BohemianPilsener|Pours a golden ye...|PaybackPilsner Bo...|[paybackpilsner, ...|[paybackpilsner, ...|\n",
            "| 184647|       schoolboy|2015-10-05|   This thing is ...| 4.5|  3.5|  3.5| 3.5|   3.75| 3.61|     Payback Pilsner|          OH|   Bohemian Pilsener|            Rotating| 5.1|     28094|Four String Brewi...|    Columbus|           OH| Brewery, Bar|         4.5|          3.5|          3.5|         3.5|           3.75|         3.61|      PaybackPilsner|    BohemianPilsener|This thing is gor...|PaybackPilsner Bo...|[paybackpilsner, ...|[paybackpilsner, ...|\n",
            "| 184647|   GreenEggsHam1|2015-08-08|                  0%| 3.5|  3.5|  3.5|3.75|    3.5| 3.53|     Payback Pilsner|          OH|   Bohemian Pilsener|            Rotating| 5.1|     28094|Four String Brewi...|    Columbus|           OH| Brewery, Bar|         3.5|          3.5|          3.5|        3.75|            3.5|         3.53|      PaybackPilsner|    BohemianPilsener|                   0|PaybackPilsner Bo...|[paybackpilsner, ...|[paybackpilsner, ...|\n",
            "| 149366|        ONUMello|2016-03-26|\"   16oz draft A:...| 3.5|  3.0|  3.5| 3.5|    3.5| 3.38|          HELLHAMMER|          OH|            Rye Beer|Limited (brewed o...| 7.2|     28094|Four String Brewi...|    Columbus|           OH| Brewery, Bar|         3.5|          3.0|          3.5|         3.5|            3.5|         3.38|          HELLHAMMER|             RyeBeer|   16oz draft A D...|HELLHAMMER RyeBee...|[hellhammer, ryeb...|[hellhammer, ryeb...|\n",
            "| 149366|        DrJGR629|2015-01-14|   The chipotle p...|4.25|  4.0|  4.5|3.75|   4.25| 4.24|          HELLHAMMER|          OH|            Rye Beer|Limited (brewed o...| 7.2|     28094|Four String Brewi...|    Columbus|           OH| Brewery, Bar|        4.25|          4.0|          4.5|        3.75|           4.25|         4.24|          HELLHAMMER|             RyeBeer|The chipotle pepp...|HELLHAMMER RyeBee...|[hellhammer, ryeb...|[hellhammer, ryeb...|\n",
            "| 111891|   Amnesia_Jones|2018-02-13|   I want this po...| 3.0|  3.0|  3.0| 3.0|    3.0|  3.0|      Vanilla Porter|          OH|     American Porter|              Winter| 6.0|     28094|Four String Brewi...|    Columbus|           OH| Brewery, Bar|         3.0|          3.0|          3.0|         3.0|            3.0|          3.0|       VanillaPorter|      AmericanPorter|I want this porte...|VanillaPorter Ame...|[vanillaporter, a...|[vanillaporter, a...|\n",
            "| 111891|       buschbeer|2017-12-13|   12 FL. OZ. bot...| 4.0|  4.0| 3.75| 4.0|   3.75| 3.85|      Vanilla Porter|          OH|     American Porter|              Winter| 6.0|     28094|Four String Brewi...|    Columbus|           OH| Brewery, Bar|         4.0|          4.0|         3.75|         4.0|           3.75|         3.85|       VanillaPorter|      AmericanPorter|12 FL OZ bottle S...|VanillaPorter Ame...|[vanillaporter, a...|[vanillaporter, a...|\n",
            "| 111891|      jojobird72|2017-08-28|   pretty good fo...|3.75|  3.0| 3.75| 3.0|   3.75|  3.5|      Vanilla Porter|          OH|     American Porter|              Winter| 6.0|     28094|Four String Brewi...|    Columbus|           OH| Brewery, Bar|        3.75|          3.0|         3.75|         3.0|           3.75|          3.5|       VanillaPorter|      AmericanPorter|pretty good for i...|VanillaPorter Ame...|[vanillaporter, a...|[vanillaporter, a...|\n",
            "| 111891|        WoodBrew|2016-12-31|   I bought a 6pc...|3.75| 3.75|  3.5| 3.0|    3.5| 3.53|      Vanilla Porter|          OH|     American Porter|              Winter| 6.0|     28094|Four String Brewi...|    Columbus|           OH| Brewery, Bar|        3.75|         3.75|          3.5|         3.0|            3.5|         3.53|       VanillaPorter|      AmericanPorter|I bought a 6pck a...|VanillaPorter Ame...|[vanillaporter, a...|[vanillaporter, a...|\n",
            "| 111891|      Oopssorryy|2016-12-25|   Pours a medium...|2.75|  2.5|  2.5| 2.5|    2.5| 2.52|      Vanilla Porter|          OH|     American Porter|              Winter| 6.0|     28094|Four String Brewi...|    Columbus|           OH| Brewery, Bar|        2.75|          2.5|          2.5|         2.5|            2.5|         2.52|       VanillaPorter|      AmericanPorter|Pours a medium br...|VanillaPorter Ame...|[vanillaporter, a...|[vanillaporter, a...|\n",
            "| 111891|       superspak|2016-12-04|   12 ounce can i...| 4.0|  4.0|  4.0| 4.0|    3.5|  3.9|      Vanilla Porter|          OH|     American Porter|              Winter| 6.0|     28094|Four String Brewi...|    Columbus|           OH| Brewery, Bar|         4.0|          4.0|          4.0|         4.0|            3.5|          3.9|       VanillaPorter|      AmericanPorter|12 ounce can into...|VanillaPorter Ame...|[vanillaporter, a...|[vanillaporter, a...|\n",
            "| 111891|     BEERchitect|2016-05-14|   Porter first a...| 4.0| 4.25|  4.0|3.75|    4.0| 4.04|      Vanilla Porter|          OH|     American Porter|              Winter| 6.0|     28094|Four String Brewi...|    Columbus|           OH| Brewery, Bar|         4.0|         4.25|          4.0|        3.75|            4.0|         4.04|       VanillaPorter|      AmericanPorter|Porter first and ...|VanillaPorter Ame...|[vanillaporter, a...|[vanillaporter, a...|\n",
            "| 111891|         barczar|2016-04-08|   Aroma is fudgy...|3.75| 3.75|  3.5|3.75|   3.75| 3.65|      Vanilla Porter|          OH|     American Porter|              Winter| 6.0|     28094|Four String Brewi...|    Columbus|           OH| Brewery, Bar|        3.75|         3.75|          3.5|        3.75|           3.75|         3.65|       VanillaPorter|      AmericanPorter|Aroma is fudgy wi...|VanillaPorter Ame...|[vanillaporter, a...|[vanillaporter, a...|\n",
            "+-------+----------------+----------+--------------------+----+-----+-----+----+-------+-----+--------------------+------------+--------------------+--------------------+----+----------+--------------------+------------+-------------+-------------+------------+-------------+-------------+------------+---------------+-------------+--------------------+--------------------+--------------------+--------------------+--------------------+--------------------+\n",
            "only showing top 20 rows\n",
            "\n"
          ],
          "name": "stdout"
        }
      ]
    },
    {
      "cell_type": "code",
      "metadata": {
        "colab": {
          "base_uri": "https://localhost:8080/"
        },
        "id": "vndQEu46-fDS",
        "outputId": "253acc51-2a2a-4835-c7bd-38576c5f20e2"
      },
      "source": [
        "final_df.count()"
      ],
      "execution_count": null,
      "outputs": [
        {
          "output_type": "execute_result",
          "data": {
            "text/plain": [
              "1973277"
            ]
          },
          "metadata": {
            "tags": []
          },
          "execution_count": 31
        }
      ]
    },
    {
      "cell_type": "code",
      "metadata": {
        "id": "IMQiTgvX2LaT"
      },
      "source": [
        "# Create w2v model hyperparameters\r\n",
        "#word2vec = Word2Vec(\r\n",
        "#    vectorSize=65,\r\n",
        "#    seed=42,\r\n",
        "#    inputCol=\"features\",\r\n",
        "#    outputCol=\"model\"\r\n",
        "#).setMaxIter(2)"
      ],
      "execution_count": null,
      "outputs": []
    },
    {
      "cell_type": "code",
      "metadata": {
        "id": "8CDRtnN40fUj"
      },
      "source": [
        "# Fit the model, this takes time\r\n",
        "#w2v_review_model = word2vec.fit(final_df)"
      ],
      "execution_count": null,
      "outputs": []
    },
    {
      "cell_type": "code",
      "metadata": {
        "id": "rolGrIte03Gq",
        "colab": {
          "base_uri": "https://localhost:8080/"
        },
        "outputId": "295a8fd2-8aed-40c4-abc7-dfb520504b16"
      },
      "source": [
        "# show some model vectors\r\n",
        "#w2v_review_model.getVectors().show()"
      ],
      "execution_count": null,
      "outputs": [
        {
          "output_type": "stream",
          "text": [
            "+--------------------+--------------------+\n",
            "|                word|              vector|\n",
            "+--------------------+--------------------+\n",
            "|               mells|[0.03909590840339...|\n",
            "|             tasties|[0.09013923257589...|\n",
            "|    sidebysidebyside|[0.20330214500427...|\n",
            "|        morph3/10/15|[-0.0720658451318...|\n",
            "|              profle|[-0.0295072738081...|\n",
            "|           professed|[-0.0607991032302...|\n",
            "|            macdaddy|[-0.0618058256804...|\n",
            "|brewer'spaleale(n...|[-0.2465905994176...|\n",
            "|               31211|[-0.1716884523630...|\n",
            "|palmettohopharves...|[-0.0251995716243...|\n",
            "|  experimentalj-hole|[-0.0857357680797...|\n",
            "|          machfive55|[-0.1270782351493...|\n",
            "|              300day|[0.03120961971580...|\n",
            "|          iteresting|[-0.0693334937095...|\n",
            "|          fivehopipa|[-0.2610330283641...|\n",
            "|               chary|[0.00651914766058...|\n",
            "|          nonfruited|[0.34797608852386...|\n",
            "|       eyewateringly|[0.15294347703456...|\n",
            "|100barrelseries#2...|[-0.1572935581207...|\n",
            "|               motts|[0.20096957683563...|\n",
            "+--------------------+--------------------+\n",
            "only showing top 20 rows\n",
            "\n"
          ],
          "name": "stdout"
        }
      ]
    },
    {
      "cell_type": "code",
      "metadata": {
        "id": "KkgsJOKwa79Q",
        "colab": {
          "base_uri": "https://localhost:8080/"
        },
        "outputId": "41ce92b6-5b95-4034-c23b-6241406a6151"
      },
      "source": [
        "# check the model accuracy by checking synonyms \r\n",
        "#w2v_review_model.findSynonymsArray(\"light\", 5)"
      ],
      "execution_count": null,
      "outputs": [
        {
          "output_type": "execute_result",
          "data": {
            "text/plain": [
              "[('medium', 0.6870060563087463),\n",
              " ('ligh', 0.6730795502662659),\n",
              " ('slight', 0.661352813243866),\n",
              " ('mild', 0.6593009829521179),\n",
              " ('mostly', 0.6529689431190491)]"
            ]
          },
          "metadata": {
            "tags": []
          },
          "execution_count": 28
        }
      ]
    },
    {
      "cell_type": "code",
      "metadata": {
        "id": "OYS_X64GSU9o"
      },
      "source": [
        "# write the model to disk\r\n",
        "#w2v_review_model.write().overwrite().save(\"/content/gdrive/MyDrive/Project3_BeerQuality/review.md\")"
      ],
      "execution_count": null,
      "outputs": []
    },
    {
      "cell_type": "code",
      "metadata": {
        "id": "8He3lB9QuHx5"
      },
      "source": [
        "# Read the model from disk to confirm\r\n",
        "w2v_loaded_model = Word2VecModel.load('/content/gdrive/MyDrive/Project3_BeerQuality/review.md')"
      ],
      "execution_count": null,
      "outputs": []
    },
    {
      "cell_type": "code",
      "metadata": {
        "colab": {
          "base_uri": "https://localhost:8080/"
        },
        "id": "y6Si0OgqMTxU",
        "outputId": "3ca6fd08-f4e1-4c13-ade1-78a117add7c1"
      },
      "source": [
        "# check to see if synonym is consistent with loaded model\r\n",
        "w2v_loaded_model.findSynonymsArray(\"light\", 5)"
      ],
      "execution_count": null,
      "outputs": [
        {
          "output_type": "execute_result",
          "data": {
            "text/plain": [
              "[('medium', 0.6870060563087463),\n",
              " ('ligh', 0.6730795502662659),\n",
              " ('slight', 0.661352813243866),\n",
              " ('mild', 0.6593009829521179),\n",
              " ('mostly', 0.6529689431190491)]"
            ]
          },
          "metadata": {
            "tags": []
          },
          "execution_count": 36
        }
      ]
    },
    {
      "cell_type": "code",
      "metadata": {
        "id": "lst9RbRuXhqr"
      },
      "source": [
        "# Transform the mode\r\n",
        "w2v_model_df = w2v_loaded_model.transform(final_df)"
      ],
      "execution_count": null,
      "outputs": []
    },
    {
      "cell_type": "code",
      "metadata": {
        "colab": {
          "base_uri": "https://localhost:8080/"
        },
        "id": "wWKT30iTZVDf",
        "outputId": "df45a080-4094-4b49-d2c3-d86fd5d992b3"
      },
      "source": [
        "w2v_model_df.show()"
      ],
      "execution_count": null,
      "outputs": [
        {
          "output_type": "stream",
          "text": [
            "+-------+----------------+----------+--------------------+----+-----+-----+----+-------+-----+--------------------+------------+--------------------+--------------------+----+----------+--------------------+------------+-------------+-------------+------------+-------------+-------------+------------+---------------+-------------+--------------------+--------------------+--------------------+--------------------+--------------------+--------------------+--------------------+\n",
            "|beer_id|        username|      date|                text|look|smell|taste|feel|overall|score|           beer_name|review_state|               style|        availability| abv|brewery_id|        brewery_name|brewery_city|brewery_state|brewery_types|look_numeric|smell_numeric|taste_numeric|feel_numeric|overall_numeric|score_numeric|          beer_clean|         style_clean|          clean_text|          Final_text|          token_text|            features|               model|\n",
            "+-------+----------------+----------+--------------------+----+-----+-----+----+-------+-----+--------------------+------------+--------------------+--------------------+----+----------+--------------------+------------+-------------+-------------+------------+-------------+-------------+------------+---------------+-------------+--------------------+--------------------+--------------------+--------------------+--------------------+--------------------+--------------------+\n",
            "| 271781|    bluejacket74|2017-03-17|   750 ml bottle,...| 4.0|  4.0|  4.0|4.25|    4.0| 4.03|Motorbreath Imper...|          OH|American Imperial...|Limited (brewed o...|10.8|     28094|Four String Brewi...|    Columbus|           OH| Brewery, Bar|         4.0|          4.0|          4.0|        4.25|            4.0|         4.03|MotorbreathImperi...|AmericanImperialS...|750 ml bottle 201...|MotorbreathImperi...|[motorbreathimper...|[motorbreathimper...|[-0.0663283048436...|\n",
            "| 184647|      Try-em-all|2017-09-27|   Clear gold in ...| 4.0|  4.0|  3.5| 3.5|   3.75|  3.7|     Payback Pilsner|          OH|   Bohemian Pilsener|            Rotating| 5.1|     28094|Four String Brewi...|    Columbus|           OH| Brewery, Bar|         4.0|          4.0|          3.5|         3.5|           3.75|          3.7|      PaybackPilsner|    BohemianPilsener|Clear gold in col...|PaybackPilsner Bo...|[paybackpilsner, ...|[paybackpilsner, ...|[0.01337589820226...|\n",
            "| 184647|ScorpioBeerLover|2017-03-22|   Reminds me of ...| 4.0|  4.0| 4.25|3.75|    4.0| 4.08|     Payback Pilsner|          OH|   Bohemian Pilsener|            Rotating| 5.1|     28094|Four String Brewi...|    Columbus|           OH| Brewery, Bar|         4.0|          4.0|         4.25|        3.75|            4.0|         4.08|      PaybackPilsner|    BohemianPilsener|Reminds me of pre...|PaybackPilsner Bo...|[paybackpilsner, ...|[paybackpilsner, ...|[0.11474443169740...|\n",
            "| 184647|        beergoot|2016-10-08|   Pale yellow bo...|3.25| 3.25|  3.5| 3.5|    3.5| 3.43|     Payback Pilsner|          OH|   Bohemian Pilsener|            Rotating| 5.1|     28094|Four String Brewi...|    Columbus|           OH| Brewery, Bar|        3.25|         3.25|          3.5|         3.5|            3.5|         3.43|      PaybackPilsner|    BohemianPilsener|Pale yellow body ...|PaybackPilsner Bo...|[paybackpilsner, ...|[paybackpilsner, ...|[-0.0168181593762...|\n",
            "| 184647|   woodychandler|2016-09-25|   The CANQuest (...|3.75| 3.75|  3.5| 3.5|    3.5| 3.58|     Payback Pilsner|          OH|   Bohemian Pilsener|            Rotating| 5.1|     28094|Four String Brewi...|    Columbus|           OH| Brewery, Bar|        3.75|         3.75|          3.5|         3.5|            3.5|         3.58|      PaybackPilsner|    BohemianPilsener|The CANQuest tm i...|PaybackPilsner Bo...|[paybackpilsner, ...|[paybackpilsner, ...|[-0.0148857976768...|\n",
            "| 184647|        WoodBrew|2016-07-14|   I got a Paybac...|3.75|  3.5|  3.5| 3.5|    3.5| 3.52|     Payback Pilsner|          OH|   Bohemian Pilsener|            Rotating| 5.1|     28094|Four String Brewi...|    Columbus|           OH| Brewery, Bar|        3.75|          3.5|          3.5|         3.5|            3.5|         3.52|      PaybackPilsner|    BohemianPilsener|I got a Payback P...|PaybackPilsner Bo...|[paybackpilsner, ...|[paybackpilsner, ...|[-0.0051498340546...|\n",
            "| 184647|     Brutaltruth|2016-01-15|   Enjoyed from t...|3.75| 3.25| 3.25| 3.5|    3.5| 3.36|     Payback Pilsner|          OH|   Bohemian Pilsener|            Rotating| 5.1|     28094|Four String Brewi...|    Columbus|           OH| Brewery, Bar|        3.75|         3.25|         3.25|         3.5|            3.5|         3.36|      PaybackPilsner|    BohemianPilsener|Enjoyed from the ...|PaybackPilsner Bo...|[paybackpilsner, ...|[paybackpilsner, ...|[-0.0365503356398...|\n",
            "| 184647|     HeightsEats|2015-12-31|   Pours a golden...|3.75| 3.75|  4.0| 4.0|   3.75| 3.88|     Payback Pilsner|          OH|   Bohemian Pilsener|            Rotating| 5.1|     28094|Four String Brewi...|    Columbus|           OH| Brewery, Bar|        3.75|         3.75|          4.0|         4.0|           3.75|         3.88|      PaybackPilsner|    BohemianPilsener|Pours a golden ye...|PaybackPilsner Bo...|[paybackpilsner, ...|[paybackpilsner, ...|[-0.0303566464262...|\n",
            "| 184647|       schoolboy|2015-10-05|   This thing is ...| 4.5|  3.5|  3.5| 3.5|   3.75| 3.61|     Payback Pilsner|          OH|   Bohemian Pilsener|            Rotating| 5.1|     28094|Four String Brewi...|    Columbus|           OH| Brewery, Bar|         4.5|          3.5|          3.5|         3.5|           3.75|         3.61|      PaybackPilsner|    BohemianPilsener|This thing is gor...|PaybackPilsner Bo...|[paybackpilsner, ...|[paybackpilsner, ...|[0.00771237849795...|\n",
            "| 184647|   GreenEggsHam1|2015-08-08|                  0%| 3.5|  3.5|  3.5|3.75|    3.5| 3.53|     Payback Pilsner|          OH|   Bohemian Pilsener|            Rotating| 5.1|     28094|Four String Brewi...|    Columbus|           OH| Brewery, Bar|         3.5|          3.5|          3.5|        3.75|            3.5|         3.53|      PaybackPilsner|    BohemianPilsener|                   0|PaybackPilsner Bo...|[paybackpilsner, ...|[paybackpilsner, ...|[0.15409735341866...|\n",
            "| 149366|        ONUMello|2016-03-26|\"   16oz draft A:...| 3.5|  3.0|  3.5| 3.5|    3.5| 3.38|          HELLHAMMER|          OH|            Rye Beer|Limited (brewed o...| 7.2|     28094|Four String Brewi...|    Columbus|           OH| Brewery, Bar|         3.5|          3.0|          3.5|         3.5|            3.5|         3.38|          HELLHAMMER|             RyeBeer|   16oz draft A D...|HELLHAMMER RyeBee...|[hellhammer, ryeb...|[hellhammer, ryeb...|[0.02001750677529...|\n",
            "| 149366|        DrJGR629|2015-01-14|   The chipotle p...|4.25|  4.0|  4.5|3.75|   4.25| 4.24|          HELLHAMMER|          OH|            Rye Beer|Limited (brewed o...| 7.2|     28094|Four String Brewi...|    Columbus|           OH| Brewery, Bar|        4.25|          4.0|          4.5|        3.75|           4.25|         4.24|          HELLHAMMER|             RyeBeer|The chipotle pepp...|HELLHAMMER RyeBee...|[hellhammer, ryeb...|[hellhammer, ryeb...|[0.11411257665604...|\n",
            "| 111891|   Amnesia_Jones|2018-02-13|   I want this po...| 3.0|  3.0|  3.0| 3.0|    3.0|  3.0|      Vanilla Porter|          OH|     American Porter|              Winter| 6.0|     28094|Four String Brewi...|    Columbus|           OH| Brewery, Bar|         3.0|          3.0|          3.0|         3.0|            3.0|          3.0|       VanillaPorter|      AmericanPorter|I want this porte...|VanillaPorter Ame...|[vanillaporter, a...|[vanillaporter, a...|[-0.1063658321675...|\n",
            "| 111891|       buschbeer|2017-12-13|   12 FL. OZ. bot...| 4.0|  4.0| 3.75| 4.0|   3.75| 3.85|      Vanilla Porter|          OH|     American Porter|              Winter| 6.0|     28094|Four String Brewi...|    Columbus|           OH| Brewery, Bar|         4.0|          4.0|         3.75|         4.0|           3.75|         3.85|       VanillaPorter|      AmericanPorter|12 FL OZ bottle S...|VanillaPorter Ame...|[vanillaporter, a...|[vanillaporter, a...|[-0.1119181135597...|\n",
            "| 111891|      jojobird72|2017-08-28|   pretty good fo...|3.75|  3.0| 3.75| 3.0|   3.75|  3.5|      Vanilla Porter|          OH|     American Porter|              Winter| 6.0|     28094|Four String Brewi...|    Columbus|           OH| Brewery, Bar|        3.75|          3.0|         3.75|         3.0|           3.75|          3.5|       VanillaPorter|      AmericanPorter|pretty good for i...|VanillaPorter Ame...|[vanillaporter, a...|[vanillaporter, a...|[0.10577825705210...|\n",
            "| 111891|        WoodBrew|2016-12-31|   I bought a 6pc...|3.75| 3.75|  3.5| 3.0|    3.5| 3.53|      Vanilla Porter|          OH|     American Porter|              Winter| 6.0|     28094|Four String Brewi...|    Columbus|           OH| Brewery, Bar|        3.75|         3.75|          3.5|         3.0|            3.5|         3.53|       VanillaPorter|      AmericanPorter|I bought a 6pck a...|VanillaPorter Ame...|[vanillaporter, a...|[vanillaporter, a...|[0.00122797399759...|\n",
            "| 111891|      Oopssorryy|2016-12-25|   Pours a medium...|2.75|  2.5|  2.5| 2.5|    2.5| 2.52|      Vanilla Porter|          OH|     American Porter|              Winter| 6.0|     28094|Four String Brewi...|    Columbus|           OH| Brewery, Bar|        2.75|          2.5|          2.5|         2.5|            2.5|         2.52|       VanillaPorter|      AmericanPorter|Pours a medium br...|VanillaPorter Ame...|[vanillaporter, a...|[vanillaporter, a...|[-0.0182727483513...|\n",
            "| 111891|       superspak|2016-12-04|   12 ounce can i...| 4.0|  4.0|  4.0| 4.0|    3.5|  3.9|      Vanilla Porter|          OH|     American Porter|              Winter| 6.0|     28094|Four String Brewi...|    Columbus|           OH| Brewery, Bar|         4.0|          4.0|          4.0|         4.0|            3.5|          3.9|       VanillaPorter|      AmericanPorter|12 ounce can into...|VanillaPorter Ame...|[vanillaporter, a...|[vanillaporter, a...|[-0.1738284160341...|\n",
            "| 111891|     BEERchitect|2016-05-14|   Porter first a...| 4.0| 4.25|  4.0|3.75|    4.0| 4.04|      Vanilla Porter|          OH|     American Porter|              Winter| 6.0|     28094|Four String Brewi...|    Columbus|           OH| Brewery, Bar|         4.0|         4.25|          4.0|        3.75|            4.0|         4.04|       VanillaPorter|      AmericanPorter|Porter first and ...|VanillaPorter Ame...|[vanillaporter, a...|[vanillaporter, a...|[-0.1093981198781...|\n",
            "| 111891|         barczar|2016-04-08|   Aroma is fudgy...|3.75| 3.75|  3.5|3.75|   3.75| 3.65|      Vanilla Porter|          OH|     American Porter|              Winter| 6.0|     28094|Four String Brewi...|    Columbus|           OH| Brewery, Bar|        3.75|         3.75|          3.5|        3.75|           3.75|         3.65|       VanillaPorter|      AmericanPorter|Aroma is fudgy wi...|VanillaPorter Ame...|[vanillaporter, a...|[vanillaporter, a...|[-0.1069670785218...|\n",
            "+-------+----------------+----------+--------------------+----+-----+-----+----+-------+-----+--------------------+------------+--------------------+--------------------+----+----------+--------------------+------------+-------------+-------------+------------+-------------+-------------+------------+---------------+-------------+--------------------+--------------------+--------------------+--------------------+--------------------+--------------------+--------------------+\n",
            "only showing top 20 rows\n",
            "\n"
          ],
          "name": "stdout"
        }
      ]
    },
    {
      "cell_type": "code",
      "metadata": {
        "id": "c9CqUtM0ZaYU"
      },
      "source": [
        "# Prepare the hyperparameters\r\n",
        "from pyspark.ml.regression import LinearRegression, LinearRegressionModel\r\n",
        "#lin_model = LinearRegression(\r\n",
        "#    maxIter=5,\r\n",
        "#    regParam=0.3,\r\n",
        "#    featuresCol=\"model\",\r\n",
        "#    labelCol=\"look_numeric\"\r\n",
        "#)"
      ],
      "execution_count": null,
      "outputs": []
    },
    {
      "cell_type": "code",
      "metadata": {
        "id": "fDr9FAVrcKvH"
      },
      "source": [
        "# split training and testing for the model (for temporary make the training set small as processing takes time)\r\n",
        "training, testing = w2v_model_df.randomSplit([0.01, 0.99])"
      ],
      "execution_count": null,
      "outputs": []
    },
    {
      "cell_type": "code",
      "metadata": {
        "id": "AIPnHjT3bDLF"
      },
      "source": [
        "# Fit the look review to a model (takes time)\r\n",
        "#lin_look_train_model = lin_model.fit(training)"
      ],
      "execution_count": null,
      "outputs": []
    },
    {
      "cell_type": "code",
      "metadata": {
        "id": "JtIRHVSk5a1t"
      },
      "source": [
        "# Save the model for later use\r\n",
        "#lin_look_train_model.write().overwrite().save(\"/content/gdrive/MyDrive/Project3_BeerQuality/lin_look_train.md\")"
      ],
      "execution_count": null,
      "outputs": []
    },
    {
      "cell_type": "code",
      "metadata": {
        "id": "1NPhk5NDwua9"
      },
      "source": [
        "# Read the model\r\n",
        "loaded_lin_look_train_model = LinearRegressionModel.load(\"/content/gdrive/MyDrive/Project3_BeerQuality/lin_look_train.md\")"
      ],
      "execution_count": null,
      "outputs": []
    },
    {
      "cell_type": "code",
      "metadata": {
        "id": "gBxLYe08bYRU"
      },
      "source": [
        "# Transform the training data to peek at the predictions\r\n",
        "lin_look_df = loaded_lin_look_train_model.transform(training)"
      ],
      "execution_count": null,
      "outputs": []
    },
    {
      "cell_type": "code",
      "metadata": {
        "colab": {
          "base_uri": "https://localhost:8080/"
        },
        "id": "1uCM2vEfDguf",
        "outputId": "2f9d2b46-723f-4796-913d-87b668f4f66e"
      },
      "source": [
        "# show a sample of the predictions\r\n",
        "lin_look_df.select('look_numeric', 'prediction', 'Final_text').show(truncate=False)"
      ],
      "execution_count": null,
      "outputs": [
        {
          "output_type": "stream",
          "text": [
            "+------------+------------------+---------------------------------------------------------------------------------------------------------------------------------------------------------------------------------------------------------------------------------------------------------------------------------------------------------------------------------------------------------------------------------------------------------------------------------------------------------------------------------------------------------------------------------------------------------------------------------------------------------------------------------------------------------------------------------------------------------------------------------------------------------------------------------------------------------------------------------------------------------------------------------------------------------------------------------------------------------------------------------------------------------------------------------------------------------------------------------------------------------------------------------------------------------------------------------------------------------------------------------------------------------------------------------------------------------------------------------------------------------------------------------------------------------------------------------------------------------------------------------------------------------------------------------------------------------------------------------------------------------------------------------------------------------------------------------------------------------------------------------------------------------------------------------------------------------------------------------------------------------------------------------------------------------------------------------------------------------------------------------------------------------------------------------+\n",
            "|look_numeric|prediction        |Final_text                                                                                                                                                                                                                                                                                                                                                                                                                                                                                                                                                                                                                                                                                                                                                                                                                                                                                                                                                                                                                                                                                                                                                                                                                                                                                                                                                                                                                                                                                                                                                                                                                                                                                                                                                                                                                                                                                                                                                                                                                       |\n",
            "+------------+------------------+---------------------------------------------------------------------------------------------------------------------------------------------------------------------------------------------------------------------------------------------------------------------------------------------------------------------------------------------------------------------------------------------------------------------------------------------------------------------------------------------------------------------------------------------------------------------------------------------------------------------------------------------------------------------------------------------------------------------------------------------------------------------------------------------------------------------------------------------------------------------------------------------------------------------------------------------------------------------------------------------------------------------------------------------------------------------------------------------------------------------------------------------------------------------------------------------------------------------------------------------------------------------------------------------------------------------------------------------------------------------------------------------------------------------------------------------------------------------------------------------------------------------------------------------------------------------------------------------------------------------------------------------------------------------------------------------------------------------------------------------------------------------------------------------------------------------------------------------------------------------------------------------------------------------------------------------------------------------------------------------------------------------------------+\n",
            "|3.5         |3.916083405254827 |CrookedStaveOrigins-BourbonBarrelCherry AmericanWildAle Murky cherry hued caramel brown Tan head This one is almost too sour to drink at this point Mouth puckering Vinegar Tart cherries Some funk A bit of brown sugar and spice Enjoyable but a bit over the top after a few years in the bottle                                                                                                                                                                                                                                                                                                                                                                                                                                                                                                                                                                                                                                                                                                                                                                                                                                                                                                                                                                                                                                                                                                                                                                                                                                                                                                                                                                                                                                                                                                                                                                                                                                                                                                                              |\n",
            "|4.0         |4.028882811769227 |ColoradoWildSageMountainSaison BelgianSaison Lumpy shaving cream over hazy blonde 4 Perfume flowers lemon rind cheese 4 Wheat cracker lemon zest hit of barnyard lime sorbet Thai notes white pepper herb chalky finish 425 Oily floral comeback Crisp light fizzy 4 Sage  lemongrass Way faceted Saison  Brett both kickin’ Refreshing  nuanced though “too little heart” sez Carter 425                                                                                                                                                                                                                                                                                                                                                                                                                                                                                                                                                                                                                                                                                                                                                                                                                                                                                                                                                                                                                                                                                                                                                                                                                                                                                                                                                                                                                                                                                                                                                                                                                                        |\n",
            "|3.75        |3.886296817307005 |ColoradoWildSageMountainSaison BelgianSaison Aroma is spices funk and slightly medicinal The flavor is lemon fruit very mild sweetness malts spices slight funk and a long and very sourtart finish                                                                                                                                                                                                                                                                                                                                                                                                                                                                                                                                                                                                                                                                                                                                                                                                                                                                                                                                                                                                                                                                                                                                                                                                                                                                                                                                                                                                                                                                                                                                                                                                                                                                                                                                                                                                                              |\n",
            "|4.0         |4.052172418986587 |AmericanBeauty AmericanImperialIPA Served in a DFH Alehouse oversized snifter A Poured damn near crystal clear with a beautiful amber ruby color and a semisticky white head that died down pretty fast S Musty and dank but with a tinge of citrus sugar and DFHs signature profile T Really nice flavor I particularly liked the sort of pomegranateesque aftertaste that wasnt overly bitter but still screamed DIPA Sweet but not sticky and with some red velvet cake batter thrown into the mix M Low carbonation which was appropriate and a very thick honeylike brew in general DFH really excels in the mouthfeel arena IMO O Never thought Id have a beer made with granola but damn I love it                                                                                                                                                                                                                                                                                                                                                                                                                                                                                                                                                                                                                                                                                                                                                                                                                                                                                                                                                                                                                                                                                                                                                                                                                                                                                                                        |\n",
            "|4.0         |4.1613534322511025|ReaperVs.Unicorn AmericanBarleywine 0                                                                                                                                                                                                                                                                                                                                                                                                                                                                                                                                                                                                                                                                                                                                                                                                                                                                                                                                                                                                                                                                                                                                                                                                                                                                                                                                                                                                                                                                                                                                                                                                                                                                                                                                                                                                                                                                                                                                                                                            |\n",
            "|4.25        |4.207603228535811 |Mandala-Motueka AmericanImperialIPA Grabbed at the brewery a couple days ago and poured cold to a 12oz mason jar from the growler today a crisp semi translucent honey copper with a super foamy big bubbled head with nice retention and spotty lace Aroma of big tropical hops apricot grapefruit Big bodied big carbonation creamy smooth great big tropical hops apricots peach near sweet hint of bitter bite Way more drinkable than it oughta be at 88abv                                                                                                                                                                                                                                                                                                                                                                                                                                                                                                                                                                                                                                                                                                                                                                                                                                                                                                                                                                                                                                                                                                                                                                                                                                                                                                                                                                                                                                                                                                                                                                 |\n",
            "|4.0         |3.859519567717204 |Kvasir ScottishGruit/AncientHerbedAle Not quite sure what to expect with this one A  A standard pour yields two plus fingers of crisp lively audibly fizzy light khaki colored head that turns creamy as it begins to settle a bit Decent retention Whats left is a full even thick veil of creamy lacing Mostly still with just a couple streaks of sluggish carbonation The color is a watered down pale red with some amber undertones S  A completely unique and rather inviting aroma The birch syrup and cranberry juice are at the forefront and work harmoniously together There are also notes of pomegranates There is a layer of honey A very light subtle spiciness lingers a bit beneath the surface Nice balance and complexity Each subsequent whiff yields a new layer of depth and complexity T  The layers of depth and complexity on the nose become a bit muddled on the palate Cherries Pomegranate Cranberry Not sure what a lingonberry is but Ill assume there is some of that mixed in as well The birch and honey notes are light and linger beneath the surface Some light sage notes as well Theres a light to moderate medicinal quality to the finish that proves a bit challenging and off putting M Medium bodied Sturdy Sharp carbonation Syrupy D  This brew is quintessential Dogfish Head Not great nor bad but completely unique and challenging The aroma is the best part of this offering The flavor profile and mouthfeel are a bit rough around the edges The end result is a beer worthy of the curious Probable a couple notches below Theobroma in terms of my favorite DFH Ancient Ale                                                                                                                                                                                                                                                                                                                                                                                             |\n",
            "|3.75        |4.0394215951368775|SaisonHands BelgianSaison The beer has a spicy yeast in the front with bright citrus lemon and wheat The flavor follows of wheat and hay like saison notes Theres a bitter guava citrus peel The beer is a hoppy saison with a wonderful grassy bitterness and coriander spice on the back                                                                                                                                                                                                                                                                                                                                                                                                                                                                                                                                                                                                                                                                                                                                                                                                                                                                                                                                                                                                                                                                                                                                                                                                                                                                                                                                                                                                                                                                                                                                                                                                                                                                                                                                       |\n",
            "|3.5         |4.020669271896627 |Hey,CarefulMan,There'sABeverageHere! EnglishSweet/MilkStout I have no idea whats going on here but I mostly want to commend whoever submitted the picture for taking it on what appears to be a rug it really ties the photo together Pours an amber color odd even for a white or blonde stout presumably this is the influence of the coffee and cacao on the base white stout The aroma is of vanilla butterscotch toffee and creamy custard with some boozy heat that never shows up in the mouththat is an interesting trick Once you take a sip the beer is utterly smooth and creamy more of a tonguecoater than expected from its consistency and modest legs The flavors are reminiscent of a White Russian if you know the beers intent If tasted blind Im not sure I would get there That said its a cool experiment and would still be enjoyable without the theme                                                                                                                                                                                                                                                                                                                                                                                                                                                                                                                                                                                                                                                                                                                                                                                                                                                                                                                                                                                                                                                                                                                                                   |\n",
            "|4.0         |3.7293097737192276|CommunicationIsTheKeyLimePie AmericanIPA 16 oz can Hazy orange body with an ample white head Smells of orange lime graham cracker and a touch of vanilla Took some warming for me to get all the adjuncts in the nose Tastes much more strongly of lime Cracker malt with some vanilla Back end has a soapy combination of lime and graham cracker Light body Kinda gimmicky I find myself searching for the key lime pie flavor instead of just enjoying a pale ale Whether it comes together as a key lime pie flavor is debatable It drinks pretty well either way                                                                                                                                                                                                                                                                                                                                                                                                                                                                                                                                                                                                                                                                                                                                                                                                                                                                                                                                                                                                                                                                                                                                                                                                                                                                                                                                                                                                                                                            |\n",
            "|4.25        |4.195458433602632 |BarrelAgedCoffeeBreakAbduction AmericanImperialStout Bomber from the Winter 2018 batch A big barrelaged coffee stout from Pipeworks which generally seems to get very nice barrels and use them to their full effect That is certainly the case here with this batch leaning on Heaven Hill barrels for the substantial boozy bourbon and oak character That said Im a big coffee fan but hit or miss on Dark Matter contributions to beers The result for me is a boozedup coffee stout that is still quite hot on the nose but gets smoothed out a little by the earthy coffee notes once they hit the palate Also strong notes of honey and chocolate muffins in the flavor profile Moderately full body but thinner than expected for a 13 ABV bruiser                                                                                                                                                                                                                                                                                                                                                                                                                                                                                                                                                                                                                                                                                                                                                                                                                                                                                                                                                                                                                                                                                                                                                                                                                                                                       |\n",
            "|4.5         |4.2494998735637886|EmeraldGrouper AmericanImperialIPA One of the best IPAs I had in 2014 The honey adds so much body and just kicks the mouthfeel up an extra notch Citra hops make this a top notch IPA Love it                                                                                                                                                                                                                                                                                                                                                                                                                                                                                                                                                                                                                                                                                                                                                                                                                                                                                                                                                                                                                                                                                                                                                                                                                                                                                                                                                                                                                                                                                                                                                                                                                                                                                                                                                                                                                                    |\n",
            "|4.25        |4.28053268994676  |EmeraldGrouper AmericanImperialIPA Pours a nice clear golden with sticky white head heavy lacing and some head retention The nose features all of my favorite qualities of Mosaic and Citra hops Bright stone fruit notes paired with lemon grapefruit mango and hints of resinous pine in the background The taste feature a nice balance of bitterness to hop flavor It is evident that this brew is loaded up on late hop additions and tons of hops come through in the flavor but with a very tame bitterness The alcohol content is also dangerously hidden beneath waves of tropical fruit stone fruit pine and an ever so slight touch of honey sweetness Mouthfeel is spot on again it hides the big malt bill and drinks like a lighter brew with a crisp finish Overall this is a amazing brew from Pipeworks They are killing it with their latest hoppy releases looking forward to what comes next                                                                                                                                                                                                                                                                                                                                                                                                                                                                                                                                                                                                                                                                                                                                                                                                                                                                                                                                                                                                                                                                                                                 |\n",
            "|4.5         |4.032796648074292 |EmeraldGrouper AmericanImperialIPA Thanks to mrn1ceguy Reddit for this one Originally planned to share with rudzud but he got his own damn beer Also been reading a lot of Dr Suess so this souper de grouper ala Peter T Hooper will rhyme Head pours nice and fluffy like a 1 finger puffy slow fading grace leaving some nice lace mostly clear honey orange red hue streaming bubbles to keep the head at a cue Nose erupts with tropical fruit like the zinzibar zanzibar Brazillian tree groot Some citrus and mango with pith and rind too sweet candy malts keep the sweetness high ku some alcohol esters tickle the nose and recinforce the sweet syrupy heavy prose A weird pencil shavings aroma makes me go HUH but doesnt last long as the tropical hops go buh Taste brings juicy malts lots of malts and more malts and candy sweet syrupy candy with caramel toffee and Randy Candied orange peel and citrus zest around Tropical fruits as well generic style but still abound A little mango and papaya cut through with ease But dont dominate like the candy malt my tongue sees Some warming hot booze cuts through like a cruise but a 95 beer pays its dues and the beer doesnt quite lose A sticky sweet finish brings more warming alcohol more hops and malts but I cant rhyme with alcohol Mild tropical fruits lingering with citrus and peel its a big heavy sweet malty beer for a DIPA feel Mouth is a bit hot and boozy but super sticky sweet too Decent carb there but the med to full bodied I feel like I have to chew Overall OK but not quite what I hoped It has some nice hops tropical like mango and papaya eloped But the big heavy malts and super sweet candy Bring too much booze to balance quite dandy still a tasty sipper beer and hard to drink much Like the truffala trunk of the sweet hanging such                                                                                                                                                                       |\n",
            "|4.25        |4.1545871109427335|EmeraldGrouper AmericanImperialIPA 22oz Bottle 1199 Iron  Glass  Romeoville IL Emerald Grouper looks like an IPA should look Its deep golden with a leaning toward orange Theres a touch of hae running throughout but not the hazy IPA kind of haze just regular haze The head is slow to conjure at first but eventually picks up steam and grows to a finger in height It shows some impressive staying power for a beer with so much alcohol leaving lace clinging to every inch of the glass This is one of those beers that you can smell from feet away Giant huge aromas of tropical fruits and dope Mango and pineapple and weed oh my Rich jammy orange and bright vibrant ruby red grapefruit Theres a drizzle of honey sweetness on top of the sugar cookie malt base This beer is just dripping with hoppiness Its clean and all the components segue perfectly into the next Mouthwatering The citrus fully saturates this beer and Pipeworks seems to have gotten the most out of those particular hops The orange is dense and loaded with oils also very jammy The grapefruit tastes as if it was coated with brown sugar and broiled The tropical notes arent as vibrant as in the nose but they are certainly there That herbal dope is on the backend and adds a nice complexity Theres a solid honey sweetness thats needed to keep up with the massive hopping Nice sturdy malt backbone with a drizzle of caramel The body has some weight Its a few notches above moderate with a touch of stickiness but that stickiness dries up with a touch of alcohol Nice moderate bitterness grows with each drink Its deceptively drinkable for such a big beer The finish ends up being dry with a long lingering bitterness This is a damn good beer from Pipeworks probably my favorite from them actually Its bright and full on saturated with hops It has a little sweetness but it gets tempered by a complimentary booziness Good bitterness rounds it all out Im a fan and will be drinking more of this|\n",
            "|4.5         |4.036872618733765 |EmeraldGrouper AmericanImperialIPA 0                                                                                                                                                                                                                                                                                                                                                                                                                                                                                                                                                                                                                                                                                                                                                                                                                                                                                                                                                                                                                                                                                                                                                                                                                                                                                                                                                                                                                                                                                                                                                                                                                                                                                                                                                                                                                                                                                                                                                                                             |\n",
            "|4.0         |4.040814965869917 |ImperialEndOfDays EnglishSweet/MilkStout Served in a nonic A This beer pours a jet black body with a tan head that is full of big bubbles but last a good bit S The nougat chocolate hint is followed by some mellow cinnamon notes but otherwise pretty clean T The creamy blend of vanilla and cream with some nice chili spice in the finish has a soft cherry ester hint to it There is a roasted black malt flavor that is mellow but grows as the beer opens M This beer has a mediumlight mouthfeel with a slippery texture and no alcohol heat O Although the nose is soft it is nice and there is much more depth in the flavor The cream and vanilla with milk stout and chiles is supported by chocolate and cinnamon that just stay in the background The blend of flavors really work well together with nothing out of place                                                                                                                                                                                                                                                                                                                                                                                                                                                                                                                                                                                                                                                                                                                                                                                                                                                                                                                                                                                                                                                                                                                                                                                       |\n",
            "|4.0         |4.045128801678161 |UnderPressure FrenchBièredeGarde First had on tap at TH Glad I happened to be there when they put this on because there wasnt much of it available and it didnt last long at all A few hours maybe This was described as a blend of such past beers as Freddy Critical Anxious and Fossil Evidence Dark mahogany pour hazy with a solid creamy cap of tan head Aroma of husky malts and peppery spice notes of dark dried fruits Robust Taste was nice and earthy bready malts fig and raisin but not overpowering in a Belgianale kind of way essence of dried cherry black pepper mild brett notes Dry mouthfeel medium body moderate carb easy drinkability Overall a very good blend of some beers that I wouldnt necessarily expect to meld together so well                                                                                                                                                                                                                                                                                                                                                                                                                                                                                                                                                                                                                                                                                                                                                                                                                                                                                                                                                                                                                                                                                                                                                                                                                                                                |\n",
            "|3.25        |4.365463493877745 |Jack'sJavaEspressoStout AmericanStout Not as good as expected Does not stand up to the ratings Ive seen Very coffee forward                                                                                                                                                                                                                                                                                                                                                                                                                                                                                                                                                                                                                                                                                                                                                                                                                                                                                                                                                                                                                                                                                                                                                                                                                                                                                                                                                                                                                                                                                                                                                                                                                                                                                                                                                                                                                                                                                                      |\n",
            "|3.5         |3.939542392890713 |MamaBear'sSourCherryPie AmericanWildAle ive heard a rumor that this is just the cherry origins from the cellar reserve group but with a different label so as not to offend those who take things too seriously if thats the case then oh my goodness does this age well so much more sour than the origins i had when it was fresh and the cereals have fallen back allowing the fruit to shine the color is weird though murky with a ton of sediment blood red like its wax not much head either carbonation was a slight issue on this one for me and i might have been wise to pour it through a strainer but the beer itself is wonderful so much tart fruit very authentic like all of their fruited stuff lactic acid is enormous super sour lots of pucker dry enough in the finish but it comes back ive been told to drink these beers on a curve like they all need some months but then there is peaks and valleys for miles as they mature this is definitely on a peak and if its the same beer as cherry origins the age has done wonders for it almost not recognizable from its original form edit now on tap at the source listed as such so darn good i almost get a butter cinnamon crust on the pie trust me its all in your mind and just let it be because it rules                                                                                                                                                                                                                                                                                                                                                                                                                                                                                                                                                                                                                                                                                                                                      |\n",
            "+------------+------------------+---------------------------------------------------------------------------------------------------------------------------------------------------------------------------------------------------------------------------------------------------------------------------------------------------------------------------------------------------------------------------------------------------------------------------------------------------------------------------------------------------------------------------------------------------------------------------------------------------------------------------------------------------------------------------------------------------------------------------------------------------------------------------------------------------------------------------------------------------------------------------------------------------------------------------------------------------------------------------------------------------------------------------------------------------------------------------------------------------------------------------------------------------------------------------------------------------------------------------------------------------------------------------------------------------------------------------------------------------------------------------------------------------------------------------------------------------------------------------------------------------------------------------------------------------------------------------------------------------------------------------------------------------------------------------------------------------------------------------------------------------------------------------------------------------------------------------------------------------------------------------------------------------------------------------------------------------------------------------------------------------------------------------------+\n",
            "only showing top 20 rows\n",
            "\n"
          ],
          "name": "stdout"
        }
      ]
    },
    {
      "cell_type": "code",
      "metadata": {
        "colab": {
          "base_uri": "https://localhost:8080/"
        },
        "id": "C2mIukgwrNp3",
        "outputId": "e606d687-8b04-427c-b6ee-ab503649f96a"
      },
      "source": [
        "#Experiment\r\n",
        "from pyspark.ml.evaluation import MulticlassClassificationEvaluator\r\n",
        "\r\n",
        "#evaluator = MulticlassClassificationEvaluator(\r\n",
        "#    labelCol=\"look_numeric\", \r\n",
        "#    predictionCol=\"prediction\", \r\n",
        "#    metricName=\"accuracy\"\r\n",
        "#)\r\n",
        "\r\n",
        "#accuracy = evaluator.evaluate(lin_look_df)\r\n",
        "\r\n",
        "#print(\"Accuracy of model at predicting reviews was: %f\" % accuracy)"
      ],
      "execution_count": null,
      "outputs": [
        {
          "output_type": "stream",
          "text": [
            "Accuracy of model at predicting reviews was: 0.000000\n"
          ],
          "name": "stdout"
        }
      ]
    },
    {
      "cell_type": "code",
      "metadata": {
        "colab": {
          "base_uri": "https://localhost:8080/"
        },
        "id": "3hE5sTBh4FAj",
        "outputId": "2373fe47-e460-405c-c951-003e33172b06"
      },
      "source": [
        "print(training.rdd.getNumPartitions())"
      ],
      "execution_count": null,
      "outputs": [
        {
          "output_type": "stream",
          "text": [
            "14\n"
          ],
          "name": "stdout"
        }
      ]
    },
    {
      "cell_type": "code",
      "metadata": {
        "id": "65rlw7rr4iYw"
      },
      "source": [
        "partitioned_df = training.repartition(28)"
      ],
      "execution_count": null,
      "outputs": []
    },
    {
      "cell_type": "code",
      "metadata": {
        "colab": {
          "base_uri": "https://localhost:8080/"
        },
        "id": "DOEZUGim4xuA",
        "outputId": "7965bdcc-cc56-483b-d563-04264acd447e"
      },
      "source": [
        "print(partitioned_df.rdd.getNumPartitions())"
      ],
      "execution_count": null,
      "outputs": [
        {
          "output_type": "stream",
          "text": [
            "28\n"
          ],
          "name": "stdout"
        }
      ]
    },
    {
      "cell_type": "code",
      "metadata": {
        "colab": {
          "base_uri": "https://localhost:8080/"
        },
        "id": "SRX4oziuUNth",
        "outputId": "699abe7e-9080-4e01-cbe0-f8957253a130"
      },
      "source": [
        "print(partitioned_df.count())"
      ],
      "execution_count": null,
      "outputs": [
        {
          "output_type": "stream",
          "text": [
            "19467\n"
          ],
          "name": "stdout"
        }
      ]
    },
    {
      "cell_type": "code",
      "metadata": {
        "colab": {
          "base_uri": "https://localhost:8080/"
        },
        "id": "6r6sPMOEICno",
        "outputId": "ff10b270-7ee0-4749-ae84-58a41a4c140d"
      },
      "source": [
        "print(spark.sparkContext.defaultParallelism)"
      ],
      "execution_count": null,
      "outputs": [
        {
          "output_type": "stream",
          "text": [
            "2\n"
          ],
          "name": "stdout"
        }
      ]
    },
    {
      "cell_type": "code",
      "metadata": {
        "colab": {
          "base_uri": "https://localhost:8080/"
        },
        "id": "SRSoLaViJXAl",
        "outputId": "a56176dc-60ba-4290-e9de-9a2990567e67"
      },
      "source": [
        "s = spark.sparkContext._jsc.sc().getExecutorMemoryStatus().keys()\r\n",
        "print(s)\r\n",
        "l = str(s).replace(\"Set(\",\"\").replace(\")\",\"\").split(\", \")\r\n",
        "print(l)\r\n",
        "\r\n",
        "d = set()\r\n",
        "for i in l:\r\n",
        "    d.add(i.split(\":\")[0])\r\n",
        "print(len(d))\r\n",
        "\r\n",
        "print(spark.sparkContext._jsc.sc().getExecutorMemoryStatus().size())"
      ],
      "execution_count": null,
      "outputs": [
        {
          "output_type": "stream",
          "text": [
            "Set(492190d9606c:38029)\n",
            "['492190d9606c:38029']\n",
            "1\n",
            "1\n"
          ],
          "name": "stdout"
        }
      ]
    },
    {
      "cell_type": "code",
      "metadata": {
        "colab": {
          "base_uri": "https://localhost:8080/"
        },
        "id": "byqCvmZaG6LH",
        "outputId": "18370c45-e8c7-40ca-b35c-ab5d3de87d30"
      },
      "source": [
        "spark.sparkContext._conf.getAll() "
      ],
      "execution_count": null,
      "outputs": [
        {
          "output_type": "execute_result",
          "data": {
            "text/plain": [
              "[('spark.driver.port', '33275'),\n",
              " ('spark.app.id', 'local-1615332036948'),\n",
              " ('spark.rdd.compress', 'True'),\n",
              " ('spark.serializer.objectStreamReset', '100'),\n",
              " ('spark.master', 'local[*]'),\n",
              " ('spark.executor.id', 'driver'),\n",
              " ('spark.submit.deployMode', 'client'),\n",
              " ('spark.driver.host', '492190d9606c'),\n",
              " ('spark.app.name', 'word2vec'),\n",
              " ('spark.ui.showConsoleProgress', 'true')]"
            ]
          },
          "metadata": {
            "tags": []
          },
          "execution_count": 40
        }
      ]
    },
    {
      "cell_type": "code",
      "metadata": {
        "id": "KAoICFSuQH6g"
      },
      "source": [
        "spark.sparkContext._conf.get('spark.driver.maxResultSize')"
      ],
      "execution_count": null,
      "outputs": []
    },
    {
      "cell_type": "code",
      "metadata": {
        "colab": {
          "base_uri": "https://localhost:8080/"
        },
        "id": "OGVjvrc-MRWO",
        "outputId": "6d525276-73aa-413d-c159-5837cae10af6"
      },
      "source": [
        "!cat /proc/cpuinfo"
      ],
      "execution_count": null,
      "outputs": [
        {
          "output_type": "stream",
          "text": [
            "processor\t: 0\n",
            "vendor_id\t: AuthenticAMD\n",
            "cpu family\t: 23\n",
            "model\t\t: 49\n",
            "model name\t: AMD EPYC 7B12\n",
            "stepping\t: 0\n",
            "microcode\t: 0x1000065\n",
            "cpu MHz\t\t: 2250.000\n",
            "cache size\t: 512 KB\n",
            "physical id\t: 0\n",
            "siblings\t: 2\n",
            "core id\t\t: 0\n",
            "cpu cores\t: 1\n",
            "apicid\t\t: 0\n",
            "initial apicid\t: 0\n",
            "fpu\t\t: yes\n",
            "fpu_exception\t: yes\n",
            "cpuid level\t: 13\n",
            "wp\t\t: yes\n",
            "flags\t\t: fpu vme de pse tsc msr pae mce cx8 apic sep mtrr pge mca cmov pat pse36 clflush mmx fxsr sse sse2 ht syscall nx mmxext fxsr_opt pdpe1gb rdtscp lm constant_tsc rep_good nopl xtopology nonstop_tsc cpuid extd_apicid tsc_known_freq pni pclmulqdq ssse3 fma cx16 sse4_1 sse4_2 movbe popcnt aes xsave avx f16c rdrand hypervisor lahf_lm cmp_legacy cr8_legacy abm sse4a misalignsse 3dnowprefetch osvw topoext ssbd ibrs ibpb stibp vmmcall fsgsbase tsc_adjust bmi1 avx2 smep bmi2 rdseed adx smap clflushopt clwb sha_ni xsaveopt xsavec xgetbv1 clzero xsaveerptr arat npt nrip_save umip rdpid\n",
            "bugs\t\t: sysret_ss_attrs spectre_v1 spectre_v2 spec_store_bypass\n",
            "bogomips\t: 4500.00\n",
            "TLB size\t: 3072 4K pages\n",
            "clflush size\t: 64\n",
            "cache_alignment\t: 64\n",
            "address sizes\t: 48 bits physical, 48 bits virtual\n",
            "power management:\n",
            "\n",
            "processor\t: 1\n",
            "vendor_id\t: AuthenticAMD\n",
            "cpu family\t: 23\n",
            "model\t\t: 49\n",
            "model name\t: AMD EPYC 7B12\n",
            "stepping\t: 0\n",
            "microcode\t: 0x1000065\n",
            "cpu MHz\t\t: 2250.000\n",
            "cache size\t: 512 KB\n",
            "physical id\t: 0\n",
            "siblings\t: 2\n",
            "core id\t\t: 0\n",
            "cpu cores\t: 1\n",
            "apicid\t\t: 1\n",
            "initial apicid\t: 1\n",
            "fpu\t\t: yes\n",
            "fpu_exception\t: yes\n",
            "cpuid level\t: 13\n",
            "wp\t\t: yes\n",
            "flags\t\t: fpu vme de pse tsc msr pae mce cx8 apic sep mtrr pge mca cmov pat pse36 clflush mmx fxsr sse sse2 ht syscall nx mmxext fxsr_opt pdpe1gb rdtscp lm constant_tsc rep_good nopl xtopology nonstop_tsc cpuid extd_apicid tsc_known_freq pni pclmulqdq ssse3 fma cx16 sse4_1 sse4_2 movbe popcnt aes xsave avx f16c rdrand hypervisor lahf_lm cmp_legacy cr8_legacy abm sse4a misalignsse 3dnowprefetch osvw topoext ssbd ibrs ibpb stibp vmmcall fsgsbase tsc_adjust bmi1 avx2 smep bmi2 rdseed adx smap clflushopt clwb sha_ni xsaveopt xsavec xgetbv1 clzero xsaveerptr arat npt nrip_save umip rdpid\n",
            "bugs\t\t: sysret_ss_attrs spectre_v1 spectre_v2 spec_store_bypass\n",
            "bogomips\t: 4500.00\n",
            "TLB size\t: 3072 4K pages\n",
            "clflush size\t: 64\n",
            "cache_alignment\t: 64\n",
            "address sizes\t: 48 bits physical, 48 bits virtual\n",
            "power management:\n",
            "\n"
          ],
          "name": "stdout"
        }
      ]
    },
    {
      "cell_type": "code",
      "metadata": {
        "colab": {
          "base_uri": "https://localhost:8080/"
        },
        "id": "O7W8Z8uUMYyS",
        "outputId": "d501de96-e079-4cf7-a620-f69563fe5192"
      },
      "source": [
        "!cat /proc/meminfo"
      ],
      "execution_count": null,
      "outputs": [
        {
          "output_type": "stream",
          "text": [
            "MemTotal:       13333568 kB\n",
            "MemFree:          373764 kB\n",
            "MemAvailable:   11164900 kB\n",
            "Buffers:          115264 kB\n",
            "Cached:         10581148 kB\n",
            "SwapCached:            0 kB\n",
            "Active:          4418788 kB\n",
            "Inactive:        8105484 kB\n",
            "Active(anon):    1701420 kB\n",
            "Inactive(anon):      360 kB\n",
            "Active(file):    2717368 kB\n",
            "Inactive(file):  8105124 kB\n",
            "Unevictable:           0 kB\n",
            "Mlocked:               0 kB\n",
            "SwapTotal:             0 kB\n",
            "SwapFree:              0 kB\n",
            "Dirty:               968 kB\n",
            "Writeback:             0 kB\n",
            "AnonPages:       1827760 kB\n",
            "Mapped:           140948 kB\n",
            "Shmem:              1124 kB\n",
            "Slab:             336356 kB\n",
            "SReclaimable:     294532 kB\n",
            "SUnreclaim:        41824 kB\n",
            "KernelStack:        5716 kB\n",
            "PageTables:         9956 kB\n",
            "NFS_Unstable:          0 kB\n",
            "Bounce:                0 kB\n",
            "WritebackTmp:          0 kB\n",
            "CommitLimit:     6666784 kB\n",
            "Committed_AS:    5137308 kB\n",
            "VmallocTotal:   34359738367 kB\n",
            "VmallocUsed:           0 kB\n",
            "VmallocChunk:          0 kB\n",
            "Percpu:             1024 kB\n",
            "AnonHugePages:         0 kB\n",
            "ShmemHugePages:        0 kB\n",
            "ShmemPmdMapped:        0 kB\n",
            "HugePages_Total:       0\n",
            "HugePages_Free:        0\n",
            "HugePages_Rsvd:        0\n",
            "HugePages_Surp:        0\n",
            "Hugepagesize:       2048 kB\n",
            "Hugetlb:               0 kB\n",
            "DirectMap4k:       87244 kB\n",
            "DirectMap2M:     5154816 kB\n",
            "DirectMap1G:    10485760 kB\n"
          ],
          "name": "stdout"
        }
      ]
    },
    {
      "cell_type": "code",
      "metadata": {
        "colab": {
          "base_uri": "https://localhost:8080/"
        },
        "id": "2JWmBZ85Mzx_",
        "outputId": "03723e5c-945b-426f-f4d2-bdcd26930df2"
      },
      "source": [
        "!ps -ef | grep java"
      ],
      "execution_count": null,
      "outputs": [
        {
          "output_type": "stream",
          "text": [
            "root        1273       1  0 16:21 ?        00:03:20 [java] <defunct>\n",
            "root        3755       1  0 16:52 ?        00:01:26 [java] <defunct>\n",
            "root        5184       1 78 17:16 ?        04:50:27 [java] <defunct>\n",
            "root       14299   13418 29 23:20 ?        00:02:12 /usr/lib/jvm/java-8-openjdk-amd64/bin/java -cp /content/spark-2.4.7-bin-hadoop2.7/conf/:/content/spark-2.4.7-bin-hadoop2.7/jars/* -Xmx1g org.apache.spark.deploy.SparkSubmit --conf spark.app.name=word2vec pyspark-shell\n",
            "root       14716   13418  0 23:28 ?        00:00:00 /bin/bash -c ps -ef | grep java\n",
            "root       14718   14716  0 23:28 ?        00:00:00 grep java\n"
          ],
          "name": "stdout"
        }
      ]
    }
  ]
}