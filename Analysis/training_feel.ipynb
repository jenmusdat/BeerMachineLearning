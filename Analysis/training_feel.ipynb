{
  "nbformat": 4,
  "nbformat_minor": 0,
  "metadata": {
    "colab": {
      "name": "training_feel.ipynb",
      "provenance": [],
      "collapsed_sections": [],
      "machine_shape": "hm",
      "include_colab_link": true
    },
    "kernelspec": {
      "name": "python3",
      "display_name": "Python 3"
    },
    "accelerator": "GPU"
  },
  "cells": [
    {
      "cell_type": "markdown",
      "metadata": {
        "id": "view-in-github",
        "colab_type": "text"
      },
      "source": [
        "<a href=\"https://colab.research.google.com/github/jenmusdat/Project3_BeerQuality/blob/main/Analysis/training_feel.ipynb\" target=\"_parent\"><img src=\"https://colab.research.google.com/assets/colab-badge.svg\" alt=\"Open In Colab\"/></a>"
      ]
    },
    {
      "cell_type": "code",
      "metadata": {
        "id": "nKhORyErYc9H",
        "colab": {
          "base_uri": "https://localhost:8080/"
        },
        "outputId": "5320c244-e0b4-4ae0-b103-39f68df868bc"
      },
      "source": [
        "!apt-get update\n",
        "!apt-get install openjdk-8-jdk-headless -qq > /dev/null\n",
        "!wget -q http://www-us.apache.org/dist/spark/spark-2.4.7/spark-2.4.7-bin-hadoop2.7.tgz\n",
        "!tar xf spark-2.4.7-bin-hadoop2.7.tgz\n",
        "!pip install -q findspark\n",
        "\n",
        "# Set Environment Variables\n",
        "import os\n",
        "os.environ[\"JAVA_HOME\"] = \"/usr/lib/jvm/java-8-openjdk-amd64\"\n",
        "os.environ[\"SPARK_HOME\"] = \"/content/spark-2.4.7-bin-hadoop2.7\"\n",
        "\n",
        "# Start a SparkSession\n",
        "import findspark\n",
        "findspark.init()"
      ],
      "execution_count": 1,
      "outputs": [
        {
          "output_type": "stream",
          "text": [
            "Get:1 http://security.ubuntu.com/ubuntu bionic-security InRelease [88.7 kB]\n",
            "Ign:2 https://developer.download.nvidia.com/compute/cuda/repos/ubuntu1804/x86_64  InRelease\n",
            "Get:3 https://cloud.r-project.org/bin/linux/ubuntu bionic-cran40/ InRelease [3,626 B]\n",
            "Hit:4 http://archive.ubuntu.com/ubuntu bionic InRelease\n",
            "Get:5 http://ppa.launchpad.net/c2d4u.team/c2d4u4.0+/ubuntu bionic InRelease [15.9 kB]\n",
            "Ign:6 https://developer.download.nvidia.com/compute/machine-learning/repos/ubuntu1804/x86_64  InRelease\n",
            "Get:7 https://developer.download.nvidia.com/compute/cuda/repos/ubuntu1804/x86_64  Release [697 B]\n",
            "Hit:8 https://developer.download.nvidia.com/compute/machine-learning/repos/ubuntu1804/x86_64  Release\n",
            "Get:9 https://developer.download.nvidia.com/compute/cuda/repos/ubuntu1804/x86_64  Release.gpg [836 B]\n",
            "Get:10 http://archive.ubuntu.com/ubuntu bionic-updates InRelease [88.7 kB]\n",
            "Hit:11 http://ppa.launchpad.net/cran/libgit2/ubuntu bionic InRelease\n",
            "Get:12 http://archive.ubuntu.com/ubuntu bionic-backports InRelease [74.6 kB]\n",
            "Hit:13 http://ppa.launchpad.net/deadsnakes/ppa/ubuntu bionic InRelease\n",
            "Get:14 http://security.ubuntu.com/ubuntu bionic-security/universe amd64 Packages [1,398 kB]\n",
            "Hit:15 http://ppa.launchpad.net/graphics-drivers/ppa/ubuntu bionic InRelease\n",
            "Get:16 http://security.ubuntu.com/ubuntu bionic-security/restricted amd64 Packages [333 kB]\n",
            "Get:17 http://security.ubuntu.com/ubuntu bionic-security/main amd64 Packages [1,995 kB]\n",
            "Ign:19 https://developer.download.nvidia.com/compute/cuda/repos/ubuntu1804/x86_64  Packages\n",
            "Get:19 https://developer.download.nvidia.com/compute/cuda/repos/ubuntu1804/x86_64  Packages [603 kB]\n",
            "Get:20 http://ppa.launchpad.net/c2d4u.team/c2d4u4.0+/ubuntu bionic/main Sources [1,746 kB]\n",
            "Get:21 http://archive.ubuntu.com/ubuntu bionic-updates/main amd64 Packages [2,425 kB]\n",
            "Get:22 http://ppa.launchpad.net/c2d4u.team/c2d4u4.0+/ubuntu bionic/main amd64 Packages [893 kB]\n",
            "Get:23 http://archive.ubuntu.com/ubuntu bionic-updates/universe amd64 Packages [2,165 kB]\n",
            "Get:24 http://archive.ubuntu.com/ubuntu bionic-updates/restricted amd64 Packages [363 kB]\n",
            "Fetched 12.2 MB in 3s (3,930 kB/s)\n",
            "Reading package lists... Done\n"
          ],
          "name": "stdout"
        }
      ]
    },
    {
      "cell_type": "code",
      "metadata": {
        "id": "r31ccm3kuaxG",
        "colab": {
          "base_uri": "https://localhost:8080/"
        },
        "outputId": "4b25ae35-1547-42af-e9c1-2d9541c88622"
      },
      "source": [
        "from google.colab import drive\n",
        "drive.mount('/content/gdrive')"
      ],
      "execution_count": 2,
      "outputs": [
        {
          "output_type": "stream",
          "text": [
            "Mounted at /content/gdrive\n"
          ],
          "name": "stdout"
        }
      ]
    },
    {
      "cell_type": "code",
      "metadata": {
        "id": "wB9hKKClZxgP"
      },
      "source": [
        "# Start a SparkSession\n",
        "from pyspark.sql import SparkSession\n",
        "# spark = SparkSession.builder.appName(\"word2vec\").getOrCreate()"
      ],
      "execution_count": 3,
      "outputs": []
    },
    {
      "cell_type": "code",
      "metadata": {
        "id": "1sYKedd3ePTq"
      },
      "source": [
        "MAX_MEMORY = \"5g\"\r\n",
        "\r\n",
        "spark = SparkSession \\\r\n",
        "    .builder \\\r\n",
        "    .appName(\"word2vec\") \\\r\n",
        "    .config(\"spark.executor.memory\", MAX_MEMORY) \\\r\n",
        "    .config(\"spark.driver.memory\", MAX_MEMORY) \\\r\n",
        "    .config(\"spark.driver.maxResultSize\", MAX_MEMORY)\\\r\n",
        "    .getOrCreate()"
      ],
      "execution_count": 4,
      "outputs": []
    },
    {
      "cell_type": "code",
      "metadata": {
        "id": "n3iL5WYZolKS"
      },
      "source": [
        "# Import needed libs\n",
        "from pyspark.sql.types import StructType, StructField, StringType\n",
        "from pyspark.ml.feature import Word2Vec, Word2VecModel\n",
        "import string\n"
      ],
      "execution_count": 5,
      "outputs": []
    },
    {
      "cell_type": "code",
      "metadata": {
        "id": "hFZlgstGaSlQ"
      },
      "source": [
        "# Read in data from S3 Buckets\r\n",
        "from pyspark import SparkFiles\r\n",
        "url =\"/content/gdrive/MyDrive/Project3_BeerQuality/Resources/reviews_beer_brewery.csv\"\r\n",
        "spark.sparkContext.addFile(url)\r\n",
        "df = spark.read.csv(SparkFiles.get(\"reviews_beer_brewery.csv\"), header=True)\r\n"
      ],
      "execution_count": 6,
      "outputs": []
    },
    {
      "cell_type": "code",
      "metadata": {
        "id": "xrYN9AD3T1gA"
      },
      "source": [
        "# remove alpha characters from data set on review numerics\r\n",
        "from pyspark.sql.functions import regexp_extract, col\r\n",
        "pattern = r'^\\d+.\\d+$'\r\n",
        "df = df.filter(regexp_extract(col('look'), pattern, 0) != '')"
      ],
      "execution_count": 7,
      "outputs": []
    },
    {
      "cell_type": "code",
      "metadata": {
        "id": "VK7fj3iunFZO"
      },
      "source": [
        "df = df.filter(regexp_extract(col('smell'), pattern, 0) != '')\r\n",
        "df = df.filter(regexp_extract(col('taste'), pattern, 0) != '')\r\n",
        "df = df.filter(regexp_extract(col('overall'), pattern, 0) != '')\r\n",
        "df = df.filter(regexp_extract(col('score'), pattern, 0) != '')\r\n",
        "df = df.filter(regexp_extract(col('feel'), pattern, 0) != '')"
      ],
      "execution_count": 8,
      "outputs": []
    },
    {
      "cell_type": "code",
      "metadata": {
        "id": "2ulHJiqmza0y"
      },
      "source": [
        "# Next 6 lines casts to floats all the review ratings\r\n",
        "df = df.withColumn('look_numeric', df['look'].cast('float'))"
      ],
      "execution_count": 9,
      "outputs": []
    },
    {
      "cell_type": "code",
      "metadata": {
        "id": "WVaXWTdQzfMN"
      },
      "source": [
        "df = df.withColumn('smell_numeric', df['smell'].cast('float'))"
      ],
      "execution_count": 10,
      "outputs": []
    },
    {
      "cell_type": "code",
      "metadata": {
        "id": "N33lcUHCz8tM"
      },
      "source": [
        "df = df.withColumn('taste_numeric', df['taste'].cast('float'))"
      ],
      "execution_count": 11,
      "outputs": []
    },
    {
      "cell_type": "code",
      "metadata": {
        "id": "_SekhI_Bz9CE"
      },
      "source": [
        "df = df.withColumn('feel_numeric', df['feel'].cast('float'))"
      ],
      "execution_count": 12,
      "outputs": []
    },
    {
      "cell_type": "code",
      "metadata": {
        "id": "mtwJmiqVz9S5"
      },
      "source": [
        "df = df.withColumn('overall_numeric', df['overall'].cast('float'))"
      ],
      "execution_count": 13,
      "outputs": []
    },
    {
      "cell_type": "code",
      "metadata": {
        "id": "UfhdHardz_KN"
      },
      "source": [
        "df = df.withColumn('score_numeric', df['score'].cast('float'))"
      ],
      "execution_count": 14,
      "outputs": []
    },
    {
      "cell_type": "code",
      "metadata": {
        "colab": {
          "base_uri": "https://localhost:8080/"
        },
        "id": "VX0kUvjn017b",
        "outputId": "040f2b5c-b5bd-43ae-824a-028d8bf6c8cc"
      },
      "source": [
        "# Confirm data types\r\n",
        "df.printSchema"
      ],
      "execution_count": 15,
      "outputs": [
        {
          "output_type": "execute_result",
          "data": {
            "text/plain": [
              "<bound method DataFrame.printSchema of DataFrame[beer_id: string, username: string, date: string, text: string, look: string, smell: string, taste: string, feel: string, overall: string, score: string, beer_name: string, review_state: string, style: string, availability: string, abv: string, brewery_id: string, brewery_name: string, brewery_city: string, brewery_state: string, brewery_types: string, look_numeric: float, smell_numeric: float, taste_numeric: float, feel_numeric: float, overall_numeric: float, score_numeric: float]>"
            ]
          },
          "metadata": {
            "tags": []
          },
          "execution_count": 15
        }
      ]
    },
    {
      "cell_type": "code",
      "metadata": {
        "id": "LJuBnSOh7OGp"
      },
      "source": [
        "# functions for manipulating review text into a format we can tokenize\r\n",
        "def remove_punctuation(txt):\r\n",
        "  txt = txt.strip('\\xa0\\xa0 ')\r\n",
        "  return \"\".join(l if l not in string.punctuation else \"\" for l in txt)\r\n",
        "\r\n",
        "def remove_space (text):\r\n",
        "  if text:\r\n",
        "    return text.replace(' ', '')\r\n",
        "  else:\r\n",
        "    return 'Unknown'\r\n",
        "  "
      ],
      "execution_count": 16,
      "outputs": []
    },
    {
      "cell_type": "code",
      "metadata": {
        "colab": {
          "base_uri": "https://localhost:8080/"
        },
        "id": "jumNzjh_7cMM",
        "outputId": "0d0637a1-6926-4cb7-a454-22ae637cdf90"
      },
      "source": [
        "# define the udfs for the data\r\n",
        "from pyspark.sql.types import StringType\r\n",
        "from pyspark.sql.functions import col, udf\r\n",
        "\r\n",
        "remove_punctuation_udf = udf(remove_punctuation, StringType())\r\n",
        "remove_punctuation_udf\r\n",
        "\r\n",
        "remove_space_udf = udf(remove_space, StringType())\r\n",
        "remove_space_udf"
      ],
      "execution_count": 17,
      "outputs": [
        {
          "output_type": "execute_result",
          "data": {
            "text/plain": [
              "<function __main__.remove_space>"
            ]
          },
          "metadata": {
            "tags": []
          },
          "execution_count": 17
        }
      ]
    },
    {
      "cell_type": "code",
      "metadata": {
        "id": "kIpNUCIm7upA"
      },
      "source": [
        "# clean the beer name by removing spaces (will be combined with text)\r\n",
        "beer_df = df.withColumn('beer_clean', remove_space_udf(col('beer_name')))\r\n",
        "# beer_df.show()"
      ],
      "execution_count": 18,
      "outputs": []
    },
    {
      "cell_type": "code",
      "metadata": {
        "id": "RcFOFN8_7zHU"
      },
      "source": [
        "# clean the style name by removing spaces (will be combined with text)\r\n",
        "style_df = beer_df.withColumn('style_clean', remove_space_udf(col('style')))\r\n",
        "# style_df.show()"
      ],
      "execution_count": 19,
      "outputs": []
    },
    {
      "cell_type": "code",
      "metadata": {
        "colab": {
          "base_uri": "https://localhost:8080/"
        },
        "id": "Q49v6IDJ736k",
        "outputId": "447990ee-a0ba-436b-fbdf-6f854dbe60f2"
      },
      "source": [
        "# clean the text by removing punctuation\r\n",
        "text_df = style_df.withColumn(\"clean_text\", remove_punctuation_udf(col(\"text\")))\r\n",
        "text_df.show()"
      ],
      "execution_count": 20,
      "outputs": [
        {
          "output_type": "stream",
          "text": [
            "+-------+----------------+----------+--------------------+----+-----+-----+----+-------+-----+--------------------+------------+--------------------+--------------------+----+----------+--------------------+------------+-------------+-------------+------------+-------------+-------------+------------+---------------+-------------+--------------------+--------------------+--------------------+\n",
            "|beer_id|        username|      date|                text|look|smell|taste|feel|overall|score|           beer_name|review_state|               style|        availability| abv|brewery_id|        brewery_name|brewery_city|brewery_state|brewery_types|look_numeric|smell_numeric|taste_numeric|feel_numeric|overall_numeric|score_numeric|          beer_clean|         style_clean|          clean_text|\n",
            "+-------+----------------+----------+--------------------+----+-----+-----+----+-------+-----+--------------------+------------+--------------------+--------------------+----+----------+--------------------+------------+-------------+-------------+------------+-------------+-------------+------------+---------------+-------------+--------------------+--------------------+--------------------+\n",
            "| 271781|    bluejacket74|2017-03-17|   750 ml bottle,...| 4.0|  4.0|  4.0|4.25|    4.0| 4.03|Motorbreath Imper...|          OH|American Imperial...|Limited (brewed o...|10.8|     28094|Four String Brewi...|    Columbus|           OH| Brewery, Bar|         4.0|          4.0|          4.0|        4.25|            4.0|         4.03|MotorbreathImperi...|AmericanImperialS...|750 ml bottle 201...|\n",
            "| 184647|      Try-em-all|2017-09-27|   Clear gold in ...| 4.0|  4.0|  3.5| 3.5|   3.75|  3.7|     Payback Pilsner|          OH|   Bohemian Pilsener|            Rotating| 5.1|     28094|Four String Brewi...|    Columbus|           OH| Brewery, Bar|         4.0|          4.0|          3.5|         3.5|           3.75|          3.7|      PaybackPilsner|    BohemianPilsener|Clear gold in col...|\n",
            "| 184647|ScorpioBeerLover|2017-03-22|   Reminds me of ...| 4.0|  4.0| 4.25|3.75|    4.0| 4.08|     Payback Pilsner|          OH|   Bohemian Pilsener|            Rotating| 5.1|     28094|Four String Brewi...|    Columbus|           OH| Brewery, Bar|         4.0|          4.0|         4.25|        3.75|            4.0|         4.08|      PaybackPilsner|    BohemianPilsener|Reminds me of pre...|\n",
            "| 184647|        beergoot|2016-10-08|   Pale yellow bo...|3.25| 3.25|  3.5| 3.5|    3.5| 3.43|     Payback Pilsner|          OH|   Bohemian Pilsener|            Rotating| 5.1|     28094|Four String Brewi...|    Columbus|           OH| Brewery, Bar|        3.25|         3.25|          3.5|         3.5|            3.5|         3.43|      PaybackPilsner|    BohemianPilsener|Pale yellow body ...|\n",
            "| 184647|   woodychandler|2016-09-25|   The CANQuest (...|3.75| 3.75|  3.5| 3.5|    3.5| 3.58|     Payback Pilsner|          OH|   Bohemian Pilsener|            Rotating| 5.1|     28094|Four String Brewi...|    Columbus|           OH| Brewery, Bar|        3.75|         3.75|          3.5|         3.5|            3.5|         3.58|      PaybackPilsner|    BohemianPilsener|The CANQuest tm i...|\n",
            "| 184647|        WoodBrew|2016-07-14|   I got a Paybac...|3.75|  3.5|  3.5| 3.5|    3.5| 3.52|     Payback Pilsner|          OH|   Bohemian Pilsener|            Rotating| 5.1|     28094|Four String Brewi...|    Columbus|           OH| Brewery, Bar|        3.75|          3.5|          3.5|         3.5|            3.5|         3.52|      PaybackPilsner|    BohemianPilsener|I got a Payback P...|\n",
            "| 184647|     Brutaltruth|2016-01-15|   Enjoyed from t...|3.75| 3.25| 3.25| 3.5|    3.5| 3.36|     Payback Pilsner|          OH|   Bohemian Pilsener|            Rotating| 5.1|     28094|Four String Brewi...|    Columbus|           OH| Brewery, Bar|        3.75|         3.25|         3.25|         3.5|            3.5|         3.36|      PaybackPilsner|    BohemianPilsener|Enjoyed from the ...|\n",
            "| 184647|     HeightsEats|2015-12-31|   Pours a golden...|3.75| 3.75|  4.0| 4.0|   3.75| 3.88|     Payback Pilsner|          OH|   Bohemian Pilsener|            Rotating| 5.1|     28094|Four String Brewi...|    Columbus|           OH| Brewery, Bar|        3.75|         3.75|          4.0|         4.0|           3.75|         3.88|      PaybackPilsner|    BohemianPilsener|Pours a golden ye...|\n",
            "| 184647|       schoolboy|2015-10-05|   This thing is ...| 4.5|  3.5|  3.5| 3.5|   3.75| 3.61|     Payback Pilsner|          OH|   Bohemian Pilsener|            Rotating| 5.1|     28094|Four String Brewi...|    Columbus|           OH| Brewery, Bar|         4.5|          3.5|          3.5|         3.5|           3.75|         3.61|      PaybackPilsner|    BohemianPilsener|This thing is gor...|\n",
            "| 184647|   GreenEggsHam1|2015-08-08|                  0%| 3.5|  3.5|  3.5|3.75|    3.5| 3.53|     Payback Pilsner|          OH|   Bohemian Pilsener|            Rotating| 5.1|     28094|Four String Brewi...|    Columbus|           OH| Brewery, Bar|         3.5|          3.5|          3.5|        3.75|            3.5|         3.53|      PaybackPilsner|    BohemianPilsener|                   0|\n",
            "| 149366|        ONUMello|2016-03-26|\"   16oz draft A:...| 3.5|  3.0|  3.5| 3.5|    3.5| 3.38|          HELLHAMMER|          OH|            Rye Beer|Limited (brewed o...| 7.2|     28094|Four String Brewi...|    Columbus|           OH| Brewery, Bar|         3.5|          3.0|          3.5|         3.5|            3.5|         3.38|          HELLHAMMER|             RyeBeer|   16oz draft A D...|\n",
            "| 149366|        DrJGR629|2015-01-14|   The chipotle p...|4.25|  4.0|  4.5|3.75|   4.25| 4.24|          HELLHAMMER|          OH|            Rye Beer|Limited (brewed o...| 7.2|     28094|Four String Brewi...|    Columbus|           OH| Brewery, Bar|        4.25|          4.0|          4.5|        3.75|           4.25|         4.24|          HELLHAMMER|             RyeBeer|The chipotle pepp...|\n",
            "| 111891|   Amnesia_Jones|2018-02-13|   I want this po...| 3.0|  3.0|  3.0| 3.0|    3.0|  3.0|      Vanilla Porter|          OH|     American Porter|              Winter| 6.0|     28094|Four String Brewi...|    Columbus|           OH| Brewery, Bar|         3.0|          3.0|          3.0|         3.0|            3.0|          3.0|       VanillaPorter|      AmericanPorter|I want this porte...|\n",
            "| 111891|       buschbeer|2017-12-13|   12 FL. OZ. bot...| 4.0|  4.0| 3.75| 4.0|   3.75| 3.85|      Vanilla Porter|          OH|     American Porter|              Winter| 6.0|     28094|Four String Brewi...|    Columbus|           OH| Brewery, Bar|         4.0|          4.0|         3.75|         4.0|           3.75|         3.85|       VanillaPorter|      AmericanPorter|12 FL OZ bottle S...|\n",
            "| 111891|      jojobird72|2017-08-28|   pretty good fo...|3.75|  3.0| 3.75| 3.0|   3.75|  3.5|      Vanilla Porter|          OH|     American Porter|              Winter| 6.0|     28094|Four String Brewi...|    Columbus|           OH| Brewery, Bar|        3.75|          3.0|         3.75|         3.0|           3.75|          3.5|       VanillaPorter|      AmericanPorter|pretty good for i...|\n",
            "| 111891|        WoodBrew|2016-12-31|   I bought a 6pc...|3.75| 3.75|  3.5| 3.0|    3.5| 3.53|      Vanilla Porter|          OH|     American Porter|              Winter| 6.0|     28094|Four String Brewi...|    Columbus|           OH| Brewery, Bar|        3.75|         3.75|          3.5|         3.0|            3.5|         3.53|       VanillaPorter|      AmericanPorter|I bought a 6pck a...|\n",
            "| 111891|      Oopssorryy|2016-12-25|   Pours a medium...|2.75|  2.5|  2.5| 2.5|    2.5| 2.52|      Vanilla Porter|          OH|     American Porter|              Winter| 6.0|     28094|Four String Brewi...|    Columbus|           OH| Brewery, Bar|        2.75|          2.5|          2.5|         2.5|            2.5|         2.52|       VanillaPorter|      AmericanPorter|Pours a medium br...|\n",
            "| 111891|       superspak|2016-12-04|   12 ounce can i...| 4.0|  4.0|  4.0| 4.0|    3.5|  3.9|      Vanilla Porter|          OH|     American Porter|              Winter| 6.0|     28094|Four String Brewi...|    Columbus|           OH| Brewery, Bar|         4.0|          4.0|          4.0|         4.0|            3.5|          3.9|       VanillaPorter|      AmericanPorter|12 ounce can into...|\n",
            "| 111891|     BEERchitect|2016-05-14|   Porter first a...| 4.0| 4.25|  4.0|3.75|    4.0| 4.04|      Vanilla Porter|          OH|     American Porter|              Winter| 6.0|     28094|Four String Brewi...|    Columbus|           OH| Brewery, Bar|         4.0|         4.25|          4.0|        3.75|            4.0|         4.04|       VanillaPorter|      AmericanPorter|Porter first and ...|\n",
            "| 111891|         barczar|2016-04-08|   Aroma is fudgy...|3.75| 3.75|  3.5|3.75|   3.75| 3.65|      Vanilla Porter|          OH|     American Porter|              Winter| 6.0|     28094|Four String Brewi...|    Columbus|           OH| Brewery, Bar|        3.75|         3.75|          3.5|        3.75|           3.75|         3.65|       VanillaPorter|      AmericanPorter|Aroma is fudgy wi...|\n",
            "+-------+----------------+----------+--------------------+----+-----+-----+----+-------+-----+--------------------+------------+--------------------+--------------------+----+----------+--------------------+------------+-------------+-------------+------------+-------------+-------------+------------+---------------+-------------+--------------------+--------------------+--------------------+\n",
            "only showing top 20 rows\n",
            "\n"
          ],
          "name": "stdout"
        }
      ]
    },
    {
      "cell_type": "code",
      "metadata": {
        "id": "rUrgBLiFvW3W",
        "colab": {
          "base_uri": "https://localhost:8080/"
        },
        "outputId": "b8bcee31-319b-4d69-ae28-f667c03b4ac5"
      },
      "source": [
        "# Combine beer_name, style, and review text into a Final_text column\r\n",
        "from pyspark.sql.functions import concat_ws\r\n",
        "\r\n",
        "combined_df = text_df.withColumn('Final_text', concat_ws(' ',text_df.beer_clean, text_df.style_clean, text_df.clean_text))\r\n",
        "combined_df.select('text', 'Final_text').show(truncate=False)"
      ],
      "execution_count": 21,
      "outputs": [
        {
          "output_type": "stream",
          "text": [
            "+-----------------------------------------------------------------------------------------------------------------------------------------------------------------------------------------------------------------------------------------------------------------------------------------------------------------------------------------------------------------------------------------------------------------------------------------------------------------------------------------------------------------------------------------------------------------------------------------------------------------------------------------------------------------------------------------------------------------------------------------------------------------------------------------------------------------------------------------------------------------------------------------------------------------------------------------------------------------------------------------------------------------------------------------------------------------------------------------------------------------------------------------------------------------------------------------------------------------------------------------------------------------------------------------------------------------------------------------------------------------------------------------------------------------------------------------------------------------------------------------------------------------------------------------------------------------------------------------------------------------------------------------------------------------------------------------------------------------------------------------------------------------------------------------------------------------------------------------------------------------------------------------------------------------------------------------------------------------------------------------------------------------------------------------------+-----------------------------------------------------------------------------------------------------------------------------------------------------------------------------------------------------------------------------------------------------------------------------------------------------------------------------------------------------------------------------------------------------------------------------------------------------------------------------------------------------------------------------------------------------------------------------------------------------------------------------------------------------------------------------------------------------------------------------------------------------------------------------------------------------------------------------------------------------------------------------------------------------------------------------------------------------------------------------------------------------------------------------------------------------------------------------------------------------------------------------------------------------------------------------------------------------------------------------------------------------------------------------------------------------------------------------------------------------------------------------------------------------------------------------------------------------------------------------------------------------------------------------------------------------------------------------------------------------------------------------------------------------------------------------------------------------------------------------------------------------------------------------------------------------------------------------------------------------------------------------------------------------------------------------------------------------------------------------------------------------+\n",
            "|text                                                                                                                                                                                                                                                                                                                                                                                                                                                                                                                                                                                                                                                                                                                                                                                                                                                                                                                                                                                                                                                                                                                                                                                                                                                                                                                                                                                                                                                                                                                                                                                                                                                                                                                                                                                                                                                                                                                                                                                                                                           |Final_text                                                                                                                                                                                                                                                                                                                                                                                                                                                                                                                                                                                                                                                                                                                                                                                                                                                                                                                                                                                                                                                                                                                                                                                                                                                                                                                                                                                                                                                                                                                                                                                                                                                                                                                                                                                                                                                                                                                                                                                           |\n",
            "+-----------------------------------------------------------------------------------------------------------------------------------------------------------------------------------------------------------------------------------------------------------------------------------------------------------------------------------------------------------------------------------------------------------------------------------------------------------------------------------------------------------------------------------------------------------------------------------------------------------------------------------------------------------------------------------------------------------------------------------------------------------------------------------------------------------------------------------------------------------------------------------------------------------------------------------------------------------------------------------------------------------------------------------------------------------------------------------------------------------------------------------------------------------------------------------------------------------------------------------------------------------------------------------------------------------------------------------------------------------------------------------------------------------------------------------------------------------------------------------------------------------------------------------------------------------------------------------------------------------------------------------------------------------------------------------------------------------------------------------------------------------------------------------------------------------------------------------------------------------------------------------------------------------------------------------------------------------------------------------------------------------------------------------------------+-----------------------------------------------------------------------------------------------------------------------------------------------------------------------------------------------------------------------------------------------------------------------------------------------------------------------------------------------------------------------------------------------------------------------------------------------------------------------------------------------------------------------------------------------------------------------------------------------------------------------------------------------------------------------------------------------------------------------------------------------------------------------------------------------------------------------------------------------------------------------------------------------------------------------------------------------------------------------------------------------------------------------------------------------------------------------------------------------------------------------------------------------------------------------------------------------------------------------------------------------------------------------------------------------------------------------------------------------------------------------------------------------------------------------------------------------------------------------------------------------------------------------------------------------------------------------------------------------------------------------------------------------------------------------------------------------------------------------------------------------------------------------------------------------------------------------------------------------------------------------------------------------------------------------------------------------------------------------------------------------------+\n",
            "|   750 ml bottle, 2016 vintage, bottle #304 of 360. Served in a DFH snifter, the beer pours dark brown/black with about an inch tan head that stuck around a little while. There's also a good amount of lacing. I like the aroma, the brew smells like dark fruit (raisin, plum), chocolate, roasted malt, and a bit of licorice. For the most part I think the taste is just like the aroma, but with some coffee flavor noticeable too. Mouthfeel/body is medium/full, it's creamy and coating with a moderate amount of carbonation. I think it's a good overall brew, worth picking up if you want a nice straight forward imperial stout. Here's hoping Four String brings this back in the future! $9.99 a bottle.                                                                                                                                                                                                                                                                                                                                                                                                                                                                                                                                                                                                                                                                                                                                                                                                                                                                                                                                                                                                                                                                                                                                                                                                                                                                                                                      |MotorbreathImperialStout AmericanImperialStout 750 ml bottle 2016 vintage bottle 304 of 360 Served in a DFH snifter the beer pours dark brownblack with about an inch tan head that stuck around a little while Theres also a good amount of lacing I like the aroma the brew smells like dark fruit raisin plum chocolate roasted malt and a bit of licorice For the most part I think the taste is just like the aroma but with some coffee flavor noticeable too Mouthfeelbody is mediumfull its creamy and coating with a moderate amount of carbonation I think its a good overall brew worth picking up if you want a nice straight forward imperial stout Heres hoping Four String brings this back in the future 999 a bottle                                                                                                                                                                                                                                                                                                                                                                                                                                                                                                                                                                                                                                                                                                                                                                                                                                                                                                                                                                                                                                                                                                                                                                                                                                                                |\n",
            "|   Clear gold in color, light head, very little lacing, slight grain taste, same with the first scent, not a bad beer, but not very special either.                                                                                                                                                                                                                                                                                                                                                                                                                                                                                                                                                                                                                                                                                                                                                                                                                                                                                                                                                                                                                                                                                                                                                                                                                                                                                                                                                                                                                                                                                                                                                                                                                                                                                                                                                                                                                                                                                            |PaybackPilsner BohemianPilsener Clear gold in color light head very little lacing slight grain taste same with the first scent not a bad beer but not very special either                                                                                                                                                                                                                                                                                                                                                                                                                                                                                                                                                                                                                                                                                                                                                                                                                                                                                                                                                                                                                                                                                                                                                                                                                                                                                                                                                                                                                                                                                                                                                                                                                                                                                                                                                                                                                            |\n",
            "|   Reminds me of pretty much every Czech Pilsner I have ever had. Very drinkable, but nothing that stands out as exceptional.                                                                                                                                                                                                                                                                                                                                                                                                                                                                                                                                                                                                                                                                                                                                                                                                                                                                                                                                                                                                                                                                                                                                                                                                                                                                                                                                                                                                                                                                                                                                                                                                                                                                                                                                                                                                                                                                                                                  |PaybackPilsner BohemianPilsener Reminds me of pretty much every Czech Pilsner I have ever had Very drinkable but nothing that stands out as exceptional                                                                                                                                                                                                                                                                                                                                                                                                                                                                                                                                                                                                                                                                                                                                                                                                                                                                                                                                                                                                                                                                                                                                                                                                                                                                                                                                                                                                                                                                                                                                                                                                                                                                                                                                                                                                                                              |\n",
            "|   Pale yellow body; wispy white head. Very faint grain scent with a touch of honey. The taste is similar to the smell; gentle hop bitterness. Medium body. A fair, approachable pilsner yet rather run of the mill.                                                                                                                                                                                                                                                                                                                                                                                                                                                                                                                                                                                                                                                                                                                                                                                                                                                                                                                                                                                                                                                                                                                                                                                                                                                                                                                                                                                                                                                                                                                                                                                                                                                                                                                                                                                                                           |PaybackPilsner BohemianPilsener Pale yellow body wispy white head Very faint grain scent with a touch of honey The taste is similar to the smell gentle hop bitterness Medium body A fair approachable pilsner yet rather run of the mill                                                                                                                                                                                                                                                                                                                                                                                                                                                                                                                                                                                                                                                                                                                                                                                                                                                                                                                                                                                                                                                                                                                                                                                                                                                                                                                                                                                                                                                                                                                                                                                                                                                                                                                                                            |\n",
            "|   The CANQuest (tm) is honored to add anything from Four String BC to the list since one of its movers & shakers is none other than Larry, Larry, Larry ! Horowitz, who brewed & did jack of all trades stuff for Iron Hill for years. Larry, Larry, Larry is a fellow veteran & a really great, unassuming personality to be around. His knowledge is seCANd-to-none & while I was sorry to see him depart for Ohio, I know how to find him. Naturally, the CAN released a spray across my fingertips & then evinced some foaming through the vent on the Crack! I wanted an earlier CAN to do so & it did not CANoperate while each one before & after has been a behavior problem. Not really, since no one CAN hold a CANdle to my handling of a CAN. I performed a very gentle Glug so as to not rouse either any lees or the hooded CANbra that seemed to be lurking within. What is it with the Cracker Jack surprise inside jazz today? I got a rubber duck earlier & now, a cobra! Even my gentle Glug was enough to bring up just over a finger of soapy, foamy, bone-white head with modest retention. Color was a pretty Straw-Yellow (SRM = > 2, < 4), kind of like liquid sunshine in the glass. Nose was almost certainly indiCANtive of a German Pilsner, but I am going to request CANfirmation from the brewer/brewery on this one. It struck me as malty & bready, but I am not going to claim to be an expert. Mouthfeel was medium. The taste was making it really tough for me. It had a pleasant Noble hoppiness, but nowhere near as pronounced as it had been in Champion's Shower Beer. That said, the biscuitiness of the malt was not what I would CANsider pronounced, either. It was as though the beer was trying to straddle two styles. I prefer the Czech over the German, but this made for an interesting drink. Finish was semi-dry to dry, but neither the hops nor the malt seemed to want to assert themselves. It was decent, but I wish that it (or me) could make up its mind as to its identity.  |PaybackPilsner BohemianPilsener The CANQuest tm is honored to add anything from Four String BC to the list since one of its movers  shakers is none other than Larry Larry Larry  Horowitz who brewed  did jack of all trades stuff for Iron Hill for years Larry Larry Larry is a fellow veteran  a really great unassuming personality to be around His knowledge is seCANdtonone  while I was sorry to see him depart for Ohio I know how to find him Naturally the CAN released a spray across my fingertips  then evinced some foaming through the vent on the Crack I wanted an earlier CAN to do so  it did not CANoperate while each one before  after has been a behavior problem Not really since no one CAN hold a CANdle to my handling of a CAN I performed a very gentle Glug so as to not rouse either any lees or the hooded CANbra that seemed to be lurking within What is it with the Cracker Jack surprise inside jazz today I got a rubber duck earlier  now a cobra Even my gentle Glug was enough to bring up just over a finger of soapy foamy bonewhite head with modest retention Color was a pretty StrawYellow SRM   2  4 kind of like liquid sunshine in the glass Nose was almost certainly indiCANtive of a German Pilsner but I am going to request CANfirmation from the brewerbrewery on this one It struck me as malty  bready but I am not going to claim to be an expert Mouthfeel was medium The taste was making it really tough for me It had a pleasant Noble hoppiness but nowhere near as pronounced as it had been in Champions Shower Beer That said the biscuitiness of the malt was not what I would CANsider pronounced either It was as though the beer was trying to straddle two styles I prefer the Czech over the German but this made for an interesting drink Finish was semidry to dry but neither the hops nor the malt seemed to want to assert themselves It was decent but I wish that it or me could make up its mind as to its identity|\n",
            "|   I got a Payback Pilsner in a mix 12 from Drug Mart in Willard, Ohio. It poured a clear golden with white head that is not leaving much of a lace. The scent is not one of pilsner...something strange...can't quite put finger on it. The taste leans toward a white grape and is a touch bitter. The Mouthfeel is lighter in body with good carbonation. Overall it's ok certainly wouldn't go out of my way to get it.                                                                                                                                                                                                                                                                                                                                                                                                                                                                                                                                                                                                                                                                                                                                                                                                                                                                                                                                                                                                                                                                                                                                                                                                                                                                                                                                                                                                                                                                                                                                                                                                                    |PaybackPilsner BohemianPilsener I got a Payback Pilsner in a mix 12 from Drug Mart in Willard Ohio It poured a clear golden with white head that is not leaving much of a lace The scent is not one of pilsnersomething strangecant quite put finger on it The taste leans toward a white grape and is a touch bitter The Mouthfeel is lighter in body with good carbonation Overall its ok certainly wouldnt go out of my way to get it                                                                                                                                                                                                                                                                                                                                                                                                                                                                                                                                                                                                                                                                                                                                                                                                                                                                                                                                                                                                                                                                                                                                                                                                                                                                                                                                                                                                                                                                                                                                                             |\n",
            "|   Enjoyed from the 12 oz can in a pint glass via a friend from work----Thanks Kevin! This brew pours a very weak light yellow with an excellent head of dissipating foam that settles to a light ring, light layer, and excellent lacing. Nose of subtle honey malts, subtle hops, and light grains. Flavors follow the nose with sweet malts and bitter hops on all sides with moderately heavy grain notes coming in through the back with a decent bittering hops note on the aftertaste. Overall a decent pilsner with good carbonation making it an easy drinker. Decent for the style. Cheers                                                                                                                                                                                                                                                                                                                                                                                                                                                                                                                                                                                                                                                                                                                                                                                                                                                                                                                                                                                                                                                                                                                                                                                                                                                                                                                                                                                                                                           |PaybackPilsner BohemianPilsener Enjoyed from the 12 oz can in a pint glass via a friend from workThanks Kevin This brew pours a very weak light yellow with an excellent head of dissipating foam that settles to a light ring light layer and excellent lacing Nose of subtle honey malts subtle hops and light grains Flavors follow the nose with sweet malts and bitter hops on all sides with moderately heavy grain notes coming in through the back with a decent bittering hops note on the aftertaste Overall a decent pilsner with good carbonation making it an easy drinker Decent for the style Cheers                                                                                                                                                                                                                                                                                                                                                                                                                                                                                                                                                                                                                                                                                                                                                                                                                                                                                                                                                                                                                                                                                                                                                                                                                                                                                                                                                                                  |\n",
            "|   Pours a golden yellow, slight biscuit aroma with some hoppiness. The flavor is well-balanced between malt and hops. This is a solid pilsner with medium malt body, a subtle sweetness and a clean finish of German hops. If you get a really fresh batch of this, the hops might be a bit strong, as I noted in an earlier version of this review. I opened a can a week later though (which is probably the average of how long it will be on the shelf after you buy it) and everything was equaled out.                                                                                                                                                                                                                                                                                                                                                                                                                                                                                                                                                                                                                                                                                                                                                                                                                                                                                                                                                                                                                                                                                                                                                                                                                                                                                                                                                                                                                                                                                                                                  |PaybackPilsner BohemianPilsener Pours a golden yellow slight biscuit aroma with some hoppiness The flavor is wellbalanced between malt and hops This is a solid pilsner with medium malt body a subtle sweetness and a clean finish of German hops If you get a really fresh batch of this the hops might be a bit strong as I noted in an earlier version of this review I opened a can a week later though which is probably the average of how long it will be on the shelf after you buy it and everything was equaled out                                                                                                                                                                                                                                                                                                                                                                                                                                                                                                                                                                                                                                                                                                                                                                                                                                                                                                                                                                                                                                                                                                                                                                                                                                                                                                                                                                                                                                                                       |\n",
            "|   This thing is gorgeous. Too bad it ends there. Exceptional head (I always said, is there any such thing as bad head?). It just keeps coming and coming. Nice. So it's yellow and doesn't have any strong finishing hops aroma. It has a very mild pilsner taste, which is to say not much. The aftertaste is sweetish. Boring, even for the style. This is one of the prettier brews ever but that's it it has. Like they gave up trying to make a great pils and just made a well made one. Not recommended - it's just a pretty face.                                                                                                                                                                                                                                                                                                                                                                                                                                                                                                                                                                                                                                                                                                                                                                                                                                                                                                                                                                                                                                                                                                                                                                                                                                                                                                                                                                                                                                                                                                     |PaybackPilsner BohemianPilsener This thing is gorgeous Too bad it ends there Exceptional head I always said is there any such thing as bad head It just keeps coming and coming Nice So its yellow and doesnt have any strong finishing hops aroma It has a very mild pilsner taste which is to say not much The aftertaste is sweetish Boring even for the style This is one of the prettier brews ever but thats it it has Like they gave up trying to make a great pils and just made a well made one Not recommended  its just a pretty face                                                                                                                                                                                                                                                                                                                                                                                                                                                                                                                                                                                                                                                                                                                                                                                                                                                                                                                                                                                                                                                                                                                                                                                                                                                                                                                                                                                                                                                     |\n",
            "|   0%                                                                                                                                                                                                                                                                                                                                                                                                                                                                                                                                                                                                                                                                                                                                                                                                                                                                                                                                                                                                                                                                                                                                                                                                                                                                                                                                                                                                                                                                                                                                                                                                                                                                                                                                                                                                                                                                                                                                                                                                                                          |PaybackPilsner BohemianPilsener 0                                                                                                                                                                                                                                                                                                                                                                                                                                                                                                                                                                                                                                                                                                                                                                                                                                                                                                                                                                                                                                                                                                                                                                                                                                                                                                                                                                                                                                                                                                                                                                                                                                                                                                                                                                                                                                                                                                                                                                    |\n",
            "|\"   16oz draft A: Dark brown, no head S: Just not a lot going on. Generic malt, nothing else T: Dark malts, a hint of rye bite but it's in the background M: Medium-bodied O: The bar I had this at had this in the \"\"malt\"\" portion of their menu. I wish it had more hops/ rye spice to be in the \"\"hops\"\" section. Perfectly drinkable as is just nothing memorable  \"                                                                                                                                                                                                                                                                                                                                                                                                                                                                                                                                                                                                                                                                                                                                                                                                                                                                                                                                                                                                                                                                                                                                                                                                                                                                                                                                                                                                                                                                                                                                                                                                                                                                      |HELLHAMMER RyeBeer    16oz draft A Dark brown no head S Just not a lot going on Generic malt nothing else T Dark malts a hint of rye bite but its in the background M Mediumbodied O The bar I had this at had this in the malt portion of their menu I wish it had more hops rye spice to be in the hops section Perfectly drinkable as is just nothing memorable                                                                                                                                                                                                                                                                                                                                                                                                                                                                                                                                                                                                                                                                                                                                                                                                                                                                                                                                                                                                                                                                                                                                                                                                                                                                                                                                                                                                                                                                                                                                                                                                                                   |\n",
            "|   The chipotle peppers add just a little heat on the way down. Very complex but tasty.                                                                                                                                                                                                                                                                                                                                                                                                                                                                                                                                                                                                                                                                                                                                                                                                                                                                                                                                                                                                                                                                                                                                                                                                                                                                                                                                                                                                                                                                                                                                                                                                                                                                                                                                                                                                                                                                                                                                                        |HELLHAMMER RyeBeer The chipotle peppers add just a little heat on the way down Very complex but tasty                                                                                                                                                                                                                                                                                                                                                                                                                                                                                                                                                                                                                                                                                                                                                                                                                                                                                                                                                                                                                                                                                                                                                                                                                                                                                                                                                                                                                                                                                                                                                                                                                                                                                                                                                                                                                                                                                                |\n",
            "|   I want this porter to be thick and rich, but alas, it is not.                                                                                                                                                                                                                                                                                                                                                                                                                                                                                                                                                                                                                                                                                                                                                                                                                                                                                                                                                                                                                                                                                                                                                                                                                                                                                                                                                                                                                                                                                                                                                                                                                                                                                                                                                                                                                                                                                                                                                                               |VanillaPorter AmericanPorter I want this porter to be thick and rich but alas it is not                                                                                                                                                                                                                                                                                                                                                                                                                                                                                                                                                                                                                                                                                                                                                                                                                                                                                                                                                                                                                                                                                                                                                                                                                                                                                                                                                                                                                                                                                                                                                                                                                                                                                                                                                                                                                                                                                                              |\n",
            "|   12 FL. OZ. bottle Served in a snifter This beer appears black when poured, but when held to the light some ruby highlights are visible. It is topped with an inch of tan head that leaves very little lacing. I can smell vanilla right away. I also get some milk chocolate and roasted malt. It start with vanilla flavor. Dark chocolate come through the middle. Roasted malt also comes through the middle but lingers through the finish. The is a bitter chocolate aftertaste. Medium to full mouthfeel It is a drinkable everyday porter. There is nothing to make it stand out, but there is nothing to note of detrimental flavor either.                                                                                                                                                                                                                                                                                                                                                                                                                                                                                                                                                                                                                                                                                                                                                                                                                                                                                                                                                                                                                                                                                                                                                                                                                                                                                                                                                                                         |VanillaPorter AmericanPorter 12 FL OZ bottle Served in a snifter This beer appears black when poured but when held to the light some ruby highlights are visible It is topped with an inch of tan head that leaves very little lacing I can smell vanilla right away I also get some milk chocolate and roasted malt It start with vanilla flavor Dark chocolate come through the middle Roasted malt also comes through the middle but lingers through the finish The is a bitter chocolate aftertaste Medium to full mouthfeel It is a drinkable everyday porter There is nothing to make it stand out but there is nothing to note of detrimental flavor either                                                                                                                                                                                                                                                                                                                                                                                                                                                                                                                                                                                                                                                                                                                                                                                                                                                                                                                                                                                                                                                                                                                                                                                                                                                                                                                                   |\n",
            "|   pretty good for in a can (I prefer bottles, idk who else cares)                                                                                                                                                                                                                                                                                                                                                                                                                                                                                                                                                                                                                                                                                                                                                                                                                                                                                                                                                                                                                                                                                                                                                                                                                                                                                                                                                                                                                                                                                                                                                                                                                                                                                                                                                                                                                                                                                                                                                                             |VanillaPorter AmericanPorter pretty good for in a can I prefer bottles idk who else cares                                                                                                                                                                                                                                                                                                                                                                                                                                                                                                                                                                                                                                                                                                                                                                                                                                                                                                                                                                                                                                                                                                                                                                                                                                                                                                                                                                                                                                                                                                                                                                                                                                                                                                                                                                                                                                                                                                            |\n",
            "|   I bought a 6pck at the local Meijer store. The scent had hints of vanilla and roast. The taste carried some vanilla with espresso presence. The Mouthfeel was lighter in body with smooth carbonation. Overall it's ok....would like more body.                                                                                                                                                                                                                                                                                                                                                                                                                                                                                                                                                                                                                                                                                                                                                                                                                                                                                                                                                                                                                                                                                                                                                                                                                                                                                                                                                                                                                                                                                                                                                                                                                                                                                                                                                                                             |VanillaPorter AmericanPorter I bought a 6pck at the local Meijer store The scent had hints of vanilla and roast The taste carried some vanilla with espresso presence The Mouthfeel was lighter in body with smooth carbonation Overall its okwould like more body                                                                                                                                                                                                                                                                                                                                                                                                                                                                                                                                                                                                                                                                                                                                                                                                                                                                                                                                                                                                                                                                                                                                                                                                                                                                                                                                                                                                                                                                                                                                                                                                                                                                                                                                   |\n",
            "|   Pours a medium brown, with a small, lightly tanned head. The head quickly falls away, leaving very little lacing. The nose has light roast, a bit of coffee, but is far to sweet for my tastes. The vanilla is there, but is largely obscured by the rest of the scent profiles here. The flavors feel muted. The little flavor you get before swallowing is roast and a hint of malt. Upon swallowing you are hit with a huge amount of roast, with coffee flavors mixed in. A wave of sweet malt rides of the heels of this, with just the barest hints of vanilla. The feel is very much on the light side for a porter. It feels like it thickens up in the middle, but the somewhat dry finish takes away from any ground it may have gained. The flavors do not stick on the tongue, and the entire drink is forgotten quickly. Overall, this feels like a pretty sub par porter. It's billed as a vanilla porter, but I feel like I had to really search for it, so much so I may have been imagining it. Everything about it feels forgettable. I guess it could be used as an introductory porter for someone hesitant of dark beers, but other than that I would just pass.                                                                                                                                                                                                                                                                                                                                                                                                                                                                                                                                                                                                                                                                                                                                                                                                                                                       |VanillaPorter AmericanPorter Pours a medium brown with a small lightly tanned head The head quickly falls away leaving very little lacing The nose has light roast a bit of coffee but is far to sweet for my tastes The vanilla is there but is largely obscured by the rest of the scent profiles here The flavors feel muted The little flavor you get before swallowing is roast and a hint of malt Upon swallowing you are hit with a huge amount of roast with coffee flavors mixed in A wave of sweet malt rides of the heels of this with just the barest hints of vanilla The feel is very much on the light side for a porter It feels like it thickens up in the middle but the somewhat dry finish takes away from any ground it may have gained The flavors do not stick on the tongue and the entire drink is forgotten quickly Overall this feels like a pretty sub par porter Its billed as a vanilla porter but I feel like I had to really search for it so much so I may have been imagining it Everything about it feels forgettable I guess it could be used as an introductory porter for someone hesitant of dark beers but other than that I would just pass                                                                                                                                                                                                                                                                                                                                                                                                                                                                                                                                                                                                                                                                                                                                                                                                                 |\n",
            "|   12 ounce can into pint glass, best before 3/17/2017. Pours crystal clear deep reddish brown color with a 1-2 finger fairly dense light khaki head with good retention, that reduces to a nice cap that lingers. Nice spotty soapy lacing clings down the glass, with a fair amount of streaming carbonation. Aromas of vanilla, milk chocolate, cocoa, caramel, toffee, brown sugar, toasted brown bread, light nuttiness/coffee, herbal, and roast/toasted earthiness. Very nice aromas with good balance and complexity of dark/roast/bready malt, vanilla, and light earthy hop notes; with good strength. Taste of big vanilla, milk chocolate, cocoa, caramel, toffee, brown sugar, toasted brown bread, light nuttiness/coffee, herbal, light pepper, and roast/toasted earthiness. Light-moderate herbal/spicy hop and light roasted bitterness on the finish; with lingering notes of vanilla, milk chocolate, cocoa, caramel, toffee, brown sugar, toasted brown bread, light nuttiness/coffee, herbal, pepper, and roast/toasted earthiness on the finish for a good bit. Very nice complexity, robustness, and balance of dark/roast/bready malt, vanilla, and light-moderate earthy hop flavors; with a nice malt/bitterness balance, and minimal astringent hop flavors after the finish. Light-moderate dryness from bitterness, increasing through the glass. Medium carbonation and body; with a very smooth, moderately creamy/grainy/bready, fairly sticky, and slightly chalky balanced mouthfeel that is nice. Zero warming alcohol as expected of 6%. Overall this is a very nice American style vanilla porter. All around nice complexity, robustness, and balance of dark/roast/bready malt, vanilla, and light-moderate earthy hop flavors; very smooth and easy to drink. Just a bit too bitter/drying than I would have preferred; this still has really great malt complexity and balance with the vanilla bean flavors. A very enjoyable offering.                                                             |VanillaPorter AmericanPorter 12 ounce can into pint glass best before 3172017 Pours crystal clear deep reddish brown color with a 12 finger fairly dense light khaki head with good retention that reduces to a nice cap that lingers Nice spotty soapy lacing clings down the glass with a fair amount of streaming carbonation Aromas of vanilla milk chocolate cocoa caramel toffee brown sugar toasted brown bread light nuttinesscoffee herbal and roasttoasted earthiness Very nice aromas with good balance and complexity of darkroastbready malt vanilla and light earthy hop notes with good strength Taste of big vanilla milk chocolate cocoa caramel toffee brown sugar toasted brown bread light nuttinesscoffee herbal light pepper and roasttoasted earthiness Lightmoderate herbalspicy hop and light roasted bitterness on the finish with lingering notes of vanilla milk chocolate cocoa caramel toffee brown sugar toasted brown bread light nuttinesscoffee herbal pepper and roasttoasted earthiness on the finish for a good bit Very nice complexity robustness and balance of darkroastbready malt vanilla and lightmoderate earthy hop flavors with a nice maltbitterness balance and minimal astringent hop flavors after the finish Lightmoderate dryness from bitterness increasing through the glass Medium carbonation and body with a very smooth moderately creamygrainybready fairly sticky and slightly chalky balanced mouthfeel that is nice Zero warming alcohol as expected of 6 Overall this is a very nice American style vanilla porter All around nice complexity robustness and balance of darkroastbready malt vanilla and lightmoderate earthy hop flavors very smooth and easy to drink Just a bit too bitterdrying than I would have preferred this still has really great malt complexity and balance with the vanilla bean flavors A very enjoyable offering                                                                                      |\n",
            "|   Porter first and vanilla secondary, the heirarchy is clear- the Four String brewer show a creative and aggressive edge with the madagascar vanilla bean, but layer them on a robust underpinning of roasty, toasty barley malt that doesn't shy away from the attention of the tastebuds. Their Vanilla Porter is a dark and lavish dark ale, deep brown and topped with a creamy beige crown. As the unmistakable and soothing scent of vanilla drifts onto the nose, its taste is even more decadent with dark-roast coffee, chocolate, burnt sugar and roasted nuttiness. As the flavors develop, the mind is drawn to the taste of sweet cream, milkshakes and sweetened coffees. The toasted grains give bittersweet chocolate notes with an undercarriage of caramel and toffee. Earthy nuttiness is woodsy and the bittering hops are piney and support the coffee-like characteristics seamlessly. Full bodied yet remarkably drinkable, the porter seems lavishly creamy to start but trails with a drying tone that outweighs the generous vanilla additions. An after-palate of bitter woods, nuttiness and coffee extend deep into aftertaste and with that seductive afterglow of vanilla.                                                                                                                                                                                                                                                                                                                                                                                                                                                                                                                                                                                                                                                                                                                                                                                                                                     |VanillaPorter AmericanPorter Porter first and vanilla secondary the heirarchy is clear the Four String brewer show a creative and aggressive edge with the madagascar vanilla bean but layer them on a robust underpinning of roasty toasty barley malt that doesnt shy away from the attention of the tastebuds Their Vanilla Porter is a dark and lavish dark ale deep brown and topped with a creamy beige crown As the unmistakable and soothing scent of vanilla drifts onto the nose its taste is even more decadent with darkroast coffee chocolate burnt sugar and roasted nuttiness As the flavors develop the mind is drawn to the taste of sweet cream milkshakes and sweetened coffees The toasted grains give bittersweet chocolate notes with an undercarriage of caramel and toffee Earthy nuttiness is woodsy and the bittering hops are piney and support the coffeelike characteristics seamlessly Full bodied yet remarkably drinkable the porter seems lavishly creamy to start but trails with a drying tone that outweighs the generous vanilla additions An afterpalate of bitter woods nuttiness and coffee extend deep into aftertaste and with that seductive afterglow of vanilla                                                                                                                                                                                                                                                                                                                                                                                                                                                                                                                                                                                                                                                                                                                                                                                         |\n",
            "|   Aroma is fudgy, with vanilla accents. Fairly rich chocolate malt balanced the vanilla sweetness well. Flavor is vanilla dominant, with a light sweetness carrying throughout. Chocolate is more subdued, and a string bitterness is ushered in too quickly. There's a bit of an acidic or metallic character upfront. Too bitter.                                                                                                                                                                                                                                                                                                                                                                                                                                                                                                                                                                                                                                                                                                                                                                                                                                                                                                                                                                                                                                                                                                                                                                                                                                                                                                                                                                                                                                                                                                                                                                                                                                                                                                           |VanillaPorter AmericanPorter Aroma is fudgy with vanilla accents Fairly rich chocolate malt balanced the vanilla sweetness well Flavor is vanilla dominant with a light sweetness carrying throughout Chocolate is more subdued and a string bitterness is ushered in too quickly Theres a bit of an acidic or metallic character upfront Too bitter                                                                                                                                                                                                                                                                                                                                                                                                                                                                                                                                                                                                                                                                                                                                                                                                                                                                                                                                                                                                                                                                                                                                                                                                                                                                                                                                                                                                                                                                                                                                                                                                                                                 |\n",
            "+-----------------------------------------------------------------------------------------------------------------------------------------------------------------------------------------------------------------------------------------------------------------------------------------------------------------------------------------------------------------------------------------------------------------------------------------------------------------------------------------------------------------------------------------------------------------------------------------------------------------------------------------------------------------------------------------------------------------------------------------------------------------------------------------------------------------------------------------------------------------------------------------------------------------------------------------------------------------------------------------------------------------------------------------------------------------------------------------------------------------------------------------------------------------------------------------------------------------------------------------------------------------------------------------------------------------------------------------------------------------------------------------------------------------------------------------------------------------------------------------------------------------------------------------------------------------------------------------------------------------------------------------------------------------------------------------------------------------------------------------------------------------------------------------------------------------------------------------------------------------------------------------------------------------------------------------------------------------------------------------------------------------------------------------------+-----------------------------------------------------------------------------------------------------------------------------------------------------------------------------------------------------------------------------------------------------------------------------------------------------------------------------------------------------------------------------------------------------------------------------------------------------------------------------------------------------------------------------------------------------------------------------------------------------------------------------------------------------------------------------------------------------------------------------------------------------------------------------------------------------------------------------------------------------------------------------------------------------------------------------------------------------------------------------------------------------------------------------------------------------------------------------------------------------------------------------------------------------------------------------------------------------------------------------------------------------------------------------------------------------------------------------------------------------------------------------------------------------------------------------------------------------------------------------------------------------------------------------------------------------------------------------------------------------------------------------------------------------------------------------------------------------------------------------------------------------------------------------------------------------------------------------------------------------------------------------------------------------------------------------------------------------------------------------------------------------+\n",
            "only showing top 20 rows\n",
            "\n"
          ],
          "name": "stdout"
        }
      ]
    },
    {
      "cell_type": "code",
      "metadata": {
        "id": "So2lXfJEo-A9"
      },
      "source": [
        "# Setup and execute Tokenizer and Stop words pipeline\n",
        "from pyspark.ml.feature import Tokenizer, StopWordsRemover\n",
        "from pyspark.ml import Pipeline\n",
        "\n",
        "# \"Creating pipeline...\"\n",
        "tokenizer = Tokenizer(inputCol=\"Final_text\", outputCol=\"token_text\")\n",
        "stopremove = StopWordsRemover(inputCol='token_text', outputCol='features')\n",
        "\n",
        "pipeline = Pipeline(stages=[tokenizer, stopremove])\n",
        "\n",
        "# \"Training model...\"\n",
        "pipeline_stg = pipeline.fit(combined_df)\n",
        "final_df = pipeline_stg.transform(combined_df)\n"
      ],
      "execution_count": 64,
      "outputs": []
    },
    {
      "cell_type": "code",
      "metadata": {
        "id": "HfovHDCfpo0y"
      },
      "source": [
        "# final_df.show()"
      ],
      "execution_count": null,
      "outputs": []
    },
    {
      "cell_type": "code",
      "metadata": {
        "id": "SO1RuUEeXXs_"
      },
      "source": [
        "final_df = final_df.select('feel_numeric','features')"
      ],
      "execution_count": 65,
      "outputs": []
    },
    {
      "cell_type": "code",
      "metadata": {
        "id": "ZZI7ZlKTXzq1",
        "colab": {
          "base_uri": "https://localhost:8080/"
        },
        "outputId": "66e48d3e-38a6-4504-a0b6-6a8a362ebf3b"
      },
      "source": [
        "final_df.show()"
      ],
      "execution_count": 66,
      "outputs": [
        {
          "output_type": "stream",
          "text": [
            "+------------+--------------------+\n",
            "|feel_numeric|            features|\n",
            "+------------+--------------------+\n",
            "|        4.25|[motorbreathimper...|\n",
            "|         3.5|[paybackpilsner, ...|\n",
            "|        3.75|[paybackpilsner, ...|\n",
            "|         3.5|[paybackpilsner, ...|\n",
            "|         3.5|[paybackpilsner, ...|\n",
            "|         3.5|[paybackpilsner, ...|\n",
            "|         3.5|[paybackpilsner, ...|\n",
            "|         4.0|[paybackpilsner, ...|\n",
            "|         3.5|[paybackpilsner, ...|\n",
            "|        3.75|[paybackpilsner, ...|\n",
            "|         3.5|[hellhammer, ryeb...|\n",
            "|        3.75|[hellhammer, ryeb...|\n",
            "|         3.0|[vanillaporter, a...|\n",
            "|         4.0|[vanillaporter, a...|\n",
            "|         3.0|[vanillaporter, a...|\n",
            "|         3.0|[vanillaporter, a...|\n",
            "|         2.5|[vanillaporter, a...|\n",
            "|         4.0|[vanillaporter, a...|\n",
            "|        3.75|[vanillaporter, a...|\n",
            "|        3.75|[vanillaporter, a...|\n",
            "+------------+--------------------+\n",
            "only showing top 20 rows\n",
            "\n"
          ],
          "name": "stdout"
        }
      ]
    },
    {
      "cell_type": "code",
      "metadata": {
        "id": "8He3lB9QuHx5"
      },
      "source": [
        "# Read the model from disk to confirm\r\n",
        "w2v_loaded_model = Word2VecModel.load('/content/gdrive/MyDrive/Project3_BeerQuality/review.md')"
      ],
      "execution_count": 67,
      "outputs": []
    },
    {
      "cell_type": "code",
      "metadata": {
        "id": "y6Si0OgqMTxU",
        "colab": {
          "base_uri": "https://localhost:8080/"
        },
        "outputId": "171faeb2-a602-4702-8d69-9c9f3269578e"
      },
      "source": [
        "# check to see if synonym is consistent with loaded model\r\n",
        "w2v_loaded_model.findSynonymsArray(\"light\", 5)"
      ],
      "execution_count": 68,
      "outputs": [
        {
          "output_type": "execute_result",
          "data": {
            "text/plain": [
              "[('mild', 0.6426884531974792),\n",
              " ('faint', 0.6223998665809631),\n",
              " ('slight', 0.6191715002059937),\n",
              " ('mostly', 0.6169756650924683),\n",
              " ('medium', 0.6095581650733948)]"
            ]
          },
          "metadata": {
            "tags": []
          },
          "execution_count": 68
        }
      ]
    },
    {
      "cell_type": "code",
      "metadata": {
        "id": "lst9RbRuXhqr"
      },
      "source": [
        "# Transform the mode\r\n",
        "w2v_model_df = w2v_loaded_model.transform(final_df)"
      ],
      "execution_count": 69,
      "outputs": []
    },
    {
      "cell_type": "code",
      "metadata": {
        "colab": {
          "base_uri": "https://localhost:8080/"
        },
        "id": "wWKT30iTZVDf",
        "outputId": "7ee5a591-54f1-41d8-af8f-34f67a9b7eb6"
      },
      "source": [
        "w2v_model_df.show()"
      ],
      "execution_count": 70,
      "outputs": [
        {
          "output_type": "stream",
          "text": [
            "+------------+--------------------+--------------------+\n",
            "|feel_numeric|            features|               model|\n",
            "+------------+--------------------+--------------------+\n",
            "|        4.25|[motorbreathimper...|[0.02950784611367...|\n",
            "|         3.5|[paybackpilsner, ...|[-0.0872463285923...|\n",
            "|        3.75|[paybackpilsner, ...|[0.01790586973612...|\n",
            "|         3.5|[paybackpilsner, ...|[-0.1276244542612...|\n",
            "|         3.5|[paybackpilsner, ...|[-0.0131208907440...|\n",
            "|         3.5|[paybackpilsner, ...|[-0.0353247860187...|\n",
            "|         3.5|[paybackpilsner, ...|[-0.0606238029503...|\n",
            "|         4.0|[paybackpilsner, ...|[0.00897214795847...|\n",
            "|         3.5|[paybackpilsner, ...|[0.02342551416502...|\n",
            "|        3.75|[paybackpilsner, ...|[-0.0209101041158...|\n",
            "|         3.5|[hellhammer, ryeb...|[0.01432307037573...|\n",
            "|        3.75|[hellhammer, ryeb...|[-0.1081325657665...|\n",
            "|         3.0|[vanillaporter, a...|[-0.1101182210924...|\n",
            "|         4.0|[vanillaporter, a...|[-0.0197092709394...|\n",
            "|         3.0|[vanillaporter, a...|[-0.0049533498369...|\n",
            "|         3.0|[vanillaporter, a...|[0.02202844081446...|\n",
            "|         2.5|[vanillaporter, a...|[-0.0874559852428...|\n",
            "|         4.0|[vanillaporter, a...|[-0.0728758174786...|\n",
            "|        3.75|[vanillaporter, a...|[-0.1125914826324...|\n",
            "|        3.75|[vanillaporter, a...|[-0.1178625054068...|\n",
            "+------------+--------------------+--------------------+\n",
            "only showing top 20 rows\n",
            "\n"
          ],
          "name": "stdout"
        }
      ]
    },
    {
      "cell_type": "code",
      "metadata": {
        "id": "WdyOBNC3YCFI"
      },
      "source": [
        "w2v_model_df = w2v_model_df.select('feel_numeric', 'model')"
      ],
      "execution_count": 71,
      "outputs": []
    },
    {
      "cell_type": "code",
      "metadata": {
        "id": "c9CqUtM0ZaYU"
      },
      "source": [
        "# Prepare the hyperparameters\r\n",
        "from pyspark.ml.regression import LinearRegression, LinearRegressionModel\r\n",
        "lin_model = LinearRegression(\r\n",
        "   maxIter=5,\r\n",
        "   regParam=0.3,\r\n",
        "   featuresCol=\"model\",\r\n",
        "   labelCol=\"feel_numeric\"\r\n",
        ")"
      ],
      "execution_count": 72,
      "outputs": []
    },
    {
      "cell_type": "code",
      "metadata": {
        "colab": {
          "base_uri": "https://localhost:8080/"
        },
        "id": "kpvYn0jxYmsj",
        "outputId": "1abb2dab-1ad2-4637-d7d1-3966f11047f9"
      },
      "source": [
        "w2v_model_df.cache()\r\n",
        "w2v_model_df.show()"
      ],
      "execution_count": 73,
      "outputs": [
        {
          "output_type": "stream",
          "text": [
            "+------------+--------------------+\n",
            "|feel_numeric|               model|\n",
            "+------------+--------------------+\n",
            "|        4.25|[0.02950784611367...|\n",
            "|         3.5|[-0.0872463285923...|\n",
            "|        3.75|[0.01790586973612...|\n",
            "|         3.5|[-0.1276244542612...|\n",
            "|         3.5|[-0.0131208907440...|\n",
            "|         3.5|[-0.0353247860187...|\n",
            "|         3.5|[-0.0606238029503...|\n",
            "|         4.0|[0.00897214795847...|\n",
            "|         3.5|[0.02342551416502...|\n",
            "|        3.75|[-0.0209101041158...|\n",
            "|         3.5|[0.01432307037573...|\n",
            "|        3.75|[-0.1081325657665...|\n",
            "|         3.0|[-0.1101182210924...|\n",
            "|         4.0|[-0.0197092709394...|\n",
            "|         3.0|[-0.0049533498369...|\n",
            "|         3.0|[0.02202844081446...|\n",
            "|         2.5|[-0.0874559852428...|\n",
            "|         4.0|[-0.0728758174786...|\n",
            "|        3.75|[-0.1125914826324...|\n",
            "|        3.75|[-0.1178625054068...|\n",
            "+------------+--------------------+\n",
            "only showing top 20 rows\n",
            "\n"
          ],
          "name": "stdout"
        }
      ]
    },
    {
      "cell_type": "code",
      "metadata": {
        "id": "fDr9FAVrcKvH"
      },
      "source": [
        "# split training and testing for the model (for temporary make the training set small as processing takes time)\r\n",
        "training, testing = w2v_model_df.randomSplit([0.60, 0.40])"
      ],
      "execution_count": 74,
      "outputs": []
    },
    {
      "cell_type": "code",
      "metadata": {
        "colab": {
          "base_uri": "https://localhost:8080/"
        },
        "id": "JftXl3AeOmQK",
        "outputId": "faa6e695-15ff-41c3-c37d-5cf553d635c3"
      },
      "source": [
        "training.show()"
      ],
      "execution_count": 75,
      "outputs": [
        {
          "output_type": "stream",
          "text": [
            "+------------+--------------------+\n",
            "|feel_numeric|               model|\n",
            "+------------+--------------------+\n",
            "|         1.0|[-0.1452391079316...|\n",
            "|         1.0|[-0.1360762032201...|\n",
            "|         1.0|[-0.1245115498701...|\n",
            "|         1.0|[-0.1112089413319...|\n",
            "|         1.0|[-0.1096023616691...|\n",
            "|         1.0|[-0.1067826888812...|\n",
            "|         1.0|[-0.0992016121461...|\n",
            "|         1.0|[-0.0905129771966...|\n",
            "|         1.0|[-0.0898339535608...|\n",
            "|         1.0|[-0.0831069555772...|\n",
            "|         1.0|[-0.0829146506434...|\n",
            "|         1.0|[-0.0806717465166...|\n",
            "|         1.0|[-0.0735591155427...|\n",
            "|         1.0|[-0.0698463073019...|\n",
            "|         1.0|[-0.0685070913528...|\n",
            "|         1.0|[-0.0677027806639...|\n",
            "|         1.0|[-0.0668491764137...|\n",
            "|         1.0|[-0.0643640787910...|\n",
            "|         1.0|[-0.0561385970594...|\n",
            "|         1.0|[-0.0556136497510...|\n",
            "+------------+--------------------+\n",
            "only showing top 20 rows\n",
            "\n"
          ],
          "name": "stdout"
        }
      ]
    },
    {
      "cell_type": "code",
      "metadata": {
        "id": "RTsmcoKOY6tM"
      },
      "source": [
        "training_pandas_df = training.toPandas()"
      ],
      "execution_count": 76,
      "outputs": []
    },
    {
      "cell_type": "code",
      "metadata": {
        "colab": {
          "base_uri": "https://localhost:8080/"
        },
        "id": "waMPXWd0P2tE",
        "outputId": "0e762445-9685-442f-da9a-83a5172f8e2a"
      },
      "source": [
        "training_pandas_df.isnull().sum()"
      ],
      "execution_count": 77,
      "outputs": [
        {
          "output_type": "execute_result",
          "data": {
            "text/plain": [
              "feel_numeric    0\n",
              "model           0\n",
              "dtype: int64"
            ]
          },
          "metadata": {
            "tags": []
          },
          "execution_count": 77
        }
      ]
    },
    {
      "cell_type": "code",
      "metadata": {
        "id": "86-Z7VlNQF8z"
      },
      "source": [
        "training_pandas_df = training_pandas_df.dropna()"
      ],
      "execution_count": 78,
      "outputs": []
    },
    {
      "cell_type": "code",
      "metadata": {
        "id": "-LMxNNEpakTZ",
        "colab": {
          "base_uri": "https://localhost:8080/",
          "height": 198
        },
        "outputId": "73923cd2-cd7a-4b78-cda9-9c4d92e193f2"
      },
      "source": [
        "training_pandas_df.head()"
      ],
      "execution_count": 79,
      "outputs": [
        {
          "output_type": "execute_result",
          "data": {
            "text/html": [
              "<div>\n",
              "<style scoped>\n",
              "    .dataframe tbody tr th:only-of-type {\n",
              "        vertical-align: middle;\n",
              "    }\n",
              "\n",
              "    .dataframe tbody tr th {\n",
              "        vertical-align: top;\n",
              "    }\n",
              "\n",
              "    .dataframe thead th {\n",
              "        text-align: right;\n",
              "    }\n",
              "</style>\n",
              "<table border=\"1\" class=\"dataframe\">\n",
              "  <thead>\n",
              "    <tr style=\"text-align: right;\">\n",
              "      <th></th>\n",
              "      <th>feel_numeric</th>\n",
              "      <th>model</th>\n",
              "    </tr>\n",
              "  </thead>\n",
              "  <tbody>\n",
              "    <tr>\n",
              "      <th>0</th>\n",
              "      <td>1.0</td>\n",
              "      <td>[-0.14523910793165368, 0.12042828451505759, -0...</td>\n",
              "    </tr>\n",
              "    <tr>\n",
              "      <th>1</th>\n",
              "      <td>1.0</td>\n",
              "      <td>[-0.13607620322019667, 0.1249764144194086, -0....</td>\n",
              "    </tr>\n",
              "    <tr>\n",
              "      <th>2</th>\n",
              "      <td>1.0</td>\n",
              "      <td>[-0.12451154987017313, -0.30530258764823276, -...</td>\n",
              "    </tr>\n",
              "    <tr>\n",
              "      <th>3</th>\n",
              "      <td>1.0</td>\n",
              "      <td>[-0.11120894133194309, 0.08106049458476026, -0...</td>\n",
              "    </tr>\n",
              "    <tr>\n",
              "      <th>4</th>\n",
              "      <td>1.0</td>\n",
              "      <td>[-0.10960236166914304, -0.031228498804072538, ...</td>\n",
              "    </tr>\n",
              "  </tbody>\n",
              "</table>\n",
              "</div>"
            ],
            "text/plain": [
              "   feel_numeric                                              model\n",
              "0           1.0  [-0.14523910793165368, 0.12042828451505759, -0...\n",
              "1           1.0  [-0.13607620322019667, 0.1249764144194086, -0....\n",
              "2           1.0  [-0.12451154987017313, -0.30530258764823276, -...\n",
              "3           1.0  [-0.11120894133194309, 0.08106049458476026, -0...\n",
              "4           1.0  [-0.10960236166914304, -0.031228498804072538, ..."
            ]
          },
          "metadata": {
            "tags": []
          },
          "execution_count": 79
        }
      ]
    },
    {
      "cell_type": "code",
      "metadata": {
        "id": "Ra6w2t1OeAjk",
        "colab": {
          "base_uri": "https://localhost:8080/"
        },
        "outputId": "358caa04-f007-449b-b4c8-49f8b9a0669a"
      },
      "source": [
        "training_pandas_df.dtypes"
      ],
      "execution_count": 80,
      "outputs": [
        {
          "output_type": "execute_result",
          "data": {
            "text/plain": [
              "feel_numeric    float32\n",
              "model            object\n",
              "dtype: object"
            ]
          },
          "metadata": {
            "tags": []
          },
          "execution_count": 80
        }
      ]
    },
    {
      "cell_type": "code",
      "metadata": {
        "id": "x4EBu4UfbD75"
      },
      "source": [
        "from sklearn.linear_model import LinearRegression\r\n",
        "pandas_lin_model = LinearRegression()"
      ],
      "execution_count": 81,
      "outputs": []
    },
    {
      "cell_type": "code",
      "metadata": {
        "id": "MUQyknr_bw2-"
      },
      "source": [
        "lin_feel_train_model = pandas_lin_model.fit(training_pandas_df['model'].to_list(),training_pandas_df['feel_numeric'])"
      ],
      "execution_count": 82,
      "outputs": []
    },
    {
      "cell_type": "code",
      "metadata": {
        "id": "3D6EvSupeknG",
        "colab": {
          "base_uri": "https://localhost:8080/"
        },
        "outputId": "242164a4-28f0-43b3-87a3-95b1e11470d0"
      },
      "source": [
        "lin_feel_train_model.score(training_pandas_df['model'].to_list(), training_pandas_df['feel_numeric'])"
      ],
      "execution_count": 83,
      "outputs": [
        {
          "output_type": "execute_result",
          "data": {
            "text/plain": [
              "0.3484855955762809"
            ]
          },
          "metadata": {
            "tags": []
          },
          "execution_count": 83
        }
      ]
    },
    {
      "cell_type": "code",
      "metadata": {
        "id": "05oRZ6Bve7q_",
        "colab": {
          "base_uri": "https://localhost:8080/"
        },
        "outputId": "e2f7b4ec-6d38-4ad1-a851-9ca554d53c9b"
      },
      "source": [
        "lin_feel_train_model.coef_"
      ],
      "execution_count": 84,
      "outputs": [
        {
          "output_type": "execute_result",
          "data": {
            "text/plain": [
              "array([ 0.29686585,  1.06724775,  0.89359459, -0.13957956,  0.35333396,\n",
              "        1.17521239,  0.80825058,  0.99195495, -0.07610251, -0.18667602,\n",
              "        0.06374701, -0.24617509,  0.91204411,  0.5045303 ,  0.64601178,\n",
              "        0.62258019, -0.72159604,  0.49600582, -0.22782096, -0.64009236,\n",
              "       -0.11182773, -0.52797132,  0.16537613, -0.40856393,  0.20891129,\n",
              "       -0.26709142, -0.25661207, -0.71021999, -0.78766279,  0.96976033,\n",
              "        0.82720538, -0.2801861 ,  0.28527831, -0.12806586,  0.19365689,\n",
              "       -0.88044621, -0.59704157,  0.25263249,  0.19122042, -0.25611425,\n",
              "        0.19346351, -0.89360941,  0.67916329, -0.79667508,  0.06880932,\n",
              "       -0.12767835, -0.582088  , -0.96807895, -1.60672381, -0.35158743,\n",
              "       -0.20239202,  0.90029399,  0.61864161,  0.6552046 , -0.8876166 ,\n",
              "        0.51014601, -0.39193716, -0.22991784, -0.53677412,  0.32106478,\n",
              "        0.39070571,  0.33279655, -0.616993  ,  1.18605888,  0.69475163,\n",
              "       -0.58355471, -0.13264168, -0.78688543, -0.09417141, -0.31073417,\n",
              "        0.36662107,  0.48473206, -0.32000512,  0.6306701 ,  1.1012458 ,\n",
              "        0.44017188,  0.148467  , -0.45443413,  0.42141261,  0.07622116,\n",
              "        1.02995627,  0.29308427, -0.04109635,  0.00949174, -0.31741831,\n",
              "        0.21077203,  0.26121438,  0.53953109,  0.13872338,  0.0329915 ,\n",
              "        0.41467148, -0.35381642,  0.18460031, -0.2196318 , -1.45298494,\n",
              "        1.19453774,  0.15838572,  0.34627332, -0.81087967,  0.22772378])"
            ]
          },
          "metadata": {
            "tags": []
          },
          "execution_count": 84
        }
      ]
    },
    {
      "cell_type": "code",
      "metadata": {
        "id": "AIPnHjT3bDLF"
      },
      "source": [
        "# Fit the score review to a model (takes time)\r\n",
        "lin_feel_train_model = lin_model.fit(training)"
      ],
      "execution_count": 85,
      "outputs": []
    },
    {
      "cell_type": "code",
      "metadata": {
        "id": "JtIRHVSk5a1t"
      },
      "source": [
        "# Save the model for later use\r\n",
        "lin_feel_train_model.write().overwrite().save(\"/content/gdrive/MyDrive/Project3_BeerQuality/lin_feel_train.md\")"
      ],
      "execution_count": 86,
      "outputs": []
    },
    {
      "cell_type": "code",
      "metadata": {
        "id": "1NPhk5NDwua9"
      },
      "source": [
        "# Read the model\r\n",
        "loaded_lin_feel_train_model = LinearRegressionModel.load(\"/content/gdrive/MyDrive/Project3_BeerQuality/lin_feel_train.md\")"
      ],
      "execution_count": 87,
      "outputs": []
    },
    {
      "cell_type": "code",
      "metadata": {
        "id": "gBxLYe08bYRU"
      },
      "source": [
        "# Transform the training data to peek at the predictions\r\n",
        "lin_feel_df = loaded_lin_feel_train_model.transform(training)"
      ],
      "execution_count": 88,
      "outputs": []
    },
    {
      "cell_type": "code",
      "metadata": {
        "colab": {
          "base_uri": "https://localhost:8080/"
        },
        "id": "8B8PniKlrPLI",
        "outputId": "d7203c93-527c-41f6-dc66-35733b03a238"
      },
      "source": [
        "lin_feel_df.show()"
      ],
      "execution_count": 89,
      "outputs": [
        {
          "output_type": "stream",
          "text": [
            "+------------+--------------------+------------------+\n",
            "|feel_numeric|               model|        prediction|\n",
            "+------------+--------------------+------------------+\n",
            "|         1.0|[-0.1452391079316...|3.3194511219231497|\n",
            "|         1.0|[-0.1360762032201...| 3.611262939454425|\n",
            "|         1.0|[-0.1245115498701...|1.6921212228851625|\n",
            "|         1.0|[-0.1112089413319...|  3.65255601946466|\n",
            "|         1.0|[-0.1096023616691...|3.1776604365840595|\n",
            "|         1.0|[-0.1067826888812...|3.4561946075998318|\n",
            "|         1.0|[-0.0992016121461...| 3.262108680631359|\n",
            "|         1.0|[-0.0905129771966...|2.8486217540864427|\n",
            "|         1.0|[-0.0898339535608...|3.4487757867856716|\n",
            "|         1.0|[-0.0831069555772...| 3.404353344307464|\n",
            "|         1.0|[-0.0829146506434...| 3.836702495924664|\n",
            "|         1.0|[-0.0806717465166...| 4.248175490975582|\n",
            "|         1.0|[-0.0735591155427...|3.6150582013247035|\n",
            "|         1.0|[-0.0698463073019...|3.4710629762621994|\n",
            "|         1.0|[-0.0685070913528...| 3.215086885473001|\n",
            "|         1.0|[-0.0677027806639...| 4.037404261510018|\n",
            "|         1.0|[-0.0668491764137...| 3.895646011049197|\n",
            "|         1.0|[-0.0643640787910...| 3.116561428250774|\n",
            "|         1.0|[-0.0561385970594...| 3.400022481926565|\n",
            "|         1.0|[-0.0556136497510...|3.2559481110674358|\n",
            "+------------+--------------------+------------------+\n",
            "only showing top 20 rows\n",
            "\n"
          ],
          "name": "stdout"
        }
      ]
    },
    {
      "cell_type": "code",
      "metadata": {
        "id": "1uCM2vEfDguf",
        "colab": {
          "base_uri": "https://localhost:8080/"
        },
        "outputId": "09838181-36d8-40a7-e72b-29959f65271c"
      },
      "source": [
        "# show a sample of the predictions\r\n",
        "lin_feel_df.select('feel_numeric', 'prediction').show(truncate=False)"
      ],
      "execution_count": 90,
      "outputs": [
        {
          "output_type": "stream",
          "text": [
            "+------------+------------------+\n",
            "|feel_numeric|prediction        |\n",
            "+------------+------------------+\n",
            "|1.0         |3.3194511219231497|\n",
            "|1.0         |3.611262939454425 |\n",
            "|1.0         |1.6921212228851625|\n",
            "|1.0         |3.65255601946466  |\n",
            "|1.0         |3.1776604365840595|\n",
            "|1.0         |3.4561946075998318|\n",
            "|1.0         |3.262108680631359 |\n",
            "|1.0         |2.8486217540864427|\n",
            "|1.0         |3.4487757867856716|\n",
            "|1.0         |3.404353344307464 |\n",
            "|1.0         |3.836702495924664 |\n",
            "|1.0         |4.248175490975582 |\n",
            "|1.0         |3.6150582013247035|\n",
            "|1.0         |3.4710629762621994|\n",
            "|1.0         |3.215086885473001 |\n",
            "|1.0         |4.037404261510018 |\n",
            "|1.0         |3.895646011049197 |\n",
            "|1.0         |3.116561428250774 |\n",
            "|1.0         |3.400022481926565 |\n",
            "|1.0         |3.2559481110674358|\n",
            "+------------+------------------+\n",
            "only showing top 20 rows\n",
            "\n"
          ],
          "name": "stdout"
        }
      ]
    },
    {
      "cell_type": "code",
      "metadata": {
        "colab": {
          "base_uri": "https://localhost:8080/"
        },
        "id": "0cXCPr-UtDBi",
        "outputId": "97c62d79-f0a6-4ce5-f05d-4e6bca1ccb10"
      },
      "source": [
        "gr = lin_feel_df.groupBy(\"feel_numeric\").count()\r\n",
        "gr.show()"
      ],
      "execution_count": 91,
      "outputs": [
        {
          "output_type": "stream",
          "text": [
            "+------------+------+\n",
            "|feel_numeric| count|\n",
            "+------------+------+\n",
            "|         5.0| 45894|\n",
            "|         2.5| 26583|\n",
            "|         2.0| 16211|\n",
            "|         3.0| 99151|\n",
            "|        2.75|  6354|\n",
            "|         1.5|  4523|\n",
            "|        3.75| 79198|\n",
            "|        1.75|   891|\n",
            "|        4.25| 87813|\n",
            "|         3.5|197614|\n",
            "|         1.0|  4088|\n",
            "|        2.25|  1811|\n",
            "|        4.75| 25867|\n",
            "|         4.5|171671|\n",
            "|        1.25|   579|\n",
            "|        3.25| 20821|\n",
            "|         4.0|396447|\n",
            "+------------+------+\n",
            "\n"
          ],
          "name": "stdout"
        }
      ]
    },
    {
      "cell_type": "code",
      "metadata": {
        "id": "ZvBQmkjaXNnH",
        "colab": {
          "base_uri": "https://localhost:8080/"
        },
        "outputId": "0ac01f60-4066-4c3e-d9d4-f3317e481118"
      },
      "source": [
        "from psutil import virtual_memory\r\n",
        "ram_gb = virtual_memory().total / 1e9\r\n",
        "print('Your runtime has {:.1f} gigabytes of available RAM\\n'.format(ram_gb))\r\n",
        "\r\n",
        "if ram_gb < 20:\r\n",
        "  print('To enable a high-RAM runtime, select the Runtime > \"Change runtime type\"')\r\n",
        "  print('menu, and then select High-RAM in the Runtime shape dropdown. Then, ')\r\n",
        "  print('re-execute this cell.')\r\n",
        "else:\r\n",
        "  print('You are using a high-RAM runtime!')"
      ],
      "execution_count": 92,
      "outputs": [
        {
          "output_type": "stream",
          "text": [
            "Your runtime has 27.4 gigabytes of available RAM\n",
            "\n",
            "You are using a high-RAM runtime!\n"
          ],
          "name": "stdout"
        }
      ]
    }
  ]
}