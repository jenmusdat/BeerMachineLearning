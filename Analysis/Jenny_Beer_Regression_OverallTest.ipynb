{
  "nbformat": 4,
  "nbformat_minor": 0,
  "metadata": {
    "colab": {
      "name": "Jenny_Beer_Regression_OverallTest.ipynb",
      "provenance": [],
      "collapsed_sections": [],
      "include_colab_link": true
    },
    "kernelspec": {
      "name": "python3",
      "display_name": "Python 3"
    }
  },
  "cells": [
    {
      "cell_type": "markdown",
      "metadata": {
        "id": "view-in-github",
        "colab_type": "text"
      },
      "source": [
        "<a href=\"https://colab.research.google.com/github/jenmusdat/Project3_BeerQuality/blob/main/Analysis/Jenny_Beer_Regression_OverallTest.ipynb\" target=\"_parent\"><img src=\"https://colab.research.google.com/assets/colab-badge.svg\" alt=\"Open In Colab\"/></a>"
      ]
    },
    {
      "cell_type": "code",
      "metadata": {
        "id": "nKhORyErYc9H",
        "colab": {
          "base_uri": "https://localhost:8080/"
        },
        "outputId": "25a4a95d-319f-48c2-b127-1be5cc978b43"
      },
      "source": [
        "!apt-get update\n",
        "!apt-get install openjdk-8-jdk-headless -qq > /dev/null\n",
        "!wget -q http://www-us.apache.org/dist/spark/spark-2.4.7/spark-2.4.7-bin-hadoop2.7.tgz\n",
        "!tar xf spark-2.4.7-bin-hadoop2.7.tgz\n",
        "!pip install -q findspark\n",
        "\n",
        "# Set Environment Variables\n",
        "import os\n",
        "os.environ[\"JAVA_HOME\"] = \"/usr/lib/jvm/java-8-openjdk-amd64\"\n",
        "os.environ[\"SPARK_HOME\"] = \"/content/spark-2.4.7-bin-hadoop2.7\"\n",
        "\n",
        "# Start a SparkSession\n",
        "import findspark\n",
        "findspark.init()"
      ],
      "execution_count": 1,
      "outputs": [
        {
          "output_type": "stream",
          "text": [
            "\r0% [Working]\r            \rGet:1 https://cloud.r-project.org/bin/linux/ubuntu bionic-cran40/ InRelease [3,626 B]\n",
            "\r0% [Connecting to archive.ubuntu.com (91.189.88.142)] [Waiting for headers] [1 \r0% [Connecting to archive.ubuntu.com (91.189.88.142)] [Waiting for headers] [Co\r0% [1 InRelease gpgv 3,626 B] [Connecting to archive.ubuntu.com (91.189.88.142)\r                                                                               \rIgn:2 https://developer.download.nvidia.com/compute/cuda/repos/ubuntu1804/x86_64  InRelease\n",
            "\r0% [1 InRelease gpgv 3,626 B] [Connecting to archive.ubuntu.com (91.189.88.142)\r                                                                               \rGet:3 http://security.ubuntu.com/ubuntu bionic-security InRelease [88.7 kB]\n",
            "\r0% [1 InRelease gpgv 3,626 B] [Connecting to archive.ubuntu.com (91.189.88.142)\r                                                                               \rIgn:4 https://developer.download.nvidia.com/compute/machine-learning/repos/ubuntu1804/x86_64  InRelease\n",
            "\r0% [1 InRelease gpgv 3,626 B] [Connecting to archive.ubuntu.com (91.189.88.142)\r                                                                               \rGet:5 https://developer.download.nvidia.com/compute/cuda/repos/ubuntu1804/x86_64  Release [697 B]\n",
            "\r0% [1 InRelease gpgv 3,626 B] [Connecting to archive.ubuntu.com (91.189.88.142)\r                                                                               \rHit:6 https://developer.download.nvidia.com/compute/machine-learning/repos/ubuntu1804/x86_64  Release\n",
            "Get:7 https://developer.download.nvidia.com/compute/cuda/repos/ubuntu1804/x86_64  Release.gpg [836 B]\n",
            "Get:8 http://ppa.launchpad.net/c2d4u.team/c2d4u4.0+/ubuntu bionic InRelease [15.9 kB]\n",
            "Hit:9 http://archive.ubuntu.com/ubuntu bionic InRelease\n",
            "Get:10 http://archive.ubuntu.com/ubuntu bionic-updates InRelease [88.7 kB]\n",
            "Hit:11 http://ppa.launchpad.net/cran/libgit2/ubuntu bionic InRelease\n",
            "Get:13 http://archive.ubuntu.com/ubuntu bionic-backports InRelease [74.6 kB]\n",
            "Hit:14 http://ppa.launchpad.net/deadsnakes/ppa/ubuntu bionic InRelease\n",
            "Ign:15 https://developer.download.nvidia.com/compute/cuda/repos/ubuntu1804/x86_64  Packages\n",
            "Get:15 https://developer.download.nvidia.com/compute/cuda/repos/ubuntu1804/x86_64  Packages [577 kB]\n",
            "Hit:16 http://ppa.launchpad.net/graphics-drivers/ppa/ubuntu bionic InRelease\n",
            "Get:17 http://security.ubuntu.com/ubuntu bionic-security/main amd64 Packages [1,964 kB]\n",
            "Get:18 http://security.ubuntu.com/ubuntu bionic-security/universe amd64 Packages [1,396 kB]\n",
            "Get:19 http://ppa.launchpad.net/c2d4u.team/c2d4u4.0+/ubuntu bionic/main Sources [1,745 kB]\n",
            "Get:20 http://archive.ubuntu.com/ubuntu bionic-updates/universe amd64 Packages [2,163 kB]\n",
            "Get:21 http://archive.ubuntu.com/ubuntu bionic-updates/main amd64 Packages [2,394 kB]\n",
            "Get:22 http://ppa.launchpad.net/c2d4u.team/c2d4u4.0+/ubuntu bionic/main amd64 Packages [893 kB]\n",
            "Fetched 11.4 MB in 4s (2,765 kB/s)\n",
            "Reading package lists... Done\n"
          ],
          "name": "stdout"
        }
      ]
    },
    {
      "cell_type": "code",
      "metadata": {
        "id": "r31ccm3kuaxG",
        "colab": {
          "base_uri": "https://localhost:8080/"
        },
        "outputId": "c30588a0-fd53-423c-b250-8691ce8cba37"
      },
      "source": [
        "from google.colab import drive\n",
        "drive.mount('/content/gdrive')"
      ],
      "execution_count": 2,
      "outputs": [
        {
          "output_type": "stream",
          "text": [
            "Mounted at /content/gdrive\n"
          ],
          "name": "stdout"
        }
      ]
    },
    {
      "cell_type": "code",
      "metadata": {
        "id": "wB9hKKClZxgP"
      },
      "source": [
        "# Start a SparkSession\n",
        "from pyspark.sql import SparkSession\n",
        "spark = SparkSession.builder.appName(\"word2vec\").getOrCreate()"
      ],
      "execution_count": 3,
      "outputs": []
    },
    {
      "cell_type": "code",
      "metadata": {
        "id": "n3iL5WYZolKS"
      },
      "source": [
        "# Import needed libs\n",
        "from pyspark.sql.types import StructType, StructField, StringType\n",
        "from pyspark.ml.feature import Word2Vec, Word2VecModel\n",
        "import string\n"
      ],
      "execution_count": 4,
      "outputs": []
    },
    {
      "cell_type": "code",
      "metadata": {
        "colab": {
          "base_uri": "https://localhost:8080/"
        },
        "id": "hFZlgstGaSlQ",
        "outputId": "c1c5b6c4-5f45-463d-86c9-947147fa9cd4"
      },
      "source": [
        "# Read in data from S3 Buckets\r\n",
        "from pyspark import SparkFiles\r\n",
        "url =\"/content/gdrive/MyDrive/x/reviews_beer_brewery.csv\"\r\n",
        "spark.sparkContext.addFile(url)\r\n",
        "df = spark.read.csv(SparkFiles.get(\"reviews_beer_brewery.csv\"), header=True)\r\n",
        "\r\n",
        "# Show DataFrame\r\n",
        "df.show()"
      ],
      "execution_count": 5,
      "outputs": [
        {
          "output_type": "stream",
          "text": [
            "+-------+----------------+----------+--------------------+--------------------+--------------------+--------------------+--------------------+--------------------+--------------------+--------------------+------------+--------------------+--------------------+----+----------+--------------------+---------------+-------------+-----------------+\n",
            "|beer_id|        username|      date|                text|                look|               smell|               taste|                feel|             overall|               score|           beer_name|review_state|               style|        availability| abv|brewery_id|        brewery_name|   brewery_city|brewery_state|    brewery_types|\n",
            "+-------+----------------+----------+--------------------+--------------------+--------------------+--------------------+--------------------+--------------------+--------------------+--------------------+------------+--------------------+--------------------+----+----------+--------------------+---------------+-------------+-----------------+\n",
            "| 271781|    bluejacket74|2017-03-17|   750 ml bottle,...|                 4.0|                 4.0|                 4.0|                4.25|                 4.0|                4.03|Motorbreath Imper...|          OH|American Imperial...|Limited (brewed o...|10.8|     28094|Four String Brewi...|       Columbus|           OH|     Brewery, Bar|\n",
            "| 184647|      Try-em-all|2017-09-27|   Clear gold in ...|                 4.0|                 4.0|                 3.5|                 3.5|                3.75|                 3.7|     Payback Pilsner|          OH|   Bohemian Pilsener|            Rotating| 5.1|     28094|Four String Brewi...|       Columbus|           OH|     Brewery, Bar|\n",
            "| 184647|ScorpioBeerLover|2017-03-22|   Reminds me of ...|                 4.0|                 4.0|                4.25|                3.75|                 4.0|                4.08|     Payback Pilsner|          OH|   Bohemian Pilsener|            Rotating| 5.1|     28094|Four String Brewi...|       Columbus|           OH|     Brewery, Bar|\n",
            "| 184647|        beergoot|2016-10-08|   Pale yellow bo...|                3.25|                3.25|                 3.5|                 3.5|                 3.5|                3.43|     Payback Pilsner|          OH|   Bohemian Pilsener|            Rotating| 5.1|     28094|Four String Brewi...|       Columbus|           OH|     Brewery, Bar|\n",
            "| 184647|   woodychandler|2016-09-25|   The CANQuest (...|                3.75|                3.75|                 3.5|                 3.5|                 3.5|                3.58|     Payback Pilsner|          OH|   Bohemian Pilsener|            Rotating| 5.1|     28094|Four String Brewi...|       Columbus|           OH|     Brewery, Bar|\n",
            "| 184647|        WoodBrew|2016-07-14|   I got a Paybac...|                3.75|                 3.5|                 3.5|                 3.5|                 3.5|                3.52|     Payback Pilsner|          OH|   Bohemian Pilsener|            Rotating| 5.1|     28094|Four String Brewi...|       Columbus|           OH|     Brewery, Bar|\n",
            "| 184647|        SaltofOH|2016-07-09|\"   Can with \"\"11...| 2016? DFH Tulip....| no retention. S:...| transitions to a...| heavier side of ...| and have had thi...| and it was okay....| it was much bett...|         2.5|                 3.0|                2.75| 2.5|      2.75|                2.77|Payback Pilsner|           OH|Bohemian Pilsener|\n",
            "| 184647|     Brutaltruth|2016-01-15|   Enjoyed from t...|                3.75|                3.25|                3.25|                 3.5|                 3.5|                3.36|     Payback Pilsner|          OH|   Bohemian Pilsener|            Rotating| 5.1|     28094|Four String Brewi...|       Columbus|           OH|     Brewery, Bar|\n",
            "| 184647|     HeightsEats|2015-12-31|   Pours a golden...|                3.75|                3.75|                 4.0|                 4.0|                3.75|                3.88|     Payback Pilsner|          OH|   Bohemian Pilsener|            Rotating| 5.1|     28094|Four String Brewi...|       Columbus|           OH|     Brewery, Bar|\n",
            "| 184647|       schoolboy|2015-10-05|   This thing is ...|                 4.5|                 3.5|                 3.5|                 3.5|                3.75|                3.61|     Payback Pilsner|          OH|   Bohemian Pilsener|            Rotating| 5.1|     28094|Four String Brewi...|       Columbus|           OH|     Brewery, Bar|\n",
            "| 184647|   GreenEggsHam1|2015-08-08|                  0%|                 3.5|                 3.5|                 3.5|                3.75|                 3.5|                3.53|     Payback Pilsner|          OH|   Bohemian Pilsener|            Rotating| 5.1|     28094|Four String Brewi...|       Columbus|           OH|     Brewery, Bar|\n",
            "| 149366|        ONUMello|2016-03-26|\"   16oz draft A:...|                 3.5|                 3.0|                 3.5|                 3.5|                 3.5|                3.38|          HELLHAMMER|          OH|            Rye Beer|Limited (brewed o...| 7.2|     28094|Four String Brewi...|       Columbus|           OH|     Brewery, Bar|\n",
            "| 149366|        DrJGR629|2015-01-14|   The chipotle p...|                4.25|                 4.0|                 4.5|                3.75|                4.25|                4.24|          HELLHAMMER|          OH|            Rye Beer|Limited (brewed o...| 7.2|     28094|Four String Brewi...|       Columbus|           OH|     Brewery, Bar|\n",
            "| 111891|   Amnesia_Jones|2018-02-13|   I want this po...|                 3.0|                 3.0|                 3.0|                 3.0|                 3.0|                 3.0|      Vanilla Porter|          OH|     American Porter|              Winter| 6.0|     28094|Four String Brewi...|       Columbus|           OH|     Brewery, Bar|\n",
            "| 111891|       buschbeer|2017-12-13|   12 FL. OZ. bot...|                 4.0|                 4.0|                3.75|                 4.0|                3.75|                3.85|      Vanilla Porter|          OH|     American Porter|              Winter| 6.0|     28094|Four String Brewi...|       Columbus|           OH|     Brewery, Bar|\n",
            "| 111891|      jojobird72|2017-08-28|   pretty good fo...|                3.75|                 3.0|                3.75|                 3.0|                3.75|                 3.5|      Vanilla Porter|          OH|     American Porter|              Winter| 6.0|     28094|Four String Brewi...|       Columbus|           OH|     Brewery, Bar|\n",
            "| 111891|        WoodBrew|2016-12-31|   I bought a 6pc...|                3.75|                3.75|                 3.5|                 3.0|                 3.5|                3.53|      Vanilla Porter|          OH|     American Porter|              Winter| 6.0|     28094|Four String Brewi...|       Columbus|           OH|     Brewery, Bar|\n",
            "| 111891|      Oopssorryy|2016-12-25|   Pours a medium...|                2.75|                 2.5|                 2.5|                 2.5|                 2.5|                2.52|      Vanilla Porter|          OH|     American Porter|              Winter| 6.0|     28094|Four String Brewi...|       Columbus|           OH|     Brewery, Bar|\n",
            "| 111891|       superspak|2016-12-04|   12 ounce can i...|                 4.0|                 4.0|                 4.0|                 4.0|                 3.5|                 3.9|      Vanilla Porter|          OH|     American Porter|              Winter| 6.0|     28094|Four String Brewi...|       Columbus|           OH|     Brewery, Bar|\n",
            "| 111891|     BEERchitect|2016-05-14|   Porter first a...|                 4.0|                4.25|                 4.0|                3.75|                 4.0|                4.04|      Vanilla Porter|          OH|     American Porter|              Winter| 6.0|     28094|Four String Brewi...|       Columbus|           OH|     Brewery, Bar|\n",
            "+-------+----------------+----------+--------------------+--------------------+--------------------+--------------------+--------------------+--------------------+--------------------+--------------------+------------+--------------------+--------------------+----+----------+--------------------+---------------+-------------+-----------------+\n",
            "only showing top 20 rows\n",
            "\n"
          ],
          "name": "stdout"
        }
      ]
    },
    {
      "cell_type": "code",
      "metadata": {
        "colab": {
          "base_uri": "https://localhost:8080/"
        },
        "id": "3xlBXyWJTqK6",
        "outputId": "9d99dd35-3e55-4163-bb0d-d57662628e58"
      },
      "source": [
        "# Check the schema for numeric conversion\r\n",
        "df.printSchema"
      ],
      "execution_count": 6,
      "outputs": [
        {
          "output_type": "execute_result",
          "data": {
            "text/plain": [
              "<bound method DataFrame.printSchema of DataFrame[beer_id: string, username: string, date: string, text: string, look: string, smell: string, taste: string, feel: string, overall: string, score: string, beer_name: string, review_state: string, style: string, availability: string, abv: string, brewery_id: string, brewery_name: string, brewery_city: string, brewery_state: string, brewery_types: string]>"
            ]
          },
          "metadata": {
            "tags": []
          },
          "execution_count": 6
        }
      ]
    },
    {
      "cell_type": "code",
      "metadata": {
        "colab": {
          "base_uri": "https://localhost:8080/"
        },
        "id": "lw_DP46h9hBg",
        "outputId": "b31bf5fe-f268-4a9e-bd3f-e2cc2afd3b4d"
      },
      "source": [
        "df.count()"
      ],
      "execution_count": 7,
      "outputs": [
        {
          "output_type": "execute_result",
          "data": {
            "text/plain": [
              "2127677"
            ]
          },
          "metadata": {
            "tags": []
          },
          "execution_count": 7
        }
      ]
    },
    {
      "cell_type": "code",
      "metadata": {
        "id": "xrYN9AD3T1gA"
      },
      "source": [
        "# remove alpha characters from data set on review numerics\r\n",
        "from pyspark.sql.functions import regexp_extract, col\r\n",
        "pattern = r'^\\d+.\\d+$'\r\n",
        "df = df.filter(regexp_extract(col('look'), pattern, 0) != '')"
      ],
      "execution_count": 8,
      "outputs": []
    },
    {
      "cell_type": "code",
      "metadata": {
        "colab": {
          "base_uri": "https://localhost:8080/"
        },
        "id": "WUy5a6mVWdPH",
        "outputId": "0a37b4ce-e46d-4699-b423-21406c2c5091"
      },
      "source": [
        "# confirm look, smell, taste, overall, and score\r\n",
        "df.show()"
      ],
      "execution_count": 9,
      "outputs": [
        {
          "output_type": "stream",
          "text": [
            "+-------+----------------+----------+--------------------+----+-----+-----+----+-------+-----+--------------------+------------+--------------------+--------------------+----+----------+--------------------+------------+-------------+-------------+\n",
            "|beer_id|        username|      date|                text|look|smell|taste|feel|overall|score|           beer_name|review_state|               style|        availability| abv|brewery_id|        brewery_name|brewery_city|brewery_state|brewery_types|\n",
            "+-------+----------------+----------+--------------------+----+-----+-----+----+-------+-----+--------------------+------------+--------------------+--------------------+----+----------+--------------------+------------+-------------+-------------+\n",
            "| 271781|    bluejacket74|2017-03-17|   750 ml bottle,...| 4.0|  4.0|  4.0|4.25|    4.0| 4.03|Motorbreath Imper...|          OH|American Imperial...|Limited (brewed o...|10.8|     28094|Four String Brewi...|    Columbus|           OH| Brewery, Bar|\n",
            "| 184647|      Try-em-all|2017-09-27|   Clear gold in ...| 4.0|  4.0|  3.5| 3.5|   3.75|  3.7|     Payback Pilsner|          OH|   Bohemian Pilsener|            Rotating| 5.1|     28094|Four String Brewi...|    Columbus|           OH| Brewery, Bar|\n",
            "| 184647|ScorpioBeerLover|2017-03-22|   Reminds me of ...| 4.0|  4.0| 4.25|3.75|    4.0| 4.08|     Payback Pilsner|          OH|   Bohemian Pilsener|            Rotating| 5.1|     28094|Four String Brewi...|    Columbus|           OH| Brewery, Bar|\n",
            "| 184647|        beergoot|2016-10-08|   Pale yellow bo...|3.25| 3.25|  3.5| 3.5|    3.5| 3.43|     Payback Pilsner|          OH|   Bohemian Pilsener|            Rotating| 5.1|     28094|Four String Brewi...|    Columbus|           OH| Brewery, Bar|\n",
            "| 184647|   woodychandler|2016-09-25|   The CANQuest (...|3.75| 3.75|  3.5| 3.5|    3.5| 3.58|     Payback Pilsner|          OH|   Bohemian Pilsener|            Rotating| 5.1|     28094|Four String Brewi...|    Columbus|           OH| Brewery, Bar|\n",
            "| 184647|        WoodBrew|2016-07-14|   I got a Paybac...|3.75|  3.5|  3.5| 3.5|    3.5| 3.52|     Payback Pilsner|          OH|   Bohemian Pilsener|            Rotating| 5.1|     28094|Four String Brewi...|    Columbus|           OH| Brewery, Bar|\n",
            "| 184647|     Brutaltruth|2016-01-15|   Enjoyed from t...|3.75| 3.25| 3.25| 3.5|    3.5| 3.36|     Payback Pilsner|          OH|   Bohemian Pilsener|            Rotating| 5.1|     28094|Four String Brewi...|    Columbus|           OH| Brewery, Bar|\n",
            "| 184647|     HeightsEats|2015-12-31|   Pours a golden...|3.75| 3.75|  4.0| 4.0|   3.75| 3.88|     Payback Pilsner|          OH|   Bohemian Pilsener|            Rotating| 5.1|     28094|Four String Brewi...|    Columbus|           OH| Brewery, Bar|\n",
            "| 184647|       schoolboy|2015-10-05|   This thing is ...| 4.5|  3.5|  3.5| 3.5|   3.75| 3.61|     Payback Pilsner|          OH|   Bohemian Pilsener|            Rotating| 5.1|     28094|Four String Brewi...|    Columbus|           OH| Brewery, Bar|\n",
            "| 184647|   GreenEggsHam1|2015-08-08|                  0%| 3.5|  3.5|  3.5|3.75|    3.5| 3.53|     Payback Pilsner|          OH|   Bohemian Pilsener|            Rotating| 5.1|     28094|Four String Brewi...|    Columbus|           OH| Brewery, Bar|\n",
            "| 149366|        ONUMello|2016-03-26|\"   16oz draft A:...| 3.5|  3.0|  3.5| 3.5|    3.5| 3.38|          HELLHAMMER|          OH|            Rye Beer|Limited (brewed o...| 7.2|     28094|Four String Brewi...|    Columbus|           OH| Brewery, Bar|\n",
            "| 149366|        DrJGR629|2015-01-14|   The chipotle p...|4.25|  4.0|  4.5|3.75|   4.25| 4.24|          HELLHAMMER|          OH|            Rye Beer|Limited (brewed o...| 7.2|     28094|Four String Brewi...|    Columbus|           OH| Brewery, Bar|\n",
            "| 111891|   Amnesia_Jones|2018-02-13|   I want this po...| 3.0|  3.0|  3.0| 3.0|    3.0|  3.0|      Vanilla Porter|          OH|     American Porter|              Winter| 6.0|     28094|Four String Brewi...|    Columbus|           OH| Brewery, Bar|\n",
            "| 111891|       buschbeer|2017-12-13|   12 FL. OZ. bot...| 4.0|  4.0| 3.75| 4.0|   3.75| 3.85|      Vanilla Porter|          OH|     American Porter|              Winter| 6.0|     28094|Four String Brewi...|    Columbus|           OH| Brewery, Bar|\n",
            "| 111891|      jojobird72|2017-08-28|   pretty good fo...|3.75|  3.0| 3.75| 3.0|   3.75|  3.5|      Vanilla Porter|          OH|     American Porter|              Winter| 6.0|     28094|Four String Brewi...|    Columbus|           OH| Brewery, Bar|\n",
            "| 111891|        WoodBrew|2016-12-31|   I bought a 6pc...|3.75| 3.75|  3.5| 3.0|    3.5| 3.53|      Vanilla Porter|          OH|     American Porter|              Winter| 6.0|     28094|Four String Brewi...|    Columbus|           OH| Brewery, Bar|\n",
            "| 111891|      Oopssorryy|2016-12-25|   Pours a medium...|2.75|  2.5|  2.5| 2.5|    2.5| 2.52|      Vanilla Porter|          OH|     American Porter|              Winter| 6.0|     28094|Four String Brewi...|    Columbus|           OH| Brewery, Bar|\n",
            "| 111891|       superspak|2016-12-04|   12 ounce can i...| 4.0|  4.0|  4.0| 4.0|    3.5|  3.9|      Vanilla Porter|          OH|     American Porter|              Winter| 6.0|     28094|Four String Brewi...|    Columbus|           OH| Brewery, Bar|\n",
            "| 111891|     BEERchitect|2016-05-14|   Porter first a...| 4.0| 4.25|  4.0|3.75|    4.0| 4.04|      Vanilla Porter|          OH|     American Porter|              Winter| 6.0|     28094|Four String Brewi...|    Columbus|           OH| Brewery, Bar|\n",
            "| 111891|         barczar|2016-04-08|   Aroma is fudgy...|3.75| 3.75|  3.5|3.75|   3.75| 3.65|      Vanilla Porter|          OH|     American Porter|              Winter| 6.0|     28094|Four String Brewi...|    Columbus|           OH| Brewery, Bar|\n",
            "+-------+----------------+----------+--------------------+----+-----+-----+----+-------+-----+--------------------+------------+--------------------+--------------------+----+----------+--------------------+------------+-------------+-------------+\n",
            "only showing top 20 rows\n",
            "\n"
          ],
          "name": "stdout"
        }
      ]
    },
    {
      "cell_type": "code",
      "metadata": {
        "colab": {
          "base_uri": "https://localhost:8080/"
        },
        "id": "OThDD-_h9nyE",
        "outputId": "987ce56c-951c-48d8-f295-a113827ca617"
      },
      "source": [
        "df.count()"
      ],
      "execution_count": 10,
      "outputs": [
        {
          "output_type": "execute_result",
          "data": {
            "text/plain": [
              "1973277"
            ]
          },
          "metadata": {
            "tags": []
          },
          "execution_count": 10
        }
      ]
    },
    {
      "cell_type": "code",
      "metadata": {
        "id": "2ulHJiqmza0y"
      },
      "source": [
        "# Next 6 lines casts to floats all the review ratings\r\n",
        "df = df.withColumn('look_numeric', df['look'].cast('float'))"
      ],
      "execution_count": 11,
      "outputs": []
    },
    {
      "cell_type": "code",
      "metadata": {
        "id": "WVaXWTdQzfMN"
      },
      "source": [
        "df = df.withColumn('smell_numeric', df['smell'].cast('float'))"
      ],
      "execution_count": 12,
      "outputs": []
    },
    {
      "cell_type": "code",
      "metadata": {
        "id": "N33lcUHCz8tM"
      },
      "source": [
        "df = df.withColumn('taste_numeric', df['taste'].cast('float'))"
      ],
      "execution_count": 13,
      "outputs": []
    },
    {
      "cell_type": "code",
      "metadata": {
        "id": "_SekhI_Bz9CE"
      },
      "source": [
        "df = df.withColumn('feel_numeric', df['feel'].cast('float'))"
      ],
      "execution_count": 14,
      "outputs": []
    },
    {
      "cell_type": "code",
      "metadata": {
        "id": "mtwJmiqVz9S5"
      },
      "source": [
        "df = df.withColumn('overall_numeric', df['overall'].cast('float'))"
      ],
      "execution_count": 15,
      "outputs": []
    },
    {
      "cell_type": "code",
      "metadata": {
        "id": "UfhdHardz_KN"
      },
      "source": [
        "df = df.withColumn('score_numeric', df['score'].cast('float'))"
      ],
      "execution_count": 16,
      "outputs": []
    },
    {
      "cell_type": "code",
      "metadata": {
        "colab": {
          "base_uri": "https://localhost:8080/"
        },
        "id": "VX0kUvjn017b",
        "outputId": "0454232e-9b9f-4db9-a2fe-eae0aa83ec6e"
      },
      "source": [
        "# Confirm data types\r\n",
        "df.printSchema"
      ],
      "execution_count": 17,
      "outputs": [
        {
          "output_type": "execute_result",
          "data": {
            "text/plain": [
              "<bound method DataFrame.printSchema of DataFrame[beer_id: string, username: string, date: string, text: string, look: string, smell: string, taste: string, feel: string, overall: string, score: string, beer_name: string, review_state: string, style: string, availability: string, abv: string, brewery_id: string, brewery_name: string, brewery_city: string, brewery_state: string, brewery_types: string, look_numeric: float, smell_numeric: float, taste_numeric: float, feel_numeric: float, overall_numeric: float, score_numeric: float]>"
            ]
          },
          "metadata": {
            "tags": []
          },
          "execution_count": 17
        }
      ]
    },
    {
      "cell_type": "code",
      "metadata": {
        "id": "LJuBnSOh7OGp"
      },
      "source": [
        "# functions for manipulating review text into a format we can tokenize\r\n",
        "def remove_punctuation(txt):\r\n",
        "  txt = txt.strip('\\xa0\\xa0 ')\r\n",
        "  return \"\".join(l if l not in string.punctuation else \"\" for l in txt)\r\n",
        "\r\n",
        "def remove_space (text):\r\n",
        "  if text:\r\n",
        "    return text.replace(' ', '')\r\n",
        "  else:\r\n",
        "    return 'Unknown'\r\n",
        "  "
      ],
      "execution_count": 18,
      "outputs": []
    },
    {
      "cell_type": "code",
      "metadata": {
        "colab": {
          "base_uri": "https://localhost:8080/"
        },
        "id": "jumNzjh_7cMM",
        "outputId": "2e1ca7bc-589f-4555-a6b6-58359761587e"
      },
      "source": [
        "# define the udfs for the data\r\n",
        "from pyspark.sql.types import StringType\r\n",
        "from pyspark.sql.functions import col, udf\r\n",
        "\r\n",
        "remove_punctuation_udf = udf(remove_punctuation, StringType())\r\n",
        "remove_punctuation_udf\r\n",
        "\r\n",
        "remove_space_udf = udf(remove_space, StringType())\r\n",
        "remove_space_udf"
      ],
      "execution_count": 19,
      "outputs": [
        {
          "output_type": "execute_result",
          "data": {
            "text/plain": [
              "<function __main__.remove_space>"
            ]
          },
          "metadata": {
            "tags": []
          },
          "execution_count": 19
        }
      ]
    },
    {
      "cell_type": "code",
      "metadata": {
        "colab": {
          "base_uri": "https://localhost:8080/"
        },
        "id": "kIpNUCIm7upA",
        "outputId": "10364c92-1019-49ca-f022-ebe65069b4b0"
      },
      "source": [
        "# clean the beer name by removing spaces (will be combined with text)\r\n",
        "beer_df = df.withColumn('beer_clean', remove_space_udf(col('beer_name')))\r\n",
        "beer_df.show()"
      ],
      "execution_count": 20,
      "outputs": [
        {
          "output_type": "stream",
          "text": [
            "+-------+----------------+----------+--------------------+----+-----+-----+----+-------+-----+--------------------+------------+--------------------+--------------------+----+----------+--------------------+------------+-------------+-------------+------------+-------------+-------------+------------+---------------+-------------+--------------------+\n",
            "|beer_id|        username|      date|                text|look|smell|taste|feel|overall|score|           beer_name|review_state|               style|        availability| abv|brewery_id|        brewery_name|brewery_city|brewery_state|brewery_types|look_numeric|smell_numeric|taste_numeric|feel_numeric|overall_numeric|score_numeric|          beer_clean|\n",
            "+-------+----------------+----------+--------------------+----+-----+-----+----+-------+-----+--------------------+------------+--------------------+--------------------+----+----------+--------------------+------------+-------------+-------------+------------+-------------+-------------+------------+---------------+-------------+--------------------+\n",
            "| 271781|    bluejacket74|2017-03-17|   750 ml bottle,...| 4.0|  4.0|  4.0|4.25|    4.0| 4.03|Motorbreath Imper...|          OH|American Imperial...|Limited (brewed o...|10.8|     28094|Four String Brewi...|    Columbus|           OH| Brewery, Bar|         4.0|          4.0|          4.0|        4.25|            4.0|         4.03|MotorbreathImperi...|\n",
            "| 184647|      Try-em-all|2017-09-27|   Clear gold in ...| 4.0|  4.0|  3.5| 3.5|   3.75|  3.7|     Payback Pilsner|          OH|   Bohemian Pilsener|            Rotating| 5.1|     28094|Four String Brewi...|    Columbus|           OH| Brewery, Bar|         4.0|          4.0|          3.5|         3.5|           3.75|          3.7|      PaybackPilsner|\n",
            "| 184647|ScorpioBeerLover|2017-03-22|   Reminds me of ...| 4.0|  4.0| 4.25|3.75|    4.0| 4.08|     Payback Pilsner|          OH|   Bohemian Pilsener|            Rotating| 5.1|     28094|Four String Brewi...|    Columbus|           OH| Brewery, Bar|         4.0|          4.0|         4.25|        3.75|            4.0|         4.08|      PaybackPilsner|\n",
            "| 184647|        beergoot|2016-10-08|   Pale yellow bo...|3.25| 3.25|  3.5| 3.5|    3.5| 3.43|     Payback Pilsner|          OH|   Bohemian Pilsener|            Rotating| 5.1|     28094|Four String Brewi...|    Columbus|           OH| Brewery, Bar|        3.25|         3.25|          3.5|         3.5|            3.5|         3.43|      PaybackPilsner|\n",
            "| 184647|   woodychandler|2016-09-25|   The CANQuest (...|3.75| 3.75|  3.5| 3.5|    3.5| 3.58|     Payback Pilsner|          OH|   Bohemian Pilsener|            Rotating| 5.1|     28094|Four String Brewi...|    Columbus|           OH| Brewery, Bar|        3.75|         3.75|          3.5|         3.5|            3.5|         3.58|      PaybackPilsner|\n",
            "| 184647|        WoodBrew|2016-07-14|   I got a Paybac...|3.75|  3.5|  3.5| 3.5|    3.5| 3.52|     Payback Pilsner|          OH|   Bohemian Pilsener|            Rotating| 5.1|     28094|Four String Brewi...|    Columbus|           OH| Brewery, Bar|        3.75|          3.5|          3.5|         3.5|            3.5|         3.52|      PaybackPilsner|\n",
            "| 184647|     Brutaltruth|2016-01-15|   Enjoyed from t...|3.75| 3.25| 3.25| 3.5|    3.5| 3.36|     Payback Pilsner|          OH|   Bohemian Pilsener|            Rotating| 5.1|     28094|Four String Brewi...|    Columbus|           OH| Brewery, Bar|        3.75|         3.25|         3.25|         3.5|            3.5|         3.36|      PaybackPilsner|\n",
            "| 184647|     HeightsEats|2015-12-31|   Pours a golden...|3.75| 3.75|  4.0| 4.0|   3.75| 3.88|     Payback Pilsner|          OH|   Bohemian Pilsener|            Rotating| 5.1|     28094|Four String Brewi...|    Columbus|           OH| Brewery, Bar|        3.75|         3.75|          4.0|         4.0|           3.75|         3.88|      PaybackPilsner|\n",
            "| 184647|       schoolboy|2015-10-05|   This thing is ...| 4.5|  3.5|  3.5| 3.5|   3.75| 3.61|     Payback Pilsner|          OH|   Bohemian Pilsener|            Rotating| 5.1|     28094|Four String Brewi...|    Columbus|           OH| Brewery, Bar|         4.5|          3.5|          3.5|         3.5|           3.75|         3.61|      PaybackPilsner|\n",
            "| 184647|   GreenEggsHam1|2015-08-08|                  0%| 3.5|  3.5|  3.5|3.75|    3.5| 3.53|     Payback Pilsner|          OH|   Bohemian Pilsener|            Rotating| 5.1|     28094|Four String Brewi...|    Columbus|           OH| Brewery, Bar|         3.5|          3.5|          3.5|        3.75|            3.5|         3.53|      PaybackPilsner|\n",
            "| 149366|        ONUMello|2016-03-26|\"   16oz draft A:...| 3.5|  3.0|  3.5| 3.5|    3.5| 3.38|          HELLHAMMER|          OH|            Rye Beer|Limited (brewed o...| 7.2|     28094|Four String Brewi...|    Columbus|           OH| Brewery, Bar|         3.5|          3.0|          3.5|         3.5|            3.5|         3.38|          HELLHAMMER|\n",
            "| 149366|        DrJGR629|2015-01-14|   The chipotle p...|4.25|  4.0|  4.5|3.75|   4.25| 4.24|          HELLHAMMER|          OH|            Rye Beer|Limited (brewed o...| 7.2|     28094|Four String Brewi...|    Columbus|           OH| Brewery, Bar|        4.25|          4.0|          4.5|        3.75|           4.25|         4.24|          HELLHAMMER|\n",
            "| 111891|   Amnesia_Jones|2018-02-13|   I want this po...| 3.0|  3.0|  3.0| 3.0|    3.0|  3.0|      Vanilla Porter|          OH|     American Porter|              Winter| 6.0|     28094|Four String Brewi...|    Columbus|           OH| Brewery, Bar|         3.0|          3.0|          3.0|         3.0|            3.0|          3.0|       VanillaPorter|\n",
            "| 111891|       buschbeer|2017-12-13|   12 FL. OZ. bot...| 4.0|  4.0| 3.75| 4.0|   3.75| 3.85|      Vanilla Porter|          OH|     American Porter|              Winter| 6.0|     28094|Four String Brewi...|    Columbus|           OH| Brewery, Bar|         4.0|          4.0|         3.75|         4.0|           3.75|         3.85|       VanillaPorter|\n",
            "| 111891|      jojobird72|2017-08-28|   pretty good fo...|3.75|  3.0| 3.75| 3.0|   3.75|  3.5|      Vanilla Porter|          OH|     American Porter|              Winter| 6.0|     28094|Four String Brewi...|    Columbus|           OH| Brewery, Bar|        3.75|          3.0|         3.75|         3.0|           3.75|          3.5|       VanillaPorter|\n",
            "| 111891|        WoodBrew|2016-12-31|   I bought a 6pc...|3.75| 3.75|  3.5| 3.0|    3.5| 3.53|      Vanilla Porter|          OH|     American Porter|              Winter| 6.0|     28094|Four String Brewi...|    Columbus|           OH| Brewery, Bar|        3.75|         3.75|          3.5|         3.0|            3.5|         3.53|       VanillaPorter|\n",
            "| 111891|      Oopssorryy|2016-12-25|   Pours a medium...|2.75|  2.5|  2.5| 2.5|    2.5| 2.52|      Vanilla Porter|          OH|     American Porter|              Winter| 6.0|     28094|Four String Brewi...|    Columbus|           OH| Brewery, Bar|        2.75|          2.5|          2.5|         2.5|            2.5|         2.52|       VanillaPorter|\n",
            "| 111891|       superspak|2016-12-04|   12 ounce can i...| 4.0|  4.0|  4.0| 4.0|    3.5|  3.9|      Vanilla Porter|          OH|     American Porter|              Winter| 6.0|     28094|Four String Brewi...|    Columbus|           OH| Brewery, Bar|         4.0|          4.0|          4.0|         4.0|            3.5|          3.9|       VanillaPorter|\n",
            "| 111891|     BEERchitect|2016-05-14|   Porter first a...| 4.0| 4.25|  4.0|3.75|    4.0| 4.04|      Vanilla Porter|          OH|     American Porter|              Winter| 6.0|     28094|Four String Brewi...|    Columbus|           OH| Brewery, Bar|         4.0|         4.25|          4.0|        3.75|            4.0|         4.04|       VanillaPorter|\n",
            "| 111891|         barczar|2016-04-08|   Aroma is fudgy...|3.75| 3.75|  3.5|3.75|   3.75| 3.65|      Vanilla Porter|          OH|     American Porter|              Winter| 6.0|     28094|Four String Brewi...|    Columbus|           OH| Brewery, Bar|        3.75|         3.75|          3.5|        3.75|           3.75|         3.65|       VanillaPorter|\n",
            "+-------+----------------+----------+--------------------+----+-----+-----+----+-------+-----+--------------------+------------+--------------------+--------------------+----+----------+--------------------+------------+-------------+-------------+------------+-------------+-------------+------------+---------------+-------------+--------------------+\n",
            "only showing top 20 rows\n",
            "\n"
          ],
          "name": "stdout"
        }
      ]
    },
    {
      "cell_type": "code",
      "metadata": {
        "colab": {
          "base_uri": "https://localhost:8080/"
        },
        "id": "ywNdb-IX93B9",
        "outputId": "972d5512-cfac-44b0-a0a5-a4fbd0f1d23a"
      },
      "source": [
        "beer_df.count()"
      ],
      "execution_count": 21,
      "outputs": [
        {
          "output_type": "execute_result",
          "data": {
            "text/plain": [
              "1973277"
            ]
          },
          "metadata": {
            "tags": []
          },
          "execution_count": 21
        }
      ]
    },
    {
      "cell_type": "code",
      "metadata": {
        "colab": {
          "base_uri": "https://localhost:8080/"
        },
        "id": "RcFOFN8_7zHU",
        "outputId": "4321ebb1-a887-48db-b367-9681bf258ac5"
      },
      "source": [
        "# clean the style name by removing spaces (will be combined with text)\r\n",
        "style_df = beer_df.withColumn('style_clean', remove_space_udf(col('style')))\r\n",
        "style_df.show()"
      ],
      "execution_count": 22,
      "outputs": [
        {
          "output_type": "stream",
          "text": [
            "+-------+----------------+----------+--------------------+----+-----+-----+----+-------+-----+--------------------+------------+--------------------+--------------------+----+----------+--------------------+------------+-------------+-------------+------------+-------------+-------------+------------+---------------+-------------+--------------------+--------------------+\n",
            "|beer_id|        username|      date|                text|look|smell|taste|feel|overall|score|           beer_name|review_state|               style|        availability| abv|brewery_id|        brewery_name|brewery_city|brewery_state|brewery_types|look_numeric|smell_numeric|taste_numeric|feel_numeric|overall_numeric|score_numeric|          beer_clean|         style_clean|\n",
            "+-------+----------------+----------+--------------------+----+-----+-----+----+-------+-----+--------------------+------------+--------------------+--------------------+----+----------+--------------------+------------+-------------+-------------+------------+-------------+-------------+------------+---------------+-------------+--------------------+--------------------+\n",
            "| 271781|    bluejacket74|2017-03-17|   750 ml bottle,...| 4.0|  4.0|  4.0|4.25|    4.0| 4.03|Motorbreath Imper...|          OH|American Imperial...|Limited (brewed o...|10.8|     28094|Four String Brewi...|    Columbus|           OH| Brewery, Bar|         4.0|          4.0|          4.0|        4.25|            4.0|         4.03|MotorbreathImperi...|AmericanImperialS...|\n",
            "| 184647|      Try-em-all|2017-09-27|   Clear gold in ...| 4.0|  4.0|  3.5| 3.5|   3.75|  3.7|     Payback Pilsner|          OH|   Bohemian Pilsener|            Rotating| 5.1|     28094|Four String Brewi...|    Columbus|           OH| Brewery, Bar|         4.0|          4.0|          3.5|         3.5|           3.75|          3.7|      PaybackPilsner|    BohemianPilsener|\n",
            "| 184647|ScorpioBeerLover|2017-03-22|   Reminds me of ...| 4.0|  4.0| 4.25|3.75|    4.0| 4.08|     Payback Pilsner|          OH|   Bohemian Pilsener|            Rotating| 5.1|     28094|Four String Brewi...|    Columbus|           OH| Brewery, Bar|         4.0|          4.0|         4.25|        3.75|            4.0|         4.08|      PaybackPilsner|    BohemianPilsener|\n",
            "| 184647|        beergoot|2016-10-08|   Pale yellow bo...|3.25| 3.25|  3.5| 3.5|    3.5| 3.43|     Payback Pilsner|          OH|   Bohemian Pilsener|            Rotating| 5.1|     28094|Four String Brewi...|    Columbus|           OH| Brewery, Bar|        3.25|         3.25|          3.5|         3.5|            3.5|         3.43|      PaybackPilsner|    BohemianPilsener|\n",
            "| 184647|   woodychandler|2016-09-25|   The CANQuest (...|3.75| 3.75|  3.5| 3.5|    3.5| 3.58|     Payback Pilsner|          OH|   Bohemian Pilsener|            Rotating| 5.1|     28094|Four String Brewi...|    Columbus|           OH| Brewery, Bar|        3.75|         3.75|          3.5|         3.5|            3.5|         3.58|      PaybackPilsner|    BohemianPilsener|\n",
            "| 184647|        WoodBrew|2016-07-14|   I got a Paybac...|3.75|  3.5|  3.5| 3.5|    3.5| 3.52|     Payback Pilsner|          OH|   Bohemian Pilsener|            Rotating| 5.1|     28094|Four String Brewi...|    Columbus|           OH| Brewery, Bar|        3.75|          3.5|          3.5|         3.5|            3.5|         3.52|      PaybackPilsner|    BohemianPilsener|\n",
            "| 184647|     Brutaltruth|2016-01-15|   Enjoyed from t...|3.75| 3.25| 3.25| 3.5|    3.5| 3.36|     Payback Pilsner|          OH|   Bohemian Pilsener|            Rotating| 5.1|     28094|Four String Brewi...|    Columbus|           OH| Brewery, Bar|        3.75|         3.25|         3.25|         3.5|            3.5|         3.36|      PaybackPilsner|    BohemianPilsener|\n",
            "| 184647|     HeightsEats|2015-12-31|   Pours a golden...|3.75| 3.75|  4.0| 4.0|   3.75| 3.88|     Payback Pilsner|          OH|   Bohemian Pilsener|            Rotating| 5.1|     28094|Four String Brewi...|    Columbus|           OH| Brewery, Bar|        3.75|         3.75|          4.0|         4.0|           3.75|         3.88|      PaybackPilsner|    BohemianPilsener|\n",
            "| 184647|       schoolboy|2015-10-05|   This thing is ...| 4.5|  3.5|  3.5| 3.5|   3.75| 3.61|     Payback Pilsner|          OH|   Bohemian Pilsener|            Rotating| 5.1|     28094|Four String Brewi...|    Columbus|           OH| Brewery, Bar|         4.5|          3.5|          3.5|         3.5|           3.75|         3.61|      PaybackPilsner|    BohemianPilsener|\n",
            "| 184647|   GreenEggsHam1|2015-08-08|                  0%| 3.5|  3.5|  3.5|3.75|    3.5| 3.53|     Payback Pilsner|          OH|   Bohemian Pilsener|            Rotating| 5.1|     28094|Four String Brewi...|    Columbus|           OH| Brewery, Bar|         3.5|          3.5|          3.5|        3.75|            3.5|         3.53|      PaybackPilsner|    BohemianPilsener|\n",
            "| 149366|        ONUMello|2016-03-26|\"   16oz draft A:...| 3.5|  3.0|  3.5| 3.5|    3.5| 3.38|          HELLHAMMER|          OH|            Rye Beer|Limited (brewed o...| 7.2|     28094|Four String Brewi...|    Columbus|           OH| Brewery, Bar|         3.5|          3.0|          3.5|         3.5|            3.5|         3.38|          HELLHAMMER|             RyeBeer|\n",
            "| 149366|        DrJGR629|2015-01-14|   The chipotle p...|4.25|  4.0|  4.5|3.75|   4.25| 4.24|          HELLHAMMER|          OH|            Rye Beer|Limited (brewed o...| 7.2|     28094|Four String Brewi...|    Columbus|           OH| Brewery, Bar|        4.25|          4.0|          4.5|        3.75|           4.25|         4.24|          HELLHAMMER|             RyeBeer|\n",
            "| 111891|   Amnesia_Jones|2018-02-13|   I want this po...| 3.0|  3.0|  3.0| 3.0|    3.0|  3.0|      Vanilla Porter|          OH|     American Porter|              Winter| 6.0|     28094|Four String Brewi...|    Columbus|           OH| Brewery, Bar|         3.0|          3.0|          3.0|         3.0|            3.0|          3.0|       VanillaPorter|      AmericanPorter|\n",
            "| 111891|       buschbeer|2017-12-13|   12 FL. OZ. bot...| 4.0|  4.0| 3.75| 4.0|   3.75| 3.85|      Vanilla Porter|          OH|     American Porter|              Winter| 6.0|     28094|Four String Brewi...|    Columbus|           OH| Brewery, Bar|         4.0|          4.0|         3.75|         4.0|           3.75|         3.85|       VanillaPorter|      AmericanPorter|\n",
            "| 111891|      jojobird72|2017-08-28|   pretty good fo...|3.75|  3.0| 3.75| 3.0|   3.75|  3.5|      Vanilla Porter|          OH|     American Porter|              Winter| 6.0|     28094|Four String Brewi...|    Columbus|           OH| Brewery, Bar|        3.75|          3.0|         3.75|         3.0|           3.75|          3.5|       VanillaPorter|      AmericanPorter|\n",
            "| 111891|        WoodBrew|2016-12-31|   I bought a 6pc...|3.75| 3.75|  3.5| 3.0|    3.5| 3.53|      Vanilla Porter|          OH|     American Porter|              Winter| 6.0|     28094|Four String Brewi...|    Columbus|           OH| Brewery, Bar|        3.75|         3.75|          3.5|         3.0|            3.5|         3.53|       VanillaPorter|      AmericanPorter|\n",
            "| 111891|      Oopssorryy|2016-12-25|   Pours a medium...|2.75|  2.5|  2.5| 2.5|    2.5| 2.52|      Vanilla Porter|          OH|     American Porter|              Winter| 6.0|     28094|Four String Brewi...|    Columbus|           OH| Brewery, Bar|        2.75|          2.5|          2.5|         2.5|            2.5|         2.52|       VanillaPorter|      AmericanPorter|\n",
            "| 111891|       superspak|2016-12-04|   12 ounce can i...| 4.0|  4.0|  4.0| 4.0|    3.5|  3.9|      Vanilla Porter|          OH|     American Porter|              Winter| 6.0|     28094|Four String Brewi...|    Columbus|           OH| Brewery, Bar|         4.0|          4.0|          4.0|         4.0|            3.5|          3.9|       VanillaPorter|      AmericanPorter|\n",
            "| 111891|     BEERchitect|2016-05-14|   Porter first a...| 4.0| 4.25|  4.0|3.75|    4.0| 4.04|      Vanilla Porter|          OH|     American Porter|              Winter| 6.0|     28094|Four String Brewi...|    Columbus|           OH| Brewery, Bar|         4.0|         4.25|          4.0|        3.75|            4.0|         4.04|       VanillaPorter|      AmericanPorter|\n",
            "| 111891|         barczar|2016-04-08|   Aroma is fudgy...|3.75| 3.75|  3.5|3.75|   3.75| 3.65|      Vanilla Porter|          OH|     American Porter|              Winter| 6.0|     28094|Four String Brewi...|    Columbus|           OH| Brewery, Bar|        3.75|         3.75|          3.5|        3.75|           3.75|         3.65|       VanillaPorter|      AmericanPorter|\n",
            "+-------+----------------+----------+--------------------+----+-----+-----+----+-------+-----+--------------------+------------+--------------------+--------------------+----+----------+--------------------+------------+-------------+-------------+------------+-------------+-------------+------------+---------------+-------------+--------------------+--------------------+\n",
            "only showing top 20 rows\n",
            "\n"
          ],
          "name": "stdout"
        }
      ]
    },
    {
      "cell_type": "code",
      "metadata": {
        "colab": {
          "base_uri": "https://localhost:8080/"
        },
        "id": "0rwjoP1Z-DPq",
        "outputId": "618a601a-b47e-4ce9-875f-03bdef863476"
      },
      "source": [
        "style_df.count()"
      ],
      "execution_count": 23,
      "outputs": [
        {
          "output_type": "execute_result",
          "data": {
            "text/plain": [
              "1973277"
            ]
          },
          "metadata": {
            "tags": []
          },
          "execution_count": 23
        }
      ]
    },
    {
      "cell_type": "code",
      "metadata": {
        "colab": {
          "base_uri": "https://localhost:8080/"
        },
        "id": "Q49v6IDJ736k",
        "outputId": "6fb3a5ad-c6ce-4c12-8a36-a031f87e3fe9"
      },
      "source": [
        "# clean the text by removing punctuation\r\n",
        "text_df = style_df.withColumn(\"clean_text\", remove_punctuation_udf(col(\"text\")))\r\n",
        "text_df.show()"
      ],
      "execution_count": 24,
      "outputs": [
        {
          "output_type": "stream",
          "text": [
            "+-------+----------------+----------+--------------------+----+-----+-----+----+-------+-----+--------------------+------------+--------------------+--------------------+----+----------+--------------------+------------+-------------+-------------+------------+-------------+-------------+------------+---------------+-------------+--------------------+--------------------+--------------------+\n",
            "|beer_id|        username|      date|                text|look|smell|taste|feel|overall|score|           beer_name|review_state|               style|        availability| abv|brewery_id|        brewery_name|brewery_city|brewery_state|brewery_types|look_numeric|smell_numeric|taste_numeric|feel_numeric|overall_numeric|score_numeric|          beer_clean|         style_clean|          clean_text|\n",
            "+-------+----------------+----------+--------------------+----+-----+-----+----+-------+-----+--------------------+------------+--------------------+--------------------+----+----------+--------------------+------------+-------------+-------------+------------+-------------+-------------+------------+---------------+-------------+--------------------+--------------------+--------------------+\n",
            "| 271781|    bluejacket74|2017-03-17|   750 ml bottle,...| 4.0|  4.0|  4.0|4.25|    4.0| 4.03|Motorbreath Imper...|          OH|American Imperial...|Limited (brewed o...|10.8|     28094|Four String Brewi...|    Columbus|           OH| Brewery, Bar|         4.0|          4.0|          4.0|        4.25|            4.0|         4.03|MotorbreathImperi...|AmericanImperialS...|750 ml bottle 201...|\n",
            "| 184647|      Try-em-all|2017-09-27|   Clear gold in ...| 4.0|  4.0|  3.5| 3.5|   3.75|  3.7|     Payback Pilsner|          OH|   Bohemian Pilsener|            Rotating| 5.1|     28094|Four String Brewi...|    Columbus|           OH| Brewery, Bar|         4.0|          4.0|          3.5|         3.5|           3.75|          3.7|      PaybackPilsner|    BohemianPilsener|Clear gold in col...|\n",
            "| 184647|ScorpioBeerLover|2017-03-22|   Reminds me of ...| 4.0|  4.0| 4.25|3.75|    4.0| 4.08|     Payback Pilsner|          OH|   Bohemian Pilsener|            Rotating| 5.1|     28094|Four String Brewi...|    Columbus|           OH| Brewery, Bar|         4.0|          4.0|         4.25|        3.75|            4.0|         4.08|      PaybackPilsner|    BohemianPilsener|Reminds me of pre...|\n",
            "| 184647|        beergoot|2016-10-08|   Pale yellow bo...|3.25| 3.25|  3.5| 3.5|    3.5| 3.43|     Payback Pilsner|          OH|   Bohemian Pilsener|            Rotating| 5.1|     28094|Four String Brewi...|    Columbus|           OH| Brewery, Bar|        3.25|         3.25|          3.5|         3.5|            3.5|         3.43|      PaybackPilsner|    BohemianPilsener|Pale yellow body ...|\n",
            "| 184647|   woodychandler|2016-09-25|   The CANQuest (...|3.75| 3.75|  3.5| 3.5|    3.5| 3.58|     Payback Pilsner|          OH|   Bohemian Pilsener|            Rotating| 5.1|     28094|Four String Brewi...|    Columbus|           OH| Brewery, Bar|        3.75|         3.75|          3.5|         3.5|            3.5|         3.58|      PaybackPilsner|    BohemianPilsener|The CANQuest tm i...|\n",
            "| 184647|        WoodBrew|2016-07-14|   I got a Paybac...|3.75|  3.5|  3.5| 3.5|    3.5| 3.52|     Payback Pilsner|          OH|   Bohemian Pilsener|            Rotating| 5.1|     28094|Four String Brewi...|    Columbus|           OH| Brewery, Bar|        3.75|          3.5|          3.5|         3.5|            3.5|         3.52|      PaybackPilsner|    BohemianPilsener|I got a Payback P...|\n",
            "| 184647|     Brutaltruth|2016-01-15|   Enjoyed from t...|3.75| 3.25| 3.25| 3.5|    3.5| 3.36|     Payback Pilsner|          OH|   Bohemian Pilsener|            Rotating| 5.1|     28094|Four String Brewi...|    Columbus|           OH| Brewery, Bar|        3.75|         3.25|         3.25|         3.5|            3.5|         3.36|      PaybackPilsner|    BohemianPilsener|Enjoyed from the ...|\n",
            "| 184647|     HeightsEats|2015-12-31|   Pours a golden...|3.75| 3.75|  4.0| 4.0|   3.75| 3.88|     Payback Pilsner|          OH|   Bohemian Pilsener|            Rotating| 5.1|     28094|Four String Brewi...|    Columbus|           OH| Brewery, Bar|        3.75|         3.75|          4.0|         4.0|           3.75|         3.88|      PaybackPilsner|    BohemianPilsener|Pours a golden ye...|\n",
            "| 184647|       schoolboy|2015-10-05|   This thing is ...| 4.5|  3.5|  3.5| 3.5|   3.75| 3.61|     Payback Pilsner|          OH|   Bohemian Pilsener|            Rotating| 5.1|     28094|Four String Brewi...|    Columbus|           OH| Brewery, Bar|         4.5|          3.5|          3.5|         3.5|           3.75|         3.61|      PaybackPilsner|    BohemianPilsener|This thing is gor...|\n",
            "| 184647|   GreenEggsHam1|2015-08-08|                  0%| 3.5|  3.5|  3.5|3.75|    3.5| 3.53|     Payback Pilsner|          OH|   Bohemian Pilsener|            Rotating| 5.1|     28094|Four String Brewi...|    Columbus|           OH| Brewery, Bar|         3.5|          3.5|          3.5|        3.75|            3.5|         3.53|      PaybackPilsner|    BohemianPilsener|                   0|\n",
            "| 149366|        ONUMello|2016-03-26|\"   16oz draft A:...| 3.5|  3.0|  3.5| 3.5|    3.5| 3.38|          HELLHAMMER|          OH|            Rye Beer|Limited (brewed o...| 7.2|     28094|Four String Brewi...|    Columbus|           OH| Brewery, Bar|         3.5|          3.0|          3.5|         3.5|            3.5|         3.38|          HELLHAMMER|             RyeBeer|   16oz draft A D...|\n",
            "| 149366|        DrJGR629|2015-01-14|   The chipotle p...|4.25|  4.0|  4.5|3.75|   4.25| 4.24|          HELLHAMMER|          OH|            Rye Beer|Limited (brewed o...| 7.2|     28094|Four String Brewi...|    Columbus|           OH| Brewery, Bar|        4.25|          4.0|          4.5|        3.75|           4.25|         4.24|          HELLHAMMER|             RyeBeer|The chipotle pepp...|\n",
            "| 111891|   Amnesia_Jones|2018-02-13|   I want this po...| 3.0|  3.0|  3.0| 3.0|    3.0|  3.0|      Vanilla Porter|          OH|     American Porter|              Winter| 6.0|     28094|Four String Brewi...|    Columbus|           OH| Brewery, Bar|         3.0|          3.0|          3.0|         3.0|            3.0|          3.0|       VanillaPorter|      AmericanPorter|I want this porte...|\n",
            "| 111891|       buschbeer|2017-12-13|   12 FL. OZ. bot...| 4.0|  4.0| 3.75| 4.0|   3.75| 3.85|      Vanilla Porter|          OH|     American Porter|              Winter| 6.0|     28094|Four String Brewi...|    Columbus|           OH| Brewery, Bar|         4.0|          4.0|         3.75|         4.0|           3.75|         3.85|       VanillaPorter|      AmericanPorter|12 FL OZ bottle S...|\n",
            "| 111891|      jojobird72|2017-08-28|   pretty good fo...|3.75|  3.0| 3.75| 3.0|   3.75|  3.5|      Vanilla Porter|          OH|     American Porter|              Winter| 6.0|     28094|Four String Brewi...|    Columbus|           OH| Brewery, Bar|        3.75|          3.0|         3.75|         3.0|           3.75|          3.5|       VanillaPorter|      AmericanPorter|pretty good for i...|\n",
            "| 111891|        WoodBrew|2016-12-31|   I bought a 6pc...|3.75| 3.75|  3.5| 3.0|    3.5| 3.53|      Vanilla Porter|          OH|     American Porter|              Winter| 6.0|     28094|Four String Brewi...|    Columbus|           OH| Brewery, Bar|        3.75|         3.75|          3.5|         3.0|            3.5|         3.53|       VanillaPorter|      AmericanPorter|I bought a 6pck a...|\n",
            "| 111891|      Oopssorryy|2016-12-25|   Pours a medium...|2.75|  2.5|  2.5| 2.5|    2.5| 2.52|      Vanilla Porter|          OH|     American Porter|              Winter| 6.0|     28094|Four String Brewi...|    Columbus|           OH| Brewery, Bar|        2.75|          2.5|          2.5|         2.5|            2.5|         2.52|       VanillaPorter|      AmericanPorter|Pours a medium br...|\n",
            "| 111891|       superspak|2016-12-04|   12 ounce can i...| 4.0|  4.0|  4.0| 4.0|    3.5|  3.9|      Vanilla Porter|          OH|     American Porter|              Winter| 6.0|     28094|Four String Brewi...|    Columbus|           OH| Brewery, Bar|         4.0|          4.0|          4.0|         4.0|            3.5|          3.9|       VanillaPorter|      AmericanPorter|12 ounce can into...|\n",
            "| 111891|     BEERchitect|2016-05-14|   Porter first a...| 4.0| 4.25|  4.0|3.75|    4.0| 4.04|      Vanilla Porter|          OH|     American Porter|              Winter| 6.0|     28094|Four String Brewi...|    Columbus|           OH| Brewery, Bar|         4.0|         4.25|          4.0|        3.75|            4.0|         4.04|       VanillaPorter|      AmericanPorter|Porter first and ...|\n",
            "| 111891|         barczar|2016-04-08|   Aroma is fudgy...|3.75| 3.75|  3.5|3.75|   3.75| 3.65|      Vanilla Porter|          OH|     American Porter|              Winter| 6.0|     28094|Four String Brewi...|    Columbus|           OH| Brewery, Bar|        3.75|         3.75|          3.5|        3.75|           3.75|         3.65|       VanillaPorter|      AmericanPorter|Aroma is fudgy wi...|\n",
            "+-------+----------------+----------+--------------------+----+-----+-----+----+-------+-----+--------------------+------------+--------------------+--------------------+----+----------+--------------------+------------+-------------+-------------+------------+-------------+-------------+------------+---------------+-------------+--------------------+--------------------+--------------------+\n",
            "only showing top 20 rows\n",
            "\n"
          ],
          "name": "stdout"
        }
      ]
    },
    {
      "cell_type": "code",
      "metadata": {
        "colab": {
          "base_uri": "https://localhost:8080/"
        },
        "id": "rY67GAX_-Njh",
        "outputId": "9dab49a6-9f23-4216-fbe1-46d6e783d7ac"
      },
      "source": [
        "text_df.count()"
      ],
      "execution_count": 25,
      "outputs": [
        {
          "output_type": "execute_result",
          "data": {
            "text/plain": [
              "1973277"
            ]
          },
          "metadata": {
            "tags": []
          },
          "execution_count": 25
        }
      ]
    },
    {
      "cell_type": "code",
      "metadata": {
        "id": "rUrgBLiFvW3W",
        "colab": {
          "base_uri": "https://localhost:8080/"
        },
        "outputId": "019133fb-bf49-4c8f-ec3c-58cd65a9d512"
      },
      "source": [
        "# Combine beer_name, style, and review text into a Final_text column\r\n",
        "from pyspark.sql.functions import concat_ws\r\n",
        "\r\n",
        "combined_df = text_df.withColumn('Final_text', concat_ws(' ',text_df.beer_clean, text_df.style_clean, text_df.clean_text))\r\n",
        "combined_df.select('text', 'Final_text').show(truncate=False)"
      ],
      "execution_count": 26,
      "outputs": [
        {
          "output_type": "stream",
          "text": [
            "+-----------------------------------------------------------------------------------------------------------------------------------------------------------------------------------------------------------------------------------------------------------------------------------------------------------------------------------------------------------------------------------------------------------------------------------------------------------------------------------------------------------------------------------------------------------------------------------------------------------------------------------------------------------------------------------------------------------------------------------------------------------------------------------------------------------------------------------------------------------------------------------------------------------------------------------------------------------------------------------------------------------------------------------------------------------------------------------------------------------------------------------------------------------------------------------------------------------------------------------------------------------------------------------------------------------------------------------------------------------------------------------------------------------------------------------------------------------------------------------------------------------------------------------------------------------------------------------------------------------------------------------------------------------------------------------------------------------------------------------------------------------------------------------------------------------------------------------------------------------------------------------------------------------------------------------------------------------------------------------------------------------------------------------------------+-----------------------------------------------------------------------------------------------------------------------------------------------------------------------------------------------------------------------------------------------------------------------------------------------------------------------------------------------------------------------------------------------------------------------------------------------------------------------------------------------------------------------------------------------------------------------------------------------------------------------------------------------------------------------------------------------------------------------------------------------------------------------------------------------------------------------------------------------------------------------------------------------------------------------------------------------------------------------------------------------------------------------------------------------------------------------------------------------------------------------------------------------------------------------------------------------------------------------------------------------------------------------------------------------------------------------------------------------------------------------------------------------------------------------------------------------------------------------------------------------------------------------------------------------------------------------------------------------------------------------------------------------------------------------------------------------------------------------------------------------------------------------------------------------------------------------------------------------------------------------------------------------------------------------------------------------------------------------------------------------------+\n",
            "|text                                                                                                                                                                                                                                                                                                                                                                                                                                                                                                                                                                                                                                                                                                                                                                                                                                                                                                                                                                                                                                                                                                                                                                                                                                                                                                                                                                                                                                                                                                                                                                                                                                                                                                                                                                                                                                                                                                                                                                                                                                           |Final_text                                                                                                                                                                                                                                                                                                                                                                                                                                                                                                                                                                                                                                                                                                                                                                                                                                                                                                                                                                                                                                                                                                                                                                                                                                                                                                                                                                                                                                                                                                                                                                                                                                                                                                                                                                                                                                                                                                                                                                                           |\n",
            "+-----------------------------------------------------------------------------------------------------------------------------------------------------------------------------------------------------------------------------------------------------------------------------------------------------------------------------------------------------------------------------------------------------------------------------------------------------------------------------------------------------------------------------------------------------------------------------------------------------------------------------------------------------------------------------------------------------------------------------------------------------------------------------------------------------------------------------------------------------------------------------------------------------------------------------------------------------------------------------------------------------------------------------------------------------------------------------------------------------------------------------------------------------------------------------------------------------------------------------------------------------------------------------------------------------------------------------------------------------------------------------------------------------------------------------------------------------------------------------------------------------------------------------------------------------------------------------------------------------------------------------------------------------------------------------------------------------------------------------------------------------------------------------------------------------------------------------------------------------------------------------------------------------------------------------------------------------------------------------------------------------------------------------------------------+-----------------------------------------------------------------------------------------------------------------------------------------------------------------------------------------------------------------------------------------------------------------------------------------------------------------------------------------------------------------------------------------------------------------------------------------------------------------------------------------------------------------------------------------------------------------------------------------------------------------------------------------------------------------------------------------------------------------------------------------------------------------------------------------------------------------------------------------------------------------------------------------------------------------------------------------------------------------------------------------------------------------------------------------------------------------------------------------------------------------------------------------------------------------------------------------------------------------------------------------------------------------------------------------------------------------------------------------------------------------------------------------------------------------------------------------------------------------------------------------------------------------------------------------------------------------------------------------------------------------------------------------------------------------------------------------------------------------------------------------------------------------------------------------------------------------------------------------------------------------------------------------------------------------------------------------------------------------------------------------------------+\n",
            "|   750 ml bottle, 2016 vintage, bottle #304 of 360. Served in a DFH snifter, the beer pours dark brown/black with about an inch tan head that stuck around a little while. There's also a good amount of lacing. I like the aroma, the brew smells like dark fruit (raisin, plum), chocolate, roasted malt, and a bit of licorice. For the most part I think the taste is just like the aroma, but with some coffee flavor noticeable too. Mouthfeel/body is medium/full, it's creamy and coating with a moderate amount of carbonation. I think it's a good overall brew, worth picking up if you want a nice straight forward imperial stout. Here's hoping Four String brings this back in the future! $9.99 a bottle.                                                                                                                                                                                                                                                                                                                                                                                                                                                                                                                                                                                                                                                                                                                                                                                                                                                                                                                                                                                                                                                                                                                                                                                                                                                                                                                      |MotorbreathImperialStout AmericanImperialStout 750 ml bottle 2016 vintage bottle 304 of 360 Served in a DFH snifter the beer pours dark brownblack with about an inch tan head that stuck around a little while Theres also a good amount of lacing I like the aroma the brew smells like dark fruit raisin plum chocolate roasted malt and a bit of licorice For the most part I think the taste is just like the aroma but with some coffee flavor noticeable too Mouthfeelbody is mediumfull its creamy and coating with a moderate amount of carbonation I think its a good overall brew worth picking up if you want a nice straight forward imperial stout Heres hoping Four String brings this back in the future 999 a bottle                                                                                                                                                                                                                                                                                                                                                                                                                                                                                                                                                                                                                                                                                                                                                                                                                                                                                                                                                                                                                                                                                                                                                                                                                                                                |\n",
            "|   Clear gold in color, light head, very little lacing, slight grain taste, same with the first scent, not a bad beer, but not very special either.                                                                                                                                                                                                                                                                                                                                                                                                                                                                                                                                                                                                                                                                                                                                                                                                                                                                                                                                                                                                                                                                                                                                                                                                                                                                                                                                                                                                                                                                                                                                                                                                                                                                                                                                                                                                                                                                                            |PaybackPilsner BohemianPilsener Clear gold in color light head very little lacing slight grain taste same with the first scent not a bad beer but not very special either                                                                                                                                                                                                                                                                                                                                                                                                                                                                                                                                                                                                                                                                                                                                                                                                                                                                                                                                                                                                                                                                                                                                                                                                                                                                                                                                                                                                                                                                                                                                                                                                                                                                                                                                                                                                                            |\n",
            "|   Reminds me of pretty much every Czech Pilsner I have ever had. Very drinkable, but nothing that stands out as exceptional.                                                                                                                                                                                                                                                                                                                                                                                                                                                                                                                                                                                                                                                                                                                                                                                                                                                                                                                                                                                                                                                                                                                                                                                                                                                                                                                                                                                                                                                                                                                                                                                                                                                                                                                                                                                                                                                                                                                  |PaybackPilsner BohemianPilsener Reminds me of pretty much every Czech Pilsner I have ever had Very drinkable but nothing that stands out as exceptional                                                                                                                                                                                                                                                                                                                                                                                                                                                                                                                                                                                                                                                                                                                                                                                                                                                                                                                                                                                                                                                                                                                                                                                                                                                                                                                                                                                                                                                                                                                                                                                                                                                                                                                                                                                                                                              |\n",
            "|   Pale yellow body; wispy white head. Very faint grain scent with a touch of honey. The taste is similar to the smell; gentle hop bitterness. Medium body. A fair, approachable pilsner yet rather run of the mill.                                                                                                                                                                                                                                                                                                                                                                                                                                                                                                                                                                                                                                                                                                                                                                                                                                                                                                                                                                                                                                                                                                                                                                                                                                                                                                                                                                                                                                                                                                                                                                                                                                                                                                                                                                                                                           |PaybackPilsner BohemianPilsener Pale yellow body wispy white head Very faint grain scent with a touch of honey The taste is similar to the smell gentle hop bitterness Medium body A fair approachable pilsner yet rather run of the mill                                                                                                                                                                                                                                                                                                                                                                                                                                                                                                                                                                                                                                                                                                                                                                                                                                                                                                                                                                                                                                                                                                                                                                                                                                                                                                                                                                                                                                                                                                                                                                                                                                                                                                                                                            |\n",
            "|   The CANQuest (tm) is honored to add anything from Four String BC to the list since one of its movers & shakers is none other than Larry, Larry, Larry ! Horowitz, who brewed & did jack of all trades stuff for Iron Hill for years. Larry, Larry, Larry is a fellow veteran & a really great, unassuming personality to be around. His knowledge is seCANd-to-none & while I was sorry to see him depart for Ohio, I know how to find him. Naturally, the CAN released a spray across my fingertips & then evinced some foaming through the vent on the Crack! I wanted an earlier CAN to do so & it did not CANoperate while each one before & after has been a behavior problem. Not really, since no one CAN hold a CANdle to my handling of a CAN. I performed a very gentle Glug so as to not rouse either any lees or the hooded CANbra that seemed to be lurking within. What is it with the Cracker Jack surprise inside jazz today? I got a rubber duck earlier & now, a cobra! Even my gentle Glug was enough to bring up just over a finger of soapy, foamy, bone-white head with modest retention. Color was a pretty Straw-Yellow (SRM = > 2, < 4), kind of like liquid sunshine in the glass. Nose was almost certainly indiCANtive of a German Pilsner, but I am going to request CANfirmation from the brewer/brewery on this one. It struck me as malty & bready, but I am not going to claim to be an expert. Mouthfeel was medium. The taste was making it really tough for me. It had a pleasant Noble hoppiness, but nowhere near as pronounced as it had been in Champion's Shower Beer. That said, the biscuitiness of the malt was not what I would CANsider pronounced, either. It was as though the beer was trying to straddle two styles. I prefer the Czech over the German, but this made for an interesting drink. Finish was semi-dry to dry, but neither the hops nor the malt seemed to want to assert themselves. It was decent, but I wish that it (or me) could make up its mind as to its identity.  |PaybackPilsner BohemianPilsener The CANQuest tm is honored to add anything from Four String BC to the list since one of its movers  shakers is none other than Larry Larry Larry  Horowitz who brewed  did jack of all trades stuff for Iron Hill for years Larry Larry Larry is a fellow veteran  a really great unassuming personality to be around His knowledge is seCANdtonone  while I was sorry to see him depart for Ohio I know how to find him Naturally the CAN released a spray across my fingertips  then evinced some foaming through the vent on the Crack I wanted an earlier CAN to do so  it did not CANoperate while each one before  after has been a behavior problem Not really since no one CAN hold a CANdle to my handling of a CAN I performed a very gentle Glug so as to not rouse either any lees or the hooded CANbra that seemed to be lurking within What is it with the Cracker Jack surprise inside jazz today I got a rubber duck earlier  now a cobra Even my gentle Glug was enough to bring up just over a finger of soapy foamy bonewhite head with modest retention Color was a pretty StrawYellow SRM   2  4 kind of like liquid sunshine in the glass Nose was almost certainly indiCANtive of a German Pilsner but I am going to request CANfirmation from the brewerbrewery on this one It struck me as malty  bready but I am not going to claim to be an expert Mouthfeel was medium The taste was making it really tough for me It had a pleasant Noble hoppiness but nowhere near as pronounced as it had been in Champions Shower Beer That said the biscuitiness of the malt was not what I would CANsider pronounced either It was as though the beer was trying to straddle two styles I prefer the Czech over the German but this made for an interesting drink Finish was semidry to dry but neither the hops nor the malt seemed to want to assert themselves It was decent but I wish that it or me could make up its mind as to its identity|\n",
            "|   I got a Payback Pilsner in a mix 12 from Drug Mart in Willard, Ohio. It poured a clear golden with white head that is not leaving much of a lace. The scent is not one of pilsner...something strange...can't quite put finger on it. The taste leans toward a white grape and is a touch bitter. The Mouthfeel is lighter in body with good carbonation. Overall it's ok certainly wouldn't go out of my way to get it.                                                                                                                                                                                                                                                                                                                                                                                                                                                                                                                                                                                                                                                                                                                                                                                                                                                                                                                                                                                                                                                                                                                                                                                                                                                                                                                                                                                                                                                                                                                                                                                                                    |PaybackPilsner BohemianPilsener I got a Payback Pilsner in a mix 12 from Drug Mart in Willard Ohio It poured a clear golden with white head that is not leaving much of a lace The scent is not one of pilsnersomething strangecant quite put finger on it The taste leans toward a white grape and is a touch bitter The Mouthfeel is lighter in body with good carbonation Overall its ok certainly wouldnt go out of my way to get it                                                                                                                                                                                                                                                                                                                                                                                                                                                                                                                                                                                                                                                                                                                                                                                                                                                                                                                                                                                                                                                                                                                                                                                                                                                                                                                                                                                                                                                                                                                                                             |\n",
            "|   Enjoyed from the 12 oz can in a pint glass via a friend from work----Thanks Kevin! This brew pours a very weak light yellow with an excellent head of dissipating foam that settles to a light ring, light layer, and excellent lacing. Nose of subtle honey malts, subtle hops, and light grains. Flavors follow the nose with sweet malts and bitter hops on all sides with moderately heavy grain notes coming in through the back with a decent bittering hops note on the aftertaste. Overall a decent pilsner with good carbonation making it an easy drinker. Decent for the style. Cheers                                                                                                                                                                                                                                                                                                                                                                                                                                                                                                                                                                                                                                                                                                                                                                                                                                                                                                                                                                                                                                                                                                                                                                                                                                                                                                                                                                                                                                           |PaybackPilsner BohemianPilsener Enjoyed from the 12 oz can in a pint glass via a friend from workThanks Kevin This brew pours a very weak light yellow with an excellent head of dissipating foam that settles to a light ring light layer and excellent lacing Nose of subtle honey malts subtle hops and light grains Flavors follow the nose with sweet malts and bitter hops on all sides with moderately heavy grain notes coming in through the back with a decent bittering hops note on the aftertaste Overall a decent pilsner with good carbonation making it an easy drinker Decent for the style Cheers                                                                                                                                                                                                                                                                                                                                                                                                                                                                                                                                                                                                                                                                                                                                                                                                                                                                                                                                                                                                                                                                                                                                                                                                                                                                                                                                                                                  |\n",
            "|   Pours a golden yellow, slight biscuit aroma with some hoppiness. The flavor is well-balanced between malt and hops. This is a solid pilsner with medium malt body, a subtle sweetness and a clean finish of German hops. If you get a really fresh batch of this, the hops might be a bit strong, as I noted in an earlier version of this review. I opened a can a week later though (which is probably the average of how long it will be on the shelf after you buy it) and everything was equaled out.                                                                                                                                                                                                                                                                                                                                                                                                                                                                                                                                                                                                                                                                                                                                                                                                                                                                                                                                                                                                                                                                                                                                                                                                                                                                                                                                                                                                                                                                                                                                  |PaybackPilsner BohemianPilsener Pours a golden yellow slight biscuit aroma with some hoppiness The flavor is wellbalanced between malt and hops This is a solid pilsner with medium malt body a subtle sweetness and a clean finish of German hops If you get a really fresh batch of this the hops might be a bit strong as I noted in an earlier version of this review I opened a can a week later though which is probably the average of how long it will be on the shelf after you buy it and everything was equaled out                                                                                                                                                                                                                                                                                                                                                                                                                                                                                                                                                                                                                                                                                                                                                                                                                                                                                                                                                                                                                                                                                                                                                                                                                                                                                                                                                                                                                                                                       |\n",
            "|   This thing is gorgeous. Too bad it ends there. Exceptional head (I always said, is there any such thing as bad head?). It just keeps coming and coming. Nice. So it's yellow and doesn't have any strong finishing hops aroma. It has a very mild pilsner taste, which is to say not much. The aftertaste is sweetish. Boring, even for the style. This is one of the prettier brews ever but that's it it has. Like they gave up trying to make a great pils and just made a well made one. Not recommended - it's just a pretty face.                                                                                                                                                                                                                                                                                                                                                                                                                                                                                                                                                                                                                                                                                                                                                                                                                                                                                                                                                                                                                                                                                                                                                                                                                                                                                                                                                                                                                                                                                                     |PaybackPilsner BohemianPilsener This thing is gorgeous Too bad it ends there Exceptional head I always said is there any such thing as bad head It just keeps coming and coming Nice So its yellow and doesnt have any strong finishing hops aroma It has a very mild pilsner taste which is to say not much The aftertaste is sweetish Boring even for the style This is one of the prettier brews ever but thats it it has Like they gave up trying to make a great pils and just made a well made one Not recommended  its just a pretty face                                                                                                                                                                                                                                                                                                                                                                                                                                                                                                                                                                                                                                                                                                                                                                                                                                                                                                                                                                                                                                                                                                                                                                                                                                                                                                                                                                                                                                                     |\n",
            "|   0%                                                                                                                                                                                                                                                                                                                                                                                                                                                                                                                                                                                                                                                                                                                                                                                                                                                                                                                                                                                                                                                                                                                                                                                                                                                                                                                                                                                                                                                                                                                                                                                                                                                                                                                                                                                                                                                                                                                                                                                                                                          |PaybackPilsner BohemianPilsener 0                                                                                                                                                                                                                                                                                                                                                                                                                                                                                                                                                                                                                                                                                                                                                                                                                                                                                                                                                                                                                                                                                                                                                                                                                                                                                                                                                                                                                                                                                                                                                                                                                                                                                                                                                                                                                                                                                                                                                                    |\n",
            "|\"   16oz draft A: Dark brown, no head S: Just not a lot going on. Generic malt, nothing else T: Dark malts, a hint of rye bite but it's in the background M: Medium-bodied O: The bar I had this at had this in the \"\"malt\"\" portion of their menu. I wish it had more hops/ rye spice to be in the \"\"hops\"\" section. Perfectly drinkable as is just nothing memorable  \"                                                                                                                                                                                                                                                                                                                                                                                                                                                                                                                                                                                                                                                                                                                                                                                                                                                                                                                                                                                                                                                                                                                                                                                                                                                                                                                                                                                                                                                                                                                                                                                                                                                                      |HELLHAMMER RyeBeer    16oz draft A Dark brown no head S Just not a lot going on Generic malt nothing else T Dark malts a hint of rye bite but its in the background M Mediumbodied O The bar I had this at had this in the malt portion of their menu I wish it had more hops rye spice to be in the hops section Perfectly drinkable as is just nothing memorable                                                                                                                                                                                                                                                                                                                                                                                                                                                                                                                                                                                                                                                                                                                                                                                                                                                                                                                                                                                                                                                                                                                                                                                                                                                                                                                                                                                                                                                                                                                                                                                                                                   |\n",
            "|   The chipotle peppers add just a little heat on the way down. Very complex but tasty.                                                                                                                                                                                                                                                                                                                                                                                                                                                                                                                                                                                                                                                                                                                                                                                                                                                                                                                                                                                                                                                                                                                                                                                                                                                                                                                                                                                                                                                                                                                                                                                                                                                                                                                                                                                                                                                                                                                                                        |HELLHAMMER RyeBeer The chipotle peppers add just a little heat on the way down Very complex but tasty                                                                                                                                                                                                                                                                                                                                                                                                                                                                                                                                                                                                                                                                                                                                                                                                                                                                                                                                                                                                                                                                                                                                                                                                                                                                                                                                                                                                                                                                                                                                                                                                                                                                                                                                                                                                                                                                                                |\n",
            "|   I want this porter to be thick and rich, but alas, it is not.                                                                                                                                                                                                                                                                                                                                                                                                                                                                                                                                                                                                                                                                                                                                                                                                                                                                                                                                                                                                                                                                                                                                                                                                                                                                                                                                                                                                                                                                                                                                                                                                                                                                                                                                                                                                                                                                                                                                                                               |VanillaPorter AmericanPorter I want this porter to be thick and rich but alas it is not                                                                                                                                                                                                                                                                                                                                                                                                                                                                                                                                                                                                                                                                                                                                                                                                                                                                                                                                                                                                                                                                                                                                                                                                                                                                                                                                                                                                                                                                                                                                                                                                                                                                                                                                                                                                                                                                                                              |\n",
            "|   12 FL. OZ. bottle Served in a snifter This beer appears black when poured, but when held to the light some ruby highlights are visible. It is topped with an inch of tan head that leaves very little lacing. I can smell vanilla right away. I also get some milk chocolate and roasted malt. It start with vanilla flavor. Dark chocolate come through the middle. Roasted malt also comes through the middle but lingers through the finish. The is a bitter chocolate aftertaste. Medium to full mouthfeel It is a drinkable everyday porter. There is nothing to make it stand out, but there is nothing to note of detrimental flavor either.                                                                                                                                                                                                                                                                                                                                                                                                                                                                                                                                                                                                                                                                                                                                                                                                                                                                                                                                                                                                                                                                                                                                                                                                                                                                                                                                                                                         |VanillaPorter AmericanPorter 12 FL OZ bottle Served in a snifter This beer appears black when poured but when held to the light some ruby highlights are visible It is topped with an inch of tan head that leaves very little lacing I can smell vanilla right away I also get some milk chocolate and roasted malt It start with vanilla flavor Dark chocolate come through the middle Roasted malt also comes through the middle but lingers through the finish The is a bitter chocolate aftertaste Medium to full mouthfeel It is a drinkable everyday porter There is nothing to make it stand out but there is nothing to note of detrimental flavor either                                                                                                                                                                                                                                                                                                                                                                                                                                                                                                                                                                                                                                                                                                                                                                                                                                                                                                                                                                                                                                                                                                                                                                                                                                                                                                                                   |\n",
            "|   pretty good for in a can (I prefer bottles, idk who else cares)                                                                                                                                                                                                                                                                                                                                                                                                                                                                                                                                                                                                                                                                                                                                                                                                                                                                                                                                                                                                                                                                                                                                                                                                                                                                                                                                                                                                                                                                                                                                                                                                                                                                                                                                                                                                                                                                                                                                                                             |VanillaPorter AmericanPorter pretty good for in a can I prefer bottles idk who else cares                                                                                                                                                                                                                                                                                                                                                                                                                                                                                                                                                                                                                                                                                                                                                                                                                                                                                                                                                                                                                                                                                                                                                                                                                                                                                                                                                                                                                                                                                                                                                                                                                                                                                                                                                                                                                                                                                                            |\n",
            "|   I bought a 6pck at the local Meijer store. The scent had hints of vanilla and roast. The taste carried some vanilla with espresso presence. The Mouthfeel was lighter in body with smooth carbonation. Overall it's ok....would like more body.                                                                                                                                                                                                                                                                                                                                                                                                                                                                                                                                                                                                                                                                                                                                                                                                                                                                                                                                                                                                                                                                                                                                                                                                                                                                                                                                                                                                                                                                                                                                                                                                                                                                                                                                                                                             |VanillaPorter AmericanPorter I bought a 6pck at the local Meijer store The scent had hints of vanilla and roast The taste carried some vanilla with espresso presence The Mouthfeel was lighter in body with smooth carbonation Overall its okwould like more body                                                                                                                                                                                                                                                                                                                                                                                                                                                                                                                                                                                                                                                                                                                                                                                                                                                                                                                                                                                                                                                                                                                                                                                                                                                                                                                                                                                                                                                                                                                                                                                                                                                                                                                                   |\n",
            "|   Pours a medium brown, with a small, lightly tanned head. The head quickly falls away, leaving very little lacing. The nose has light roast, a bit of coffee, but is far to sweet for my tastes. The vanilla is there, but is largely obscured by the rest of the scent profiles here. The flavors feel muted. The little flavor you get before swallowing is roast and a hint of malt. Upon swallowing you are hit with a huge amount of roast, with coffee flavors mixed in. A wave of sweet malt rides of the heels of this, with just the barest hints of vanilla. The feel is very much on the light side for a porter. It feels like it thickens up in the middle, but the somewhat dry finish takes away from any ground it may have gained. The flavors do not stick on the tongue, and the entire drink is forgotten quickly. Overall, this feels like a pretty sub par porter. It's billed as a vanilla porter, but I feel like I had to really search for it, so much so I may have been imagining it. Everything about it feels forgettable. I guess it could be used as an introductory porter for someone hesitant of dark beers, but other than that I would just pass.                                                                                                                                                                                                                                                                                                                                                                                                                                                                                                                                                                                                                                                                                                                                                                                                                                                       |VanillaPorter AmericanPorter Pours a medium brown with a small lightly tanned head The head quickly falls away leaving very little lacing The nose has light roast a bit of coffee but is far to sweet for my tastes The vanilla is there but is largely obscured by the rest of the scent profiles here The flavors feel muted The little flavor you get before swallowing is roast and a hint of malt Upon swallowing you are hit with a huge amount of roast with coffee flavors mixed in A wave of sweet malt rides of the heels of this with just the barest hints of vanilla The feel is very much on the light side for a porter It feels like it thickens up in the middle but the somewhat dry finish takes away from any ground it may have gained The flavors do not stick on the tongue and the entire drink is forgotten quickly Overall this feels like a pretty sub par porter Its billed as a vanilla porter but I feel like I had to really search for it so much so I may have been imagining it Everything about it feels forgettable I guess it could be used as an introductory porter for someone hesitant of dark beers but other than that I would just pass                                                                                                                                                                                                                                                                                                                                                                                                                                                                                                                                                                                                                                                                                                                                                                                                                 |\n",
            "|   12 ounce can into pint glass, best before 3/17/2017. Pours crystal clear deep reddish brown color with a 1-2 finger fairly dense light khaki head with good retention, that reduces to a nice cap that lingers. Nice spotty soapy lacing clings down the glass, with a fair amount of streaming carbonation. Aromas of vanilla, milk chocolate, cocoa, caramel, toffee, brown sugar, toasted brown bread, light nuttiness/coffee, herbal, and roast/toasted earthiness. Very nice aromas with good balance and complexity of dark/roast/bready malt, vanilla, and light earthy hop notes; with good strength. Taste of big vanilla, milk chocolate, cocoa, caramel, toffee, brown sugar, toasted brown bread, light nuttiness/coffee, herbal, light pepper, and roast/toasted earthiness. Light-moderate herbal/spicy hop and light roasted bitterness on the finish; with lingering notes of vanilla, milk chocolate, cocoa, caramel, toffee, brown sugar, toasted brown bread, light nuttiness/coffee, herbal, pepper, and roast/toasted earthiness on the finish for a good bit. Very nice complexity, robustness, and balance of dark/roast/bready malt, vanilla, and light-moderate earthy hop flavors; with a nice malt/bitterness balance, and minimal astringent hop flavors after the finish. Light-moderate dryness from bitterness, increasing through the glass. Medium carbonation and body; with a very smooth, moderately creamy/grainy/bready, fairly sticky, and slightly chalky balanced mouthfeel that is nice. Zero warming alcohol as expected of 6%. Overall this is a very nice American style vanilla porter. All around nice complexity, robustness, and balance of dark/roast/bready malt, vanilla, and light-moderate earthy hop flavors; very smooth and easy to drink. Just a bit too bitter/drying than I would have preferred; this still has really great malt complexity and balance with the vanilla bean flavors. A very enjoyable offering.                                                             |VanillaPorter AmericanPorter 12 ounce can into pint glass best before 3172017 Pours crystal clear deep reddish brown color with a 12 finger fairly dense light khaki head with good retention that reduces to a nice cap that lingers Nice spotty soapy lacing clings down the glass with a fair amount of streaming carbonation Aromas of vanilla milk chocolate cocoa caramel toffee brown sugar toasted brown bread light nuttinesscoffee herbal and roasttoasted earthiness Very nice aromas with good balance and complexity of darkroastbready malt vanilla and light earthy hop notes with good strength Taste of big vanilla milk chocolate cocoa caramel toffee brown sugar toasted brown bread light nuttinesscoffee herbal light pepper and roasttoasted earthiness Lightmoderate herbalspicy hop and light roasted bitterness on the finish with lingering notes of vanilla milk chocolate cocoa caramel toffee brown sugar toasted brown bread light nuttinesscoffee herbal pepper and roasttoasted earthiness on the finish for a good bit Very nice complexity robustness and balance of darkroastbready malt vanilla and lightmoderate earthy hop flavors with a nice maltbitterness balance and minimal astringent hop flavors after the finish Lightmoderate dryness from bitterness increasing through the glass Medium carbonation and body with a very smooth moderately creamygrainybready fairly sticky and slightly chalky balanced mouthfeel that is nice Zero warming alcohol as expected of 6 Overall this is a very nice American style vanilla porter All around nice complexity robustness and balance of darkroastbready malt vanilla and lightmoderate earthy hop flavors very smooth and easy to drink Just a bit too bitterdrying than I would have preferred this still has really great malt complexity and balance with the vanilla bean flavors A very enjoyable offering                                                                                      |\n",
            "|   Porter first and vanilla secondary, the heirarchy is clear- the Four String brewer show a creative and aggressive edge with the madagascar vanilla bean, but layer them on a robust underpinning of roasty, toasty barley malt that doesn't shy away from the attention of the tastebuds. Their Vanilla Porter is a dark and lavish dark ale, deep brown and topped with a creamy beige crown. As the unmistakable and soothing scent of vanilla drifts onto the nose, its taste is even more decadent with dark-roast coffee, chocolate, burnt sugar and roasted nuttiness. As the flavors develop, the mind is drawn to the taste of sweet cream, milkshakes and sweetened coffees. The toasted grains give bittersweet chocolate notes with an undercarriage of caramel and toffee. Earthy nuttiness is woodsy and the bittering hops are piney and support the coffee-like characteristics seamlessly. Full bodied yet remarkably drinkable, the porter seems lavishly creamy to start but trails with a drying tone that outweighs the generous vanilla additions. An after-palate of bitter woods, nuttiness and coffee extend deep into aftertaste and with that seductive afterglow of vanilla.                                                                                                                                                                                                                                                                                                                                                                                                                                                                                                                                                                                                                                                                                                                                                                                                                                     |VanillaPorter AmericanPorter Porter first and vanilla secondary the heirarchy is clear the Four String brewer show a creative and aggressive edge with the madagascar vanilla bean but layer them on a robust underpinning of roasty toasty barley malt that doesnt shy away from the attention of the tastebuds Their Vanilla Porter is a dark and lavish dark ale deep brown and topped with a creamy beige crown As the unmistakable and soothing scent of vanilla drifts onto the nose its taste is even more decadent with darkroast coffee chocolate burnt sugar and roasted nuttiness As the flavors develop the mind is drawn to the taste of sweet cream milkshakes and sweetened coffees The toasted grains give bittersweet chocolate notes with an undercarriage of caramel and toffee Earthy nuttiness is woodsy and the bittering hops are piney and support the coffeelike characteristics seamlessly Full bodied yet remarkably drinkable the porter seems lavishly creamy to start but trails with a drying tone that outweighs the generous vanilla additions An afterpalate of bitter woods nuttiness and coffee extend deep into aftertaste and with that seductive afterglow of vanilla                                                                                                                                                                                                                                                                                                                                                                                                                                                                                                                                                                                                                                                                                                                                                                                         |\n",
            "|   Aroma is fudgy, with vanilla accents. Fairly rich chocolate malt balanced the vanilla sweetness well. Flavor is vanilla dominant, with a light sweetness carrying throughout. Chocolate is more subdued, and a string bitterness is ushered in too quickly. There's a bit of an acidic or metallic character upfront. Too bitter.                                                                                                                                                                                                                                                                                                                                                                                                                                                                                                                                                                                                                                                                                                                                                                                                                                                                                                                                                                                                                                                                                                                                                                                                                                                                                                                                                                                                                                                                                                                                                                                                                                                                                                           |VanillaPorter AmericanPorter Aroma is fudgy with vanilla accents Fairly rich chocolate malt balanced the vanilla sweetness well Flavor is vanilla dominant with a light sweetness carrying throughout Chocolate is more subdued and a string bitterness is ushered in too quickly Theres a bit of an acidic or metallic character upfront Too bitter                                                                                                                                                                                                                                                                                                                                                                                                                                                                                                                                                                                                                                                                                                                                                                                                                                                                                                                                                                                                                                                                                                                                                                                                                                                                                                                                                                                                                                                                                                                                                                                                                                                 |\n",
            "+-----------------------------------------------------------------------------------------------------------------------------------------------------------------------------------------------------------------------------------------------------------------------------------------------------------------------------------------------------------------------------------------------------------------------------------------------------------------------------------------------------------------------------------------------------------------------------------------------------------------------------------------------------------------------------------------------------------------------------------------------------------------------------------------------------------------------------------------------------------------------------------------------------------------------------------------------------------------------------------------------------------------------------------------------------------------------------------------------------------------------------------------------------------------------------------------------------------------------------------------------------------------------------------------------------------------------------------------------------------------------------------------------------------------------------------------------------------------------------------------------------------------------------------------------------------------------------------------------------------------------------------------------------------------------------------------------------------------------------------------------------------------------------------------------------------------------------------------------------------------------------------------------------------------------------------------------------------------------------------------------------------------------------------------------+-----------------------------------------------------------------------------------------------------------------------------------------------------------------------------------------------------------------------------------------------------------------------------------------------------------------------------------------------------------------------------------------------------------------------------------------------------------------------------------------------------------------------------------------------------------------------------------------------------------------------------------------------------------------------------------------------------------------------------------------------------------------------------------------------------------------------------------------------------------------------------------------------------------------------------------------------------------------------------------------------------------------------------------------------------------------------------------------------------------------------------------------------------------------------------------------------------------------------------------------------------------------------------------------------------------------------------------------------------------------------------------------------------------------------------------------------------------------------------------------------------------------------------------------------------------------------------------------------------------------------------------------------------------------------------------------------------------------------------------------------------------------------------------------------------------------------------------------------------------------------------------------------------------------------------------------------------------------------------------------------------+\n",
            "only showing top 20 rows\n",
            "\n"
          ],
          "name": "stdout"
        }
      ]
    },
    {
      "cell_type": "code",
      "metadata": {
        "colab": {
          "base_uri": "https://localhost:8080/"
        },
        "id": "Aci_ULQF-VSl",
        "outputId": "bdd16b9d-cdb7-4865-a91f-c47f843960e4"
      },
      "source": [
        "combined_df.count()"
      ],
      "execution_count": 27,
      "outputs": [
        {
          "output_type": "execute_result",
          "data": {
            "text/plain": [
              "1973277"
            ]
          },
          "metadata": {
            "tags": []
          },
          "execution_count": 27
        }
      ]
    },
    {
      "cell_type": "code",
      "metadata": {
        "id": "So2lXfJEo-A9"
      },
      "source": [
        "# Setup and execute Tokenizer and Stop words pipeline\n",
        "from pyspark.ml.feature import Tokenizer, StopWordsRemover\n",
        "from pyspark.ml import Pipeline\n",
        "\n",
        "# \"Creating pipeline...\"\n",
        "tokenizer = Tokenizer(inputCol=\"Final_text\", outputCol=\"token_text\")\n",
        "stopremove = StopWordsRemover(inputCol='token_text', outputCol='features')\n",
        "\n",
        "pipeline = Pipeline(stages=[tokenizer, stopremove])\n",
        "\n",
        "# \"Training model...\"\n",
        "pipeline_stg = pipeline.fit(combined_df)\n",
        "final_df = pipeline_stg.transform(combined_df)\n",
        "# final_df.show()"
      ],
      "execution_count": 28,
      "outputs": []
    },
    {
      "cell_type": "code",
      "metadata": {
        "colab": {
          "base_uri": "https://localhost:8080/"
        },
        "id": "HfovHDCfpo0y",
        "outputId": "12edba4c-50d0-4dfe-f28c-e0e46892e92c"
      },
      "source": [
        "final_df.show()"
      ],
      "execution_count": 29,
      "outputs": [
        {
          "output_type": "stream",
          "text": [
            "+-------+----------------+----------+--------------------+----+-----+-----+----+-------+-----+--------------------+------------+--------------------+--------------------+----+----------+--------------------+------------+-------------+-------------+------------+-------------+-------------+------------+---------------+-------------+--------------------+--------------------+--------------------+--------------------+--------------------+--------------------+\n",
            "|beer_id|        username|      date|                text|look|smell|taste|feel|overall|score|           beer_name|review_state|               style|        availability| abv|brewery_id|        brewery_name|brewery_city|brewery_state|brewery_types|look_numeric|smell_numeric|taste_numeric|feel_numeric|overall_numeric|score_numeric|          beer_clean|         style_clean|          clean_text|          Final_text|          token_text|            features|\n",
            "+-------+----------------+----------+--------------------+----+-----+-----+----+-------+-----+--------------------+------------+--------------------+--------------------+----+----------+--------------------+------------+-------------+-------------+------------+-------------+-------------+------------+---------------+-------------+--------------------+--------------------+--------------------+--------------------+--------------------+--------------------+\n",
            "| 271781|    bluejacket74|2017-03-17|   750 ml bottle,...| 4.0|  4.0|  4.0|4.25|    4.0| 4.03|Motorbreath Imper...|          OH|American Imperial...|Limited (brewed o...|10.8|     28094|Four String Brewi...|    Columbus|           OH| Brewery, Bar|         4.0|          4.0|          4.0|        4.25|            4.0|         4.03|MotorbreathImperi...|AmericanImperialS...|750 ml bottle 201...|MotorbreathImperi...|[motorbreathimper...|[motorbreathimper...|\n",
            "| 184647|      Try-em-all|2017-09-27|   Clear gold in ...| 4.0|  4.0|  3.5| 3.5|   3.75|  3.7|     Payback Pilsner|          OH|   Bohemian Pilsener|            Rotating| 5.1|     28094|Four String Brewi...|    Columbus|           OH| Brewery, Bar|         4.0|          4.0|          3.5|         3.5|           3.75|          3.7|      PaybackPilsner|    BohemianPilsener|Clear gold in col...|PaybackPilsner Bo...|[paybackpilsner, ...|[paybackpilsner, ...|\n",
            "| 184647|ScorpioBeerLover|2017-03-22|   Reminds me of ...| 4.0|  4.0| 4.25|3.75|    4.0| 4.08|     Payback Pilsner|          OH|   Bohemian Pilsener|            Rotating| 5.1|     28094|Four String Brewi...|    Columbus|           OH| Brewery, Bar|         4.0|          4.0|         4.25|        3.75|            4.0|         4.08|      PaybackPilsner|    BohemianPilsener|Reminds me of pre...|PaybackPilsner Bo...|[paybackpilsner, ...|[paybackpilsner, ...|\n",
            "| 184647|        beergoot|2016-10-08|   Pale yellow bo...|3.25| 3.25|  3.5| 3.5|    3.5| 3.43|     Payback Pilsner|          OH|   Bohemian Pilsener|            Rotating| 5.1|     28094|Four String Brewi...|    Columbus|           OH| Brewery, Bar|        3.25|         3.25|          3.5|         3.5|            3.5|         3.43|      PaybackPilsner|    BohemianPilsener|Pale yellow body ...|PaybackPilsner Bo...|[paybackpilsner, ...|[paybackpilsner, ...|\n",
            "| 184647|   woodychandler|2016-09-25|   The CANQuest (...|3.75| 3.75|  3.5| 3.5|    3.5| 3.58|     Payback Pilsner|          OH|   Bohemian Pilsener|            Rotating| 5.1|     28094|Four String Brewi...|    Columbus|           OH| Brewery, Bar|        3.75|         3.75|          3.5|         3.5|            3.5|         3.58|      PaybackPilsner|    BohemianPilsener|The CANQuest tm i...|PaybackPilsner Bo...|[paybackpilsner, ...|[paybackpilsner, ...|\n",
            "| 184647|        WoodBrew|2016-07-14|   I got a Paybac...|3.75|  3.5|  3.5| 3.5|    3.5| 3.52|     Payback Pilsner|          OH|   Bohemian Pilsener|            Rotating| 5.1|     28094|Four String Brewi...|    Columbus|           OH| Brewery, Bar|        3.75|          3.5|          3.5|         3.5|            3.5|         3.52|      PaybackPilsner|    BohemianPilsener|I got a Payback P...|PaybackPilsner Bo...|[paybackpilsner, ...|[paybackpilsner, ...|\n",
            "| 184647|     Brutaltruth|2016-01-15|   Enjoyed from t...|3.75| 3.25| 3.25| 3.5|    3.5| 3.36|     Payback Pilsner|          OH|   Bohemian Pilsener|            Rotating| 5.1|     28094|Four String Brewi...|    Columbus|           OH| Brewery, Bar|        3.75|         3.25|         3.25|         3.5|            3.5|         3.36|      PaybackPilsner|    BohemianPilsener|Enjoyed from the ...|PaybackPilsner Bo...|[paybackpilsner, ...|[paybackpilsner, ...|\n",
            "| 184647|     HeightsEats|2015-12-31|   Pours a golden...|3.75| 3.75|  4.0| 4.0|   3.75| 3.88|     Payback Pilsner|          OH|   Bohemian Pilsener|            Rotating| 5.1|     28094|Four String Brewi...|    Columbus|           OH| Brewery, Bar|        3.75|         3.75|          4.0|         4.0|           3.75|         3.88|      PaybackPilsner|    BohemianPilsener|Pours a golden ye...|PaybackPilsner Bo...|[paybackpilsner, ...|[paybackpilsner, ...|\n",
            "| 184647|       schoolboy|2015-10-05|   This thing is ...| 4.5|  3.5|  3.5| 3.5|   3.75| 3.61|     Payback Pilsner|          OH|   Bohemian Pilsener|            Rotating| 5.1|     28094|Four String Brewi...|    Columbus|           OH| Brewery, Bar|         4.5|          3.5|          3.5|         3.5|           3.75|         3.61|      PaybackPilsner|    BohemianPilsener|This thing is gor...|PaybackPilsner Bo...|[paybackpilsner, ...|[paybackpilsner, ...|\n",
            "| 184647|   GreenEggsHam1|2015-08-08|                  0%| 3.5|  3.5|  3.5|3.75|    3.5| 3.53|     Payback Pilsner|          OH|   Bohemian Pilsener|            Rotating| 5.1|     28094|Four String Brewi...|    Columbus|           OH| Brewery, Bar|         3.5|          3.5|          3.5|        3.75|            3.5|         3.53|      PaybackPilsner|    BohemianPilsener|                   0|PaybackPilsner Bo...|[paybackpilsner, ...|[paybackpilsner, ...|\n",
            "| 149366|        ONUMello|2016-03-26|\"   16oz draft A:...| 3.5|  3.0|  3.5| 3.5|    3.5| 3.38|          HELLHAMMER|          OH|            Rye Beer|Limited (brewed o...| 7.2|     28094|Four String Brewi...|    Columbus|           OH| Brewery, Bar|         3.5|          3.0|          3.5|         3.5|            3.5|         3.38|          HELLHAMMER|             RyeBeer|   16oz draft A D...|HELLHAMMER RyeBee...|[hellhammer, ryeb...|[hellhammer, ryeb...|\n",
            "| 149366|        DrJGR629|2015-01-14|   The chipotle p...|4.25|  4.0|  4.5|3.75|   4.25| 4.24|          HELLHAMMER|          OH|            Rye Beer|Limited (brewed o...| 7.2|     28094|Four String Brewi...|    Columbus|           OH| Brewery, Bar|        4.25|          4.0|          4.5|        3.75|           4.25|         4.24|          HELLHAMMER|             RyeBeer|The chipotle pepp...|HELLHAMMER RyeBee...|[hellhammer, ryeb...|[hellhammer, ryeb...|\n",
            "| 111891|   Amnesia_Jones|2018-02-13|   I want this po...| 3.0|  3.0|  3.0| 3.0|    3.0|  3.0|      Vanilla Porter|          OH|     American Porter|              Winter| 6.0|     28094|Four String Brewi...|    Columbus|           OH| Brewery, Bar|         3.0|          3.0|          3.0|         3.0|            3.0|          3.0|       VanillaPorter|      AmericanPorter|I want this porte...|VanillaPorter Ame...|[vanillaporter, a...|[vanillaporter, a...|\n",
            "| 111891|       buschbeer|2017-12-13|   12 FL. OZ. bot...| 4.0|  4.0| 3.75| 4.0|   3.75| 3.85|      Vanilla Porter|          OH|     American Porter|              Winter| 6.0|     28094|Four String Brewi...|    Columbus|           OH| Brewery, Bar|         4.0|          4.0|         3.75|         4.0|           3.75|         3.85|       VanillaPorter|      AmericanPorter|12 FL OZ bottle S...|VanillaPorter Ame...|[vanillaporter, a...|[vanillaporter, a...|\n",
            "| 111891|      jojobird72|2017-08-28|   pretty good fo...|3.75|  3.0| 3.75| 3.0|   3.75|  3.5|      Vanilla Porter|          OH|     American Porter|              Winter| 6.0|     28094|Four String Brewi...|    Columbus|           OH| Brewery, Bar|        3.75|          3.0|         3.75|         3.0|           3.75|          3.5|       VanillaPorter|      AmericanPorter|pretty good for i...|VanillaPorter Ame...|[vanillaporter, a...|[vanillaporter, a...|\n",
            "| 111891|        WoodBrew|2016-12-31|   I bought a 6pc...|3.75| 3.75|  3.5| 3.0|    3.5| 3.53|      Vanilla Porter|          OH|     American Porter|              Winter| 6.0|     28094|Four String Brewi...|    Columbus|           OH| Brewery, Bar|        3.75|         3.75|          3.5|         3.0|            3.5|         3.53|       VanillaPorter|      AmericanPorter|I bought a 6pck a...|VanillaPorter Ame...|[vanillaporter, a...|[vanillaporter, a...|\n",
            "| 111891|      Oopssorryy|2016-12-25|   Pours a medium...|2.75|  2.5|  2.5| 2.5|    2.5| 2.52|      Vanilla Porter|          OH|     American Porter|              Winter| 6.0|     28094|Four String Brewi...|    Columbus|           OH| Brewery, Bar|        2.75|          2.5|          2.5|         2.5|            2.5|         2.52|       VanillaPorter|      AmericanPorter|Pours a medium br...|VanillaPorter Ame...|[vanillaporter, a...|[vanillaporter, a...|\n",
            "| 111891|       superspak|2016-12-04|   12 ounce can i...| 4.0|  4.0|  4.0| 4.0|    3.5|  3.9|      Vanilla Porter|          OH|     American Porter|              Winter| 6.0|     28094|Four String Brewi...|    Columbus|           OH| Brewery, Bar|         4.0|          4.0|          4.0|         4.0|            3.5|          3.9|       VanillaPorter|      AmericanPorter|12 ounce can into...|VanillaPorter Ame...|[vanillaporter, a...|[vanillaporter, a...|\n",
            "| 111891|     BEERchitect|2016-05-14|   Porter first a...| 4.0| 4.25|  4.0|3.75|    4.0| 4.04|      Vanilla Porter|          OH|     American Porter|              Winter| 6.0|     28094|Four String Brewi...|    Columbus|           OH| Brewery, Bar|         4.0|         4.25|          4.0|        3.75|            4.0|         4.04|       VanillaPorter|      AmericanPorter|Porter first and ...|VanillaPorter Ame...|[vanillaporter, a...|[vanillaporter, a...|\n",
            "| 111891|         barczar|2016-04-08|   Aroma is fudgy...|3.75| 3.75|  3.5|3.75|   3.75| 3.65|      Vanilla Porter|          OH|     American Porter|              Winter| 6.0|     28094|Four String Brewi...|    Columbus|           OH| Brewery, Bar|        3.75|         3.75|          3.5|        3.75|           3.75|         3.65|       VanillaPorter|      AmericanPorter|Aroma is fudgy wi...|VanillaPorter Ame...|[vanillaporter, a...|[vanillaporter, a...|\n",
            "+-------+----------------+----------+--------------------+----+-----+-----+----+-------+-----+--------------------+------------+--------------------+--------------------+----+----------+--------------------+------------+-------------+-------------+------------+-------------+-------------+------------+---------------+-------------+--------------------+--------------------+--------------------+--------------------+--------------------+--------------------+\n",
            "only showing top 20 rows\n",
            "\n"
          ],
          "name": "stdout"
        }
      ]
    },
    {
      "cell_type": "code",
      "metadata": {
        "colab": {
          "base_uri": "https://localhost:8080/"
        },
        "id": "vndQEu46-fDS",
        "outputId": "1653fdf5-7d6b-4ad6-ef9e-2b4fd0e3b4e8"
      },
      "source": [
        "final_df.count()"
      ],
      "execution_count": 30,
      "outputs": [
        {
          "output_type": "execute_result",
          "data": {
            "text/plain": [
              "1973277"
            ]
          },
          "metadata": {
            "tags": []
          },
          "execution_count": 30
        }
      ]
    },
    {
      "cell_type": "code",
      "metadata": {
        "id": "IMQiTgvX2LaT"
      },
      "source": [
        "# Create w2v model hyperparameters\r\n",
        "#word2vec = Word2Vec(\r\n",
        "#    vectorSize=65,\r\n",
        "#    seed=42,\r\n",
        "#    inputCol=\"features\",\r\n",
        "#    outputCol=\"model\"\r\n",
        "#).setMaxIter(2)"
      ],
      "execution_count": null,
      "outputs": []
    },
    {
      "cell_type": "code",
      "metadata": {
        "id": "8CDRtnN40fUj"
      },
      "source": [
        "# Fit the model, this takes time\r\n",
        "#w2v_review_model = word2vec.fit(final_df)"
      ],
      "execution_count": null,
      "outputs": []
    },
    {
      "cell_type": "code",
      "metadata": {
        "id": "rolGrIte03Gq",
        "colab": {
          "base_uri": "https://localhost:8080/"
        },
        "outputId": "295a8fd2-8aed-40c4-abc7-dfb520504b16"
      },
      "source": [
        "# show some model vectors\r\n",
        "#w2v_review_model.getVectors().show()"
      ],
      "execution_count": null,
      "outputs": [
        {
          "output_type": "stream",
          "text": [
            "+--------------------+--------------------+\n",
            "|                word|              vector|\n",
            "+--------------------+--------------------+\n",
            "|               mells|[0.03909590840339...|\n",
            "|             tasties|[0.09013923257589...|\n",
            "|    sidebysidebyside|[0.20330214500427...|\n",
            "|        morph3/10/15|[-0.0720658451318...|\n",
            "|              profle|[-0.0295072738081...|\n",
            "|           professed|[-0.0607991032302...|\n",
            "|            macdaddy|[-0.0618058256804...|\n",
            "|brewer'spaleale(n...|[-0.2465905994176...|\n",
            "|               31211|[-0.1716884523630...|\n",
            "|palmettohopharves...|[-0.0251995716243...|\n",
            "|  experimentalj-hole|[-0.0857357680797...|\n",
            "|          machfive55|[-0.1270782351493...|\n",
            "|              300day|[0.03120961971580...|\n",
            "|          iteresting|[-0.0693334937095...|\n",
            "|          fivehopipa|[-0.2610330283641...|\n",
            "|               chary|[0.00651914766058...|\n",
            "|          nonfruited|[0.34797608852386...|\n",
            "|       eyewateringly|[0.15294347703456...|\n",
            "|100barrelseries#2...|[-0.1572935581207...|\n",
            "|               motts|[0.20096957683563...|\n",
            "+--------------------+--------------------+\n",
            "only showing top 20 rows\n",
            "\n"
          ],
          "name": "stdout"
        }
      ]
    },
    {
      "cell_type": "code",
      "metadata": {
        "id": "KkgsJOKwa79Q",
        "colab": {
          "base_uri": "https://localhost:8080/"
        },
        "outputId": "41ce92b6-5b95-4034-c23b-6241406a6151"
      },
      "source": [
        "# check the model accuracy by checking synonyms \r\n",
        "#w2v_review_model.findSynonymsArray(\"light\", 5)"
      ],
      "execution_count": null,
      "outputs": [
        {
          "output_type": "execute_result",
          "data": {
            "text/plain": [
              "[('medium', 0.6870060563087463),\n",
              " ('ligh', 0.6730795502662659),\n",
              " ('slight', 0.661352813243866),\n",
              " ('mild', 0.6593009829521179),\n",
              " ('mostly', 0.6529689431190491)]"
            ]
          },
          "metadata": {
            "tags": []
          },
          "execution_count": 28
        }
      ]
    },
    {
      "cell_type": "code",
      "metadata": {
        "id": "OYS_X64GSU9o"
      },
      "source": [
        "# write the model to disk\r\n",
        "#w2v_review_model.write().overwrite().save(\"/content/gdrive/MyDrive/x/review.md\")"
      ],
      "execution_count": null,
      "outputs": []
    },
    {
      "cell_type": "code",
      "metadata": {
        "id": "8He3lB9QuHx5"
      },
      "source": [
        "# Read the model from disk to confirm\r\n",
        "w2v_loaded_model = Word2VecModel.load('/content/gdrive/MyDrive/x/review.md')"
      ],
      "execution_count": 31,
      "outputs": []
    },
    {
      "cell_type": "code",
      "metadata": {
        "colab": {
          "base_uri": "https://localhost:8080/"
        },
        "id": "y6Si0OgqMTxU",
        "outputId": "d8f77191-b7d4-4e5c-a8d0-366fdf73295d"
      },
      "source": [
        "# check to see if synonym is consistent with loaded model\r\n",
        "w2v_loaded_model.findSynonymsArray(\"light\", 5)"
      ],
      "execution_count": 32,
      "outputs": [
        {
          "output_type": "execute_result",
          "data": {
            "text/plain": [
              "[('medium', 0.6914238929748535),\n",
              " ('mostly', 0.6894241571426392),\n",
              " ('ligh', 0.6799790859222412),\n",
              " ('slight', 0.6678677201271057),\n",
              " ('mild', 0.6617092490196228)]"
            ]
          },
          "metadata": {
            "tags": []
          },
          "execution_count": 32
        }
      ]
    },
    {
      "cell_type": "code",
      "metadata": {
        "id": "lst9RbRuXhqr"
      },
      "source": [
        "# Transform the mode\r\n",
        "w2v_model_df = w2v_loaded_model.transform(final_df)"
      ],
      "execution_count": 33,
      "outputs": []
    },
    {
      "cell_type": "code",
      "metadata": {
        "colab": {
          "base_uri": "https://localhost:8080/"
        },
        "id": "wWKT30iTZVDf",
        "outputId": "50338805-0a42-43b8-ba38-0f53abafcbb3"
      },
      "source": [
        "w2v_model_df.show()"
      ],
      "execution_count": 34,
      "outputs": [
        {
          "output_type": "stream",
          "text": [
            "+-------+----------------+----------+--------------------+----+-----+-----+----+-------+-----+--------------------+------------+--------------------+--------------------+----+----------+--------------------+------------+-------------+-------------+------------+-------------+-------------+------------+---------------+-------------+--------------------+--------------------+--------------------+--------------------+--------------------+--------------------+--------------------+\n",
            "|beer_id|        username|      date|                text|look|smell|taste|feel|overall|score|           beer_name|review_state|               style|        availability| abv|brewery_id|        brewery_name|brewery_city|brewery_state|brewery_types|look_numeric|smell_numeric|taste_numeric|feel_numeric|overall_numeric|score_numeric|          beer_clean|         style_clean|          clean_text|          Final_text|          token_text|            features|               model|\n",
            "+-------+----------------+----------+--------------------+----+-----+-----+----+-------+-----+--------------------+------------+--------------------+--------------------+----+----------+--------------------+------------+-------------+-------------+------------+-------------+-------------+------------+---------------+-------------+--------------------+--------------------+--------------------+--------------------+--------------------+--------------------+--------------------+\n",
            "| 271781|    bluejacket74|2017-03-17|   750 ml bottle,...| 4.0|  4.0|  4.0|4.25|    4.0| 4.03|Motorbreath Imper...|          OH|American Imperial...|Limited (brewed o...|10.8|     28094|Four String Brewi...|    Columbus|           OH| Brewery, Bar|         4.0|          4.0|          4.0|        4.25|            4.0|         4.03|MotorbreathImperi...|AmericanImperialS...|750 ml bottle 201...|MotorbreathImperi...|[motorbreathimper...|[motorbreathimper...|[0.01448507781083...|\n",
            "| 184647|      Try-em-all|2017-09-27|   Clear gold in ...| 4.0|  4.0|  3.5| 3.5|   3.75|  3.7|     Payback Pilsner|          OH|   Bohemian Pilsener|            Rotating| 5.1|     28094|Four String Brewi...|    Columbus|           OH| Brewery, Bar|         4.0|          4.0|          3.5|         3.5|           3.75|          3.7|      PaybackPilsner|    BohemianPilsener|Clear gold in col...|PaybackPilsner Bo...|[paybackpilsner, ...|[paybackpilsner, ...|[-0.0253503741696...|\n",
            "| 184647|ScorpioBeerLover|2017-03-22|   Reminds me of ...| 4.0|  4.0| 4.25|3.75|    4.0| 4.08|     Payback Pilsner|          OH|   Bohemian Pilsener|            Rotating| 5.1|     28094|Four String Brewi...|    Columbus|           OH| Brewery, Bar|         4.0|          4.0|         4.25|        3.75|            4.0|         4.08|      PaybackPilsner|    BohemianPilsener|Reminds me of pre...|PaybackPilsner Bo...|[paybackpilsner, ...|[paybackpilsner, ...|[0.18410651786969...|\n",
            "| 184647|        beergoot|2016-10-08|   Pale yellow bo...|3.25| 3.25|  3.5| 3.5|    3.5| 3.43|     Payback Pilsner|          OH|   Bohemian Pilsener|            Rotating| 5.1|     28094|Four String Brewi...|    Columbus|           OH| Brewery, Bar|        3.25|         3.25|          3.5|         3.5|            3.5|         3.43|      PaybackPilsner|    BohemianPilsener|Pale yellow body ...|PaybackPilsner Bo...|[paybackpilsner, ...|[paybackpilsner, ...|[0.06293463234656...|\n",
            "| 184647|   woodychandler|2016-09-25|   The CANQuest (...|3.75| 3.75|  3.5| 3.5|    3.5| 3.58|     Payback Pilsner|          OH|   Bohemian Pilsener|            Rotating| 5.1|     28094|Four String Brewi...|    Columbus|           OH| Brewery, Bar|        3.75|         3.75|          3.5|         3.5|            3.5|         3.58|      PaybackPilsner|    BohemianPilsener|The CANQuest tm i...|PaybackPilsner Bo...|[paybackpilsner, ...|[paybackpilsner, ...|[0.05097741415932...|\n",
            "| 184647|        WoodBrew|2016-07-14|   I got a Paybac...|3.75|  3.5|  3.5| 3.5|    3.5| 3.52|     Payback Pilsner|          OH|   Bohemian Pilsener|            Rotating| 5.1|     28094|Four String Brewi...|    Columbus|           OH| Brewery, Bar|        3.75|          3.5|          3.5|         3.5|            3.5|         3.52|      PaybackPilsner|    BohemianPilsener|I got a Payback P...|PaybackPilsner Bo...|[paybackpilsner, ...|[paybackpilsner, ...|[-0.0508729857910...|\n",
            "| 184647|     Brutaltruth|2016-01-15|   Enjoyed from t...|3.75| 3.25| 3.25| 3.5|    3.5| 3.36|     Payback Pilsner|          OH|   Bohemian Pilsener|            Rotating| 5.1|     28094|Four String Brewi...|    Columbus|           OH| Brewery, Bar|        3.75|         3.25|         3.25|         3.5|            3.5|         3.36|      PaybackPilsner|    BohemianPilsener|Enjoyed from the ...|PaybackPilsner Bo...|[paybackpilsner, ...|[paybackpilsner, ...|[0.00700588056351...|\n",
            "| 184647|     HeightsEats|2015-12-31|   Pours a golden...|3.75| 3.75|  4.0| 4.0|   3.75| 3.88|     Payback Pilsner|          OH|   Bohemian Pilsener|            Rotating| 5.1|     28094|Four String Brewi...|    Columbus|           OH| Brewery, Bar|        3.75|         3.75|          4.0|         4.0|           3.75|         3.88|      PaybackPilsner|    BohemianPilsener|Pours a golden ye...|PaybackPilsner Bo...|[paybackpilsner, ...|[paybackpilsner, ...|[0.05808807828245...|\n",
            "| 184647|       schoolboy|2015-10-05|   This thing is ...| 4.5|  3.5|  3.5| 3.5|   3.75| 3.61|     Payback Pilsner|          OH|   Bohemian Pilsener|            Rotating| 5.1|     28094|Four String Brewi...|    Columbus|           OH| Brewery, Bar|         4.5|          3.5|          3.5|         3.5|           3.75|         3.61|      PaybackPilsner|    BohemianPilsener|This thing is gor...|PaybackPilsner Bo...|[paybackpilsner, ...|[paybackpilsner, ...|[0.00684954653171...|\n",
            "| 184647|   GreenEggsHam1|2015-08-08|                  0%| 3.5|  3.5|  3.5|3.75|    3.5| 3.53|     Payback Pilsner|          OH|   Bohemian Pilsener|            Rotating| 5.1|     28094|Four String Brewi...|    Columbus|           OH| Brewery, Bar|         3.5|          3.5|          3.5|        3.75|            3.5|         3.53|      PaybackPilsner|    BohemianPilsener|                   0|PaybackPilsner Bo...|[paybackpilsner, ...|[paybackpilsner, ...|[0.10990913212299...|\n",
            "| 149366|        ONUMello|2016-03-26|\"   16oz draft A:...| 3.5|  3.0|  3.5| 3.5|    3.5| 3.38|          HELLHAMMER|          OH|            Rye Beer|Limited (brewed o...| 7.2|     28094|Four String Brewi...|    Columbus|           OH| Brewery, Bar|         3.5|          3.0|          3.5|         3.5|            3.5|         3.38|          HELLHAMMER|             RyeBeer|   16oz draft A D...|HELLHAMMER RyeBee...|[hellhammer, ryeb...|[hellhammer, ryeb...|[0.03865336287325...|\n",
            "| 149366|        DrJGR629|2015-01-14|   The chipotle p...|4.25|  4.0|  4.5|3.75|   4.25| 4.24|          HELLHAMMER|          OH|            Rye Beer|Limited (brewed o...| 7.2|     28094|Four String Brewi...|    Columbus|           OH| Brewery, Bar|        4.25|          4.0|          4.5|        3.75|           4.25|         4.24|          HELLHAMMER|             RyeBeer|The chipotle pepp...|HELLHAMMER RyeBee...|[hellhammer, ryeb...|[hellhammer, ryeb...|[-0.0377690620720...|\n",
            "| 111891|   Amnesia_Jones|2018-02-13|   I want this po...| 3.0|  3.0|  3.0| 3.0|    3.0|  3.0|      Vanilla Porter|          OH|     American Porter|              Winter| 6.0|     28094|Four String Brewi...|    Columbus|           OH| Brewery, Bar|         3.0|          3.0|          3.0|         3.0|            3.0|          3.0|       VanillaPorter|      AmericanPorter|I want this porte...|VanillaPorter Ame...|[vanillaporter, a...|[vanillaporter, a...|[0.07743978367320...|\n",
            "| 111891|       buschbeer|2017-12-13|   12 FL. OZ. bot...| 4.0|  4.0| 3.75| 4.0|   3.75| 3.85|      Vanilla Porter|          OH|     American Porter|              Winter| 6.0|     28094|Four String Brewi...|    Columbus|           OH| Brewery, Bar|         4.0|          4.0|         3.75|         4.0|           3.75|         3.85|       VanillaPorter|      AmericanPorter|12 FL OZ bottle S...|VanillaPorter Ame...|[vanillaporter, a...|[vanillaporter, a...|[0.03384895505777...|\n",
            "| 111891|      jojobird72|2017-08-28|   pretty good fo...|3.75|  3.0| 3.75| 3.0|   3.75|  3.5|      Vanilla Porter|          OH|     American Porter|              Winter| 6.0|     28094|Four String Brewi...|    Columbus|           OH| Brewery, Bar|        3.75|          3.0|         3.75|         3.0|           3.75|          3.5|       VanillaPorter|      AmericanPorter|pretty good for i...|VanillaPorter Ame...|[vanillaporter, a...|[vanillaporter, a...|[0.02083584428247...|\n",
            "| 111891|        WoodBrew|2016-12-31|   I bought a 6pc...|3.75| 3.75|  3.5| 3.0|    3.5| 3.53|      Vanilla Porter|          OH|     American Porter|              Winter| 6.0|     28094|Four String Brewi...|    Columbus|           OH| Brewery, Bar|        3.75|         3.75|          3.5|         3.0|            3.5|         3.53|       VanillaPorter|      AmericanPorter|I bought a 6pck a...|VanillaPorter Ame...|[vanillaporter, a...|[vanillaporter, a...|[0.13457064807415...|\n",
            "| 111891|      Oopssorryy|2016-12-25|   Pours a medium...|2.75|  2.5|  2.5| 2.5|    2.5| 2.52|      Vanilla Porter|          OH|     American Porter|              Winter| 6.0|     28094|Four String Brewi...|    Columbus|           OH| Brewery, Bar|        2.75|          2.5|          2.5|         2.5|            2.5|         2.52|       VanillaPorter|      AmericanPorter|Pours a medium br...|VanillaPorter Ame...|[vanillaporter, a...|[vanillaporter, a...|[0.05896031627939...|\n",
            "| 111891|       superspak|2016-12-04|   12 ounce can i...| 4.0|  4.0|  4.0| 4.0|    3.5|  3.9|      Vanilla Porter|          OH|     American Porter|              Winter| 6.0|     28094|Four String Brewi...|    Columbus|           OH| Brewery, Bar|         4.0|          4.0|          4.0|         4.0|            3.5|          3.9|       VanillaPorter|      AmericanPorter|12 ounce can into...|VanillaPorter Ame...|[vanillaporter, a...|[vanillaporter, a...|[-0.0022915382129...|\n",
            "| 111891|     BEERchitect|2016-05-14|   Porter first a...| 4.0| 4.25|  4.0|3.75|    4.0| 4.04|      Vanilla Porter|          OH|     American Porter|              Winter| 6.0|     28094|Four String Brewi...|    Columbus|           OH| Brewery, Bar|         4.0|         4.25|          4.0|        3.75|            4.0|         4.04|       VanillaPorter|      AmericanPorter|Porter first and ...|VanillaPorter Ame...|[vanillaporter, a...|[vanillaporter, a...|[0.10159241169859...|\n",
            "| 111891|         barczar|2016-04-08|   Aroma is fudgy...|3.75| 3.75|  3.5|3.75|   3.75| 3.65|      Vanilla Porter|          OH|     American Porter|              Winter| 6.0|     28094|Four String Brewi...|    Columbus|           OH| Brewery, Bar|        3.75|         3.75|          3.5|        3.75|           3.75|         3.65|       VanillaPorter|      AmericanPorter|Aroma is fudgy wi...|VanillaPorter Ame...|[vanillaporter, a...|[vanillaporter, a...|[0.08570952849079...|\n",
            "+-------+----------------+----------+--------------------+----+-----+-----+----+-------+-----+--------------------+------------+--------------------+--------------------+----+----------+--------------------+------------+-------------+-------------+------------+-------------+-------------+------------+---------------+-------------+--------------------+--------------------+--------------------+--------------------+--------------------+--------------------+--------------------+\n",
            "only showing top 20 rows\n",
            "\n"
          ],
          "name": "stdout"
        }
      ]
    },
    {
      "cell_type": "code",
      "metadata": {
        "id": "c9CqUtM0ZaYU"
      },
      "source": [
        "# Prepare the hyperparameters\r\n",
        "from pyspark.ml.regression import LinearRegression, LinearRegressionModel\r\n",
        "lin_model = LinearRegression(\r\n",
        "    maxIter=5,\r\n",
        "    regParam=0.3,\r\n",
        "    featuresCol=\"model\",\r\n",
        "    labelCol=\"overall_numeric\"\r\n",
        ")"
      ],
      "execution_count": 35,
      "outputs": []
    },
    {
      "cell_type": "code",
      "metadata": {
        "id": "fDr9FAVrcKvH"
      },
      "source": [
        "# split training and testing for the model (for temporary make the training set small as processing takes time)\r\n",
        "training, testing = w2v_model_df.randomSplit([0.01, 0.99])"
      ],
      "execution_count": 36,
      "outputs": []
    },
    {
      "cell_type": "code",
      "metadata": {
        "id": "AIPnHjT3bDLF"
      },
      "source": [
        "# Fit the look review to a model (takes time)\r\n",
        "lin_overall_train_model = lin_model.fit(training)"
      ],
      "execution_count": 37,
      "outputs": []
    },
    {
      "cell_type": "code",
      "metadata": {
        "id": "JtIRHVSk5a1t"
      },
      "source": [
        "# Save the model for later use\r\n",
        "lin_overall_train_model.write().overwrite().save(\"/content/gdrive/MyDrive/x/lin_overall_train.md\")"
      ],
      "execution_count": 38,
      "outputs": []
    },
    {
      "cell_type": "code",
      "metadata": {
        "id": "1NPhk5NDwua9"
      },
      "source": [
        "# Read the model\r\n",
        "loaded_lin_overall_train_model = LinearRegressionModel.load(\"/content/gdrive/MyDrive/x/lin_overall_train.md\")"
      ],
      "execution_count": 39,
      "outputs": []
    },
    {
      "cell_type": "code",
      "metadata": {
        "id": "gBxLYe08bYRU"
      },
      "source": [
        "# Transform the training data to peek at the predictions\r\n",
        "lin_overall_df = loaded_lin_overall_train_model.transform(training)"
      ],
      "execution_count": 40,
      "outputs": []
    },
    {
      "cell_type": "code",
      "metadata": {
        "colab": {
          "base_uri": "https://localhost:8080/"
        },
        "id": "1uCM2vEfDguf",
        "outputId": "c1360bcf-c3b9-448d-ce40-2b6fafad63cf"
      },
      "source": [
        "# show a sample of the predictions\r\n",
        "lin_overall_df.select('overall_numeric', 'prediction', 'Final_text').show(truncate=False)"
      ],
      "execution_count": 41,
      "outputs": [
        {
          "output_type": "stream",
          "text": [
            "+---------------+------------------+-------------------------------------------------------------------------------------------------------------------------------------------------------------------------------------------------------------------------------------------------------------------------------------------------------------------------------------------------------------------------------------------------------------------------------------------------------------------------------------------------------------------------------------------------------------------------------------------------------------------------------------------------------------------------------------------------------------------------------------------------------------------------------------------------------------------------------------------------------------------------------------------------------------------------------------------------------------------------------------------------------------------------------------------------------------------------------------------------------------------------------------------------------------------------------------------------------------------------------------------------------------------------------------------------------------------------------------------------------------------------------------------------------------------------------------------------------------------------------------------------------------------------------------------------------------------------------------------------------------------------------------------------------------------------------------------------------+\n",
            "|overall_numeric|prediction        |Final_text                                                                                                                                                                                                                                                                                                                                                                                                                                                                                                                                                                                                                                                                                                                                                                                                                                                                                                                                                                                                                                                                                                                                                                                                                                                                                                                                                                                                                                                                                                                                                                                                                                                                                             |\n",
            "+---------------+------------------+-------------------------------------------------------------------------------------------------------------------------------------------------------------------------------------------------------------------------------------------------------------------------------------------------------------------------------------------------------------------------------------------------------------------------------------------------------------------------------------------------------------------------------------------------------------------------------------------------------------------------------------------------------------------------------------------------------------------------------------------------------------------------------------------------------------------------------------------------------------------------------------------------------------------------------------------------------------------------------------------------------------------------------------------------------------------------------------------------------------------------------------------------------------------------------------------------------------------------------------------------------------------------------------------------------------------------------------------------------------------------------------------------------------------------------------------------------------------------------------------------------------------------------------------------------------------------------------------------------------------------------------------------------------------------------------------------------+\n",
            "|4.25           |3.968280242854162 |CrookedStaveOrigins-BourbonBarrelCherry AmericanWildAle Thanks to TATURBO for sharing this brew with me 375ml bottle sealed with pressure cap and red wax bottled on 92013 poured into tulip glass Appearance deep mahogany red bodied beer with thin white cap that drops down to thin white ring Smell Huge cherry and huge oak barrel notes Got some nice maltiness to the nose like flanders red Taste Moderately tart sour beer Cherries and oak just like the nose Hint of vanilla and lingering oak in the finish The beer also has a vinous quality about it just like a red wine Cherries seem to linger in this beer from the start to the finish Not much funkiness to speak of in this beer Mouthfeel medium bodied beer with low carbonation levels Slightly dry finish Overall This is a really great fruited sour beer by Crooked Stave Its reminicent of a flanders red and one of the better Crooked Stave beers that I have tried so far Its not overly complex but its definately very well executed This beer is another example of why Crooked Stave is such a fantastic brewery                                                                                                                                                                                                                                                                                                                                                                                                                                                                                                                                                                                                  |\n",
            "|3.5            |3.64941463647672  |WaterfrontBrewingCo.IndiaPaleAle AmericanIPA Poured from a 12 oz bottle into a pint glass Aroma Has a hop and earthy aroma with some citrus tossed in Appearance A dark amber color with a small offwhite head Palate A medium bodied beer with moderate carbonation Has a smooth texture to slightly oily feel not bad Overall This is an average IPA                                                                                                                                                                                                                                                                                                                                                                                                                                                                                                                                                                                                                                                                                                                                                                                                                                                                                                                                                                                                                                                                                                                                                                                                                                                                                                                                                 |\n",
            "|4.0            |3.952855895033285 |Hoptart1.0(Blush) AmericanWildAle Pours a clear ruby red color Mild hop aroma up front no real indication of sourtart slight raspberry character Citrusy hop character up front in the flavor followed by nice tartness and mild acidic character Mild fruitiness raspberry strawberry like but very faint Very refreshing and drinkable beernot too hoppy not too tart                                                                                                                                                                                                                                                                                                                                                                                                                                                                                                                                                                                                                                                                                                                                                                                                                                                                                                                                                                                                                                                                                                                                                                                                                                                                                                                                |\n",
            "|3.75           |4.060159492933469 |GameOfJones EnglishSweet/MilkStout Appearance Pours with a medium bodied thickness The head is about a finger of off whitelight brown color Minimal active carbonation in glass Sits black in the glass with dark brown edges Smell A creamy milk chocolate pops out of the glass first Vanilla and some roasted malt come through on the body There is a nice oaky finish Taste The front is dairy milk chocolate and some roasted malt The smooth vanilla takes over in the body The finish like the body goes down very easy and leaves a nice combination of dried malt and sweet chocolate coffee caramel and oak Mouthfeel Start to finish is smooth and easy drinking Heavy feeling left on the palate from all the additives Overall Milk stouts have never been a favorite of mine but Pipeworks does them well This one is sweet almost too much so but drinks well                                                                                                                                                                                                                                                                                                                                                                                                                                                                                                                                                                                                                                                                                                                                                                                                                          |\n",
            "|4.0            |3.9920317195531267|ColoradoWildSageMountainSaison BelgianSaison 0 71pours dirty gold translucent Light ring of white foam Yeasty wheaty bubblegum nose Strong yeast flavor and with a latent bitter throughout Remarkably tasty quite complex                                                                                                                                                                                                                                                                                                                                                                                                                                                                                                                                                                                                                                                                                                                                                                                                                                                                                                                                                                                                                                                                                                                                                                                                                                                                                                                                                                                                                                                                             |\n",
            "|4.25           |4.027863801069467 |ColoradoWildSageMountainSaison BelgianSaison Picked up a 12 oz bottle from the Belmont Station in Portland in late August for 779 Bottled in July 2015 Beer poured golden with an excellent white head that is leaving some lacing behind Nose is light funk and citrusy Taste is delightful lemon grass forward that is slightly tart and funky finishing with a touch of sage and a slight bitterness Mouthfeel is awesome very light and effervescent as it dances across my palate with each sip Overall a very good beer if you are into the saison style comparable to the best of the Belgians of this style                                                                                                                                                                                                                                                                                                                                                                                                                                                                                                                                                                                                                                                                                                                                                                                                                                                                                                                                                                                                                                                                                    |\n",
            "|5.0            |3.590232527362639 |ColoradoWildSageMountainSaison BelgianSaison Rating Just drink it cold Price  Its all about whether youd drink the beer again and Id drink this one again bc its well balanced I like herbs and this one is subtle I wouldnt say sage is prominent I dont like gose sour beers but the Brett yeast makes this beer a little sour but not too much Less than kombucha The hop rides on the sour I wouldnt let this beer get too warm Its refreshing when its cold Flat when its warm On the flip side my beer trekker friend says meh                                                                                                                                                                                                                                                                                                                                                                                                                                                                                                                                                                                                                                                                                                                                                                                                                                                                                                                                                                                                                                                                                                                                                                   |\n",
            "|4.0            |3.9840519710393183|AmericanBeauty AmericanImperialIPA A boozy homey brew commemorating 50 years of the Dead A bottle is limited Ill be keeping it Looks cool A golden orange color with lacing throughout This beer was brewed with care just look at it S you pick up the honey I dont love this smell but the nose is ok T complex interesting slightly sweet booze hits you as you go on Faint almond honey then the APA combine for a unique brew F surprisingly smooth for the ABV I attribute this to the granola O this is definitely worth checking out Im a nonDead fan but I feel the beer is a fitting tribute to them especially the ingredients used                                                                                                                                                                                                                                                                                                                                                                                                                                                                                                                                                                                                                                                                                                                                                                                                                                                                                                                                                                                                                                                         |\n",
            "|4.0            |4.123524026037303 |AmericanBeauty AmericanImperialIPA Served in a DFH pint glass at Friday Night Flights Party Town Florence KY I heard lots of grumbling from the fellas as they had some trouble getting this one poured It wanted to foam up something fierce Once they had it tapped into a pitcher the beer came out a nice light golden amber with a big fluffy white head The nose has some hoppy aromas of lemon and grapefruit and a sweet grainy note underneath Medium body with a good firm feel and a nice hoppy flavor Not sure where the granola enters into this I expect it to blend into the malt and there is definitely a nice grainysweet bready backbone to this one The hops are very wellbehaved This is a balanced beer not a hop bomb It finishes dry and the grainy and hoppy flavor linger on the finish I definitely enjoyed this offering from DFH Some people may bash it expecting more of a hop explosion from a DIPA but I appreciate the balance feel and the way the sweet grain and hop flavors all work together Very nicely done                                                                                                                                                                                                                                                                                                                                                                                                                                                                                                                                                                                                                                                   |\n",
            "|3.75           |3.947785159358909 |AmericanBeauty AmericanImperialIPA 750ml 92513 DFH IPA glass A Pours a crystal clear bright yellow orange color Nice egg shell white head Fluffy three fingers of pillow like head Lots of carbonation S Getting some grape melon maybe some grapefruit Slight nuttiness Really dig in and that granola is there certainly T Really smooth flavor here Not aggressive on the hop bitterness at all Up front you get those melon and grape like flavors I guess the granola helps soften the middle of the beer meshing with the malts Really easy drinking Clean finish Alcohol is hidden completely but at 9 itll probably hit you later M Light medium bodied                                                                                                                                                                                                                                                                                                                                                                                                                                                                                                                                                                                                                                                                                                                                                                                                                                                                                                                                                                                                                                        |\n",
            "|4.0            |4.042784809551613 |MapleBreakfastStout AmericanStout Poured from a tallboy can into a snifter the beer is jet black oily thick with a foamy clingy low profile offwhite head Aromas of campfire smoke bitter roasted coffee and hints of maple sweetness Flavors are heavy char and smoke forward with a coffee bitter and roast balance to follow Subtle maple sweetness follows on the back end of the palate picking things up a bit to lead into the bitter roasted and smoky aftertaste The body is smooth and full but with a dry undertone The finish is dry smooth and slightly bitter on the linger Good beer                                                                                                                                                                                                                                                                                                                                                                                                                                                                                                                                                                                                                                                                                                                                                                                                                                                                                                                                                                                                                                                                                                    |\n",
            "|4.0            |4.192031104954391 |MapleBreakfastStout AmericanStout Thanks KimmmySlobGoblin for giving this to me during the holiday season A good way to start a New England beer day leading up to the SB Go Patriots A 16oz can reveals a black bodied ale into two tulips A cap stalls above two fingers with decent retention dying out to a small ring Lacing starts early with thin but ample webs and sheets down the glass S Comes in with a medium overall strength of aroma with dark things being the most prominent characters Roasted grains open it up without a charred or burnt feel leading to coffee cocoa licorice and earthy maple after that T As with the aroma I find that the base stout is strongest thing with roasted grains and cocoa powder notes Toast nuttiness and caramel as well Maple and coffee join in next with earthy and slight fruity tones Appropriately sweet MF Medium bodied and a bit lighter than the most comparable brews I have had to this A creaminess and smooth silky texture arises from the moderately high carbonation Certainly one of the lighter Breakfast Stouts I have had but I think that actually works in its favor here It drinks easily for breakfast with a solid stout base and complimentary coffee and maple hints                                                                                                                                                                                                                                                                                                                                                                                                                                              |\n",
            "|4.75           |3.7173206995756285|Kvasir ScottishGruit/AncientHerbedAle Brown 750ml bottle purchased at The Lighthouse in Manchester ME Pours a mostly clear ever so slightly hazy pale amber liquid with about an inch of bubbly off white head that dissipated after a couple of minutes The scents of honey and cranberries immediately hit the nose with an herbal background The flavors of cranberries with some citrus vanilla spicy clove and with a woody finish On the first sip bubbles hit the tongue the liquid s very effervescent it tingles my nose Cant taste the alcohol in the beer but leaves a slight herbal aftertaste in the finish In my opinion this beer is delicious Although I am almost half n the bag as I write this  I have only had half of the bottle so far I can definitely say it was worth the 1299  tax and deposit I cant wait to finish this lovely bottle Cheers                                                                                                                                                                                                                                                                                                                                                                                                                                                                                                                                                                                                                                                                                                                                                                                                                               |\n",
            "|4.0            |4.084768662721238 |Aries AmericanImperialStout Third installment in the Brewers Select Series at Weyerbacher A 5050 blend of Old Heathen Imperial Stout and Imperial Pumpkin Ale Poured from a 12 oz bottle into a long stemmed wine glass Thick 1 finger tan head that dissipated leaving a thin head just on the top A dark black body no light shining through a light orangered along the edges when held to the light Aromas of the spices from the IPU come out at once cinnamon nutmeg and a little clove Also getting some licorice and bittersweet chocolate aromas from the Old Heathen A real strong amount of pumpkin flavor in this too Wow Getting the spices from the pumpkin right away and then followed and mellowed out with the roastiness of the stout Getting a roasty chocolate on the finish Overall I really enjoyed drinking this beer and at 80 its pretty manageable to have more than one Almost dangerously drinkable A clear winner for the fall and winter months Too bad this is only a one and done however it can be done by just mixing the Old Heathen and IPU on your own Pick this up if you can or mix it yourself                                                                                                                                                                                                                                                                                                                                                                                                                                                                                                                                                                |\n",
            "|5.0            |4.093148560920448 |BarrelAgedTheMurderous BritishBarleywine I prefer a full bodied BA beer  this doesnt disappoint This beer is full bodied with huge bourbon notes  just Like BA Jones dog this stands with BCBS If you like BCBS youll love this beer Its rare  its worth the search Trust me this is a big beer that is worth the hunt                                                                                                                                                                                                                                                                                                                                                                                                                                                                                                                                                                                                                                                                                                                                                                                                                                                                                                                                                                                                                                                                                                                                                                                                                                                                                                                                                                                 |\n",
            "|4.25           |4.0782605030813714|SweetRepute AmericanWheatwineAle Oh my If theres a fat 10 year old with a sweet tooth in me then this decadent ale just brought him out With a hazy golden appearance a cloud of caramel gazes over the beer with its yeasty film Partly zesty and partly frothy the beers cottony foam caps the beer with semistern retention and trailing lace Cookie dough butterscotch and marshmallow fluff leap out immediately yep were still talkin beer here Complementary bready aromas are sweetly scented much like angel food cake Werthers Originals and candied bourbon glaze An overall butter pecan cocoon wraps it all together in absolute mouthwatering fashion As its breadysweet taste of pound cake layers on the tongue its rich and buttery taste takes on all the caramel and candied flavors that were collected by the nose As its creamy vanilla flavors wash over the middle a taste of heavy whipping cream and marshmallows wrap things up heading into finish Its maltysweet final chapter leaves its story open well past its end as its sweet bourbon flavors linger seemingly indefinitely Mediumfull throughout the beers bready upstart transitions to confecionary textures of candy and then bourbon in finish Accompanied with boozy and spicy warmth the beer fades toward dryness very slowly and drifts effortlessly into a sweet aftertaste A single taste of Sweet Repute conjures up memories of Nemesis 09 Despite this higher alcohol content its flavors and sweetness come together much better than that trial version of four years ago This is what wheatwine is meant to be or perhaps my naive and seductive forgivences of a ten year old has come out as well|\n",
            "|3.5            |3.70845902094152  |NegativeNancy AmericanAmber/RedAle A Great red color Served with a nice two finger white head that leaves lacing and is downright thick Not sure what else I could ask for S Malt with some spice to it Citrus that is totally on the lemon side rather than orangegrapefruitmango T Mild sweetness that is balanced with the lemon coming through on the palate Really low overall residual bitterness The more I drink it the more the bitter hangs around a little Its not overpowering at all though Light alcohol burn at the end not necessarily bad though M Medium Maybe a little on the light side Nothing to write home about O Solid beer that Id have another one of It doesnt do anything amazing but its a solid offering and worth a try                                                                                                                                                                                                                                                                                                                                                                                                                                                                                                                                                                                                                                                                                                                                                                                                                                                                                                                                                |\n",
            "|3.5            |3.81321693176124  |AxeScarPig AmericanAmber/RedAle L  redbrown color with a creamy beige head that holds good retention S  not a bold nose but some caramel burnt caramel and citric hops come through a little fruity as it warms T  burnt caramel toasty grain grapefruit pine faintly fruity F  thinner body moderate carbonation finishes semidry O  this is usually a style I love but this was just ok to me Seems to be lacking something and its body is too thin                                                                                                                                                                                                                                                                                                                                                                                                                                                                                                                                                                                                                                                                                                                                                                                                                                                                                                                                                                                                                                                                                                                                                                                                                                                 |\n",
            "|4.0            |3.692410033567745 |Jack'sJavaEspressoStout AmericanStout Poured from a 22 oz bottle into a snifter glass Very dark to black in color I though that the coffee flavor was a little overpowering Overall not a bad beer but I have had better coffee stouts                                                                                                                                                                                                                                                                                                                                                                                                                                                                                                                                                                                                                                                                                                                                                                                                                                                                                                                                                                                                                                                                                                                                                                                                                                                                                                                                                                                                                                                                 |\n",
            "|4.5            |4.26101939029996  |GreenDiamondsDoubleIPA AmericanImperialIPA Very very good Brew Taste is very balanced and the abv although high does not take away from the awesome taste of this beer Definitely recommended                                                                                                                                                                                                                                                                                                                                                                                                                                                                                                                                                                                                                                                                                                                                                                                                                                                                                                                                                                                                                                                                                                                                                                                                                                                                                                                                                                                                                                                                                                          |\n",
            "+---------------+------------------+-------------------------------------------------------------------------------------------------------------------------------------------------------------------------------------------------------------------------------------------------------------------------------------------------------------------------------------------------------------------------------------------------------------------------------------------------------------------------------------------------------------------------------------------------------------------------------------------------------------------------------------------------------------------------------------------------------------------------------------------------------------------------------------------------------------------------------------------------------------------------------------------------------------------------------------------------------------------------------------------------------------------------------------------------------------------------------------------------------------------------------------------------------------------------------------------------------------------------------------------------------------------------------------------------------------------------------------------------------------------------------------------------------------------------------------------------------------------------------------------------------------------------------------------------------------------------------------------------------------------------------------------------------------------------------------------------------+\n",
            "only showing top 20 rows\n",
            "\n"
          ],
          "name": "stdout"
        }
      ]
    },
    {
      "cell_type": "code",
      "metadata": {
        "id": "C2mIukgwrNp3"
      },
      "source": [
        "#Experiment\r\n",
        "from pyspark.ml.evaluation import MulticlassClassificationEvaluator\r\n",
        "\r\n",
        "#evaluator = MulticlassClassificationEvaluator(\r\n",
        "#    labelCol=\"overall_numeric\", \r\n",
        "#    predictionCol=\"prediction\", \r\n",
        "#    metricName=\"accuracy\"\r\n",
        "#)\r\n",
        "\r\n",
        "#accuracy = evaluator.evaluate(lin_overall_df)\r\n",
        "\r\n",
        "#print(\"Accuracy of model at predicting reviews was: %f\" % accuracy)"
      ],
      "execution_count": null,
      "outputs": []
    },
    {
      "cell_type": "code",
      "metadata": {
        "colab": {
          "base_uri": "https://localhost:8080/"
        },
        "id": "3hE5sTBh4FAj",
        "outputId": "2373fe47-e460-405c-c951-003e33172b06"
      },
      "source": [
        "print(training.rdd.getNumPartitions())"
      ],
      "execution_count": null,
      "outputs": [
        {
          "output_type": "stream",
          "text": [
            "14\n"
          ],
          "name": "stdout"
        }
      ]
    },
    {
      "cell_type": "code",
      "metadata": {
        "id": "65rlw7rr4iYw"
      },
      "source": [
        "partitioned_df = training.repartition(28)"
      ],
      "execution_count": null,
      "outputs": []
    },
    {
      "cell_type": "code",
      "metadata": {
        "colab": {
          "base_uri": "https://localhost:8080/"
        },
        "id": "DOEZUGim4xuA",
        "outputId": "7965bdcc-cc56-483b-d563-04264acd447e"
      },
      "source": [
        "print(partitioned_df.rdd.getNumPartitions())"
      ],
      "execution_count": null,
      "outputs": [
        {
          "output_type": "stream",
          "text": [
            "28\n"
          ],
          "name": "stdout"
        }
      ]
    },
    {
      "cell_type": "code",
      "metadata": {
        "colab": {
          "base_uri": "https://localhost:8080/"
        },
        "id": "SRX4oziuUNth",
        "outputId": "699abe7e-9080-4e01-cbe0-f8957253a130"
      },
      "source": [
        "print(partitioned_df.count())"
      ],
      "execution_count": null,
      "outputs": [
        {
          "output_type": "stream",
          "text": [
            "19467\n"
          ],
          "name": "stdout"
        }
      ]
    },
    {
      "cell_type": "code",
      "metadata": {
        "colab": {
          "base_uri": "https://localhost:8080/"
        },
        "id": "6r6sPMOEICno",
        "outputId": "ff10b270-7ee0-4749-ae84-58a41a4c140d"
      },
      "source": [
        "print(spark.sparkContext.defaultParallelism)"
      ],
      "execution_count": null,
      "outputs": [
        {
          "output_type": "stream",
          "text": [
            "2\n"
          ],
          "name": "stdout"
        }
      ]
    },
    {
      "cell_type": "code",
      "metadata": {
        "colab": {
          "base_uri": "https://localhost:8080/"
        },
        "id": "SRSoLaViJXAl",
        "outputId": "a56176dc-60ba-4290-e9de-9a2990567e67"
      },
      "source": [
        "s = spark.sparkContext._jsc.sc().getExecutorMemoryStatus().keys()\r\n",
        "print(s)\r\n",
        "l = str(s).replace(\"Set(\",\"\").replace(\")\",\"\").split(\", \")\r\n",
        "print(l)\r\n",
        "\r\n",
        "d = set()\r\n",
        "for i in l:\r\n",
        "    d.add(i.split(\":\")[0])\r\n",
        "print(len(d))\r\n",
        "\r\n",
        "print(spark.sparkContext._jsc.sc().getExecutorMemoryStatus().size())"
      ],
      "execution_count": null,
      "outputs": [
        {
          "output_type": "stream",
          "text": [
            "Set(492190d9606c:38029)\n",
            "['492190d9606c:38029']\n",
            "1\n",
            "1\n"
          ],
          "name": "stdout"
        }
      ]
    },
    {
      "cell_type": "code",
      "metadata": {
        "colab": {
          "base_uri": "https://localhost:8080/"
        },
        "id": "byqCvmZaG6LH",
        "outputId": "18370c45-e8c7-40ca-b35c-ab5d3de87d30"
      },
      "source": [
        "spark.sparkContext._conf.getAll() "
      ],
      "execution_count": null,
      "outputs": [
        {
          "output_type": "execute_result",
          "data": {
            "text/plain": [
              "[('spark.driver.port', '33275'),\n",
              " ('spark.app.id', 'local-1615332036948'),\n",
              " ('spark.rdd.compress', 'True'),\n",
              " ('spark.serializer.objectStreamReset', '100'),\n",
              " ('spark.master', 'local[*]'),\n",
              " ('spark.executor.id', 'driver'),\n",
              " ('spark.submit.deployMode', 'client'),\n",
              " ('spark.driver.host', '492190d9606c'),\n",
              " ('spark.app.name', 'word2vec'),\n",
              " ('spark.ui.showConsoleProgress', 'true')]"
            ]
          },
          "metadata": {
            "tags": []
          },
          "execution_count": 40
        }
      ]
    },
    {
      "cell_type": "code",
      "metadata": {
        "id": "KAoICFSuQH6g"
      },
      "source": [
        "spark.sparkContext._conf.get('spark.driver.maxResultSize')"
      ],
      "execution_count": null,
      "outputs": []
    },
    {
      "cell_type": "code",
      "metadata": {
        "colab": {
          "base_uri": "https://localhost:8080/"
        },
        "id": "OGVjvrc-MRWO",
        "outputId": "6d525276-73aa-413d-c159-5837cae10af6"
      },
      "source": [
        "!cat /proc/cpuinfo"
      ],
      "execution_count": null,
      "outputs": [
        {
          "output_type": "stream",
          "text": [
            "processor\t: 0\n",
            "vendor_id\t: AuthenticAMD\n",
            "cpu family\t: 23\n",
            "model\t\t: 49\n",
            "model name\t: AMD EPYC 7B12\n",
            "stepping\t: 0\n",
            "microcode\t: 0x1000065\n",
            "cpu MHz\t\t: 2250.000\n",
            "cache size\t: 512 KB\n",
            "physical id\t: 0\n",
            "siblings\t: 2\n",
            "core id\t\t: 0\n",
            "cpu cores\t: 1\n",
            "apicid\t\t: 0\n",
            "initial apicid\t: 0\n",
            "fpu\t\t: yes\n",
            "fpu_exception\t: yes\n",
            "cpuid level\t: 13\n",
            "wp\t\t: yes\n",
            "flags\t\t: fpu vme de pse tsc msr pae mce cx8 apic sep mtrr pge mca cmov pat pse36 clflush mmx fxsr sse sse2 ht syscall nx mmxext fxsr_opt pdpe1gb rdtscp lm constant_tsc rep_good nopl xtopology nonstop_tsc cpuid extd_apicid tsc_known_freq pni pclmulqdq ssse3 fma cx16 sse4_1 sse4_2 movbe popcnt aes xsave avx f16c rdrand hypervisor lahf_lm cmp_legacy cr8_legacy abm sse4a misalignsse 3dnowprefetch osvw topoext ssbd ibrs ibpb stibp vmmcall fsgsbase tsc_adjust bmi1 avx2 smep bmi2 rdseed adx smap clflushopt clwb sha_ni xsaveopt xsavec xgetbv1 clzero xsaveerptr arat npt nrip_save umip rdpid\n",
            "bugs\t\t: sysret_ss_attrs spectre_v1 spectre_v2 spec_store_bypass\n",
            "bogomips\t: 4500.00\n",
            "TLB size\t: 3072 4K pages\n",
            "clflush size\t: 64\n",
            "cache_alignment\t: 64\n",
            "address sizes\t: 48 bits physical, 48 bits virtual\n",
            "power management:\n",
            "\n",
            "processor\t: 1\n",
            "vendor_id\t: AuthenticAMD\n",
            "cpu family\t: 23\n",
            "model\t\t: 49\n",
            "model name\t: AMD EPYC 7B12\n",
            "stepping\t: 0\n",
            "microcode\t: 0x1000065\n",
            "cpu MHz\t\t: 2250.000\n",
            "cache size\t: 512 KB\n",
            "physical id\t: 0\n",
            "siblings\t: 2\n",
            "core id\t\t: 0\n",
            "cpu cores\t: 1\n",
            "apicid\t\t: 1\n",
            "initial apicid\t: 1\n",
            "fpu\t\t: yes\n",
            "fpu_exception\t: yes\n",
            "cpuid level\t: 13\n",
            "wp\t\t: yes\n",
            "flags\t\t: fpu vme de pse tsc msr pae mce cx8 apic sep mtrr pge mca cmov pat pse36 clflush mmx fxsr sse sse2 ht syscall nx mmxext fxsr_opt pdpe1gb rdtscp lm constant_tsc rep_good nopl xtopology nonstop_tsc cpuid extd_apicid tsc_known_freq pni pclmulqdq ssse3 fma cx16 sse4_1 sse4_2 movbe popcnt aes xsave avx f16c rdrand hypervisor lahf_lm cmp_legacy cr8_legacy abm sse4a misalignsse 3dnowprefetch osvw topoext ssbd ibrs ibpb stibp vmmcall fsgsbase tsc_adjust bmi1 avx2 smep bmi2 rdseed adx smap clflushopt clwb sha_ni xsaveopt xsavec xgetbv1 clzero xsaveerptr arat npt nrip_save umip rdpid\n",
            "bugs\t\t: sysret_ss_attrs spectre_v1 spectre_v2 spec_store_bypass\n",
            "bogomips\t: 4500.00\n",
            "TLB size\t: 3072 4K pages\n",
            "clflush size\t: 64\n",
            "cache_alignment\t: 64\n",
            "address sizes\t: 48 bits physical, 48 bits virtual\n",
            "power management:\n",
            "\n"
          ],
          "name": "stdout"
        }
      ]
    },
    {
      "cell_type": "code",
      "metadata": {
        "colab": {
          "base_uri": "https://localhost:8080/"
        },
        "id": "O7W8Z8uUMYyS",
        "outputId": "d501de96-e079-4cf7-a620-f69563fe5192"
      },
      "source": [
        "!cat /proc/meminfo"
      ],
      "execution_count": null,
      "outputs": [
        {
          "output_type": "stream",
          "text": [
            "MemTotal:       13333568 kB\n",
            "MemFree:          373764 kB\n",
            "MemAvailable:   11164900 kB\n",
            "Buffers:          115264 kB\n",
            "Cached:         10581148 kB\n",
            "SwapCached:            0 kB\n",
            "Active:          4418788 kB\n",
            "Inactive:        8105484 kB\n",
            "Active(anon):    1701420 kB\n",
            "Inactive(anon):      360 kB\n",
            "Active(file):    2717368 kB\n",
            "Inactive(file):  8105124 kB\n",
            "Unevictable:           0 kB\n",
            "Mlocked:               0 kB\n",
            "SwapTotal:             0 kB\n",
            "SwapFree:              0 kB\n",
            "Dirty:               968 kB\n",
            "Writeback:             0 kB\n",
            "AnonPages:       1827760 kB\n",
            "Mapped:           140948 kB\n",
            "Shmem:              1124 kB\n",
            "Slab:             336356 kB\n",
            "SReclaimable:     294532 kB\n",
            "SUnreclaim:        41824 kB\n",
            "KernelStack:        5716 kB\n",
            "PageTables:         9956 kB\n",
            "NFS_Unstable:          0 kB\n",
            "Bounce:                0 kB\n",
            "WritebackTmp:          0 kB\n",
            "CommitLimit:     6666784 kB\n",
            "Committed_AS:    5137308 kB\n",
            "VmallocTotal:   34359738367 kB\n",
            "VmallocUsed:           0 kB\n",
            "VmallocChunk:          0 kB\n",
            "Percpu:             1024 kB\n",
            "AnonHugePages:         0 kB\n",
            "ShmemHugePages:        0 kB\n",
            "ShmemPmdMapped:        0 kB\n",
            "HugePages_Total:       0\n",
            "HugePages_Free:        0\n",
            "HugePages_Rsvd:        0\n",
            "HugePages_Surp:        0\n",
            "Hugepagesize:       2048 kB\n",
            "Hugetlb:               0 kB\n",
            "DirectMap4k:       87244 kB\n",
            "DirectMap2M:     5154816 kB\n",
            "DirectMap1G:    10485760 kB\n"
          ],
          "name": "stdout"
        }
      ]
    },
    {
      "cell_type": "code",
      "metadata": {
        "colab": {
          "base_uri": "https://localhost:8080/"
        },
        "id": "2JWmBZ85Mzx_",
        "outputId": "03723e5c-945b-426f-f4d2-bdcd26930df2"
      },
      "source": [
        "!ps -ef | grep java"
      ],
      "execution_count": null,
      "outputs": [
        {
          "output_type": "stream",
          "text": [
            "root        1273       1  0 16:21 ?        00:03:20 [java] <defunct>\n",
            "root        3755       1  0 16:52 ?        00:01:26 [java] <defunct>\n",
            "root        5184       1 78 17:16 ?        04:50:27 [java] <defunct>\n",
            "root       14299   13418 29 23:20 ?        00:02:12 /usr/lib/jvm/java-8-openjdk-amd64/bin/java -cp /content/spark-2.4.7-bin-hadoop2.7/conf/:/content/spark-2.4.7-bin-hadoop2.7/jars/* -Xmx1g org.apache.spark.deploy.SparkSubmit --conf spark.app.name=word2vec pyspark-shell\n",
            "root       14716   13418  0 23:28 ?        00:00:00 /bin/bash -c ps -ef | grep java\n",
            "root       14718   14716  0 23:28 ?        00:00:00 grep java\n"
          ],
          "name": "stdout"
        }
      ]
    }
  ]
}