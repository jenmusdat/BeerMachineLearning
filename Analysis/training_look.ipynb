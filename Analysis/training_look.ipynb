{
  "nbformat": 4,
  "nbformat_minor": 0,
  "metadata": {
    "colab": {
      "name": "training_look.ipynb",
      "provenance": [],
      "collapsed_sections": [],
      "machine_shape": "hm",
      "include_colab_link": true
    },
    "kernelspec": {
      "name": "python3",
      "display_name": "Python 3"
    },
    "accelerator": "GPU"
  },
  "cells": [
    {
      "cell_type": "markdown",
      "metadata": {
        "id": "view-in-github",
        "colab_type": "text"
      },
      "source": [
        "<a href=\"https://colab.research.google.com/github/jenmusdat/Project3_BeerQuality/blob/main/Analysis/training_look.ipynb\" target=\"_parent\"><img src=\"https://colab.research.google.com/assets/colab-badge.svg\" alt=\"Open In Colab\"/></a>"
      ]
    },
    {
      "cell_type": "code",
      "metadata": {
        "id": "nKhORyErYc9H",
        "colab": {
          "base_uri": "https://localhost:8080/"
        },
        "outputId": "13ca5d3b-5b68-445e-a90b-faa2d51e0050"
      },
      "source": [
        "!apt-get update\n",
        "!apt-get install openjdk-8-jdk-headless -qq > /dev/null\n",
        "!wget -q http://www-us.apache.org/dist/spark/spark-2.4.7/spark-2.4.7-bin-hadoop2.7.tgz\n",
        "!tar xf spark-2.4.7-bin-hadoop2.7.tgz\n",
        "!pip install -q findspark\n",
        "\n",
        "# Set Environment Variables\n",
        "import os\n",
        "os.environ[\"JAVA_HOME\"] = \"/usr/lib/jvm/java-8-openjdk-amd64\"\n",
        "os.environ[\"SPARK_HOME\"] = \"/content/spark-2.4.7-bin-hadoop2.7\"\n",
        "\n",
        "# Start a SparkSession\n",
        "import findspark\n",
        "findspark.init()"
      ],
      "execution_count": 1,
      "outputs": [
        {
          "output_type": "stream",
          "text": [
            "\r0% [Working]\r            \rGet:1 http://ppa.launchpad.net/c2d4u.team/c2d4u4.0+/ubuntu bionic InRelease [15.9 kB]\n",
            "\r0% [Waiting for headers] [Waiting for headers] [Connected to cloud.r-project.or\r                                                                               \rHit:2 http://archive.ubuntu.com/ubuntu bionic InRelease\n",
            "\r0% [Waiting for headers] [Connected to cloud.r-project.org (65.9.83.28)] [1 InR\r                                                                               \rGet:3 http://archive.ubuntu.com/ubuntu bionic-updates InRelease [88.7 kB]\n",
            "\r                                                                               \rGet:4 http://archive.ubuntu.com/ubuntu bionic-backports InRelease [74.6 kB]\n",
            "\r                                                                               \rGet:5 http://security.ubuntu.com/ubuntu bionic-security InRelease [88.7 kB]\n",
            "\r                                                                               \rHit:6 http://ppa.launchpad.net/cran/libgit2/ubuntu bionic InRelease\n",
            "\r                                                                               \rHit:7 http://ppa.launchpad.net/deadsnakes/ppa/ubuntu bionic InRelease\n",
            "\r0% [4 InRelease 74.6 kB/74.6 kB 100%] [Connected to cloud.r-project.org (65.9.8\r0% [2 InRelease gpgv 242 kB] [Connected to cloud.r-project.org (65.9.83.28)] [C\r                                                                               \rGet:8 https://cloud.r-project.org/bin/linux/ubuntu bionic-cran40/ InRelease [3,626 B]\n",
            "Hit:9 http://ppa.launchpad.net/graphics-drivers/ppa/ubuntu bionic InRelease\n",
            "Ign:10 https://developer.download.nvidia.com/compute/cuda/repos/ubuntu1804/x86_64  InRelease\n",
            "Ign:11 https://developer.download.nvidia.com/compute/machine-learning/repos/ubuntu1804/x86_64  InRelease\n",
            "Get:12 https://developer.download.nvidia.com/compute/cuda/repos/ubuntu1804/x86_64  Release [697 B]\n",
            "Hit:13 https://developer.download.nvidia.com/compute/machine-learning/repos/ubuntu1804/x86_64  Release\n",
            "Get:14 https://developer.download.nvidia.com/compute/cuda/repos/ubuntu1804/x86_64  Release.gpg [836 B]\n",
            "Get:15 http://archive.ubuntu.com/ubuntu bionic-updates/universe amd64 Packages [2,165 kB]\n",
            "Get:16 http://archive.ubuntu.com/ubuntu bionic-updates/main amd64 Packages [2,425 kB]\n",
            "Get:17 http://archive.ubuntu.com/ubuntu bionic-updates/restricted amd64 Packages [363 kB]\n",
            "Get:18 http://security.ubuntu.com/ubuntu bionic-security/restricted amd64 Packages [333 kB]\n",
            "Get:19 http://security.ubuntu.com/ubuntu bionic-security/main amd64 Packages [1,995 kB]\n",
            "Get:20 http://security.ubuntu.com/ubuntu bionic-security/universe amd64 Packages [1,398 kB]\n",
            "Get:21 http://ppa.launchpad.net/c2d4u.team/c2d4u4.0+/ubuntu bionic/main Sources [1,746 kB]\n",
            "Get:22 http://ppa.launchpad.net/c2d4u.team/c2d4u4.0+/ubuntu bionic/main amd64 Packages [893 kB]\n",
            "Ign:24 https://developer.download.nvidia.com/compute/cuda/repos/ubuntu1804/x86_64  Packages\n",
            "Get:24 https://developer.download.nvidia.com/compute/cuda/repos/ubuntu1804/x86_64  Packages [603 kB]\n",
            "Fetched 12.2 MB in 3s (3,740 kB/s)\n",
            "Reading package lists... Done\n"
          ],
          "name": "stdout"
        }
      ]
    },
    {
      "cell_type": "code",
      "metadata": {
        "id": "r31ccm3kuaxG",
        "colab": {
          "base_uri": "https://localhost:8080/"
        },
        "outputId": "215cb16b-1a6d-49ce-d631-23ee15a7565a"
      },
      "source": [
        "from google.colab import drive\n",
        "drive.mount('/content/gdrive')"
      ],
      "execution_count": 2,
      "outputs": [
        {
          "output_type": "stream",
          "text": [
            "Mounted at /content/gdrive\n"
          ],
          "name": "stdout"
        }
      ]
    },
    {
      "cell_type": "code",
      "metadata": {
        "id": "wB9hKKClZxgP"
      },
      "source": [
        "# Start a SparkSession\n",
        "from pyspark.sql import SparkSession\n",
        "# spark = SparkSession.builder.appName(\"word2vec\").getOrCreate()"
      ],
      "execution_count": 3,
      "outputs": []
    },
    {
      "cell_type": "code",
      "metadata": {
        "id": "1sYKedd3ePTq"
      },
      "source": [
        "MAX_MEMORY = \"5g\"\r\n",
        "\r\n",
        "spark = SparkSession \\\r\n",
        "    .builder \\\r\n",
        "    .appName(\"word2vec\") \\\r\n",
        "    .config(\"spark.executor.memory\", MAX_MEMORY) \\\r\n",
        "    .config(\"spark.driver.memory\", MAX_MEMORY) \\\r\n",
        "    .config(\"spark.driver.maxResultSize\", MAX_MEMORY)\\\r\n",
        "    .getOrCreate()"
      ],
      "execution_count": 4,
      "outputs": []
    },
    {
      "cell_type": "code",
      "metadata": {
        "id": "n3iL5WYZolKS"
      },
      "source": [
        "# Import needed libs\n",
        "from pyspark.sql.types import StructType, StructField, StringType\n",
        "from pyspark.ml.feature import Word2Vec, Word2VecModel\n",
        "import string\n"
      ],
      "execution_count": 5,
      "outputs": []
    },
    {
      "cell_type": "code",
      "metadata": {
        "id": "hFZlgstGaSlQ"
      },
      "source": [
        "# Read in data from S3 Buckets\r\n",
        "from pyspark import SparkFiles\r\n",
        "url =\"/content/gdrive/MyDrive/Project3_BeerQuality/Resources/reviews_beer_brewery.csv\"\r\n",
        "spark.sparkContext.addFile(url)\r\n",
        "df = spark.read.csv(SparkFiles.get(\"reviews_beer_brewery.csv\"), header=True)\r\n"
      ],
      "execution_count": 6,
      "outputs": []
    },
    {
      "cell_type": "code",
      "metadata": {
        "id": "xrYN9AD3T1gA"
      },
      "source": [
        "# remove alpha characters from data set on review numerics\r\n",
        "from pyspark.sql.functions import regexp_extract, col\r\n",
        "pattern = r'^\\d+.\\d+$'\r\n",
        "df = df.filter(regexp_extract(col('look'), pattern, 0) != '')"
      ],
      "execution_count": 7,
      "outputs": []
    },
    {
      "cell_type": "code",
      "metadata": {
        "id": "VK7fj3iunFZO"
      },
      "source": [
        "df = df.filter(regexp_extract(col('smell'), pattern, 0) != '')\r\n",
        "df = df.filter(regexp_extract(col('taste'), pattern, 0) != '')\r\n",
        "df = df.filter(regexp_extract(col('overall'), pattern, 0) != '')\r\n",
        "df = df.filter(regexp_extract(col('score'), pattern, 0) != '')\r\n",
        "df = df.filter(regexp_extract(col('feel'), pattern, 0) != '')"
      ],
      "execution_count": 8,
      "outputs": []
    },
    {
      "cell_type": "code",
      "metadata": {
        "id": "2ulHJiqmza0y"
      },
      "source": [
        "# Next 6 lines casts to floats all the review ratings\r\n",
        "df = df.withColumn('look_numeric', df['look'].cast('float'))"
      ],
      "execution_count": 9,
      "outputs": []
    },
    {
      "cell_type": "code",
      "metadata": {
        "id": "WVaXWTdQzfMN"
      },
      "source": [
        "df = df.withColumn('smell_numeric', df['smell'].cast('float'))"
      ],
      "execution_count": 10,
      "outputs": []
    },
    {
      "cell_type": "code",
      "metadata": {
        "id": "N33lcUHCz8tM"
      },
      "source": [
        "df = df.withColumn('taste_numeric', df['taste'].cast('float'))"
      ],
      "execution_count": 11,
      "outputs": []
    },
    {
      "cell_type": "code",
      "metadata": {
        "id": "_SekhI_Bz9CE"
      },
      "source": [
        "df = df.withColumn('feel_numeric', df['feel'].cast('float'))"
      ],
      "execution_count": 12,
      "outputs": []
    },
    {
      "cell_type": "code",
      "metadata": {
        "id": "mtwJmiqVz9S5"
      },
      "source": [
        "df = df.withColumn('overall_numeric', df['overall'].cast('float'))"
      ],
      "execution_count": 13,
      "outputs": []
    },
    {
      "cell_type": "code",
      "metadata": {
        "id": "UfhdHardz_KN"
      },
      "source": [
        "df = df.withColumn('score_numeric', df['score'].cast('float'))"
      ],
      "execution_count": 14,
      "outputs": []
    },
    {
      "cell_type": "code",
      "metadata": {
        "colab": {
          "base_uri": "https://localhost:8080/"
        },
        "id": "VX0kUvjn017b",
        "outputId": "27d5d74a-408e-435b-d146-14264be6d953"
      },
      "source": [
        "# Confirm data types\r\n",
        "df.printSchema"
      ],
      "execution_count": 15,
      "outputs": [
        {
          "output_type": "execute_result",
          "data": {
            "text/plain": [
              "<bound method DataFrame.printSchema of DataFrame[beer_id: string, username: string, date: string, text: string, look: string, smell: string, taste: string, feel: string, overall: string, score: string, beer_name: string, review_state: string, style: string, availability: string, abv: string, brewery_id: string, brewery_name: string, brewery_city: string, brewery_state: string, brewery_types: string, look_numeric: float, smell_numeric: float, taste_numeric: float, feel_numeric: float, overall_numeric: float, score_numeric: float]>"
            ]
          },
          "metadata": {
            "tags": []
          },
          "execution_count": 15
        }
      ]
    },
    {
      "cell_type": "code",
      "metadata": {
        "id": "LJuBnSOh7OGp"
      },
      "source": [
        "# functions for manipulating review text into a format we can tokenize\r\n",
        "def remove_punctuation(txt):\r\n",
        "  txt = txt.strip('\\xa0\\xa0 ')\r\n",
        "  return \"\".join(l if l not in string.punctuation else \"\" for l in txt)\r\n",
        "\r\n",
        "def remove_space (text):\r\n",
        "  if text:\r\n",
        "    return text.replace(' ', '')\r\n",
        "  else:\r\n",
        "    return 'Unknown'\r\n",
        "  "
      ],
      "execution_count": 16,
      "outputs": []
    },
    {
      "cell_type": "code",
      "metadata": {
        "colab": {
          "base_uri": "https://localhost:8080/"
        },
        "id": "jumNzjh_7cMM",
        "outputId": "888c9b0f-57ea-4d4c-d19f-331e552f2213"
      },
      "source": [
        "# define the udfs for the data\r\n",
        "from pyspark.sql.types import StringType\r\n",
        "from pyspark.sql.functions import col, udf\r\n",
        "\r\n",
        "remove_punctuation_udf = udf(remove_punctuation, StringType())\r\n",
        "remove_punctuation_udf\r\n",
        "\r\n",
        "remove_space_udf = udf(remove_space, StringType())\r\n",
        "remove_space_udf"
      ],
      "execution_count": 17,
      "outputs": [
        {
          "output_type": "execute_result",
          "data": {
            "text/plain": [
              "<function __main__.remove_space>"
            ]
          },
          "metadata": {
            "tags": []
          },
          "execution_count": 17
        }
      ]
    },
    {
      "cell_type": "code",
      "metadata": {
        "id": "kIpNUCIm7upA"
      },
      "source": [
        "# clean the beer name by removing spaces (will be combined with text)\r\n",
        "beer_df = df.withColumn('beer_clean', remove_space_udf(col('beer_name')))\r\n",
        "# beer_df.show()"
      ],
      "execution_count": 18,
      "outputs": []
    },
    {
      "cell_type": "code",
      "metadata": {
        "id": "RcFOFN8_7zHU"
      },
      "source": [
        "# clean the style name by removing spaces (will be combined with text)\r\n",
        "style_df = beer_df.withColumn('style_clean', remove_space_udf(col('style')))\r\n",
        "# style_df.show()"
      ],
      "execution_count": 19,
      "outputs": []
    },
    {
      "cell_type": "code",
      "metadata": {
        "colab": {
          "base_uri": "https://localhost:8080/"
        },
        "id": "Q49v6IDJ736k",
        "outputId": "0fe165b9-49e8-42c2-c0f1-b8b07909772c"
      },
      "source": [
        "# clean the text by removing punctuation\r\n",
        "text_df = style_df.withColumn(\"clean_text\", remove_punctuation_udf(col(\"text\")))\r\n",
        "text_df.show()"
      ],
      "execution_count": 20,
      "outputs": [
        {
          "output_type": "stream",
          "text": [
            "+-------+----------------+----------+--------------------+----+-----+-----+----+-------+-----+--------------------+------------+--------------------+--------------------+----+----------+--------------------+------------+-------------+-------------+------------+-------------+-------------+------------+---------------+-------------+--------------------+--------------------+--------------------+\n",
            "|beer_id|        username|      date|                text|look|smell|taste|feel|overall|score|           beer_name|review_state|               style|        availability| abv|brewery_id|        brewery_name|brewery_city|brewery_state|brewery_types|look_numeric|smell_numeric|taste_numeric|feel_numeric|overall_numeric|score_numeric|          beer_clean|         style_clean|          clean_text|\n",
            "+-------+----------------+----------+--------------------+----+-----+-----+----+-------+-----+--------------------+------------+--------------------+--------------------+----+----------+--------------------+------------+-------------+-------------+------------+-------------+-------------+------------+---------------+-------------+--------------------+--------------------+--------------------+\n",
            "| 271781|    bluejacket74|2017-03-17|   750 ml bottle,...| 4.0|  4.0|  4.0|4.25|    4.0| 4.03|Motorbreath Imper...|          OH|American Imperial...|Limited (brewed o...|10.8|     28094|Four String Brewi...|    Columbus|           OH| Brewery, Bar|         4.0|          4.0|          4.0|        4.25|            4.0|         4.03|MotorbreathImperi...|AmericanImperialS...|750 ml bottle 201...|\n",
            "| 184647|      Try-em-all|2017-09-27|   Clear gold in ...| 4.0|  4.0|  3.5| 3.5|   3.75|  3.7|     Payback Pilsner|          OH|   Bohemian Pilsener|            Rotating| 5.1|     28094|Four String Brewi...|    Columbus|           OH| Brewery, Bar|         4.0|          4.0|          3.5|         3.5|           3.75|          3.7|      PaybackPilsner|    BohemianPilsener|Clear gold in col...|\n",
            "| 184647|ScorpioBeerLover|2017-03-22|   Reminds me of ...| 4.0|  4.0| 4.25|3.75|    4.0| 4.08|     Payback Pilsner|          OH|   Bohemian Pilsener|            Rotating| 5.1|     28094|Four String Brewi...|    Columbus|           OH| Brewery, Bar|         4.0|          4.0|         4.25|        3.75|            4.0|         4.08|      PaybackPilsner|    BohemianPilsener|Reminds me of pre...|\n",
            "| 184647|        beergoot|2016-10-08|   Pale yellow bo...|3.25| 3.25|  3.5| 3.5|    3.5| 3.43|     Payback Pilsner|          OH|   Bohemian Pilsener|            Rotating| 5.1|     28094|Four String Brewi...|    Columbus|           OH| Brewery, Bar|        3.25|         3.25|          3.5|         3.5|            3.5|         3.43|      PaybackPilsner|    BohemianPilsener|Pale yellow body ...|\n",
            "| 184647|   woodychandler|2016-09-25|   The CANQuest (...|3.75| 3.75|  3.5| 3.5|    3.5| 3.58|     Payback Pilsner|          OH|   Bohemian Pilsener|            Rotating| 5.1|     28094|Four String Brewi...|    Columbus|           OH| Brewery, Bar|        3.75|         3.75|          3.5|         3.5|            3.5|         3.58|      PaybackPilsner|    BohemianPilsener|The CANQuest tm i...|\n",
            "| 184647|        WoodBrew|2016-07-14|   I got a Paybac...|3.75|  3.5|  3.5| 3.5|    3.5| 3.52|     Payback Pilsner|          OH|   Bohemian Pilsener|            Rotating| 5.1|     28094|Four String Brewi...|    Columbus|           OH| Brewery, Bar|        3.75|          3.5|          3.5|         3.5|            3.5|         3.52|      PaybackPilsner|    BohemianPilsener|I got a Payback P...|\n",
            "| 184647|     Brutaltruth|2016-01-15|   Enjoyed from t...|3.75| 3.25| 3.25| 3.5|    3.5| 3.36|     Payback Pilsner|          OH|   Bohemian Pilsener|            Rotating| 5.1|     28094|Four String Brewi...|    Columbus|           OH| Brewery, Bar|        3.75|         3.25|         3.25|         3.5|            3.5|         3.36|      PaybackPilsner|    BohemianPilsener|Enjoyed from the ...|\n",
            "| 184647|     HeightsEats|2015-12-31|   Pours a golden...|3.75| 3.75|  4.0| 4.0|   3.75| 3.88|     Payback Pilsner|          OH|   Bohemian Pilsener|            Rotating| 5.1|     28094|Four String Brewi...|    Columbus|           OH| Brewery, Bar|        3.75|         3.75|          4.0|         4.0|           3.75|         3.88|      PaybackPilsner|    BohemianPilsener|Pours a golden ye...|\n",
            "| 184647|       schoolboy|2015-10-05|   This thing is ...| 4.5|  3.5|  3.5| 3.5|   3.75| 3.61|     Payback Pilsner|          OH|   Bohemian Pilsener|            Rotating| 5.1|     28094|Four String Brewi...|    Columbus|           OH| Brewery, Bar|         4.5|          3.5|          3.5|         3.5|           3.75|         3.61|      PaybackPilsner|    BohemianPilsener|This thing is gor...|\n",
            "| 184647|   GreenEggsHam1|2015-08-08|                  0%| 3.5|  3.5|  3.5|3.75|    3.5| 3.53|     Payback Pilsner|          OH|   Bohemian Pilsener|            Rotating| 5.1|     28094|Four String Brewi...|    Columbus|           OH| Brewery, Bar|         3.5|          3.5|          3.5|        3.75|            3.5|         3.53|      PaybackPilsner|    BohemianPilsener|                   0|\n",
            "| 149366|        ONUMello|2016-03-26|\"   16oz draft A:...| 3.5|  3.0|  3.5| 3.5|    3.5| 3.38|          HELLHAMMER|          OH|            Rye Beer|Limited (brewed o...| 7.2|     28094|Four String Brewi...|    Columbus|           OH| Brewery, Bar|         3.5|          3.0|          3.5|         3.5|            3.5|         3.38|          HELLHAMMER|             RyeBeer|   16oz draft A D...|\n",
            "| 149366|        DrJGR629|2015-01-14|   The chipotle p...|4.25|  4.0|  4.5|3.75|   4.25| 4.24|          HELLHAMMER|          OH|            Rye Beer|Limited (brewed o...| 7.2|     28094|Four String Brewi...|    Columbus|           OH| Brewery, Bar|        4.25|          4.0|          4.5|        3.75|           4.25|         4.24|          HELLHAMMER|             RyeBeer|The chipotle pepp...|\n",
            "| 111891|   Amnesia_Jones|2018-02-13|   I want this po...| 3.0|  3.0|  3.0| 3.0|    3.0|  3.0|      Vanilla Porter|          OH|     American Porter|              Winter| 6.0|     28094|Four String Brewi...|    Columbus|           OH| Brewery, Bar|         3.0|          3.0|          3.0|         3.0|            3.0|          3.0|       VanillaPorter|      AmericanPorter|I want this porte...|\n",
            "| 111891|       buschbeer|2017-12-13|   12 FL. OZ. bot...| 4.0|  4.0| 3.75| 4.0|   3.75| 3.85|      Vanilla Porter|          OH|     American Porter|              Winter| 6.0|     28094|Four String Brewi...|    Columbus|           OH| Brewery, Bar|         4.0|          4.0|         3.75|         4.0|           3.75|         3.85|       VanillaPorter|      AmericanPorter|12 FL OZ bottle S...|\n",
            "| 111891|      jojobird72|2017-08-28|   pretty good fo...|3.75|  3.0| 3.75| 3.0|   3.75|  3.5|      Vanilla Porter|          OH|     American Porter|              Winter| 6.0|     28094|Four String Brewi...|    Columbus|           OH| Brewery, Bar|        3.75|          3.0|         3.75|         3.0|           3.75|          3.5|       VanillaPorter|      AmericanPorter|pretty good for i...|\n",
            "| 111891|        WoodBrew|2016-12-31|   I bought a 6pc...|3.75| 3.75|  3.5| 3.0|    3.5| 3.53|      Vanilla Porter|          OH|     American Porter|              Winter| 6.0|     28094|Four String Brewi...|    Columbus|           OH| Brewery, Bar|        3.75|         3.75|          3.5|         3.0|            3.5|         3.53|       VanillaPorter|      AmericanPorter|I bought a 6pck a...|\n",
            "| 111891|      Oopssorryy|2016-12-25|   Pours a medium...|2.75|  2.5|  2.5| 2.5|    2.5| 2.52|      Vanilla Porter|          OH|     American Porter|              Winter| 6.0|     28094|Four String Brewi...|    Columbus|           OH| Brewery, Bar|        2.75|          2.5|          2.5|         2.5|            2.5|         2.52|       VanillaPorter|      AmericanPorter|Pours a medium br...|\n",
            "| 111891|       superspak|2016-12-04|   12 ounce can i...| 4.0|  4.0|  4.0| 4.0|    3.5|  3.9|      Vanilla Porter|          OH|     American Porter|              Winter| 6.0|     28094|Four String Brewi...|    Columbus|           OH| Brewery, Bar|         4.0|          4.0|          4.0|         4.0|            3.5|          3.9|       VanillaPorter|      AmericanPorter|12 ounce can into...|\n",
            "| 111891|     BEERchitect|2016-05-14|   Porter first a...| 4.0| 4.25|  4.0|3.75|    4.0| 4.04|      Vanilla Porter|          OH|     American Porter|              Winter| 6.0|     28094|Four String Brewi...|    Columbus|           OH| Brewery, Bar|         4.0|         4.25|          4.0|        3.75|            4.0|         4.04|       VanillaPorter|      AmericanPorter|Porter first and ...|\n",
            "| 111891|         barczar|2016-04-08|   Aroma is fudgy...|3.75| 3.75|  3.5|3.75|   3.75| 3.65|      Vanilla Porter|          OH|     American Porter|              Winter| 6.0|     28094|Four String Brewi...|    Columbus|           OH| Brewery, Bar|        3.75|         3.75|          3.5|        3.75|           3.75|         3.65|       VanillaPorter|      AmericanPorter|Aroma is fudgy wi...|\n",
            "+-------+----------------+----------+--------------------+----+-----+-----+----+-------+-----+--------------------+------------+--------------------+--------------------+----+----------+--------------------+------------+-------------+-------------+------------+-------------+-------------+------------+---------------+-------------+--------------------+--------------------+--------------------+\n",
            "only showing top 20 rows\n",
            "\n"
          ],
          "name": "stdout"
        }
      ]
    },
    {
      "cell_type": "code",
      "metadata": {
        "id": "rUrgBLiFvW3W",
        "colab": {
          "base_uri": "https://localhost:8080/"
        },
        "outputId": "8f30fe58-d35d-4b0a-976f-af902206245a"
      },
      "source": [
        "# Combine beer_name, style, and review text into a Final_text column\r\n",
        "from pyspark.sql.functions import concat_ws\r\n",
        "\r\n",
        "combined_df = text_df.withColumn('Final_text', concat_ws(' ',text_df.beer_clean, text_df.style_clean, text_df.clean_text))\r\n",
        "combined_df.select('text', 'Final_text').show(truncate=False)"
      ],
      "execution_count": 21,
      "outputs": [
        {
          "output_type": "stream",
          "text": [
            "+-----------------------------------------------------------------------------------------------------------------------------------------------------------------------------------------------------------------------------------------------------------------------------------------------------------------------------------------------------------------------------------------------------------------------------------------------------------------------------------------------------------------------------------------------------------------------------------------------------------------------------------------------------------------------------------------------------------------------------------------------------------------------------------------------------------------------------------------------------------------------------------------------------------------------------------------------------------------------------------------------------------------------------------------------------------------------------------------------------------------------------------------------------------------------------------------------------------------------------------------------------------------------------------------------------------------------------------------------------------------------------------------------------------------------------------------------------------------------------------------------------------------------------------------------------------------------------------------------------------------------------------------------------------------------------------------------------------------------------------------------------------------------------------------------------------------------------------------------------------------------------------------------------------------------------------------------------------------------------------------------------------------------------------------------+-----------------------------------------------------------------------------------------------------------------------------------------------------------------------------------------------------------------------------------------------------------------------------------------------------------------------------------------------------------------------------------------------------------------------------------------------------------------------------------------------------------------------------------------------------------------------------------------------------------------------------------------------------------------------------------------------------------------------------------------------------------------------------------------------------------------------------------------------------------------------------------------------------------------------------------------------------------------------------------------------------------------------------------------------------------------------------------------------------------------------------------------------------------------------------------------------------------------------------------------------------------------------------------------------------------------------------------------------------------------------------------------------------------------------------------------------------------------------------------------------------------------------------------------------------------------------------------------------------------------------------------------------------------------------------------------------------------------------------------------------------------------------------------------------------------------------------------------------------------------------------------------------------------------------------------------------------------------------------------------------------+\n",
            "|text                                                                                                                                                                                                                                                                                                                                                                                                                                                                                                                                                                                                                                                                                                                                                                                                                                                                                                                                                                                                                                                                                                                                                                                                                                                                                                                                                                                                                                                                                                                                                                                                                                                                                                                                                                                                                                                                                                                                                                                                                                           |Final_text                                                                                                                                                                                                                                                                                                                                                                                                                                                                                                                                                                                                                                                                                                                                                                                                                                                                                                                                                                                                                                                                                                                                                                                                                                                                                                                                                                                                                                                                                                                                                                                                                                                                                                                                                                                                                                                                                                                                                                                           |\n",
            "+-----------------------------------------------------------------------------------------------------------------------------------------------------------------------------------------------------------------------------------------------------------------------------------------------------------------------------------------------------------------------------------------------------------------------------------------------------------------------------------------------------------------------------------------------------------------------------------------------------------------------------------------------------------------------------------------------------------------------------------------------------------------------------------------------------------------------------------------------------------------------------------------------------------------------------------------------------------------------------------------------------------------------------------------------------------------------------------------------------------------------------------------------------------------------------------------------------------------------------------------------------------------------------------------------------------------------------------------------------------------------------------------------------------------------------------------------------------------------------------------------------------------------------------------------------------------------------------------------------------------------------------------------------------------------------------------------------------------------------------------------------------------------------------------------------------------------------------------------------------------------------------------------------------------------------------------------------------------------------------------------------------------------------------------------+-----------------------------------------------------------------------------------------------------------------------------------------------------------------------------------------------------------------------------------------------------------------------------------------------------------------------------------------------------------------------------------------------------------------------------------------------------------------------------------------------------------------------------------------------------------------------------------------------------------------------------------------------------------------------------------------------------------------------------------------------------------------------------------------------------------------------------------------------------------------------------------------------------------------------------------------------------------------------------------------------------------------------------------------------------------------------------------------------------------------------------------------------------------------------------------------------------------------------------------------------------------------------------------------------------------------------------------------------------------------------------------------------------------------------------------------------------------------------------------------------------------------------------------------------------------------------------------------------------------------------------------------------------------------------------------------------------------------------------------------------------------------------------------------------------------------------------------------------------------------------------------------------------------------------------------------------------------------------------------------------------+\n",
            "|   750 ml bottle, 2016 vintage, bottle #304 of 360. Served in a DFH snifter, the beer pours dark brown/black with about an inch tan head that stuck around a little while. There's also a good amount of lacing. I like the aroma, the brew smells like dark fruit (raisin, plum), chocolate, roasted malt, and a bit of licorice. For the most part I think the taste is just like the aroma, but with some coffee flavor noticeable too. Mouthfeel/body is medium/full, it's creamy and coating with a moderate amount of carbonation. I think it's a good overall brew, worth picking up if you want a nice straight forward imperial stout. Here's hoping Four String brings this back in the future! $9.99 a bottle.                                                                                                                                                                                                                                                                                                                                                                                                                                                                                                                                                                                                                                                                                                                                                                                                                                                                                                                                                                                                                                                                                                                                                                                                                                                                                                                      |MotorbreathImperialStout AmericanImperialStout 750 ml bottle 2016 vintage bottle 304 of 360 Served in a DFH snifter the beer pours dark brownblack with about an inch tan head that stuck around a little while Theres also a good amount of lacing I like the aroma the brew smells like dark fruit raisin plum chocolate roasted malt and a bit of licorice For the most part I think the taste is just like the aroma but with some coffee flavor noticeable too Mouthfeelbody is mediumfull its creamy and coating with a moderate amount of carbonation I think its a good overall brew worth picking up if you want a nice straight forward imperial stout Heres hoping Four String brings this back in the future 999 a bottle                                                                                                                                                                                                                                                                                                                                                                                                                                                                                                                                                                                                                                                                                                                                                                                                                                                                                                                                                                                                                                                                                                                                                                                                                                                                |\n",
            "|   Clear gold in color, light head, very little lacing, slight grain taste, same with the first scent, not a bad beer, but not very special either.                                                                                                                                                                                                                                                                                                                                                                                                                                                                                                                                                                                                                                                                                                                                                                                                                                                                                                                                                                                                                                                                                                                                                                                                                                                                                                                                                                                                                                                                                                                                                                                                                                                                                                                                                                                                                                                                                            |PaybackPilsner BohemianPilsener Clear gold in color light head very little lacing slight grain taste same with the first scent not a bad beer but not very special either                                                                                                                                                                                                                                                                                                                                                                                                                                                                                                                                                                                                                                                                                                                                                                                                                                                                                                                                                                                                                                                                                                                                                                                                                                                                                                                                                                                                                                                                                                                                                                                                                                                                                                                                                                                                                            |\n",
            "|   Reminds me of pretty much every Czech Pilsner I have ever had. Very drinkable, but nothing that stands out as exceptional.                                                                                                                                                                                                                                                                                                                                                                                                                                                                                                                                                                                                                                                                                                                                                                                                                                                                                                                                                                                                                                                                                                                                                                                                                                                                                                                                                                                                                                                                                                                                                                                                                                                                                                                                                                                                                                                                                                                  |PaybackPilsner BohemianPilsener Reminds me of pretty much every Czech Pilsner I have ever had Very drinkable but nothing that stands out as exceptional                                                                                                                                                                                                                                                                                                                                                                                                                                                                                                                                                                                                                                                                                                                                                                                                                                                                                                                                                                                                                                                                                                                                                                                                                                                                                                                                                                                                                                                                                                                                                                                                                                                                                                                                                                                                                                              |\n",
            "|   Pale yellow body; wispy white head. Very faint grain scent with a touch of honey. The taste is similar to the smell; gentle hop bitterness. Medium body. A fair, approachable pilsner yet rather run of the mill.                                                                                                                                                                                                                                                                                                                                                                                                                                                                                                                                                                                                                                                                                                                                                                                                                                                                                                                                                                                                                                                                                                                                                                                                                                                                                                                                                                                                                                                                                                                                                                                                                                                                                                                                                                                                                           |PaybackPilsner BohemianPilsener Pale yellow body wispy white head Very faint grain scent with a touch of honey The taste is similar to the smell gentle hop bitterness Medium body A fair approachable pilsner yet rather run of the mill                                                                                                                                                                                                                                                                                                                                                                                                                                                                                                                                                                                                                                                                                                                                                                                                                                                                                                                                                                                                                                                                                                                                                                                                                                                                                                                                                                                                                                                                                                                                                                                                                                                                                                                                                            |\n",
            "|   The CANQuest (tm) is honored to add anything from Four String BC to the list since one of its movers & shakers is none other than Larry, Larry, Larry ! Horowitz, who brewed & did jack of all trades stuff for Iron Hill for years. Larry, Larry, Larry is a fellow veteran & a really great, unassuming personality to be around. His knowledge is seCANd-to-none & while I was sorry to see him depart for Ohio, I know how to find him. Naturally, the CAN released a spray across my fingertips & then evinced some foaming through the vent on the Crack! I wanted an earlier CAN to do so & it did not CANoperate while each one before & after has been a behavior problem. Not really, since no one CAN hold a CANdle to my handling of a CAN. I performed a very gentle Glug so as to not rouse either any lees or the hooded CANbra that seemed to be lurking within. What is it with the Cracker Jack surprise inside jazz today? I got a rubber duck earlier & now, a cobra! Even my gentle Glug was enough to bring up just over a finger of soapy, foamy, bone-white head with modest retention. Color was a pretty Straw-Yellow (SRM = > 2, < 4), kind of like liquid sunshine in the glass. Nose was almost certainly indiCANtive of a German Pilsner, but I am going to request CANfirmation from the brewer/brewery on this one. It struck me as malty & bready, but I am not going to claim to be an expert. Mouthfeel was medium. The taste was making it really tough for me. It had a pleasant Noble hoppiness, but nowhere near as pronounced as it had been in Champion's Shower Beer. That said, the biscuitiness of the malt was not what I would CANsider pronounced, either. It was as though the beer was trying to straddle two styles. I prefer the Czech over the German, but this made for an interesting drink. Finish was semi-dry to dry, but neither the hops nor the malt seemed to want to assert themselves. It was decent, but I wish that it (or me) could make up its mind as to its identity.  |PaybackPilsner BohemianPilsener The CANQuest tm is honored to add anything from Four String BC to the list since one of its movers  shakers is none other than Larry Larry Larry  Horowitz who brewed  did jack of all trades stuff for Iron Hill for years Larry Larry Larry is a fellow veteran  a really great unassuming personality to be around His knowledge is seCANdtonone  while I was sorry to see him depart for Ohio I know how to find him Naturally the CAN released a spray across my fingertips  then evinced some foaming through the vent on the Crack I wanted an earlier CAN to do so  it did not CANoperate while each one before  after has been a behavior problem Not really since no one CAN hold a CANdle to my handling of a CAN I performed a very gentle Glug so as to not rouse either any lees or the hooded CANbra that seemed to be lurking within What is it with the Cracker Jack surprise inside jazz today I got a rubber duck earlier  now a cobra Even my gentle Glug was enough to bring up just over a finger of soapy foamy bonewhite head with modest retention Color was a pretty StrawYellow SRM   2  4 kind of like liquid sunshine in the glass Nose was almost certainly indiCANtive of a German Pilsner but I am going to request CANfirmation from the brewerbrewery on this one It struck me as malty  bready but I am not going to claim to be an expert Mouthfeel was medium The taste was making it really tough for me It had a pleasant Noble hoppiness but nowhere near as pronounced as it had been in Champions Shower Beer That said the biscuitiness of the malt was not what I would CANsider pronounced either It was as though the beer was trying to straddle two styles I prefer the Czech over the German but this made for an interesting drink Finish was semidry to dry but neither the hops nor the malt seemed to want to assert themselves It was decent but I wish that it or me could make up its mind as to its identity|\n",
            "|   I got a Payback Pilsner in a mix 12 from Drug Mart in Willard, Ohio. It poured a clear golden with white head that is not leaving much of a lace. The scent is not one of pilsner...something strange...can't quite put finger on it. The taste leans toward a white grape and is a touch bitter. The Mouthfeel is lighter in body with good carbonation. Overall it's ok certainly wouldn't go out of my way to get it.                                                                                                                                                                                                                                                                                                                                                                                                                                                                                                                                                                                                                                                                                                                                                                                                                                                                                                                                                                                                                                                                                                                                                                                                                                                                                                                                                                                                                                                                                                                                                                                                                    |PaybackPilsner BohemianPilsener I got a Payback Pilsner in a mix 12 from Drug Mart in Willard Ohio It poured a clear golden with white head that is not leaving much of a lace The scent is not one of pilsnersomething strangecant quite put finger on it The taste leans toward a white grape and is a touch bitter The Mouthfeel is lighter in body with good carbonation Overall its ok certainly wouldnt go out of my way to get it                                                                                                                                                                                                                                                                                                                                                                                                                                                                                                                                                                                                                                                                                                                                                                                                                                                                                                                                                                                                                                                                                                                                                                                                                                                                                                                                                                                                                                                                                                                                                             |\n",
            "|   Enjoyed from the 12 oz can in a pint glass via a friend from work----Thanks Kevin! This brew pours a very weak light yellow with an excellent head of dissipating foam that settles to a light ring, light layer, and excellent lacing. Nose of subtle honey malts, subtle hops, and light grains. Flavors follow the nose with sweet malts and bitter hops on all sides with moderately heavy grain notes coming in through the back with a decent bittering hops note on the aftertaste. Overall a decent pilsner with good carbonation making it an easy drinker. Decent for the style. Cheers                                                                                                                                                                                                                                                                                                                                                                                                                                                                                                                                                                                                                                                                                                                                                                                                                                                                                                                                                                                                                                                                                                                                                                                                                                                                                                                                                                                                                                           |PaybackPilsner BohemianPilsener Enjoyed from the 12 oz can in a pint glass via a friend from workThanks Kevin This brew pours a very weak light yellow with an excellent head of dissipating foam that settles to a light ring light layer and excellent lacing Nose of subtle honey malts subtle hops and light grains Flavors follow the nose with sweet malts and bitter hops on all sides with moderately heavy grain notes coming in through the back with a decent bittering hops note on the aftertaste Overall a decent pilsner with good carbonation making it an easy drinker Decent for the style Cheers                                                                                                                                                                                                                                                                                                                                                                                                                                                                                                                                                                                                                                                                                                                                                                                                                                                                                                                                                                                                                                                                                                                                                                                                                                                                                                                                                                                  |\n",
            "|   Pours a golden yellow, slight biscuit aroma with some hoppiness. The flavor is well-balanced between malt and hops. This is a solid pilsner with medium malt body, a subtle sweetness and a clean finish of German hops. If you get a really fresh batch of this, the hops might be a bit strong, as I noted in an earlier version of this review. I opened a can a week later though (which is probably the average of how long it will be on the shelf after you buy it) and everything was equaled out.                                                                                                                                                                                                                                                                                                                                                                                                                                                                                                                                                                                                                                                                                                                                                                                                                                                                                                                                                                                                                                                                                                                                                                                                                                                                                                                                                                                                                                                                                                                                  |PaybackPilsner BohemianPilsener Pours a golden yellow slight biscuit aroma with some hoppiness The flavor is wellbalanced between malt and hops This is a solid pilsner with medium malt body a subtle sweetness and a clean finish of German hops If you get a really fresh batch of this the hops might be a bit strong as I noted in an earlier version of this review I opened a can a week later though which is probably the average of how long it will be on the shelf after you buy it and everything was equaled out                                                                                                                                                                                                                                                                                                                                                                                                                                                                                                                                                                                                                                                                                                                                                                                                                                                                                                                                                                                                                                                                                                                                                                                                                                                                                                                                                                                                                                                                       |\n",
            "|   This thing is gorgeous. Too bad it ends there. Exceptional head (I always said, is there any such thing as bad head?). It just keeps coming and coming. Nice. So it's yellow and doesn't have any strong finishing hops aroma. It has a very mild pilsner taste, which is to say not much. The aftertaste is sweetish. Boring, even for the style. This is one of the prettier brews ever but that's it it has. Like they gave up trying to make a great pils and just made a well made one. Not recommended - it's just a pretty face.                                                                                                                                                                                                                                                                                                                                                                                                                                                                                                                                                                                                                                                                                                                                                                                                                                                                                                                                                                                                                                                                                                                                                                                                                                                                                                                                                                                                                                                                                                     |PaybackPilsner BohemianPilsener This thing is gorgeous Too bad it ends there Exceptional head I always said is there any such thing as bad head It just keeps coming and coming Nice So its yellow and doesnt have any strong finishing hops aroma It has a very mild pilsner taste which is to say not much The aftertaste is sweetish Boring even for the style This is one of the prettier brews ever but thats it it has Like they gave up trying to make a great pils and just made a well made one Not recommended  its just a pretty face                                                                                                                                                                                                                                                                                                                                                                                                                                                                                                                                                                                                                                                                                                                                                                                                                                                                                                                                                                                                                                                                                                                                                                                                                                                                                                                                                                                                                                                     |\n",
            "|   0%                                                                                                                                                                                                                                                                                                                                                                                                                                                                                                                                                                                                                                                                                                                                                                                                                                                                                                                                                                                                                                                                                                                                                                                                                                                                                                                                                                                                                                                                                                                                                                                                                                                                                                                                                                                                                                                                                                                                                                                                                                          |PaybackPilsner BohemianPilsener 0                                                                                                                                                                                                                                                                                                                                                                                                                                                                                                                                                                                                                                                                                                                                                                                                                                                                                                                                                                                                                                                                                                                                                                                                                                                                                                                                                                                                                                                                                                                                                                                                                                                                                                                                                                                                                                                                                                                                                                    |\n",
            "|\"   16oz draft A: Dark brown, no head S: Just not a lot going on. Generic malt, nothing else T: Dark malts, a hint of rye bite but it's in the background M: Medium-bodied O: The bar I had this at had this in the \"\"malt\"\" portion of their menu. I wish it had more hops/ rye spice to be in the \"\"hops\"\" section. Perfectly drinkable as is just nothing memorable  \"                                                                                                                                                                                                                                                                                                                                                                                                                                                                                                                                                                                                                                                                                                                                                                                                                                                                                                                                                                                                                                                                                                                                                                                                                                                                                                                                                                                                                                                                                                                                                                                                                                                                      |HELLHAMMER RyeBeer    16oz draft A Dark brown no head S Just not a lot going on Generic malt nothing else T Dark malts a hint of rye bite but its in the background M Mediumbodied O The bar I had this at had this in the malt portion of their menu I wish it had more hops rye spice to be in the hops section Perfectly drinkable as is just nothing memorable                                                                                                                                                                                                                                                                                                                                                                                                                                                                                                                                                                                                                                                                                                                                                                                                                                                                                                                                                                                                                                                                                                                                                                                                                                                                                                                                                                                                                                                                                                                                                                                                                                   |\n",
            "|   The chipotle peppers add just a little heat on the way down. Very complex but tasty.                                                                                                                                                                                                                                                                                                                                                                                                                                                                                                                                                                                                                                                                                                                                                                                                                                                                                                                                                                                                                                                                                                                                                                                                                                                                                                                                                                                                                                                                                                                                                                                                                                                                                                                                                                                                                                                                                                                                                        |HELLHAMMER RyeBeer The chipotle peppers add just a little heat on the way down Very complex but tasty                                                                                                                                                                                                                                                                                                                                                                                                                                                                                                                                                                                                                                                                                                                                                                                                                                                                                                                                                                                                                                                                                                                                                                                                                                                                                                                                                                                                                                                                                                                                                                                                                                                                                                                                                                                                                                                                                                |\n",
            "|   I want this porter to be thick and rich, but alas, it is not.                                                                                                                                                                                                                                                                                                                                                                                                                                                                                                                                                                                                                                                                                                                                                                                                                                                                                                                                                                                                                                                                                                                                                                                                                                                                                                                                                                                                                                                                                                                                                                                                                                                                                                                                                                                                                                                                                                                                                                               |VanillaPorter AmericanPorter I want this porter to be thick and rich but alas it is not                                                                                                                                                                                                                                                                                                                                                                                                                                                                                                                                                                                                                                                                                                                                                                                                                                                                                                                                                                                                                                                                                                                                                                                                                                                                                                                                                                                                                                                                                                                                                                                                                                                                                                                                                                                                                                                                                                              |\n",
            "|   12 FL. OZ. bottle Served in a snifter This beer appears black when poured, but when held to the light some ruby highlights are visible. It is topped with an inch of tan head that leaves very little lacing. I can smell vanilla right away. I also get some milk chocolate and roasted malt. It start with vanilla flavor. Dark chocolate come through the middle. Roasted malt also comes through the middle but lingers through the finish. The is a bitter chocolate aftertaste. Medium to full mouthfeel It is a drinkable everyday porter. There is nothing to make it stand out, but there is nothing to note of detrimental flavor either.                                                                                                                                                                                                                                                                                                                                                                                                                                                                                                                                                                                                                                                                                                                                                                                                                                                                                                                                                                                                                                                                                                                                                                                                                                                                                                                                                                                         |VanillaPorter AmericanPorter 12 FL OZ bottle Served in a snifter This beer appears black when poured but when held to the light some ruby highlights are visible It is topped with an inch of tan head that leaves very little lacing I can smell vanilla right away I also get some milk chocolate and roasted malt It start with vanilla flavor Dark chocolate come through the middle Roasted malt also comes through the middle but lingers through the finish The is a bitter chocolate aftertaste Medium to full mouthfeel It is a drinkable everyday porter There is nothing to make it stand out but there is nothing to note of detrimental flavor either                                                                                                                                                                                                                                                                                                                                                                                                                                                                                                                                                                                                                                                                                                                                                                                                                                                                                                                                                                                                                                                                                                                                                                                                                                                                                                                                   |\n",
            "|   pretty good for in a can (I prefer bottles, idk who else cares)                                                                                                                                                                                                                                                                                                                                                                                                                                                                                                                                                                                                                                                                                                                                                                                                                                                                                                                                                                                                                                                                                                                                                                                                                                                                                                                                                                                                                                                                                                                                                                                                                                                                                                                                                                                                                                                                                                                                                                             |VanillaPorter AmericanPorter pretty good for in a can I prefer bottles idk who else cares                                                                                                                                                                                                                                                                                                                                                                                                                                                                                                                                                                                                                                                                                                                                                                                                                                                                                                                                                                                                                                                                                                                                                                                                                                                                                                                                                                                                                                                                                                                                                                                                                                                                                                                                                                                                                                                                                                            |\n",
            "|   I bought a 6pck at the local Meijer store. The scent had hints of vanilla and roast. The taste carried some vanilla with espresso presence. The Mouthfeel was lighter in body with smooth carbonation. Overall it's ok....would like more body.                                                                                                                                                                                                                                                                                                                                                                                                                                                                                                                                                                                                                                                                                                                                                                                                                                                                                                                                                                                                                                                                                                                                                                                                                                                                                                                                                                                                                                                                                                                                                                                                                                                                                                                                                                                             |VanillaPorter AmericanPorter I bought a 6pck at the local Meijer store The scent had hints of vanilla and roast The taste carried some vanilla with espresso presence The Mouthfeel was lighter in body with smooth carbonation Overall its okwould like more body                                                                                                                                                                                                                                                                                                                                                                                                                                                                                                                                                                                                                                                                                                                                                                                                                                                                                                                                                                                                                                                                                                                                                                                                                                                                                                                                                                                                                                                                                                                                                                                                                                                                                                                                   |\n",
            "|   Pours a medium brown, with a small, lightly tanned head. The head quickly falls away, leaving very little lacing. The nose has light roast, a bit of coffee, but is far to sweet for my tastes. The vanilla is there, but is largely obscured by the rest of the scent profiles here. The flavors feel muted. The little flavor you get before swallowing is roast and a hint of malt. Upon swallowing you are hit with a huge amount of roast, with coffee flavors mixed in. A wave of sweet malt rides of the heels of this, with just the barest hints of vanilla. The feel is very much on the light side for a porter. It feels like it thickens up in the middle, but the somewhat dry finish takes away from any ground it may have gained. The flavors do not stick on the tongue, and the entire drink is forgotten quickly. Overall, this feels like a pretty sub par porter. It's billed as a vanilla porter, but I feel like I had to really search for it, so much so I may have been imagining it. Everything about it feels forgettable. I guess it could be used as an introductory porter for someone hesitant of dark beers, but other than that I would just pass.                                                                                                                                                                                                                                                                                                                                                                                                                                                                                                                                                                                                                                                                                                                                                                                                                                                       |VanillaPorter AmericanPorter Pours a medium brown with a small lightly tanned head The head quickly falls away leaving very little lacing The nose has light roast a bit of coffee but is far to sweet for my tastes The vanilla is there but is largely obscured by the rest of the scent profiles here The flavors feel muted The little flavor you get before swallowing is roast and a hint of malt Upon swallowing you are hit with a huge amount of roast with coffee flavors mixed in A wave of sweet malt rides of the heels of this with just the barest hints of vanilla The feel is very much on the light side for a porter It feels like it thickens up in the middle but the somewhat dry finish takes away from any ground it may have gained The flavors do not stick on the tongue and the entire drink is forgotten quickly Overall this feels like a pretty sub par porter Its billed as a vanilla porter but I feel like I had to really search for it so much so I may have been imagining it Everything about it feels forgettable I guess it could be used as an introductory porter for someone hesitant of dark beers but other than that I would just pass                                                                                                                                                                                                                                                                                                                                                                                                                                                                                                                                                                                                                                                                                                                                                                                                                 |\n",
            "|   12 ounce can into pint glass, best before 3/17/2017. Pours crystal clear deep reddish brown color with a 1-2 finger fairly dense light khaki head with good retention, that reduces to a nice cap that lingers. Nice spotty soapy lacing clings down the glass, with a fair amount of streaming carbonation. Aromas of vanilla, milk chocolate, cocoa, caramel, toffee, brown sugar, toasted brown bread, light nuttiness/coffee, herbal, and roast/toasted earthiness. Very nice aromas with good balance and complexity of dark/roast/bready malt, vanilla, and light earthy hop notes; with good strength. Taste of big vanilla, milk chocolate, cocoa, caramel, toffee, brown sugar, toasted brown bread, light nuttiness/coffee, herbal, light pepper, and roast/toasted earthiness. Light-moderate herbal/spicy hop and light roasted bitterness on the finish; with lingering notes of vanilla, milk chocolate, cocoa, caramel, toffee, brown sugar, toasted brown bread, light nuttiness/coffee, herbal, pepper, and roast/toasted earthiness on the finish for a good bit. Very nice complexity, robustness, and balance of dark/roast/bready malt, vanilla, and light-moderate earthy hop flavors; with a nice malt/bitterness balance, and minimal astringent hop flavors after the finish. Light-moderate dryness from bitterness, increasing through the glass. Medium carbonation and body; with a very smooth, moderately creamy/grainy/bready, fairly sticky, and slightly chalky balanced mouthfeel that is nice. Zero warming alcohol as expected of 6%. Overall this is a very nice American style vanilla porter. All around nice complexity, robustness, and balance of dark/roast/bready malt, vanilla, and light-moderate earthy hop flavors; very smooth and easy to drink. Just a bit too bitter/drying than I would have preferred; this still has really great malt complexity and balance with the vanilla bean flavors. A very enjoyable offering.                                                             |VanillaPorter AmericanPorter 12 ounce can into pint glass best before 3172017 Pours crystal clear deep reddish brown color with a 12 finger fairly dense light khaki head with good retention that reduces to a nice cap that lingers Nice spotty soapy lacing clings down the glass with a fair amount of streaming carbonation Aromas of vanilla milk chocolate cocoa caramel toffee brown sugar toasted brown bread light nuttinesscoffee herbal and roasttoasted earthiness Very nice aromas with good balance and complexity of darkroastbready malt vanilla and light earthy hop notes with good strength Taste of big vanilla milk chocolate cocoa caramel toffee brown sugar toasted brown bread light nuttinesscoffee herbal light pepper and roasttoasted earthiness Lightmoderate herbalspicy hop and light roasted bitterness on the finish with lingering notes of vanilla milk chocolate cocoa caramel toffee brown sugar toasted brown bread light nuttinesscoffee herbal pepper and roasttoasted earthiness on the finish for a good bit Very nice complexity robustness and balance of darkroastbready malt vanilla and lightmoderate earthy hop flavors with a nice maltbitterness balance and minimal astringent hop flavors after the finish Lightmoderate dryness from bitterness increasing through the glass Medium carbonation and body with a very smooth moderately creamygrainybready fairly sticky and slightly chalky balanced mouthfeel that is nice Zero warming alcohol as expected of 6 Overall this is a very nice American style vanilla porter All around nice complexity robustness and balance of darkroastbready malt vanilla and lightmoderate earthy hop flavors very smooth and easy to drink Just a bit too bitterdrying than I would have preferred this still has really great malt complexity and balance with the vanilla bean flavors A very enjoyable offering                                                                                      |\n",
            "|   Porter first and vanilla secondary, the heirarchy is clear- the Four String brewer show a creative and aggressive edge with the madagascar vanilla bean, but layer them on a robust underpinning of roasty, toasty barley malt that doesn't shy away from the attention of the tastebuds. Their Vanilla Porter is a dark and lavish dark ale, deep brown and topped with a creamy beige crown. As the unmistakable and soothing scent of vanilla drifts onto the nose, its taste is even more decadent with dark-roast coffee, chocolate, burnt sugar and roasted nuttiness. As the flavors develop, the mind is drawn to the taste of sweet cream, milkshakes and sweetened coffees. The toasted grains give bittersweet chocolate notes with an undercarriage of caramel and toffee. Earthy nuttiness is woodsy and the bittering hops are piney and support the coffee-like characteristics seamlessly. Full bodied yet remarkably drinkable, the porter seems lavishly creamy to start but trails with a drying tone that outweighs the generous vanilla additions. An after-palate of bitter woods, nuttiness and coffee extend deep into aftertaste and with that seductive afterglow of vanilla.                                                                                                                                                                                                                                                                                                                                                                                                                                                                                                                                                                                                                                                                                                                                                                                                                                     |VanillaPorter AmericanPorter Porter first and vanilla secondary the heirarchy is clear the Four String brewer show a creative and aggressive edge with the madagascar vanilla bean but layer them on a robust underpinning of roasty toasty barley malt that doesnt shy away from the attention of the tastebuds Their Vanilla Porter is a dark and lavish dark ale deep brown and topped with a creamy beige crown As the unmistakable and soothing scent of vanilla drifts onto the nose its taste is even more decadent with darkroast coffee chocolate burnt sugar and roasted nuttiness As the flavors develop the mind is drawn to the taste of sweet cream milkshakes and sweetened coffees The toasted grains give bittersweet chocolate notes with an undercarriage of caramel and toffee Earthy nuttiness is woodsy and the bittering hops are piney and support the coffeelike characteristics seamlessly Full bodied yet remarkably drinkable the porter seems lavishly creamy to start but trails with a drying tone that outweighs the generous vanilla additions An afterpalate of bitter woods nuttiness and coffee extend deep into aftertaste and with that seductive afterglow of vanilla                                                                                                                                                                                                                                                                                                                                                                                                                                                                                                                                                                                                                                                                                                                                                                                         |\n",
            "|   Aroma is fudgy, with vanilla accents. Fairly rich chocolate malt balanced the vanilla sweetness well. Flavor is vanilla dominant, with a light sweetness carrying throughout. Chocolate is more subdued, and a string bitterness is ushered in too quickly. There's a bit of an acidic or metallic character upfront. Too bitter.                                                                                                                                                                                                                                                                                                                                                                                                                                                                                                                                                                                                                                                                                                                                                                                                                                                                                                                                                                                                                                                                                                                                                                                                                                                                                                                                                                                                                                                                                                                                                                                                                                                                                                           |VanillaPorter AmericanPorter Aroma is fudgy with vanilla accents Fairly rich chocolate malt balanced the vanilla sweetness well Flavor is vanilla dominant with a light sweetness carrying throughout Chocolate is more subdued and a string bitterness is ushered in too quickly Theres a bit of an acidic or metallic character upfront Too bitter                                                                                                                                                                                                                                                                                                                                                                                                                                                                                                                                                                                                                                                                                                                                                                                                                                                                                                                                                                                                                                                                                                                                                                                                                                                                                                                                                                                                                                                                                                                                                                                                                                                 |\n",
            "+-----------------------------------------------------------------------------------------------------------------------------------------------------------------------------------------------------------------------------------------------------------------------------------------------------------------------------------------------------------------------------------------------------------------------------------------------------------------------------------------------------------------------------------------------------------------------------------------------------------------------------------------------------------------------------------------------------------------------------------------------------------------------------------------------------------------------------------------------------------------------------------------------------------------------------------------------------------------------------------------------------------------------------------------------------------------------------------------------------------------------------------------------------------------------------------------------------------------------------------------------------------------------------------------------------------------------------------------------------------------------------------------------------------------------------------------------------------------------------------------------------------------------------------------------------------------------------------------------------------------------------------------------------------------------------------------------------------------------------------------------------------------------------------------------------------------------------------------------------------------------------------------------------------------------------------------------------------------------------------------------------------------------------------------------+-----------------------------------------------------------------------------------------------------------------------------------------------------------------------------------------------------------------------------------------------------------------------------------------------------------------------------------------------------------------------------------------------------------------------------------------------------------------------------------------------------------------------------------------------------------------------------------------------------------------------------------------------------------------------------------------------------------------------------------------------------------------------------------------------------------------------------------------------------------------------------------------------------------------------------------------------------------------------------------------------------------------------------------------------------------------------------------------------------------------------------------------------------------------------------------------------------------------------------------------------------------------------------------------------------------------------------------------------------------------------------------------------------------------------------------------------------------------------------------------------------------------------------------------------------------------------------------------------------------------------------------------------------------------------------------------------------------------------------------------------------------------------------------------------------------------------------------------------------------------------------------------------------------------------------------------------------------------------------------------------------+\n",
            "only showing top 20 rows\n",
            "\n"
          ],
          "name": "stdout"
        }
      ]
    },
    {
      "cell_type": "code",
      "metadata": {
        "id": "So2lXfJEo-A9"
      },
      "source": [
        "# Setup and execute Tokenizer and Stop words pipeline\n",
        "from pyspark.ml.feature import Tokenizer, StopWordsRemover\n",
        "from pyspark.ml import Pipeline\n",
        "\n",
        "# \"Creating pipeline...\"\n",
        "tokenizer = Tokenizer(inputCol=\"Final_text\", outputCol=\"token_text\")\n",
        "stopremove = StopWordsRemover(inputCol='token_text', outputCol='features')\n",
        "\n",
        "pipeline = Pipeline(stages=[tokenizer, stopremove])\n",
        "\n",
        "# \"Training model...\"\n",
        "pipeline_stg = pipeline.fit(combined_df)\n",
        "final_df = pipeline_stg.transform(combined_df)\n"
      ],
      "execution_count": 22,
      "outputs": []
    },
    {
      "cell_type": "code",
      "metadata": {
        "id": "HfovHDCfpo0y"
      },
      "source": [
        "# final_df.show()"
      ],
      "execution_count": null,
      "outputs": []
    },
    {
      "cell_type": "code",
      "metadata": {
        "id": "SO1RuUEeXXs_"
      },
      "source": [
        "final_df = final_df.select('look_numeric','features')"
      ],
      "execution_count": 23,
      "outputs": []
    },
    {
      "cell_type": "code",
      "metadata": {
        "id": "ZZI7ZlKTXzq1",
        "colab": {
          "base_uri": "https://localhost:8080/"
        },
        "outputId": "9745f747-a468-4e64-f20a-175a29b356e1"
      },
      "source": [
        "final_df.show()"
      ],
      "execution_count": 24,
      "outputs": [
        {
          "output_type": "stream",
          "text": [
            "+------------+--------------------+\n",
            "|look_numeric|            features|\n",
            "+------------+--------------------+\n",
            "|         4.0|[motorbreathimper...|\n",
            "|         4.0|[paybackpilsner, ...|\n",
            "|         4.0|[paybackpilsner, ...|\n",
            "|        3.25|[paybackpilsner, ...|\n",
            "|        3.75|[paybackpilsner, ...|\n",
            "|        3.75|[paybackpilsner, ...|\n",
            "|        3.75|[paybackpilsner, ...|\n",
            "|        3.75|[paybackpilsner, ...|\n",
            "|         4.5|[paybackpilsner, ...|\n",
            "|         3.5|[paybackpilsner, ...|\n",
            "|         3.5|[hellhammer, ryeb...|\n",
            "|        4.25|[hellhammer, ryeb...|\n",
            "|         3.0|[vanillaporter, a...|\n",
            "|         4.0|[vanillaporter, a...|\n",
            "|        3.75|[vanillaporter, a...|\n",
            "|        3.75|[vanillaporter, a...|\n",
            "|        2.75|[vanillaporter, a...|\n",
            "|         4.0|[vanillaporter, a...|\n",
            "|         4.0|[vanillaporter, a...|\n",
            "|        3.75|[vanillaporter, a...|\n",
            "+------------+--------------------+\n",
            "only showing top 20 rows\n",
            "\n"
          ],
          "name": "stdout"
        }
      ]
    },
    {
      "cell_type": "code",
      "metadata": {
        "id": "8He3lB9QuHx5"
      },
      "source": [
        "# Read the model from disk to confirm\r\n",
        "w2v_loaded_model = Word2VecModel.load('/content/gdrive/MyDrive/Project3_BeerQuality/review.md')"
      ],
      "execution_count": 25,
      "outputs": []
    },
    {
      "cell_type": "code",
      "metadata": {
        "id": "y6Si0OgqMTxU",
        "colab": {
          "base_uri": "https://localhost:8080/"
        },
        "outputId": "c6ec3fb6-16f9-42d6-ac94-f316283dd8b9"
      },
      "source": [
        "# check to see if synonym is consistent with loaded model\r\n",
        "w2v_loaded_model.findSynonymsArray(\"light\", 5)"
      ],
      "execution_count": 26,
      "outputs": [
        {
          "output_type": "execute_result",
          "data": {
            "text/plain": [
              "[('mild', 0.6426884531974792),\n",
              " ('faint', 0.6223998665809631),\n",
              " ('slight', 0.6191715002059937),\n",
              " ('mostly', 0.6169756650924683),\n",
              " ('medium', 0.6095581650733948)]"
            ]
          },
          "metadata": {
            "tags": []
          },
          "execution_count": 26
        }
      ]
    },
    {
      "cell_type": "code",
      "metadata": {
        "id": "lst9RbRuXhqr"
      },
      "source": [
        "# Transform the mode\r\n",
        "w2v_model_df = w2v_loaded_model.transform(final_df)"
      ],
      "execution_count": 27,
      "outputs": []
    },
    {
      "cell_type": "code",
      "metadata": {
        "colab": {
          "base_uri": "https://localhost:8080/"
        },
        "id": "wWKT30iTZVDf",
        "outputId": "f2f1b742-53ac-4291-9771-7516247891ec"
      },
      "source": [
        "w2v_model_df.show()"
      ],
      "execution_count": 28,
      "outputs": [
        {
          "output_type": "stream",
          "text": [
            "+------------+--------------------+--------------------+\n",
            "|look_numeric|            features|               model|\n",
            "+------------+--------------------+--------------------+\n",
            "|         4.0|[motorbreathimper...|[0.02950784611367...|\n",
            "|         4.0|[paybackpilsner, ...|[-0.0872463285923...|\n",
            "|         4.0|[paybackpilsner, ...|[0.01790586973612...|\n",
            "|        3.25|[paybackpilsner, ...|[-0.1276244542612...|\n",
            "|        3.75|[paybackpilsner, ...|[-0.0131208907440...|\n",
            "|        3.75|[paybackpilsner, ...|[-0.0353247860187...|\n",
            "|        3.75|[paybackpilsner, ...|[-0.0606238029503...|\n",
            "|        3.75|[paybackpilsner, ...|[0.00897214795847...|\n",
            "|         4.5|[paybackpilsner, ...|[0.02342551416502...|\n",
            "|         3.5|[paybackpilsner, ...|[-0.0209101041158...|\n",
            "|         3.5|[hellhammer, ryeb...|[0.01432307037573...|\n",
            "|        4.25|[hellhammer, ryeb...|[-0.1081325657665...|\n",
            "|         3.0|[vanillaporter, a...|[-0.1101182210924...|\n",
            "|         4.0|[vanillaporter, a...|[-0.0197092709394...|\n",
            "|        3.75|[vanillaporter, a...|[-0.0049533498369...|\n",
            "|        3.75|[vanillaporter, a...|[0.02202844081446...|\n",
            "|        2.75|[vanillaporter, a...|[-0.0874559852428...|\n",
            "|         4.0|[vanillaporter, a...|[-0.0728758174786...|\n",
            "|         4.0|[vanillaporter, a...|[-0.1125914826324...|\n",
            "|        3.75|[vanillaporter, a...|[-0.1178625054068...|\n",
            "+------------+--------------------+--------------------+\n",
            "only showing top 20 rows\n",
            "\n"
          ],
          "name": "stdout"
        }
      ]
    },
    {
      "cell_type": "code",
      "metadata": {
        "id": "WdyOBNC3YCFI"
      },
      "source": [
        "w2v_model_df = w2v_model_df.select('look_numeric', 'model')"
      ],
      "execution_count": 29,
      "outputs": []
    },
    {
      "cell_type": "code",
      "metadata": {
        "id": "c9CqUtM0ZaYU"
      },
      "source": [
        "# Prepare the hyperparameters\r\n",
        "from pyspark.ml.regression import LinearRegression, LinearRegressionModel\r\n",
        "lin_model = LinearRegression(\r\n",
        "   maxIter=5,\r\n",
        "   regParam=0.3,\r\n",
        "   featuresCol=\"model\",\r\n",
        "   labelCol=\"look_numeric\"\r\n",
        ")"
      ],
      "execution_count": 30,
      "outputs": []
    },
    {
      "cell_type": "code",
      "metadata": {
        "colab": {
          "base_uri": "https://localhost:8080/"
        },
        "id": "kpvYn0jxYmsj",
        "outputId": "da2685a9-b427-4c6c-fb97-089201e136b0"
      },
      "source": [
        "w2v_model_df.cache()\r\n",
        "w2v_model_df.show()"
      ],
      "execution_count": 31,
      "outputs": [
        {
          "output_type": "stream",
          "text": [
            "+------------+--------------------+\n",
            "|look_numeric|               model|\n",
            "+------------+--------------------+\n",
            "|         4.0|[0.02950784611367...|\n",
            "|         4.0|[-0.0872463285923...|\n",
            "|         4.0|[0.01790586973612...|\n",
            "|        3.25|[-0.1276244542612...|\n",
            "|        3.75|[-0.0131208907440...|\n",
            "|        3.75|[-0.0353247860187...|\n",
            "|        3.75|[-0.0606238029503...|\n",
            "|        3.75|[0.00897214795847...|\n",
            "|         4.5|[0.02342551416502...|\n",
            "|         3.5|[-0.0209101041158...|\n",
            "|         3.5|[0.01432307037573...|\n",
            "|        4.25|[-0.1081325657665...|\n",
            "|         3.0|[-0.1101182210924...|\n",
            "|         4.0|[-0.0197092709394...|\n",
            "|        3.75|[-0.0049533498369...|\n",
            "|        3.75|[0.02202844081446...|\n",
            "|        2.75|[-0.0874559852428...|\n",
            "|         4.0|[-0.0728758174786...|\n",
            "|         4.0|[-0.1125914826324...|\n",
            "|        3.75|[-0.1178625054068...|\n",
            "+------------+--------------------+\n",
            "only showing top 20 rows\n",
            "\n"
          ],
          "name": "stdout"
        }
      ]
    },
    {
      "cell_type": "code",
      "metadata": {
        "id": "fDr9FAVrcKvH"
      },
      "source": [
        "# split training and testing for the model (for temporary make the training set small as processing takes time)\r\n",
        "training, testing = w2v_model_df.randomSplit([0.70, 0.30])"
      ],
      "execution_count": 35,
      "outputs": []
    },
    {
      "cell_type": "code",
      "metadata": {
        "colab": {
          "base_uri": "https://localhost:8080/"
        },
        "id": "JftXl3AeOmQK",
        "outputId": "57024de5-85b0-4568-9608-a531a7a5bfda"
      },
      "source": [
        "training.show()"
      ],
      "execution_count": 36,
      "outputs": [
        {
          "output_type": "stream",
          "text": [
            "+------------+--------------------+\n",
            "|look_numeric|               model|\n",
            "+------------+--------------------+\n",
            "|         1.0|[-0.1452652807929...|\n",
            "|         1.0|[-0.1452391079316...|\n",
            "|         1.0|[-0.1097804032266...|\n",
            "|         1.0|[-0.1004139792794...|\n",
            "|         1.0|[-0.0699580009898...|\n",
            "|         1.0|[-0.0677027806639...|\n",
            "|         1.0|[-0.0668491764137...|\n",
            "|         1.0|[-0.0606100791133...|\n",
            "|         1.0|[-0.0502860183739...|\n",
            "|         1.0|[-0.0460421969907...|\n",
            "|         1.0|[-0.0457494562491...|\n",
            "|         1.0|[-0.0451619766827...|\n",
            "|         1.0|[-0.0447331815958...|\n",
            "|         1.0|[-0.0392828791445...|\n",
            "|         1.0|[-0.0315594696129...|\n",
            "|         1.0|[-0.0313580918803...|\n",
            "|         1.0|[-0.0309503908132...|\n",
            "|         1.0|[-0.0279230981555...|\n",
            "|         1.0|[-0.0214752812858...|\n",
            "|         1.0|[-0.0148458256818...|\n",
            "+------------+--------------------+\n",
            "only showing top 20 rows\n",
            "\n"
          ],
          "name": "stdout"
        }
      ]
    },
    {
      "cell_type": "code",
      "metadata": {
        "id": "RTsmcoKOY6tM"
      },
      "source": [
        "training_pandas_df = training.toPandas()"
      ],
      "execution_count": 37,
      "outputs": []
    },
    {
      "cell_type": "code",
      "metadata": {
        "colab": {
          "base_uri": "https://localhost:8080/"
        },
        "id": "waMPXWd0P2tE",
        "outputId": "256f4a0a-c73b-48f3-9e86-a3e672d7440a"
      },
      "source": [
        "training_pandas_df.isnull().sum()"
      ],
      "execution_count": 38,
      "outputs": [
        {
          "output_type": "execute_result",
          "data": {
            "text/plain": [
              "look_numeric    0\n",
              "model           0\n",
              "dtype: int64"
            ]
          },
          "metadata": {
            "tags": []
          },
          "execution_count": 38
        }
      ]
    },
    {
      "cell_type": "code",
      "metadata": {
        "id": "86-Z7VlNQF8z"
      },
      "source": [
        "training_pandas_df = training_pandas_df.dropna()"
      ],
      "execution_count": 39,
      "outputs": []
    },
    {
      "cell_type": "code",
      "metadata": {
        "id": "-LMxNNEpakTZ",
        "colab": {
          "base_uri": "https://localhost:8080/",
          "height": 198
        },
        "outputId": "620e60cb-3679-4879-930a-92561701ce57"
      },
      "source": [
        "training_pandas_df.head()"
      ],
      "execution_count": 40,
      "outputs": [
        {
          "output_type": "execute_result",
          "data": {
            "text/html": [
              "<div>\n",
              "<style scoped>\n",
              "    .dataframe tbody tr th:only-of-type {\n",
              "        vertical-align: middle;\n",
              "    }\n",
              "\n",
              "    .dataframe tbody tr th {\n",
              "        vertical-align: top;\n",
              "    }\n",
              "\n",
              "    .dataframe thead th {\n",
              "        text-align: right;\n",
              "    }\n",
              "</style>\n",
              "<table border=\"1\" class=\"dataframe\">\n",
              "  <thead>\n",
              "    <tr style=\"text-align: right;\">\n",
              "      <th></th>\n",
              "      <th>look_numeric</th>\n",
              "      <th>model</th>\n",
              "    </tr>\n",
              "  </thead>\n",
              "  <tbody>\n",
              "    <tr>\n",
              "      <th>0</th>\n",
              "      <td>1.0</td>\n",
              "      <td>[-0.1452652807929553, 0.14236249827081338, 0.0...</td>\n",
              "    </tr>\n",
              "    <tr>\n",
              "      <th>1</th>\n",
              "      <td>1.0</td>\n",
              "      <td>[-0.14523910793165368, 0.12042828451505759, -0...</td>\n",
              "    </tr>\n",
              "    <tr>\n",
              "      <th>2</th>\n",
              "      <td>1.0</td>\n",
              "      <td>[-0.10978040322661399, 0.04642222771154982, -0...</td>\n",
              "    </tr>\n",
              "    <tr>\n",
              "      <th>3</th>\n",
              "      <td>1.0</td>\n",
              "      <td>[-0.10041397927949826, -0.0005390884975592296,...</td>\n",
              "    </tr>\n",
              "    <tr>\n",
              "      <th>4</th>\n",
              "      <td>1.0</td>\n",
              "      <td>[-0.06995800098982351, 0.17003739844665103, -0...</td>\n",
              "    </tr>\n",
              "  </tbody>\n",
              "</table>\n",
              "</div>"
            ],
            "text/plain": [
              "   look_numeric                                              model\n",
              "0           1.0  [-0.1452652807929553, 0.14236249827081338, 0.0...\n",
              "1           1.0  [-0.14523910793165368, 0.12042828451505759, -0...\n",
              "2           1.0  [-0.10978040322661399, 0.04642222771154982, -0...\n",
              "3           1.0  [-0.10041397927949826, -0.0005390884975592296,...\n",
              "4           1.0  [-0.06995800098982351, 0.17003739844665103, -0..."
            ]
          },
          "metadata": {
            "tags": []
          },
          "execution_count": 40
        }
      ]
    },
    {
      "cell_type": "code",
      "metadata": {
        "id": "Ra6w2t1OeAjk",
        "colab": {
          "base_uri": "https://localhost:8080/"
        },
        "outputId": "a3f68a8c-bedf-4184-9933-907ff285d278"
      },
      "source": [
        "training_pandas_df.dtypes"
      ],
      "execution_count": 41,
      "outputs": [
        {
          "output_type": "execute_result",
          "data": {
            "text/plain": [
              "look_numeric    float32\n",
              "model            object\n",
              "dtype: object"
            ]
          },
          "metadata": {
            "tags": []
          },
          "execution_count": 41
        }
      ]
    },
    {
      "cell_type": "code",
      "metadata": {
        "id": "x4EBu4UfbD75"
      },
      "source": [
        "from sklearn.linear_model import LinearRegression\r\n",
        "pandas_lin_model = LinearRegression()"
      ],
      "execution_count": 42,
      "outputs": []
    },
    {
      "cell_type": "code",
      "metadata": {
        "id": "MUQyknr_bw2-"
      },
      "source": [
        "lin_look_train_model = pandas_lin_model.fit(training_pandas_df['model'].to_list(),training_pandas_df['look_numeric'])"
      ],
      "execution_count": 44,
      "outputs": []
    },
    {
      "cell_type": "code",
      "metadata": {
        "id": "3D6EvSupeknG",
        "colab": {
          "base_uri": "https://localhost:8080/"
        },
        "outputId": "8c48e5cd-2a34-413b-8c40-05a3a5f585f8"
      },
      "source": [
        "lin_look_train_model.score(training_pandas_df['model'].to_list(), training_pandas_df['look_numeric'])"
      ],
      "execution_count": 47,
      "outputs": [
        {
          "output_type": "execute_result",
          "data": {
            "text/plain": [
              "0.28335321235655553"
            ]
          },
          "metadata": {
            "tags": []
          },
          "execution_count": 47
        }
      ]
    },
    {
      "cell_type": "code",
      "metadata": {
        "id": "05oRZ6Bve7q_",
        "colab": {
          "base_uri": "https://localhost:8080/"
        },
        "outputId": "4eff80bb-f751-4fd6-d12d-1e83ae6d7b60"
      },
      "source": [
        "lin_look_train_model.coef_"
      ],
      "execution_count": 48,
      "outputs": [
        {
          "output_type": "execute_result",
          "data": {
            "text/plain": [
              "array([ 0.03612855,  0.95914517,  0.59801143, -0.31203758,  0.40912122,\n",
              "        0.83162176,  0.38089003,  0.42679738, -0.06415148, -0.16930124,\n",
              "       -0.05224085, -0.26438838,  1.01482726,  0.06038876,  0.42305088,\n",
              "        0.61403835, -0.7234493 ,  0.27930889, -0.08511542, -0.35100017,\n",
              "       -0.04684642, -0.40535001,  0.06756978, -0.04576692, -0.06218717,\n",
              "       -0.52930928, -0.28897253, -0.5277672 , -0.66238139,  0.81578713,\n",
              "        0.60313554, -0.27068488,  0.34845423,  0.14721123, -0.41940696,\n",
              "       -0.47954009, -0.85763678,  0.16164933,  0.15561913, -0.33237642,\n",
              "        0.23954987, -0.59017379,  0.07929593, -0.83292286, -0.00503841,\n",
              "       -0.49295991, -0.45474164, -0.65529776, -1.47398722, -0.07185648,\n",
              "       -0.45585538,  0.44323269,  0.79011083,  0.31210684, -0.26192581,\n",
              "        0.40658684, -0.42312592, -0.27550912, -0.48307467,  0.11394354,\n",
              "        0.54606385,  0.41036323, -0.68146095,  0.93229556,  0.45074582,\n",
              "       -0.20329368,  0.0584169 , -0.60846543, -0.48700248, -0.36545699,\n",
              "        0.03523933,  0.63407831,  0.14068052,  0.46713041,  0.86496034,\n",
              "        0.0480312 ,  0.1956811 , -0.21081337,  0.15054585, -0.00371534,\n",
              "        0.70774858,  0.13462306,  0.04377705, -0.1890794 , -0.21331031,\n",
              "        0.20499823,  0.21071189,  0.37861965,  0.53995823, -0.22167206,\n",
              "        0.22771751, -0.04699382,  0.25798036,  0.17148076, -1.03018063,\n",
              "        0.90414627,  0.13576971,  0.13025006, -0.56768887,  0.0892876 ])"
            ]
          },
          "metadata": {
            "tags": []
          },
          "execution_count": 48
        }
      ]
    },
    {
      "cell_type": "code",
      "metadata": {
        "id": "AIPnHjT3bDLF"
      },
      "source": [
        "# Fit the score review to a model (takes time)\r\n",
        "lin_look_train_model = lin_model.fit(training)"
      ],
      "execution_count": 50,
      "outputs": []
    },
    {
      "cell_type": "code",
      "metadata": {
        "id": "JtIRHVSk5a1t"
      },
      "source": [
        "# Save the model for later use\r\n",
        "lin_look_train_model.write().overwrite().save(\"/content/gdrive/MyDrive/Project3_BeerQuality/lin_look_train.md\")"
      ],
      "execution_count": 51,
      "outputs": []
    },
    {
      "cell_type": "code",
      "metadata": {
        "id": "1NPhk5NDwua9"
      },
      "source": [
        "# Read the model\r\n",
        "loaded_lin_look_train_model = LinearRegressionModel.load(\"/content/gdrive/MyDrive/Project3_BeerQuality/lin_look_train.md\")"
      ],
      "execution_count": 52,
      "outputs": []
    },
    {
      "cell_type": "code",
      "metadata": {
        "id": "gBxLYe08bYRU"
      },
      "source": [
        "# Transform the training data to peek at the predictions\r\n",
        "lin_look_df = loaded_lin_look_train_model.transform(training)"
      ],
      "execution_count": 53,
      "outputs": []
    },
    {
      "cell_type": "code",
      "metadata": {
        "colab": {
          "base_uri": "https://localhost:8080/"
        },
        "id": "8B8PniKlrPLI",
        "outputId": "ef0110ca-d59e-4829-b426-bf7278592702"
      },
      "source": [
        "lin_look_df.show()"
      ],
      "execution_count": 54,
      "outputs": [
        {
          "output_type": "stream",
          "text": [
            "+------------+--------------------+------------------+\n",
            "|look_numeric|               model|        prediction|\n",
            "+------------+--------------------+------------------+\n",
            "|         1.0|[-0.1452652807929...|  3.30244608916442|\n",
            "|         1.0|[-0.1452391079316...| 3.536130651421115|\n",
            "|         1.0|[-0.1097804032266...|3.2490701248863076|\n",
            "|         1.0|[-0.1004139792794...| 3.166858788165892|\n",
            "|         1.0|[-0.0699580009898...|3.6137354258189363|\n",
            "|         1.0|[-0.0677027806639...| 4.272408374875637|\n",
            "|         1.0|[-0.0668491764137...|4.0272505656809345|\n",
            "|         1.0|[-0.0606100791133...| 3.238519677525181|\n",
            "|         1.0|[-0.0502860183739...| 3.429430468509798|\n",
            "|         1.0|[-0.0460421969907...| 4.000470709707322|\n",
            "|         1.0|[-0.0457494562491...|3.7905424398357046|\n",
            "|         1.0|[-0.0451619766827...|3.5144856162288294|\n",
            "|         1.0|[-0.0447331815958...|3.9188899676838815|\n",
            "|         1.0|[-0.0392828791445...| 3.131606853889373|\n",
            "|         1.0|[-0.0315594696129...| 4.350214981691045|\n",
            "|         1.0|[-0.0313580918803...| 3.608981177587155|\n",
            "|         1.0|[-0.0309503908132...|3.5418561012745715|\n",
            "|         1.0|[-0.0279230981555...|3.7564755367666494|\n",
            "|         1.0|[-0.0214752812858...|3.2580726093425487|\n",
            "|         1.0|[-0.0148458256818...|3.4855895797002328|\n",
            "+------------+--------------------+------------------+\n",
            "only showing top 20 rows\n",
            "\n"
          ],
          "name": "stdout"
        }
      ]
    },
    {
      "cell_type": "code",
      "metadata": {
        "id": "1uCM2vEfDguf",
        "colab": {
          "base_uri": "https://localhost:8080/"
        },
        "outputId": "428855a9-878a-4bab-fe03-437ab891fc63"
      },
      "source": [
        "# show a sample of the predictions\r\n",
        "lin_look_df.select('look_numeric', 'prediction').show(truncate=False)"
      ],
      "execution_count": 55,
      "outputs": [
        {
          "output_type": "stream",
          "text": [
            "+------------+------------------+\n",
            "|look_numeric|prediction        |\n",
            "+------------+------------------+\n",
            "|1.0         |3.30244608916442  |\n",
            "|1.0         |3.536130651421115 |\n",
            "|1.0         |3.2490701248863076|\n",
            "|1.0         |3.166858788165892 |\n",
            "|1.0         |3.6137354258189363|\n",
            "|1.0         |4.272408374875637 |\n",
            "|1.0         |4.0272505656809345|\n",
            "|1.0         |3.238519677525181 |\n",
            "|1.0         |3.429430468509798 |\n",
            "|1.0         |4.000470709707322 |\n",
            "|1.0         |3.7905424398357046|\n",
            "|1.0         |3.5144856162288294|\n",
            "|1.0         |3.9188899676838815|\n",
            "|1.0         |3.131606853889373 |\n",
            "|1.0         |4.350214981691045 |\n",
            "|1.0         |3.608981177587155 |\n",
            "|1.0         |3.5418561012745715|\n",
            "|1.0         |3.7564755367666494|\n",
            "|1.0         |3.2580726093425487|\n",
            "|1.0         |3.4855895797002328|\n",
            "+------------+------------------+\n",
            "only showing top 20 rows\n",
            "\n"
          ],
          "name": "stdout"
        }
      ]
    },
    {
      "cell_type": "code",
      "metadata": {
        "colab": {
          "base_uri": "https://localhost:8080/"
        },
        "id": "0cXCPr-UtDBi",
        "outputId": "be89fb64-b8ae-45d2-def9-b9d316fcf403"
      },
      "source": [
        "gr = lin_look_df.groupBy(\"look_numeric\").count()\r\n",
        "gr.show(100)"
      ],
      "execution_count": 56,
      "outputs": [
        {
          "output_type": "stream",
          "text": [
            "+------------+------+\n",
            "|look_numeric| count|\n",
            "+------------+------+\n",
            "|         5.0| 57836|\n",
            "|         2.5| 19100|\n",
            "|         2.0| 12020|\n",
            "|         3.0| 92637|\n",
            "|        2.75|  4415|\n",
            "|         1.5|  3021|\n",
            "|        3.75| 86875|\n",
            "|        1.75|   577|\n",
            "|        4.25|105556|\n",
            "|         3.5|211384|\n",
            "|         1.0|  2457|\n",
            "|        2.25|  1353|\n",
            "|        4.75| 30774|\n",
            "|         4.5|220111|\n",
            "|        1.25|   344|\n",
            "|        3.25| 19042|\n",
            "|         4.0|512540|\n",
            "+------------+------+\n",
            "\n"
          ],
          "name": "stdout"
        }
      ]
    },
    {
      "cell_type": "code",
      "metadata": {
        "id": "ZvBQmkjaXNnH",
        "colab": {
          "base_uri": "https://localhost:8080/"
        },
        "outputId": "9988c01a-90aa-47bf-ee5e-935bbbee658a"
      },
      "source": [
        "from psutil import virtual_memory\r\n",
        "ram_gb = virtual_memory().total / 1e9\r\n",
        "print('Your runtime has {:.1f} gigabytes of available RAM\\n'.format(ram_gb))\r\n",
        "\r\n",
        "if ram_gb < 20:\r\n",
        "  print('To enable a high-RAM runtime, select the Runtime > \"Change runtime type\"')\r\n",
        "  print('menu, and then select High-RAM in the Runtime shape dropdown. Then, ')\r\n",
        "  print('re-execute this cell.')\r\n",
        "else:\r\n",
        "  print('You are using a high-RAM runtime!')"
      ],
      "execution_count": 57,
      "outputs": [
        {
          "output_type": "stream",
          "text": [
            "Your runtime has 27.4 gigabytes of available RAM\n",
            "\n",
            "You are using a high-RAM runtime!\n"
          ],
          "name": "stdout"
        }
      ]
    }
  ]
}