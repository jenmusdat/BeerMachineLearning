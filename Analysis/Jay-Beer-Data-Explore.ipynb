{
 "cells": [
  {
   "cell_type": "code",
   "execution_count": 1,
   "metadata": {},
   "outputs": [],
   "source": [
    "import pandas as pd\n",
    "import numpy as np"
   ]
  },
  {
   "cell_type": "code",
   "execution_count": 2,
   "metadata": {},
   "outputs": [],
   "source": [
    "df = pd.read_csv(\"reviews.csv\")"
   ]
  },
  {
   "cell_type": "code",
   "execution_count": 3,
   "metadata": {},
   "outputs": [
    {
     "data": {
      "text/plain": [
       "Index(['beer_id', 'username', 'date', 'text', 'look', 'smell', 'taste', 'feel',\n",
       "       'overall', 'score'],\n",
       "      dtype='object')"
      ]
     },
     "execution_count": 3,
     "metadata": {},
     "output_type": "execute_result"
    }
   ],
   "source": [
    "df.columns"
   ]
  },
  {
   "cell_type": "code",
   "execution_count": 4,
   "metadata": {},
   "outputs": [
    {
     "name": "stdout",
     "output_type": "stream",
     "text": [
      "types of each columns: \n",
      "\n",
      " beer_id       int64\n",
      "username     object\n",
      "date         object\n",
      "text         object\n",
      "look        float64\n",
      "smell       float64\n",
      "taste       float64\n",
      "feel        float64\n",
      "overall     float64\n",
      "score       float64\n",
      "dtype: object\n",
      "\n",
      "information of the columns: \n",
      "\n",
      "<class 'pandas.core.frame.DataFrame'>\n",
      "RangeIndex: 9073128 entries, 0 to 9073127\n",
      "Data columns (total 10 columns):\n",
      " #   Column    Dtype  \n",
      "---  ------    -----  \n",
      " 0   beer_id   int64  \n",
      " 1   username  object \n",
      " 2   date      object \n",
      " 3   text      object \n",
      " 4   look      float64\n",
      " 5   smell     float64\n",
      " 6   taste     float64\n",
      " 7   feel      float64\n",
      " 8   overall   float64\n",
      " 9   score     float64\n",
      "dtypes: float64(6), int64(1), object(3)\n",
      "memory usage: 692.2+ MB\n",
      "None\n"
     ]
    }
   ],
   "source": [
    "print(\"types of each columns: \\n\\n\",df.dtypes)\n",
    "print(\"\\ninformation of the columns: \\n\")\n",
    "print(df.info())"
   ]
  },
  {
   "cell_type": "code",
   "execution_count": 5,
   "metadata": {},
   "outputs": [],
   "source": [
    "# None of the text is '' but has funny characters in it when it should be empty\n",
    "df['text'].replace('\\xa0\\xa0', np.nan, inplace=True)"
   ]
  },
  {
   "cell_type": "code",
   "execution_count": 6,
   "metadata": {},
   "outputs": [
    {
     "name": "stdout",
     "output_type": "stream",
     "text": [
      "Overview of missing values in the dataset: \n",
      " beer_id           0\n",
      "username       3815\n",
      "date              0\n",
      "text        6085135\n",
      "look        3790018\n",
      "smell       3790018\n",
      "taste       3790018\n",
      "feel        3790018\n",
      "overall     3790018\n",
      "score             0\n",
      "dtype: int64\n"
     ]
    }
   ],
   "source": [
    "print(\"Overview of missing values in the dataset: \\n\",df.isnull().sum())"
   ]
  },
  {
   "cell_type": "code",
   "execution_count": 7,
   "metadata": {
    "scrolled": false
   },
   "outputs": [
    {
     "name": "stdout",
     "output_type": "stream",
     "text": [
      "<class 'pandas.core.frame.DataFrame'>\n",
      "Int64Index: 2822618 entries, 0 to 9073114\n",
      "Data columns (total 10 columns):\n",
      " #   Column    Dtype  \n",
      "---  ------    -----  \n",
      " 0   beer_id   int64  \n",
      " 1   username  object \n",
      " 2   date      object \n",
      " 3   text      object \n",
      " 4   look      float64\n",
      " 5   smell     float64\n",
      " 6   taste     float64\n",
      " 7   feel      float64\n",
      " 8   overall   float64\n",
      " 9   score     float64\n",
      "dtypes: float64(6), int64(1), object(3)\n",
      "memory usage: 236.9+ MB\n",
      "After dropping the missing values: \n",
      " None\n"
     ]
    }
   ],
   "source": [
    "df=df.dropna()\n",
    "print(\"After dropping the missing values: \\n\",df.info())"
   ]
  },
  {
   "cell_type": "code",
   "execution_count": 8,
   "metadata": {
    "scrolled": true
   },
   "outputs": [
    {
     "name": "stdout",
     "output_type": "stream",
     "text": [
      "overall max: 5.0, min: 1.0\n"
     ]
    }
   ],
   "source": [
    "print(\"overall max: \" + str(df['overall'].max()) + \", min: \" + str(df['overall'].min()) )"
   ]
  },
  {
   "cell_type": "code",
   "execution_count": 9,
   "metadata": {},
   "outputs": [
    {
     "name": "stdout",
     "output_type": "stream",
     "text": [
      "score max: 5.0, min: 1.0\n"
     ]
    }
   ],
   "source": [
    "print(\"score max: \" + str(df['score'].max()) + \", min: \" + str(df['score'].min()) )"
   ]
  },
  {
   "cell_type": "code",
   "execution_count": 10,
   "metadata": {},
   "outputs": [
    {
     "data": {
      "text/plain": [
       "beer_id     0\n",
       "username    0\n",
       "date        0\n",
       "text        0\n",
       "look        0\n",
       "smell       0\n",
       "taste       0\n",
       "feel        0\n",
       "overall     0\n",
       "score       0\n",
       "dtype: int64"
      ]
     },
     "execution_count": 10,
     "metadata": {},
     "output_type": "execute_result"
    }
   ],
   "source": [
    "df.isnull().sum()"
   ]
  },
  {
   "cell_type": "code",
   "execution_count": 11,
   "metadata": {},
   "outputs": [],
   "source": [
    "df.to_csv(\"reviews_clean.csv\")"
   ]
  }
 ],
 "metadata": {
  "kernelspec": {
   "display_name": "Python 3",
   "language": "python",
   "name": "python3"
  },
  "language_info": {
   "codemirror_mode": {
    "name": "ipython",
    "version": 3
   },
   "file_extension": ".py",
   "mimetype": "text/x-python",
   "name": "python",
   "nbconvert_exporter": "python",
   "pygments_lexer": "ipython3",
   "version": "3.6.10"
  }
 },
 "nbformat": 4,
 "nbformat_minor": 4
}
